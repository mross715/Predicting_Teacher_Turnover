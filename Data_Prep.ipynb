{
 "cells": [
  {
   "cell_type": "markdown",
   "metadata": {},
   "source": [
    "# Predicting Teacher Turnover"
   ]
  },
  {
   "cell_type": "markdown",
   "metadata": {},
   "source": [
    "__Meaghan Ross__\n",
    "\n",
    "Flatiron School Capstone"
   ]
  },
  {
   "cell_type": "markdown",
   "metadata": {},
   "source": [
    "### Data Preparation"
   ]
  },
  {
   "cell_type": "code",
   "execution_count": 1,
   "metadata": {},
   "outputs": [],
   "source": [
    "import pandas as pd\n",
    "import numpy as np\n",
    "import seaborn as sns\n",
    "from scipy import stats as stats\n",
    "import matplotlib.pyplot as plt\n",
    "%matplotlib inline"
   ]
  },
  {
   "cell_type": "code",
   "execution_count": 2,
   "metadata": {},
   "outputs": [
    {
     "name": "stdout",
     "output_type": "stream",
     "text": [
      "2017-2018 Enrollment & Demographics.xlsx\r\n",
      "SPR_SY1718_School_Metric_Scores_20190129.xlsx\r\n",
      "df_2019.csv\r\n",
      "df_eda.csv\r\n",
      "employee_information_April2018.csv\r\n",
      "employee_information_April2019.csv\r\n"
     ]
    }
   ],
   "source": [
    "ls data/"
   ]
  },
  {
   "cell_type": "markdown",
   "metadata": {},
   "source": [
    "#### Teacher Data"
   ]
  },
  {
   "cell_type": "markdown",
   "metadata": {},
   "source": [
    "Load in the data from the 2017-2018 and 2018-2019 employee information files."
   ]
  },
  {
   "cell_type": "code",
   "execution_count": 3,
   "metadata": {},
   "outputs": [],
   "source": [
    "teacher_df_2018 = pd.read_csv('data/employee_information_April2018.csv')\n",
    "teacher_df_2019 = pd.read_csv('data/employee_information_April2019.csv')"
   ]
  },
  {
   "cell_type": "code",
   "execution_count": 4,
   "metadata": {
    "scrolled": false
   },
   "outputs": [
    {
     "data": {
      "text/html": [
       "<div>\n",
       "<style scoped>\n",
       "    .dataframe tbody tr th:only-of-type {\n",
       "        vertical-align: middle;\n",
       "    }\n",
       "\n",
       "    .dataframe tbody tr th {\n",
       "        vertical-align: top;\n",
       "    }\n",
       "\n",
       "    .dataframe thead th {\n",
       "        text-align: right;\n",
       "    }\n",
       "</style>\n",
       "<table border=\"1\" class=\"dataframe\">\n",
       "  <thead>\n",
       "    <tr style=\"text-align: right;\">\n",
       "      <th></th>\n",
       "      <th>LAST_NAME</th>\n",
       "      <th>FIRST_NAME</th>\n",
       "      <th>PAY_RATE_TYPE</th>\n",
       "      <th>PAY_RATE</th>\n",
       "      <th>TITLE_DESCRIPTION</th>\n",
       "      <th>HOME_ORGANIZATION</th>\n",
       "      <th>HOME_ORGANIZATION_DESCRIPTION</th>\n",
       "      <th>ORGANIZATION_LEVEL</th>\n",
       "      <th>TYPE_OF_REPRESENTATION</th>\n",
       "      <th>GENDER</th>\n",
       "      <th>RUN_DATE</th>\n",
       "    </tr>\n",
       "  </thead>\n",
       "  <tbody>\n",
       "    <tr>\n",
       "      <th>0</th>\n",
       "      <td>AARON</td>\n",
       "      <td>ANDREA</td>\n",
       "      <td>SALARIED</td>\n",
       "      <td>32199</td>\n",
       "      <td>GENERAL CLEANER, 8 HOURS</td>\n",
       "      <td>4300</td>\n",
       "      <td>HESTON, EDWARD SCHOOL</td>\n",
       "      <td>ELEMENTARY SCHOOL</td>\n",
       "      <td>LOCAL 1201</td>\n",
       "      <td>F</td>\n",
       "      <td>4/1/2018</td>\n",
       "    </tr>\n",
       "    <tr>\n",
       "      <th>1</th>\n",
       "      <td>AARON</td>\n",
       "      <td>PEGGY</td>\n",
       "      <td>SALARIED</td>\n",
       "      <td>10084</td>\n",
       "      <td>STUDENT CLIMATE STAFF,4 HOURS</td>\n",
       "      <td>6360</td>\n",
       "      <td>ROOSEVELT ELEMENTARY SCHOOL</td>\n",
       "      <td>ELEMENTARY SCHOOL</td>\n",
       "      <td>LOCAL 634</td>\n",
       "      <td>F</td>\n",
       "      <td>4/1/2018</td>\n",
       "    </tr>\n",
       "    <tr>\n",
       "      <th>2</th>\n",
       "      <td>ABARY</td>\n",
       "      <td>RODNEY</td>\n",
       "      <td>SALARIED</td>\n",
       "      <td>76461</td>\n",
       "      <td>SCHOOL NURSE</td>\n",
       "      <td>2370</td>\n",
       "      <td>MCDANIEL, DELAPLAINE SCHOOL</td>\n",
       "      <td>ELEMENTARY SCHOOL</td>\n",
       "      <td>PFT-TEACHER</td>\n",
       "      <td>M</td>\n",
       "      <td>4/1/2018</td>\n",
       "    </tr>\n",
       "    <tr>\n",
       "      <th>3</th>\n",
       "      <td>ABATE</td>\n",
       "      <td>JO-ANN</td>\n",
       "      <td>HOURLY</td>\n",
       "      <td>39</td>\n",
       "      <td>TEACHER-EXTRA CURR/STAFF DEVEL</td>\n",
       "      <td>9EW0</td>\n",
       "      <td>NON-PUBLIC PROGRAMS</td>\n",
       "      <td>NON ADMINISTRATIVE OFFICE</td>\n",
       "      <td>PFT-TEACHER</td>\n",
       "      <td>F</td>\n",
       "      <td>4/1/2018</td>\n",
       "    </tr>\n",
       "    <tr>\n",
       "      <th>4</th>\n",
       "      <td>ABAYOMI-IGE</td>\n",
       "      <td>OLABIMPE</td>\n",
       "      <td>SALARIED</td>\n",
       "      <td>90051</td>\n",
       "      <td>TEACHER,SPEC EDUCATION</td>\n",
       "      <td>5070</td>\n",
       "      <td>PARKWAY-NORTHWEST HIGH SCHOOL</td>\n",
       "      <td>HIGH SCHOOL</td>\n",
       "      <td>PFT-TEACHER</td>\n",
       "      <td>F</td>\n",
       "      <td>4/1/2018</td>\n",
       "    </tr>\n",
       "  </tbody>\n",
       "</table>\n",
       "</div>"
      ],
      "text/plain": [
       "     LAST_NAME FIRST_NAME PAY_RATE_TYPE  PAY_RATE  \\\n",
       "0        AARON     ANDREA      SALARIED     32199   \n",
       "1        AARON      PEGGY      SALARIED     10084   \n",
       "2        ABARY     RODNEY      SALARIED     76461   \n",
       "3        ABATE     JO-ANN        HOURLY        39   \n",
       "4  ABAYOMI-IGE   OLABIMPE      SALARIED     90051   \n",
       "\n",
       "                TITLE_DESCRIPTION HOME_ORGANIZATION  \\\n",
       "0        GENERAL CLEANER, 8 HOURS              4300   \n",
       "1   STUDENT CLIMATE STAFF,4 HOURS              6360   \n",
       "2                    SCHOOL NURSE              2370   \n",
       "3  TEACHER-EXTRA CURR/STAFF DEVEL              9EW0   \n",
       "4          TEACHER,SPEC EDUCATION              5070   \n",
       "\n",
       "   HOME_ORGANIZATION_DESCRIPTION         ORGANIZATION_LEVEL  \\\n",
       "0          HESTON, EDWARD SCHOOL          ELEMENTARY SCHOOL   \n",
       "1    ROOSEVELT ELEMENTARY SCHOOL          ELEMENTARY SCHOOL   \n",
       "2    MCDANIEL, DELAPLAINE SCHOOL          ELEMENTARY SCHOOL   \n",
       "3            NON-PUBLIC PROGRAMS  NON ADMINISTRATIVE OFFICE   \n",
       "4  PARKWAY-NORTHWEST HIGH SCHOOL                HIGH SCHOOL   \n",
       "\n",
       "  TYPE_OF_REPRESENTATION GENDER  RUN_DATE  \n",
       "0             LOCAL 1201      F  4/1/2018  \n",
       "1              LOCAL 634      F  4/1/2018  \n",
       "2            PFT-TEACHER      M  4/1/2018  \n",
       "3            PFT-TEACHER      F  4/1/2018  \n",
       "4            PFT-TEACHER      F  4/1/2018  "
      ]
     },
     "execution_count": 4,
     "metadata": {},
     "output_type": "execute_result"
    }
   ],
   "source": [
    "teacher_df_2018.head()"
   ]
  },
  {
   "cell_type": "code",
   "execution_count": 5,
   "metadata": {},
   "outputs": [
    {
     "data": {
      "text/html": [
       "<div>\n",
       "<style scoped>\n",
       "    .dataframe tbody tr th:only-of-type {\n",
       "        vertical-align: middle;\n",
       "    }\n",
       "\n",
       "    .dataframe tbody tr th {\n",
       "        vertical-align: top;\n",
       "    }\n",
       "\n",
       "    .dataframe thead th {\n",
       "        text-align: right;\n",
       "    }\n",
       "</style>\n",
       "<table border=\"1\" class=\"dataframe\">\n",
       "  <thead>\n",
       "    <tr style=\"text-align: right;\">\n",
       "      <th></th>\n",
       "      <th>LAST_NAME</th>\n",
       "      <th>FIRST_NAME</th>\n",
       "      <th>PAY_RATE_TYPE</th>\n",
       "      <th>PAY_RATE</th>\n",
       "      <th>TITLE_DESCRIPTION</th>\n",
       "      <th>HOME_ORGANIZATION</th>\n",
       "      <th>HOME_ORGANIZATION_DESCRIPTION</th>\n",
       "      <th>ORGANIZATION_LEVEL</th>\n",
       "      <th>TYPE_OF_REPRESENTATION</th>\n",
       "      <th>GENDER</th>\n",
       "      <th>RUN_DATE</th>\n",
       "    </tr>\n",
       "  </thead>\n",
       "  <tbody>\n",
       "    <tr>\n",
       "      <th>0</th>\n",
       "      <td>AARAS</td>\n",
       "      <td>YOUSRA</td>\n",
       "      <td>SALARIED</td>\n",
       "      <td>10383</td>\n",
       "      <td>STUDENT CLIMATE STAFF,4 HOURS</td>\n",
       "      <td>2620</td>\n",
       "      <td>ACADEMY AT PALUMBO</td>\n",
       "      <td>HIGH SCHOOL</td>\n",
       "      <td>LOCAL 634</td>\n",
       "      <td>F</td>\n",
       "      <td>4/1/2019</td>\n",
       "    </tr>\n",
       "    <tr>\n",
       "      <th>1</th>\n",
       "      <td>AARON</td>\n",
       "      <td>ANDREA</td>\n",
       "      <td>SALARIED</td>\n",
       "      <td>33165</td>\n",
       "      <td>GENERAL CLEANER, 8 HOURS</td>\n",
       "      <td>4300</td>\n",
       "      <td>HESTON, EDWARD SCHOOL</td>\n",
       "      <td>ELEMENTARY SCHOOL</td>\n",
       "      <td>LOCAL 1201</td>\n",
       "      <td>F</td>\n",
       "      <td>4/1/2019</td>\n",
       "    </tr>\n",
       "    <tr>\n",
       "      <th>2</th>\n",
       "      <td>AARON</td>\n",
       "      <td>ATIA</td>\n",
       "      <td>SALARIED</td>\n",
       "      <td>12979</td>\n",
       "      <td>STUDENT CLIMATE STAFF,5 HOURS</td>\n",
       "      <td>2050</td>\n",
       "      <td>SCIENCE LEADERSHIP ACADEMY MS</td>\n",
       "      <td>MIDDLE SCHOOL</td>\n",
       "      <td>LOCAL 634</td>\n",
       "      <td>F</td>\n",
       "      <td>4/1/2019</td>\n",
       "    </tr>\n",
       "    <tr>\n",
       "      <th>3</th>\n",
       "      <td>AARON</td>\n",
       "      <td>PEGGY</td>\n",
       "      <td>SALARIED</td>\n",
       "      <td>10383</td>\n",
       "      <td>STUDENT CLIMATE STAFF,4 HOURS</td>\n",
       "      <td>7130</td>\n",
       "      <td>WAGNER, GEN. LOUIS MIDDLE SCH.</td>\n",
       "      <td>MIDDLE SCHOOL</td>\n",
       "      <td>LOCAL 634</td>\n",
       "      <td>F</td>\n",
       "      <td>4/1/2019</td>\n",
       "    </tr>\n",
       "    <tr>\n",
       "      <th>4</th>\n",
       "      <td>ABARA</td>\n",
       "      <td>BERNADINE</td>\n",
       "      <td>SALARIED</td>\n",
       "      <td>7788</td>\n",
       "      <td>STUDENT CLIMATE STAFF,3 HOURS</td>\n",
       "      <td>8310</td>\n",
       "      <td>MOORE, J. HAMPTON SCHOOL</td>\n",
       "      <td>ELEMENTARY SCHOOL</td>\n",
       "      <td>LOCAL 634</td>\n",
       "      <td>F</td>\n",
       "      <td>4/1/2019</td>\n",
       "    </tr>\n",
       "  </tbody>\n",
       "</table>\n",
       "</div>"
      ],
      "text/plain": [
       "  LAST_NAME FIRST_NAME PAY_RATE_TYPE  PAY_RATE              TITLE_DESCRIPTION  \\\n",
       "0     AARAS     YOUSRA      SALARIED     10383  STUDENT CLIMATE STAFF,4 HOURS   \n",
       "1     AARON     ANDREA      SALARIED     33165       GENERAL CLEANER, 8 HOURS   \n",
       "2     AARON       ATIA      SALARIED     12979  STUDENT CLIMATE STAFF,5 HOURS   \n",
       "3     AARON      PEGGY      SALARIED     10383  STUDENT CLIMATE STAFF,4 HOURS   \n",
       "4     ABARA  BERNADINE      SALARIED      7788  STUDENT CLIMATE STAFF,3 HOURS   \n",
       "\n",
       "  HOME_ORGANIZATION   HOME_ORGANIZATION_DESCRIPTION ORGANIZATION_LEVEL  \\\n",
       "0              2620              ACADEMY AT PALUMBO        HIGH SCHOOL   \n",
       "1              4300           HESTON, EDWARD SCHOOL  ELEMENTARY SCHOOL   \n",
       "2              2050   SCIENCE LEADERSHIP ACADEMY MS      MIDDLE SCHOOL   \n",
       "3              7130  WAGNER, GEN. LOUIS MIDDLE SCH.      MIDDLE SCHOOL   \n",
       "4              8310        MOORE, J. HAMPTON SCHOOL  ELEMENTARY SCHOOL   \n",
       "\n",
       "  TYPE_OF_REPRESENTATION GENDER  RUN_DATE  \n",
       "0              LOCAL 634      F  4/1/2019  \n",
       "1             LOCAL 1201      F  4/1/2019  \n",
       "2              LOCAL 634      F  4/1/2019  \n",
       "3              LOCAL 634      F  4/1/2019  \n",
       "4              LOCAL 634      F  4/1/2019  "
      ]
     },
     "execution_count": 5,
     "metadata": {},
     "output_type": "execute_result"
    }
   ],
   "source": [
    "teacher_df_2019.head()"
   ]
  },
  {
   "cell_type": "code",
   "execution_count": 6,
   "metadata": {},
   "outputs": [
    {
     "data": {
      "text/plain": [
       "(19181, 11)"
      ]
     },
     "execution_count": 6,
     "metadata": {},
     "output_type": "execute_result"
    }
   ],
   "source": [
    "teacher_df_2018.shape"
   ]
  },
  {
   "cell_type": "code",
   "execution_count": 7,
   "metadata": {},
   "outputs": [
    {
     "data": {
      "text/plain": [
       "(20151, 11)"
      ]
     },
     "execution_count": 7,
     "metadata": {},
     "output_type": "execute_result"
    }
   ],
   "source": [
    "teacher_df_2019.shape"
   ]
  },
  {
   "cell_type": "markdown",
   "metadata": {},
   "source": [
    "In order to find out the teacher turnover  for the school years following  the 2017-2018 school year, we will merge each school year's personnel files with the 2018-2019 school year's personnel files using a left join to identify all of the employees of the Philadelphia school system in the given year. The join will use the employee's first and last name as well as their school name since we want to identify teachers who remained in the same school the following year. If there are null values in the following school year, that indicates that the employee did not return for the following school year."
   ]
  },
  {
   "cell_type": "code",
   "execution_count": 8,
   "metadata": {},
   "outputs": [],
   "source": [
    "teacher_turnover_2019 = pd.merge(teacher_df_2018, teacher_df_2019, \n",
    "                                 on=['LAST_NAME', 'FIRST_NAME', 'HOME_ORGANIZATION'], \n",
    "                                 how='left', suffixes=('_2018', '_2019'))"
   ]
  },
  {
   "cell_type": "code",
   "execution_count": 9,
   "metadata": {
    "scrolled": true
   },
   "outputs": [
    {
     "name": "stdout",
     "output_type": "stream",
     "text": [
      "<class 'pandas.core.frame.DataFrame'>\n",
      "Int64Index: 19279 entries, 0 to 19278\n",
      "Data columns (total 19 columns):\n",
      " #   Column                              Non-Null Count  Dtype  \n",
      "---  ------                              --------------  -----  \n",
      " 0   LAST_NAME                           19278 non-null  object \n",
      " 1   FIRST_NAME                          19279 non-null  object \n",
      " 2   PAY_RATE_TYPE_2018                  19279 non-null  object \n",
      " 3   PAY_RATE_2018                       19279 non-null  int64  \n",
      " 4   TITLE_DESCRIPTION_2018              19279 non-null  object \n",
      " 5   HOME_ORGANIZATION                   19279 non-null  object \n",
      " 6   HOME_ORGANIZATION_DESCRIPTION_2018  19279 non-null  object \n",
      " 7   ORGANIZATION_LEVEL_2018             19279 non-null  object \n",
      " 8   TYPE_OF_REPRESENTATION_2018         18962 non-null  object \n",
      " 9   GENDER_2018                         19279 non-null  object \n",
      " 10  RUN_DATE_2018                       19279 non-null  object \n",
      " 11  PAY_RATE_TYPE_2019                  14258 non-null  object \n",
      " 12  PAY_RATE_2019                       14258 non-null  float64\n",
      " 13  TITLE_DESCRIPTION_2019              14258 non-null  object \n",
      " 14  HOME_ORGANIZATION_DESCRIPTION_2019  14258 non-null  object \n",
      " 15  ORGANIZATION_LEVEL_2019             14258 non-null  object \n",
      " 16  TYPE_OF_REPRESENTATION_2019         14258 non-null  object \n",
      " 17  GENDER_2019                         14258 non-null  object \n",
      " 18  RUN_DATE_2019                       14258 non-null  object \n",
      "dtypes: float64(1), int64(1), object(17)\n",
      "memory usage: 2.9+ MB\n"
     ]
    }
   ],
   "source": [
    "teacher_turnover_2019.info()"
   ]
  },
  {
   "cell_type": "markdown",
   "metadata": {},
   "source": [
    "The merged DataFrames include all employes of the School District of Philadelphia. Let's look at identifying only those who are labeled as teachers."
   ]
  },
  {
   "cell_type": "code",
   "execution_count": 10,
   "metadata": {},
   "outputs": [
    {
     "data": {
      "text/plain": [
       "TEACHER,FULL TIME                 6789\n",
       "SPECIAL EDUCATION ASSISTANT       1848\n",
       "TEACHER,SPEC EDUCATION            1389\n",
       "GENERAL CLEANER, 8 HOURS           558\n",
       "FOOD SVCS ASSISTANT                428\n",
       "                                  ... \n",
       "PROG MGR,INTER&TRANS/ATTEND&TR       1\n",
       "BROAD RESIDENT                       1\n",
       "EXECUTIVE SECRETARY,BILINGUAL        1\n",
       "SVP,FOOD SERVICES                    1\n",
       "PROJECT COORD,INFO TECHNOLOGY        1\n",
       "Name: TITLE_DESCRIPTION_2018, Length: 591, dtype: int64"
      ]
     },
     "execution_count": 10,
     "metadata": {},
     "output_type": "execute_result"
    }
   ],
   "source": [
    "teacher_turnover_2019['TITLE_DESCRIPTION_2018'].value_counts()"
   ]
  },
  {
   "cell_type": "markdown",
   "metadata": {},
   "source": [
    "We are going to create a new DataFrame that only includes those employees identified as `TEACHER,FULL TIME` or `TEACHER,SPEC EDUCATION` as the remaining employee types are outside of the classroom or support staff who do not need to be liscenced educators."
   ]
  },
  {
   "cell_type": "code",
   "execution_count": 11,
   "metadata": {},
   "outputs": [],
   "source": [
    "teacher_turnover_2019 = teacher_turnover_2019.loc[(teacher_turnover_2019['TITLE_DESCRIPTION_2018']=='TEACHER,FULL TIME')|\n",
    "                           (teacher_turnover_2019['TITLE_DESCRIPTION_2018']=='TEACHER,SPEC EDUCATION')]\n"
   ]
  },
  {
   "cell_type": "code",
   "execution_count": 12,
   "metadata": {},
   "outputs": [
    {
     "data": {
      "text/plain": [
       "LAST_NAME                                1\n",
       "FIRST_NAME                               0\n",
       "PAY_RATE_TYPE_2018                       0\n",
       "PAY_RATE_2018                            0\n",
       "TITLE_DESCRIPTION_2018                   0\n",
       "HOME_ORGANIZATION                        0\n",
       "HOME_ORGANIZATION_DESCRIPTION_2018       0\n",
       "ORGANIZATION_LEVEL_2018                  0\n",
       "TYPE_OF_REPRESENTATION_2018              0\n",
       "GENDER_2018                              0\n",
       "RUN_DATE_2018                            0\n",
       "PAY_RATE_TYPE_2019                    1593\n",
       "PAY_RATE_2019                         1593\n",
       "TITLE_DESCRIPTION_2019                1593\n",
       "HOME_ORGANIZATION_DESCRIPTION_2019    1593\n",
       "ORGANIZATION_LEVEL_2019               1593\n",
       "TYPE_OF_REPRESENTATION_2019           1593\n",
       "GENDER_2019                           1593\n",
       "RUN_DATE_2019                         1593\n",
       "dtype: int64"
      ]
     },
     "execution_count": 12,
     "metadata": {},
     "output_type": "execute_result"
    }
   ],
   "source": [
    "teacher_turnover_2019.isna().sum()"
   ]
  },
  {
   "cell_type": "markdown",
   "metadata": {},
   "source": [
    "Looking at the null values now, we can see there is one teacher with a null value for their last name, so we will fill it with 'None'. The additional null values are all in the columns from the following school year which indicates records of teachers who did not stay for the following school year, and we want to keep those null values for now."
   ]
  },
  {
   "cell_type": "code",
   "execution_count": 13,
   "metadata": {},
   "outputs": [],
   "source": [
    "teacher_turnover_2019.loc[:,['LAST_NAME']]=teacher_turnover_2019['LAST_NAME'].fillna(value='None')"
   ]
  },
  {
   "cell_type": "code",
   "execution_count": 14,
   "metadata": {
    "scrolled": true
   },
   "outputs": [
    {
     "data": {
      "text/plain": [
       "LAST_NAME                                0\n",
       "FIRST_NAME                               0\n",
       "PAY_RATE_TYPE_2018                       0\n",
       "PAY_RATE_2018                            0\n",
       "TITLE_DESCRIPTION_2018                   0\n",
       "HOME_ORGANIZATION                        0\n",
       "HOME_ORGANIZATION_DESCRIPTION_2018       0\n",
       "ORGANIZATION_LEVEL_2018                  0\n",
       "TYPE_OF_REPRESENTATION_2018              0\n",
       "GENDER_2018                              0\n",
       "RUN_DATE_2018                            0\n",
       "PAY_RATE_TYPE_2019                    1593\n",
       "PAY_RATE_2019                         1593\n",
       "TITLE_DESCRIPTION_2019                1593\n",
       "HOME_ORGANIZATION_DESCRIPTION_2019    1593\n",
       "ORGANIZATION_LEVEL_2019               1593\n",
       "TYPE_OF_REPRESENTATION_2019           1593\n",
       "GENDER_2019                           1593\n",
       "RUN_DATE_2019                         1593\n",
       "dtype: int64"
      ]
     },
     "execution_count": 14,
     "metadata": {},
     "output_type": "execute_result"
    }
   ],
   "source": [
    "teacher_turnover_2019.isna().sum()"
   ]
  },
  {
   "cell_type": "markdown",
   "metadata": {},
   "source": [
    "#### School Data"
   ]
  },
  {
   "cell_type": "markdown",
   "metadata": {},
   "source": [
    "Load in the data from the the 2017-2018 School Progress Reports from the School District of Philadelphia. This data includes information about achievement, progress, and climate scores as well as attendance and survey data."
   ]
  },
  {
   "cell_type": "code",
   "execution_count": 15,
   "metadata": {
    "scrolled": true
   },
   "outputs": [
    {
     "data": {
      "text/html": [
       "<div>\n",
       "<style scoped>\n",
       "    .dataframe tbody tr th:only-of-type {\n",
       "        vertical-align: middle;\n",
       "    }\n",
       "\n",
       "    .dataframe tbody tr th {\n",
       "        vertical-align: top;\n",
       "    }\n",
       "\n",
       "    .dataframe thead th {\n",
       "        text-align: right;\n",
       "    }\n",
       "</style>\n",
       "<table border=\"1\" class=\"dataframe\">\n",
       "  <thead>\n",
       "    <tr style=\"text-align: right;\">\n",
       "      <th></th>\n",
       "      <th>School</th>\n",
       "      <th>SRC School ID</th>\n",
       "      <th>ULCS Code</th>\n",
       "      <th>Report</th>\n",
       "      <th>Rpt Type Long</th>\n",
       "      <th>Street Address</th>\n",
       "      <th>City</th>\n",
       "      <th>State</th>\n",
       "      <th>Zip Code</th>\n",
       "      <th>Phone Number</th>\n",
       "      <th>...</th>\n",
       "      <th>FAFSA Tier</th>\n",
       "      <th>Student Survey College &amp; Career Score</th>\n",
       "      <th>Student Survey College &amp; Career Pts Earn</th>\n",
       "      <th>Student Survey College &amp; Career Pts Poss</th>\n",
       "      <th>Student Survey College &amp; Career Pct Earn</th>\n",
       "      <th>Student Survey College &amp; Career Tier</th>\n",
       "      <th>Teach Effect Distinguished Score</th>\n",
       "      <th>Teach Effect Instruction Score</th>\n",
       "      <th>Teacher Attendance Score</th>\n",
       "      <th>Student Survey Teaching Score</th>\n",
       "    </tr>\n",
       "  </thead>\n",
       "  <tbody>\n",
       "    <tr>\n",
       "      <th>0</th>\n",
       "      <td>John Bartram High School</td>\n",
       "      <td>101</td>\n",
       "      <td>1010</td>\n",
       "      <td>HS</td>\n",
       "      <td>High School</td>\n",
       "      <td>2401 S. 67th St.</td>\n",
       "      <td>Philadelphia</td>\n",
       "      <td>PA</td>\n",
       "      <td>19142</td>\n",
       "      <td>215-400-8100</td>\n",
       "      <td>...</td>\n",
       "      <td>INTERVENE</td>\n",
       "      <td>33</td>\n",
       "      <td>0.33</td>\n",
       "      <td>1</td>\n",
       "      <td>33</td>\n",
       "      <td>WATCH</td>\n",
       "      <td>Data Not Available</td>\n",
       "      <td>Data Not Available</td>\n",
       "      <td>52</td>\n",
       "      <td>43</td>\n",
       "    </tr>\n",
       "    <tr>\n",
       "      <th>1</th>\n",
       "      <td>West Philadelphia High School</td>\n",
       "      <td>102</td>\n",
       "      <td>1020</td>\n",
       "      <td>HS</td>\n",
       "      <td>High School</td>\n",
       "      <td>4901 Chestnut St.</td>\n",
       "      <td>Philadelphia</td>\n",
       "      <td>PA</td>\n",
       "      <td>19139</td>\n",
       "      <td>215-400-7900</td>\n",
       "      <td>...</td>\n",
       "      <td>WATCH</td>\n",
       "      <td>0</td>\n",
       "      <td>0</td>\n",
       "      <td>1</td>\n",
       "      <td>0</td>\n",
       "      <td>INTERVENE</td>\n",
       "      <td>Data Not Available</td>\n",
       "      <td>Data Not Available</td>\n",
       "      <td>49</td>\n",
       "      <td>0</td>\n",
       "    </tr>\n",
       "    <tr>\n",
       "      <th>2</th>\n",
       "      <td>High School of the Future</td>\n",
       "      <td>103</td>\n",
       "      <td>1030</td>\n",
       "      <td>HS</td>\n",
       "      <td>High School</td>\n",
       "      <td>4021 Parkside Ave.</td>\n",
       "      <td>Philadelphia</td>\n",
       "      <td>PA</td>\n",
       "      <td>19104</td>\n",
       "      <td>215-400-7790</td>\n",
       "      <td>...</td>\n",
       "      <td>REINFORCE</td>\n",
       "      <td>40</td>\n",
       "      <td>0.4</td>\n",
       "      <td>1</td>\n",
       "      <td>40</td>\n",
       "      <td>WATCH</td>\n",
       "      <td>Data Not Available</td>\n",
       "      <td>Data Not Available</td>\n",
       "      <td>56</td>\n",
       "      <td>36</td>\n",
       "    </tr>\n",
       "    <tr>\n",
       "      <th>3</th>\n",
       "      <td>Paul Robeson High School for Human Services</td>\n",
       "      <td>105</td>\n",
       "      <td>1050</td>\n",
       "      <td>HS</td>\n",
       "      <td>High School</td>\n",
       "      <td>4125 Ludlow St.</td>\n",
       "      <td>Philadelphia</td>\n",
       "      <td>PA</td>\n",
       "      <td>19104</td>\n",
       "      <td>215-400-7780</td>\n",
       "      <td>...</td>\n",
       "      <td>MODEL</td>\n",
       "      <td>39</td>\n",
       "      <td>0.39</td>\n",
       "      <td>1</td>\n",
       "      <td>39</td>\n",
       "      <td>WATCH</td>\n",
       "      <td>Data Not Available</td>\n",
       "      <td>Data Not Available</td>\n",
       "      <td>68</td>\n",
       "      <td>53</td>\n",
       "    </tr>\n",
       "    <tr>\n",
       "      <th>4</th>\n",
       "      <td>William L. Sayre High School</td>\n",
       "      <td>110</td>\n",
       "      <td>1100</td>\n",
       "      <td>HS</td>\n",
       "      <td>High School</td>\n",
       "      <td>5800 Walnut St.</td>\n",
       "      <td>Philadelphia</td>\n",
       "      <td>PA</td>\n",
       "      <td>19139</td>\n",
       "      <td>215-400-7800</td>\n",
       "      <td>...</td>\n",
       "      <td>INTERVENE</td>\n",
       "      <td>0</td>\n",
       "      <td>0</td>\n",
       "      <td>1</td>\n",
       "      <td>0</td>\n",
       "      <td>INTERVENE</td>\n",
       "      <td>Data Not Available</td>\n",
       "      <td>Data Not Available</td>\n",
       "      <td>71</td>\n",
       "      <td>0</td>\n",
       "    </tr>\n",
       "  </tbody>\n",
       "</table>\n",
       "<p>5 rows × 337 columns</p>\n",
       "</div>"
      ],
      "text/plain": [
       "                                        School SRC School ID  ULCS Code  \\\n",
       "0                     John Bartram High School           101       1010   \n",
       "1                West Philadelphia High School           102       1020   \n",
       "2                    High School of the Future           103       1030   \n",
       "3  Paul Robeson High School for Human Services           105       1050   \n",
       "4                 William L. Sayre High School           110       1100   \n",
       "\n",
       "  Report Rpt Type Long      Street Address          City State  Zip Code  \\\n",
       "0     HS   High School    2401 S. 67th St.  Philadelphia    PA     19142   \n",
       "1     HS   High School   4901 Chestnut St.  Philadelphia    PA     19139   \n",
       "2     HS   High School  4021 Parkside Ave.  Philadelphia    PA     19104   \n",
       "3     HS   High School     4125 Ludlow St.  Philadelphia    PA     19104   \n",
       "4     HS   High School     5800 Walnut St.  Philadelphia    PA     19139   \n",
       "\n",
       "   Phone Number  ... FAFSA Tier Student Survey College & Career Score  \\\n",
       "0  215-400-8100  ...  INTERVENE                                    33   \n",
       "1  215-400-7900  ...      WATCH                                     0   \n",
       "2  215-400-7790  ...  REINFORCE                                    40   \n",
       "3  215-400-7780  ...      MODEL                                    39   \n",
       "4  215-400-7800  ...  INTERVENE                                     0   \n",
       "\n",
       "  Student Survey College & Career Pts Earn  \\\n",
       "0                                     0.33   \n",
       "1                                        0   \n",
       "2                                      0.4   \n",
       "3                                     0.39   \n",
       "4                                        0   \n",
       "\n",
       "   Student Survey College & Career Pts Poss  \\\n",
       "0                                         1   \n",
       "1                                         1   \n",
       "2                                         1   \n",
       "3                                         1   \n",
       "4                                         1   \n",
       "\n",
       "  Student Survey College & Career Pct Earn  \\\n",
       "0                                       33   \n",
       "1                                        0   \n",
       "2                                       40   \n",
       "3                                       39   \n",
       "4                                        0   \n",
       "\n",
       "  Student Survey College & Career Tier Teach Effect Distinguished Score  \\\n",
       "0                                WATCH               Data Not Available   \n",
       "1                            INTERVENE               Data Not Available   \n",
       "2                                WATCH               Data Not Available   \n",
       "3                                WATCH               Data Not Available   \n",
       "4                            INTERVENE               Data Not Available   \n",
       "\n",
       "  Teach Effect Instruction Score Teacher Attendance Score  \\\n",
       "0             Data Not Available                       52   \n",
       "1             Data Not Available                       49   \n",
       "2             Data Not Available                       56   \n",
       "3             Data Not Available                       68   \n",
       "4             Data Not Available                       71   \n",
       "\n",
       "  Student Survey Teaching Score  \n",
       "0                            43  \n",
       "1                             0  \n",
       "2                            36  \n",
       "3                            53  \n",
       "4                             0  \n",
       "\n",
       "[5 rows x 337 columns]"
      ]
     },
     "execution_count": 15,
     "metadata": {},
     "output_type": "execute_result"
    }
   ],
   "source": [
    "school_df_2018 = pd.read_excel('data/SPR_SY1718_School_Metric_Scores_20190129.xlsx', sheet_name='SPR SY2017-2018')\n",
    "school_df_2018.head()"
   ]
  },
  {
   "cell_type": "markdown",
   "metadata": {},
   "source": [
    "The School Progress Reports contain many features, including the way some of the features are calculated and features that are specific to a certain type of school and are not reported across all schools. For the purpose of our model, we want to include information that is reported for all schools including features regarding student achievement, school climate, and progress from prior years."
   ]
  },
  {
   "cell_type": "code",
   "execution_count": 16,
   "metadata": {},
   "outputs": [],
   "source": [
    "school_col_keep = ['School', 'SRC School ID', 'ULCS Code', 'Zip Code', 'Report', \n",
    "                   'Turnaround Model', 'Enrollment', 'Grades Served', \n",
    "                   'Admissions Type', 'Overall Score', 'Overall Tier', \n",
    "                   'Ach Score', 'Ach Tier', 'Prog Score', 'Prog Tier', \n",
    "                   'Clim Score', 'Clim Tier', 'Attendance (95%+) Score', \n",
    "                   'Attendance (95%+) Tier', 'Retention Score', 'Retention Tier', \n",
    "                   'ISS Score', 'ISS Tier', 'OSS Score', 'OSS Tier', \n",
    "                   'Student Survey Climate Score', 'Student Survey Climate Tier', \n",
    "                   'Parent Survey Climate Score', 'Parent Survey Climate Tier', \n",
    "                   'Parent Survey Participation Score', 'Parent Survey Participation Tier', \n",
    "                   'Teacher Attendance Score','Student Survey Teaching Score']\n"
   ]
  },
  {
   "cell_type": "code",
   "execution_count": 17,
   "metadata": {},
   "outputs": [],
   "source": [
    "school_df_2018=school_df_2018[school_col_keep]"
   ]
  },
  {
   "cell_type": "code",
   "execution_count": 18,
   "metadata": {
    "scrolled": false
   },
   "outputs": [
    {
     "data": {
      "text/html": [
       "<div>\n",
       "<style scoped>\n",
       "    .dataframe tbody tr th:only-of-type {\n",
       "        vertical-align: middle;\n",
       "    }\n",
       "\n",
       "    .dataframe tbody tr th {\n",
       "        vertical-align: top;\n",
       "    }\n",
       "\n",
       "    .dataframe thead th {\n",
       "        text-align: right;\n",
       "    }\n",
       "</style>\n",
       "<table border=\"1\" class=\"dataframe\">\n",
       "  <thead>\n",
       "    <tr style=\"text-align: right;\">\n",
       "      <th></th>\n",
       "      <th>School</th>\n",
       "      <th>SRC School ID</th>\n",
       "      <th>ULCS Code</th>\n",
       "      <th>Zip Code</th>\n",
       "      <th>Report</th>\n",
       "      <th>Turnaround Model</th>\n",
       "      <th>Enrollment</th>\n",
       "      <th>Grades Served</th>\n",
       "      <th>Admissions Type</th>\n",
       "      <th>Overall Score</th>\n",
       "      <th>...</th>\n",
       "      <th>OSS Score</th>\n",
       "      <th>OSS Tier</th>\n",
       "      <th>Student Survey Climate Score</th>\n",
       "      <th>Student Survey Climate Tier</th>\n",
       "      <th>Parent Survey Climate Score</th>\n",
       "      <th>Parent Survey Climate Tier</th>\n",
       "      <th>Parent Survey Participation Score</th>\n",
       "      <th>Parent Survey Participation Tier</th>\n",
       "      <th>Teacher Attendance Score</th>\n",
       "      <th>Student Survey Teaching Score</th>\n",
       "    </tr>\n",
       "  </thead>\n",
       "  <tbody>\n",
       "    <tr>\n",
       "      <th>0</th>\n",
       "      <td>John Bartram High School</td>\n",
       "      <td>101</td>\n",
       "      <td>1010</td>\n",
       "      <td>19142</td>\n",
       "      <td>HS</td>\n",
       "      <td>NaN</td>\n",
       "      <td>561</td>\n",
       "      <td>'9-12'</td>\n",
       "      <td>Neighborhood</td>\n",
       "      <td>13</td>\n",
       "      <td>...</td>\n",
       "      <td>82</td>\n",
       "      <td>WATCH</td>\n",
       "      <td>52</td>\n",
       "      <td>REINFORCE</td>\n",
       "      <td>0</td>\n",
       "      <td>INTERVENE</td>\n",
       "      <td>2</td>\n",
       "      <td>INTERVENE</td>\n",
       "      <td>52</td>\n",
       "      <td>43</td>\n",
       "    </tr>\n",
       "    <tr>\n",
       "      <th>1</th>\n",
       "      <td>West Philadelphia High School</td>\n",
       "      <td>102</td>\n",
       "      <td>1020</td>\n",
       "      <td>19139</td>\n",
       "      <td>HS</td>\n",
       "      <td>Turnaround</td>\n",
       "      <td>478</td>\n",
       "      <td>'9-12'</td>\n",
       "      <td>Neighborhood</td>\n",
       "      <td>8</td>\n",
       "      <td>...</td>\n",
       "      <td>76</td>\n",
       "      <td>INTERVENE</td>\n",
       "      <td>0</td>\n",
       "      <td>INTERVENE</td>\n",
       "      <td>0</td>\n",
       "      <td>INTERVENE</td>\n",
       "      <td>8</td>\n",
       "      <td>INTERVENE</td>\n",
       "      <td>49</td>\n",
       "      <td>0</td>\n",
       "    </tr>\n",
       "    <tr>\n",
       "      <th>2</th>\n",
       "      <td>High School of the Future</td>\n",
       "      <td>103</td>\n",
       "      <td>1030</td>\n",
       "      <td>19104</td>\n",
       "      <td>HS</td>\n",
       "      <td>NaN</td>\n",
       "      <td>488</td>\n",
       "      <td>'9-12'</td>\n",
       "      <td>Citywide</td>\n",
       "      <td>25</td>\n",
       "      <td>...</td>\n",
       "      <td>87</td>\n",
       "      <td>REINFORCE</td>\n",
       "      <td>55</td>\n",
       "      <td>REINFORCE</td>\n",
       "      <td>0</td>\n",
       "      <td>INTERVENE</td>\n",
       "      <td>2</td>\n",
       "      <td>INTERVENE</td>\n",
       "      <td>56</td>\n",
       "      <td>36</td>\n",
       "    </tr>\n",
       "    <tr>\n",
       "      <th>3</th>\n",
       "      <td>Paul Robeson High School for Human Services</td>\n",
       "      <td>105</td>\n",
       "      <td>1050</td>\n",
       "      <td>19104</td>\n",
       "      <td>HS</td>\n",
       "      <td>NaN</td>\n",
       "      <td>299</td>\n",
       "      <td>'9-12'</td>\n",
       "      <td>Citywide</td>\n",
       "      <td>44</td>\n",
       "      <td>...</td>\n",
       "      <td>95</td>\n",
       "      <td>MODEL</td>\n",
       "      <td>64</td>\n",
       "      <td>REINFORCE</td>\n",
       "      <td>82</td>\n",
       "      <td>MODEL</td>\n",
       "      <td>13</td>\n",
       "      <td>INTERVENE</td>\n",
       "      <td>68</td>\n",
       "      <td>53</td>\n",
       "    </tr>\n",
       "    <tr>\n",
       "      <th>4</th>\n",
       "      <td>William L. Sayre High School</td>\n",
       "      <td>110</td>\n",
       "      <td>1100</td>\n",
       "      <td>19139</td>\n",
       "      <td>HS</td>\n",
       "      <td>NaN</td>\n",
       "      <td>425</td>\n",
       "      <td>'9-12'</td>\n",
       "      <td>Neighborhood</td>\n",
       "      <td>8</td>\n",
       "      <td>...</td>\n",
       "      <td>82</td>\n",
       "      <td>WATCH</td>\n",
       "      <td>0</td>\n",
       "      <td>INTERVENE</td>\n",
       "      <td>0</td>\n",
       "      <td>INTERVENE</td>\n",
       "      <td>8</td>\n",
       "      <td>INTERVENE</td>\n",
       "      <td>71</td>\n",
       "      <td>0</td>\n",
       "    </tr>\n",
       "  </tbody>\n",
       "</table>\n",
       "<p>5 rows × 33 columns</p>\n",
       "</div>"
      ],
      "text/plain": [
       "                                        School SRC School ID  ULCS Code  \\\n",
       "0                     John Bartram High School           101       1010   \n",
       "1                West Philadelphia High School           102       1020   \n",
       "2                    High School of the Future           103       1030   \n",
       "3  Paul Robeson High School for Human Services           105       1050   \n",
       "4                 William L. Sayre High School           110       1100   \n",
       "\n",
       "   Zip Code Report Turnaround Model  Enrollment Grades Served Admissions Type  \\\n",
       "0     19142     HS              NaN         561        '9-12'    Neighborhood   \n",
       "1     19139     HS       Turnaround         478        '9-12'    Neighborhood   \n",
       "2     19104     HS              NaN         488        '9-12'        Citywide   \n",
       "3     19104     HS              NaN         299        '9-12'        Citywide   \n",
       "4     19139     HS              NaN         425        '9-12'    Neighborhood   \n",
       "\n",
       "  Overall Score  ... OSS Score   OSS Tier Student Survey Climate Score  \\\n",
       "0            13  ...        82      WATCH                           52   \n",
       "1             8  ...        76  INTERVENE                            0   \n",
       "2            25  ...        87  REINFORCE                           55   \n",
       "3            44  ...        95      MODEL                           64   \n",
       "4             8  ...        82      WATCH                            0   \n",
       "\n",
       "  Student Survey Climate Tier Parent Survey Climate Score  \\\n",
       "0                   REINFORCE                           0   \n",
       "1                   INTERVENE                           0   \n",
       "2                   REINFORCE                           0   \n",
       "3                   REINFORCE                          82   \n",
       "4                   INTERVENE                           0   \n",
       "\n",
       "   Parent Survey Climate Tier Parent Survey Participation Score  \\\n",
       "0                   INTERVENE                                 2   \n",
       "1                   INTERVENE                                 8   \n",
       "2                   INTERVENE                                 2   \n",
       "3                       MODEL                                13   \n",
       "4                   INTERVENE                                 8   \n",
       "\n",
       "   Parent Survey Participation Tier Teacher Attendance Score  \\\n",
       "0                         INTERVENE                       52   \n",
       "1                         INTERVENE                       49   \n",
       "2                         INTERVENE                       56   \n",
       "3                         INTERVENE                       68   \n",
       "4                         INTERVENE                       71   \n",
       "\n",
       "   Student Survey Teaching Score  \n",
       "0                             43  \n",
       "1                              0  \n",
       "2                             36  \n",
       "3                             53  \n",
       "4                              0  \n",
       "\n",
       "[5 rows x 33 columns]"
      ]
     },
     "execution_count": 18,
     "metadata": {},
     "output_type": "execute_result"
    }
   ],
   "source": [
    "school_df_2018.head()"
   ]
  },
  {
   "cell_type": "markdown",
   "metadata": {},
   "source": [
    "When checking for null values, the `Turnaround Model` has null values meaning the school was not identified to participate in a turnaround model for a given school year. The null values will be filled with 'None'."
   ]
  },
  {
   "cell_type": "code",
   "execution_count": 19,
   "metadata": {
    "scrolled": true
   },
   "outputs": [
    {
     "data": {
      "text/plain": [
       "School                                 0\n",
       "SRC School ID                          0\n",
       "ULCS Code                              0\n",
       "Zip Code                               0\n",
       "Report                                 0\n",
       "Turnaround Model                     272\n",
       "Enrollment                             0\n",
       "Grades Served                          0\n",
       "Admissions Type                        0\n",
       "Overall Score                          0\n",
       "Overall Tier                           0\n",
       "Ach Score                              0\n",
       "Ach Tier                               0\n",
       "Prog Score                             0\n",
       "Prog Tier                              0\n",
       "Clim Score                             0\n",
       "Clim Tier                              0\n",
       "Attendance (95%+) Score                0\n",
       "Attendance (95%+) Tier                 0\n",
       "Retention Score                        0\n",
       "Retention Tier                         0\n",
       "ISS Score                              0\n",
       "ISS Tier                               0\n",
       "OSS Score                              0\n",
       "OSS Tier                               0\n",
       "Student Survey Climate Score           0\n",
       "Student Survey Climate Tier            0\n",
       "Parent Survey Climate Score            0\n",
       "Parent Survey Climate Tier             0\n",
       "Parent Survey Participation Score      0\n",
       "Parent Survey Participation Tier       0\n",
       "Teacher Attendance Score               0\n",
       "Student Survey Teaching Score          0\n",
       "dtype: int64"
      ]
     },
     "execution_count": 19,
     "metadata": {},
     "output_type": "execute_result"
    }
   ],
   "source": [
    "school_df_2018.isna().sum()"
   ]
  },
  {
   "cell_type": "code",
   "execution_count": 20,
   "metadata": {},
   "outputs": [],
   "source": [
    "school_df_2018.loc[:,['Turnaround Model']]=school_df_2018['Turnaround Model'].fillna(value='None')"
   ]
  },
  {
   "cell_type": "code",
   "execution_count": 21,
   "metadata": {
    "scrolled": true
   },
   "outputs": [
    {
     "data": {
      "text/plain": [
       "School                               0\n",
       "SRC School ID                        0\n",
       "ULCS Code                            0\n",
       "Zip Code                             0\n",
       "Report                               0\n",
       "Turnaround Model                     0\n",
       "Enrollment                           0\n",
       "Grades Served                        0\n",
       "Admissions Type                      0\n",
       "Overall Score                        0\n",
       "Overall Tier                         0\n",
       "Ach Score                            0\n",
       "Ach Tier                             0\n",
       "Prog Score                           0\n",
       "Prog Tier                            0\n",
       "Clim Score                           0\n",
       "Clim Tier                            0\n",
       "Attendance (95%+) Score              0\n",
       "Attendance (95%+) Tier               0\n",
       "Retention Score                      0\n",
       "Retention Tier                       0\n",
       "ISS Score                            0\n",
       "ISS Tier                             0\n",
       "OSS Score                            0\n",
       "OSS Tier                             0\n",
       "Student Survey Climate Score         0\n",
       "Student Survey Climate Tier          0\n",
       "Parent Survey Climate Score          0\n",
       "Parent Survey Climate Tier           0\n",
       "Parent Survey Participation Score    0\n",
       "Parent Survey Participation Tier     0\n",
       "Teacher Attendance Score             0\n",
       "Student Survey Teaching Score        0\n",
       "dtype: int64"
      ]
     },
     "execution_count": 21,
     "metadata": {},
     "output_type": "execute_result"
    }
   ],
   "source": [
    "school_df_2018.isna().sum()"
   ]
  },
  {
   "cell_type": "markdown",
   "metadata": {},
   "source": [
    "__Enrollment & Demographics Data__"
   ]
  },
  {
   "cell_type": "markdown",
   "metadata": {},
   "source": [
    "Load in the data from the 2017-2018 school year. This data includes school level data regarding the English Language Learners (ELL), Individualized Education Plans (IEP), gender, ethnicity, and economically disadvantaged rates in each school."
   ]
  },
  {
   "cell_type": "code",
   "execution_count": 22,
   "metadata": {},
   "outputs": [
    {
     "name": "stdout",
     "output_type": "stream",
     "text": [
      "2017-2018 Enrollment & Demographics.xlsx\r\n",
      "SPR_SY1718_School_Metric_Scores_20190129.xlsx\r\n",
      "df_2019.csv\r\n",
      "df_eda.csv\r\n",
      "employee_information_April2018.csv\r\n",
      "employee_information_April2019.csv\r\n"
     ]
    }
   ],
   "source": [
    "ls data/"
   ]
  },
  {
   "cell_type": "code",
   "execution_count": 23,
   "metadata": {},
   "outputs": [],
   "source": [
    "df_ell = pd.read_excel('data/2017-2018 Enrollment & Demographics.xlsx', \n",
    "                       sheet_name='ELL', header=5)\n",
    "df_iep = pd.read_excel('data/2017-2018 Enrollment & Demographics.xlsx', \n",
    "                       sheet_name='IEP', header=5)\n",
    "df_gender = pd.read_excel('data/2017-2018 Enrollment & Demographics.xlsx', \n",
    "                       sheet_name='Gender', header=5)\n",
    "df_ethnicity = pd.read_excel('data/2017-2018 Enrollment & Demographics.xlsx', \n",
    "                       sheet_name='Ethnicity', header=5)\n",
    "df_ed = pd.read_excel('data/2017-2018 Enrollment & Demographics.xlsx', \n",
    "                       sheet_name='Economically Disadvantaged', header=5)\n"
   ]
  },
  {
   "cell_type": "code",
   "execution_count": 24,
   "metadata": {},
   "outputs": [],
   "source": [
    "df_ell=df_ell[df_ell['Grade']=='All Grades']\n",
    "df_ell.rename(columns = {'Percent %':'Percent ELL'}, inplace = True)\n",
    "df_ell = df_ell[['School ID','Percent ELL']]"
   ]
  },
  {
   "cell_type": "code",
   "execution_count": 25,
   "metadata": {},
   "outputs": [],
   "source": [
    "df_iep=df_iep[df_iep['Grade']=='All Grades']\n",
    "df_iep.rename(columns = {'Percent %':'Percent IEP'}, inplace = True)\n",
    "df_iep = df_iep[['School ID','Percent IEP']]"
   ]
  },
  {
   "cell_type": "code",
   "execution_count": 26,
   "metadata": {},
   "outputs": [],
   "source": [
    "df_gender=df_gender[df_gender['Grade']=='All Grades']\n",
    "df_gender.rename(columns = {'Percent %.1':'Percent Male'}, inplace = True)\n",
    "df_gender = df_gender[['School ID','Percent Male']]"
   ]
  },
  {
   "cell_type": "code",
   "execution_count": 27,
   "metadata": {},
   "outputs": [],
   "source": [
    "df_ethnicity=df_ethnicity[df_ethnicity['Grade']=='All Grades']\n",
    "df_ethnicity.rename(columns = {'Percent %.1':'Percent Asian',\n",
    "                               'Percent %.2':'Percent Black/African American',\n",
    "                               'Percent %.3':'Percent Hispanic',\n",
    "                               'Percent %.4':'Percent Multi-Race',\n",
    "                               'Percent %.6':'Percent White'}, inplace = True)\n",
    "df_ethnicity = df_ethnicity[['School ID',\n",
    "                             'Percent Asian', \n",
    "                             'Percent Black/African American', \n",
    "                             'Percent Hispanic', \n",
    "                             'Percent Multi-Race', \n",
    "                             'Percent White']]"
   ]
  },
  {
   "cell_type": "code",
   "execution_count": 28,
   "metadata": {},
   "outputs": [],
   "source": [
    "df_ed=df_ed[df_ed['Grade']=='All Grades']\n",
    "df_ed.rename(columns = {'CEP Economically Disadvantaged\\n Rate':'Economically Disadvantaged Rate'}, inplace = True)\n",
    "df_ed = df_ed[['School ID','Economically Disadvantaged Rate']]\n"
   ]
  },
  {
   "cell_type": "code",
   "execution_count": 29,
   "metadata": {},
   "outputs": [],
   "source": [
    "dfs = [df.set_index(['School ID']) for df in [df_ell, df_iep, df_gender, df_ethnicity, df_ed]]\n",
    "\n",
    "school_demographics = pd.concat(dfs, axis=1).reset_index()"
   ]
  },
  {
   "cell_type": "code",
   "execution_count": 30,
   "metadata": {},
   "outputs": [
    {
     "name": "stdout",
     "output_type": "stream",
     "text": [
      "<class 'pandas.core.frame.DataFrame'>\n",
      "RangeIndex: 215 entries, 0 to 214\n",
      "Data columns (total 10 columns):\n",
      " #   Column                           Non-Null Count  Dtype  \n",
      "---  ------                           --------------  -----  \n",
      " 0   School ID                        215 non-null    int64  \n",
      " 1   Percent ELL                      215 non-null    float64\n",
      " 2   Percent IEP                      215 non-null    float64\n",
      " 3   Percent Male                     215 non-null    float64\n",
      " 4   Percent Asian                    215 non-null    float64\n",
      " 5   Percent Black/African American   215 non-null    float64\n",
      " 6   Percent Hispanic                 215 non-null    float64\n",
      " 7   Percent Multi-Race               215 non-null    float64\n",
      " 8   Percent White                    215 non-null    float64\n",
      " 9   Economically Disadvantaged Rate  214 non-null    float64\n",
      "dtypes: float64(9), int64(1)\n",
      "memory usage: 16.9 KB\n"
     ]
    }
   ],
   "source": [
    "school_demographics.info()"
   ]
  },
  {
   "cell_type": "code",
   "execution_count": 31,
   "metadata": {},
   "outputs": [
    {
     "data": {
      "text/plain": [
       "(215, 10)"
      ]
     },
     "execution_count": 31,
     "metadata": {},
     "output_type": "execute_result"
    }
   ],
   "source": [
    "school_demographics.shape"
   ]
  },
  {
   "cell_type": "markdown",
   "metadata": {},
   "source": [
    "__Merge School Progress Reports with School Demographics__"
   ]
  },
  {
   "cell_type": "code",
   "execution_count": 32,
   "metadata": {},
   "outputs": [
    {
     "data": {
      "text/plain": [
       "(321, 33)"
      ]
     },
     "execution_count": 32,
     "metadata": {},
     "output_type": "execute_result"
    }
   ],
   "source": [
    "school_df_2018.shape"
   ]
  },
  {
   "cell_type": "code",
   "execution_count": 33,
   "metadata": {
    "scrolled": true
   },
   "outputs": [
    {
     "data": {
      "text/plain": [
       "0      101\n",
       "1      102\n",
       "2      103\n",
       "3      105\n",
       "4      110\n",
       "      ... \n",
       "316    X28\n",
       "317    X40\n",
       "318    X41\n",
       "319    X42\n",
       "320    X43\n",
       "Name: SRC School ID, Length: 321, dtype: object"
      ]
     },
     "execution_count": 33,
     "metadata": {},
     "output_type": "execute_result"
    }
   ],
   "source": [
    "school_df_2018['SRC School ID']"
   ]
  },
  {
   "cell_type": "code",
   "execution_count": 34,
   "metadata": {},
   "outputs": [],
   "source": [
    "school_df_2018.loc[:,['SRC School ID']] = pd.to_numeric(school_df_2018['SRC School ID'], \n",
    "                                                        errors='coerce')"
   ]
  },
  {
   "cell_type": "code",
   "execution_count": 35,
   "metadata": {},
   "outputs": [],
   "source": [
    "school_df_2018.dropna(subset = ['SRC School ID'], inplace=True)"
   ]
  },
  {
   "cell_type": "code",
   "execution_count": 36,
   "metadata": {},
   "outputs": [
    {
     "data": {
      "text/plain": [
       "(217, 33)"
      ]
     },
     "execution_count": 36,
     "metadata": {},
     "output_type": "execute_result"
    }
   ],
   "source": [
    "school_df_2018.shape"
   ]
  },
  {
   "cell_type": "code",
   "execution_count": 37,
   "metadata": {},
   "outputs": [],
   "source": [
    "full_school_2018 = pd.merge(school_df_2018, school_demographics, \n",
    "                            left_on='SRC School ID', \n",
    "                            right_on='School ID',\n",
    "                            how='left')"
   ]
  },
  {
   "cell_type": "code",
   "execution_count": 38,
   "metadata": {
    "scrolled": true
   },
   "outputs": [
    {
     "name": "stdout",
     "output_type": "stream",
     "text": [
      "<class 'pandas.core.frame.DataFrame'>\n",
      "Int64Index: 217 entries, 0 to 216\n",
      "Data columns (total 43 columns):\n",
      " #   Column                             Non-Null Count  Dtype  \n",
      "---  ------                             --------------  -----  \n",
      " 0   School                             217 non-null    object \n",
      " 1   SRC School ID                      217 non-null    float64\n",
      " 2   ULCS Code                          217 non-null    int64  \n",
      " 3   Zip Code                           217 non-null    int64  \n",
      " 4   Report                             217 non-null    object \n",
      " 5   Turnaround Model                   217 non-null    object \n",
      " 6   Enrollment                         217 non-null    int64  \n",
      " 7   Grades Served                      217 non-null    object \n",
      " 8   Admissions Type                    217 non-null    object \n",
      " 9   Overall Score                      217 non-null    object \n",
      " 10  Overall Tier                       217 non-null    object \n",
      " 11  Ach Score                          217 non-null    object \n",
      " 12  Ach Tier                           217 non-null    object \n",
      " 13  Prog Score                         217 non-null    object \n",
      " 14  Prog Tier                          217 non-null    object \n",
      " 15  Clim Score                         217 non-null    int64  \n",
      " 16  Clim Tier                          217 non-null    object \n",
      " 17  Attendance (95%+) Score            217 non-null    int64  \n",
      " 18  Attendance (95%+) Tier             217 non-null    object \n",
      " 19  Retention Score                    217 non-null    int64  \n",
      " 20  Retention Tier                     217 non-null    object \n",
      " 21  ISS Score                          217 non-null    int64  \n",
      " 22  ISS Tier                           217 non-null    object \n",
      " 23  OSS Score                          217 non-null    int64  \n",
      " 24  OSS Tier                           217 non-null    object \n",
      " 25  Student Survey Climate Score       217 non-null    object \n",
      " 26  Student Survey Climate Tier        217 non-null    object \n",
      " 27  Parent Survey Climate Score        217 non-null    int64  \n",
      " 28  Parent Survey Climate Tier         217 non-null    object \n",
      " 29  Parent Survey Participation Score  217 non-null    int64  \n",
      " 30  Parent Survey Participation Tier   217 non-null    object \n",
      " 31  Teacher Attendance Score           217 non-null    object \n",
      " 32  Student Survey Teaching Score      217 non-null    object \n",
      " 33  School ID                          217 non-null    int64  \n",
      " 34  Percent ELL                        217 non-null    float64\n",
      " 35  Percent IEP                        217 non-null    float64\n",
      " 36  Percent Male                       217 non-null    float64\n",
      " 37  Percent Asian                      217 non-null    float64\n",
      " 38  Percent Black/African American     217 non-null    float64\n",
      " 39  Percent Hispanic                   217 non-null    float64\n",
      " 40  Percent Multi-Race                 217 non-null    float64\n",
      " 41  Percent White                      217 non-null    float64\n",
      " 42  Economically Disadvantaged Rate    217 non-null    float64\n",
      "dtypes: float64(10), int64(11), object(22)\n",
      "memory usage: 74.6+ KB\n"
     ]
    }
   ],
   "source": [
    "full_school_2018.info()"
   ]
  },
  {
   "cell_type": "code",
   "execution_count": null,
   "metadata": {},
   "outputs": [],
   "source": []
  },
  {
   "cell_type": "markdown",
   "metadata": {},
   "source": [
    "### Merging Teacher Data with School Data"
   ]
  },
  {
   "cell_type": "markdown",
   "metadata": {},
   "source": [
    "In order to merge the individual teacher data with the school progress report data, we will need to merge on the school code as the school name is not written the same between files. The school code is consistent, however, in the teacher data it is stored as an object when it is numerical in the school data.\n",
    "\n",
    "We will turn the `HOME_ORGANIZATION` code into a numeric and those that are not numerical will be coerced to a null value. The staff with the non-numeric codes are assigned to locations that are not actual school buildings such as code `9KT0` represents the Office of High School Support.\n",
    "\n",
    "Then, we will drop the null values from the `HOME ORGANIZATION`."
   ]
  },
  {
   "cell_type": "code",
   "execution_count": 39,
   "metadata": {},
   "outputs": [],
   "source": [
    "teacher_turnover_2019.loc[:,['HOME_ORGANIZATION']] = pd.to_numeric(teacher_turnover_2019['HOME_ORGANIZATION'], \n",
    "                                                        errors='coerce')"
   ]
  },
  {
   "cell_type": "code",
   "execution_count": 40,
   "metadata": {},
   "outputs": [],
   "source": [
    "teacher_turnover_2019.dropna(subset = ['HOME_ORGANIZATION'], inplace=True)"
   ]
  },
  {
   "cell_type": "code",
   "execution_count": 41,
   "metadata": {
    "scrolled": true
   },
   "outputs": [
    {
     "name": "stdout",
     "output_type": "stream",
     "text": [
      "<class 'pandas.core.frame.DataFrame'>\n",
      "Int64Index: 8085 entries, 4 to 19277\n",
      "Data columns (total 19 columns):\n",
      " #   Column                              Non-Null Count  Dtype  \n",
      "---  ------                              --------------  -----  \n",
      " 0   LAST_NAME                           8085 non-null   object \n",
      " 1   FIRST_NAME                          8085 non-null   object \n",
      " 2   PAY_RATE_TYPE_2018                  8085 non-null   object \n",
      " 3   PAY_RATE_2018                       8085 non-null   int64  \n",
      " 4   TITLE_DESCRIPTION_2018              8085 non-null   object \n",
      " 5   HOME_ORGANIZATION                   8085 non-null   float64\n",
      " 6   HOME_ORGANIZATION_DESCRIPTION_2018  8085 non-null   object \n",
      " 7   ORGANIZATION_LEVEL_2018             8085 non-null   object \n",
      " 8   TYPE_OF_REPRESENTATION_2018         8085 non-null   object \n",
      " 9   GENDER_2018                         8085 non-null   object \n",
      " 10  RUN_DATE_2018                       8085 non-null   object \n",
      " 11  PAY_RATE_TYPE_2019                  6521 non-null   object \n",
      " 12  PAY_RATE_2019                       6521 non-null   float64\n",
      " 13  TITLE_DESCRIPTION_2019              6521 non-null   object \n",
      " 14  HOME_ORGANIZATION_DESCRIPTION_2019  6521 non-null   object \n",
      " 15  ORGANIZATION_LEVEL_2019             6521 non-null   object \n",
      " 16  TYPE_OF_REPRESENTATION_2019         6521 non-null   object \n",
      " 17  GENDER_2019                         6521 non-null   object \n",
      " 18  RUN_DATE_2019                       6521 non-null   object \n",
      "dtypes: float64(2), int64(1), object(16)\n",
      "memory usage: 1.2+ MB\n"
     ]
    }
   ],
   "source": [
    "teacher_turnover_2019.info()"
   ]
  },
  {
   "cell_type": "markdown",
   "metadata": {},
   "source": [
    "Now we can merge the teacher data with the school data using what is referred to as `HOME_ORGANIZATION` in the teacher data and the `ULCS Code` for the school data."
   ]
  },
  {
   "cell_type": "code",
   "execution_count": 42,
   "metadata": {},
   "outputs": [],
   "source": [
    "full_turnover_2019= pd.merge(teacher_turnover_2019, full_school_2018, \n",
    "                             left_on='HOME_ORGANIZATION', \n",
    "                             right_on='ULCS Code',\n",
    "                             how='left')"
   ]
  },
  {
   "cell_type": "code",
   "execution_count": 43,
   "metadata": {},
   "outputs": [
    {
     "name": "stdout",
     "output_type": "stream",
     "text": [
      "<class 'pandas.core.frame.DataFrame'>\n",
      "Int64Index: 8252 entries, 0 to 8251\n",
      "Data columns (total 62 columns):\n",
      " #   Column                              Non-Null Count  Dtype  \n",
      "---  ------                              --------------  -----  \n",
      " 0   LAST_NAME                           8252 non-null   object \n",
      " 1   FIRST_NAME                          8252 non-null   object \n",
      " 2   PAY_RATE_TYPE_2018                  8252 non-null   object \n",
      " 3   PAY_RATE_2018                       8252 non-null   int64  \n",
      " 4   TITLE_DESCRIPTION_2018              8252 non-null   object \n",
      " 5   HOME_ORGANIZATION                   8252 non-null   float64\n",
      " 6   HOME_ORGANIZATION_DESCRIPTION_2018  8252 non-null   object \n",
      " 7   ORGANIZATION_LEVEL_2018             8252 non-null   object \n",
      " 8   TYPE_OF_REPRESENTATION_2018         8252 non-null   object \n",
      " 9   GENDER_2018                         8252 non-null   object \n",
      " 10  RUN_DATE_2018                       8252 non-null   object \n",
      " 11  PAY_RATE_TYPE_2019                  6663 non-null   object \n",
      " 12  PAY_RATE_2019                       6663 non-null   float64\n",
      " 13  TITLE_DESCRIPTION_2019              6663 non-null   object \n",
      " 14  HOME_ORGANIZATION_DESCRIPTION_2019  6663 non-null   object \n",
      " 15  ORGANIZATION_LEVEL_2019             6663 non-null   object \n",
      " 16  TYPE_OF_REPRESENTATION_2019         6663 non-null   object \n",
      " 17  GENDER_2019                         6663 non-null   object \n",
      " 18  RUN_DATE_2019                       6663 non-null   object \n",
      " 19  School                              7984 non-null   object \n",
      " 20  SRC School ID                       7984 non-null   float64\n",
      " 21  ULCS Code                           7984 non-null   float64\n",
      " 22  Zip Code                            7984 non-null   float64\n",
      " 23  Report                              7984 non-null   object \n",
      " 24  Turnaround Model                    7984 non-null   object \n",
      " 25  Enrollment                          7984 non-null   float64\n",
      " 26  Grades Served                       7984 non-null   object \n",
      " 27  Admissions Type                     7984 non-null   object \n",
      " 28  Overall Score                       7984 non-null   object \n",
      " 29  Overall Tier                        7984 non-null   object \n",
      " 30  Ach Score                           7984 non-null   object \n",
      " 31  Ach Tier                            7984 non-null   object \n",
      " 32  Prog Score                          7984 non-null   object \n",
      " 33  Prog Tier                           7984 non-null   object \n",
      " 34  Clim Score                          7984 non-null   float64\n",
      " 35  Clim Tier                           7984 non-null   object \n",
      " 36  Attendance (95%+) Score             7984 non-null   float64\n",
      " 37  Attendance (95%+) Tier              7984 non-null   object \n",
      " 38  Retention Score                     7984 non-null   float64\n",
      " 39  Retention Tier                      7984 non-null   object \n",
      " 40  ISS Score                           7984 non-null   float64\n",
      " 41  ISS Tier                            7984 non-null   object \n",
      " 42  OSS Score                           7984 non-null   float64\n",
      " 43  OSS Tier                            7984 non-null   object \n",
      " 44  Student Survey Climate Score        7984 non-null   object \n",
      " 45  Student Survey Climate Tier         7984 non-null   object \n",
      " 46  Parent Survey Climate Score         7984 non-null   float64\n",
      " 47  Parent Survey Climate Tier          7984 non-null   object \n",
      " 48  Parent Survey Participation Score   7984 non-null   float64\n",
      " 49  Parent Survey Participation Tier    7984 non-null   object \n",
      " 50  Teacher Attendance Score            7984 non-null   object \n",
      " 51  Student Survey Teaching Score       7984 non-null   object \n",
      " 52  School ID                           7984 non-null   float64\n",
      " 53  Percent ELL                         7984 non-null   float64\n",
      " 54  Percent IEP                         7984 non-null   float64\n",
      " 55  Percent Male                        7984 non-null   float64\n",
      " 56  Percent Asian                       7984 non-null   float64\n",
      " 57  Percent Black/African American      7984 non-null   float64\n",
      " 58  Percent Hispanic                    7984 non-null   float64\n",
      " 59  Percent Multi-Race                  7984 non-null   float64\n",
      " 60  Percent White                       7984 non-null   float64\n",
      " 61  Economically Disadvantaged Rate     7984 non-null   float64\n",
      "dtypes: float64(23), int64(1), object(38)\n",
      "memory usage: 4.0+ MB\n"
     ]
    }
   ],
   "source": [
    "full_turnover_2019.info()"
   ]
  },
  {
   "cell_type": "code",
   "execution_count": 44,
   "metadata": {
    "scrolled": false
   },
   "outputs": [
    {
     "data": {
      "text/html": [
       "<div>\n",
       "<style scoped>\n",
       "    .dataframe tbody tr th:only-of-type {\n",
       "        vertical-align: middle;\n",
       "    }\n",
       "\n",
       "    .dataframe tbody tr th {\n",
       "        vertical-align: top;\n",
       "    }\n",
       "\n",
       "    .dataframe thead th {\n",
       "        text-align: right;\n",
       "    }\n",
       "</style>\n",
       "<table border=\"1\" class=\"dataframe\">\n",
       "  <thead>\n",
       "    <tr style=\"text-align: right;\">\n",
       "      <th></th>\n",
       "      <th>LAST_NAME</th>\n",
       "      <th>FIRST_NAME</th>\n",
       "      <th>PAY_RATE_TYPE_2018</th>\n",
       "      <th>PAY_RATE_2018</th>\n",
       "      <th>TITLE_DESCRIPTION_2018</th>\n",
       "      <th>HOME_ORGANIZATION</th>\n",
       "      <th>HOME_ORGANIZATION_DESCRIPTION_2018</th>\n",
       "      <th>ORGANIZATION_LEVEL_2018</th>\n",
       "      <th>TYPE_OF_REPRESENTATION_2018</th>\n",
       "      <th>GENDER_2018</th>\n",
       "      <th>...</th>\n",
       "      <th>School ID</th>\n",
       "      <th>Percent ELL</th>\n",
       "      <th>Percent IEP</th>\n",
       "      <th>Percent Male</th>\n",
       "      <th>Percent Asian</th>\n",
       "      <th>Percent Black/African American</th>\n",
       "      <th>Percent Hispanic</th>\n",
       "      <th>Percent Multi-Race</th>\n",
       "      <th>Percent White</th>\n",
       "      <th>Economically Disadvantaged Rate</th>\n",
       "    </tr>\n",
       "  </thead>\n",
       "  <tbody>\n",
       "    <tr>\n",
       "      <th>14</th>\n",
       "      <td>ABRAHAM-CUFF</td>\n",
       "      <td>NAFHRAH</td>\n",
       "      <td>SALARIED</td>\n",
       "      <td>48527</td>\n",
       "      <td>TEACHER,SPEC EDUCATION</td>\n",
       "      <td>6400.0</td>\n",
       "      <td>WIDENER MEMORIAL SCHOOL</td>\n",
       "      <td>ELEMENTARY SCHOOL</td>\n",
       "      <td>PFT-TEACHER</td>\n",
       "      <td>F</td>\n",
       "      <td>...</td>\n",
       "      <td>NaN</td>\n",
       "      <td>NaN</td>\n",
       "      <td>NaN</td>\n",
       "      <td>NaN</td>\n",
       "      <td>NaN</td>\n",
       "      <td>NaN</td>\n",
       "      <td>NaN</td>\n",
       "      <td>NaN</td>\n",
       "      <td>NaN</td>\n",
       "      <td>NaN</td>\n",
       "    </tr>\n",
       "    <tr>\n",
       "      <th>18</th>\n",
       "      <td>ABT</td>\n",
       "      <td>DEBBIE</td>\n",
       "      <td>SALARIED</td>\n",
       "      <td>78376</td>\n",
       "      <td>TEACHER,FULL TIME</td>\n",
       "      <td>6392.0</td>\n",
       "      <td>STEEL SCHOOL HEAD START</td>\n",
       "      <td>EARLY CHILDHOOD</td>\n",
       "      <td>PFT- PRE K</td>\n",
       "      <td>F</td>\n",
       "      <td>...</td>\n",
       "      <td>NaN</td>\n",
       "      <td>NaN</td>\n",
       "      <td>NaN</td>\n",
       "      <td>NaN</td>\n",
       "      <td>NaN</td>\n",
       "      <td>NaN</td>\n",
       "      <td>NaN</td>\n",
       "      <td>NaN</td>\n",
       "      <td>NaN</td>\n",
       "      <td>NaN</td>\n",
       "    </tr>\n",
       "    <tr>\n",
       "      <th>113</th>\n",
       "      <td>ALLEN</td>\n",
       "      <td>HEATHER</td>\n",
       "      <td>SALARIED</td>\n",
       "      <td>52196</td>\n",
       "      <td>TEACHER,FULL TIME</td>\n",
       "      <td>6202.0</td>\n",
       "      <td>DAY, ANNA B. HEAD START</td>\n",
       "      <td>EARLY CHILDHOOD</td>\n",
       "      <td>PFT- PRE K</td>\n",
       "      <td>F</td>\n",
       "      <td>...</td>\n",
       "      <td>NaN</td>\n",
       "      <td>NaN</td>\n",
       "      <td>NaN</td>\n",
       "      <td>NaN</td>\n",
       "      <td>NaN</td>\n",
       "      <td>NaN</td>\n",
       "      <td>NaN</td>\n",
       "      <td>NaN</td>\n",
       "      <td>NaN</td>\n",
       "      <td>NaN</td>\n",
       "    </tr>\n",
       "    <tr>\n",
       "      <th>114</th>\n",
       "      <td>ALLEN</td>\n",
       "      <td>MAYA</td>\n",
       "      <td>SALARIED</td>\n",
       "      <td>45359</td>\n",
       "      <td>TEACHER,FULL TIME</td>\n",
       "      <td>6341.0</td>\n",
       "      <td>PENNELL HEAD START</td>\n",
       "      <td>EARLY CHILDHOOD</td>\n",
       "      <td>PFT-TEACHER</td>\n",
       "      <td>F</td>\n",
       "      <td>...</td>\n",
       "      <td>NaN</td>\n",
       "      <td>NaN</td>\n",
       "      <td>NaN</td>\n",
       "      <td>NaN</td>\n",
       "      <td>NaN</td>\n",
       "      <td>NaN</td>\n",
       "      <td>NaN</td>\n",
       "      <td>NaN</td>\n",
       "      <td>NaN</td>\n",
       "      <td>NaN</td>\n",
       "    </tr>\n",
       "    <tr>\n",
       "      <th>117</th>\n",
       "      <td>ALLMAN</td>\n",
       "      <td>ELIZABETH</td>\n",
       "      <td>SALARIED</td>\n",
       "      <td>59532</td>\n",
       "      <td>TEACHER,FULL TIME</td>\n",
       "      <td>4399.0</td>\n",
       "      <td>WRIGHT HEAD START</td>\n",
       "      <td>EARLY CHILDHOOD</td>\n",
       "      <td>PFT- PRE K</td>\n",
       "      <td>F</td>\n",
       "      <td>...</td>\n",
       "      <td>NaN</td>\n",
       "      <td>NaN</td>\n",
       "      <td>NaN</td>\n",
       "      <td>NaN</td>\n",
       "      <td>NaN</td>\n",
       "      <td>NaN</td>\n",
       "      <td>NaN</td>\n",
       "      <td>NaN</td>\n",
       "      <td>NaN</td>\n",
       "      <td>NaN</td>\n",
       "    </tr>\n",
       "    <tr>\n",
       "      <th>...</th>\n",
       "      <td>...</td>\n",
       "      <td>...</td>\n",
       "      <td>...</td>\n",
       "      <td>...</td>\n",
       "      <td>...</td>\n",
       "      <td>...</td>\n",
       "      <td>...</td>\n",
       "      <td>...</td>\n",
       "      <td>...</td>\n",
       "      <td>...</td>\n",
       "      <td>...</td>\n",
       "      <td>...</td>\n",
       "      <td>...</td>\n",
       "      <td>...</td>\n",
       "      <td>...</td>\n",
       "      <td>...</td>\n",
       "      <td>...</td>\n",
       "      <td>...</td>\n",
       "      <td>...</td>\n",
       "      <td>...</td>\n",
       "      <td>...</td>\n",
       "    </tr>\n",
       "    <tr>\n",
       "      <th>8167</th>\n",
       "      <td>YORKONIS</td>\n",
       "      <td>TRACY</td>\n",
       "      <td>SALARIED</td>\n",
       "      <td>67789</td>\n",
       "      <td>TEACHER,FULL TIME</td>\n",
       "      <td>1475.0</td>\n",
       "      <td>HAVERFORD CTR BRIGHT FUTURES</td>\n",
       "      <td>EARLY CHILDHOOD</td>\n",
       "      <td>PFT- PRE K</td>\n",
       "      <td>F</td>\n",
       "      <td>...</td>\n",
       "      <td>NaN</td>\n",
       "      <td>NaN</td>\n",
       "      <td>NaN</td>\n",
       "      <td>NaN</td>\n",
       "      <td>NaN</td>\n",
       "      <td>NaN</td>\n",
       "      <td>NaN</td>\n",
       "      <td>NaN</td>\n",
       "      <td>NaN</td>\n",
       "      <td>NaN</td>\n",
       "    </tr>\n",
       "    <tr>\n",
       "      <th>8185</th>\n",
       "      <td>YU</td>\n",
       "      <td>JUYEON</td>\n",
       "      <td>SALARIED</td>\n",
       "      <td>90051</td>\n",
       "      <td>TEACHER,FULL TIME</td>\n",
       "      <td>6400.0</td>\n",
       "      <td>WIDENER MEMORIAL SCHOOL</td>\n",
       "      <td>ELEMENTARY SCHOOL</td>\n",
       "      <td>PFT-TEACHER</td>\n",
       "      <td>F</td>\n",
       "      <td>...</td>\n",
       "      <td>NaN</td>\n",
       "      <td>NaN</td>\n",
       "      <td>NaN</td>\n",
       "      <td>NaN</td>\n",
       "      <td>NaN</td>\n",
       "      <td>NaN</td>\n",
       "      <td>NaN</td>\n",
       "      <td>NaN</td>\n",
       "      <td>NaN</td>\n",
       "      <td>NaN</td>\n",
       "    </tr>\n",
       "    <tr>\n",
       "      <th>8197</th>\n",
       "      <td>ZAJDEL</td>\n",
       "      <td>HEATHER</td>\n",
       "      <td>SALARIED</td>\n",
       "      <td>90051</td>\n",
       "      <td>TEACHER,FULL TIME</td>\n",
       "      <td>8460.0</td>\n",
       "      <td>PHILA LEARNING ACADEMY-SOUTH</td>\n",
       "      <td>TRANSITION / OVERAGE SCHOOL</td>\n",
       "      <td>PFT-TEACHER</td>\n",
       "      <td>F</td>\n",
       "      <td>...</td>\n",
       "      <td>NaN</td>\n",
       "      <td>NaN</td>\n",
       "      <td>NaN</td>\n",
       "      <td>NaN</td>\n",
       "      <td>NaN</td>\n",
       "      <td>NaN</td>\n",
       "      <td>NaN</td>\n",
       "      <td>NaN</td>\n",
       "      <td>NaN</td>\n",
       "      <td>NaN</td>\n",
       "    </tr>\n",
       "    <tr>\n",
       "      <th>8213</th>\n",
       "      <td>ZELNER</td>\n",
       "      <td>KATHLEEN</td>\n",
       "      <td>SALARIED</td>\n",
       "      <td>69623</td>\n",
       "      <td>TEACHER,FULL TIME</td>\n",
       "      <td>8272.0</td>\n",
       "      <td>HOLME HEAD START</td>\n",
       "      <td>EARLY CHILDHOOD</td>\n",
       "      <td>PFT- PRE K</td>\n",
       "      <td>F</td>\n",
       "      <td>...</td>\n",
       "      <td>NaN</td>\n",
       "      <td>NaN</td>\n",
       "      <td>NaN</td>\n",
       "      <td>NaN</td>\n",
       "      <td>NaN</td>\n",
       "      <td>NaN</td>\n",
       "      <td>NaN</td>\n",
       "      <td>NaN</td>\n",
       "      <td>NaN</td>\n",
       "      <td>NaN</td>\n",
       "    </tr>\n",
       "    <tr>\n",
       "      <th>8237</th>\n",
       "      <td>ZOEGAR</td>\n",
       "      <td>JUNIUS</td>\n",
       "      <td>SALARIED</td>\n",
       "      <td>47278</td>\n",
       "      <td>TEACHER,FULL TIME</td>\n",
       "      <td>8690.0</td>\n",
       "      <td>CROSSROADS ACCELERATED ACADEMY</td>\n",
       "      <td>TRANSITION / OVERAGE SCHOOL</td>\n",
       "      <td>PFT-TEACHER</td>\n",
       "      <td>M</td>\n",
       "      <td>...</td>\n",
       "      <td>NaN</td>\n",
       "      <td>NaN</td>\n",
       "      <td>NaN</td>\n",
       "      <td>NaN</td>\n",
       "      <td>NaN</td>\n",
       "      <td>NaN</td>\n",
       "      <td>NaN</td>\n",
       "      <td>NaN</td>\n",
       "      <td>NaN</td>\n",
       "      <td>NaN</td>\n",
       "    </tr>\n",
       "  </tbody>\n",
       "</table>\n",
       "<p>268 rows × 62 columns</p>\n",
       "</div>"
      ],
      "text/plain": [
       "         LAST_NAME FIRST_NAME PAY_RATE_TYPE_2018  PAY_RATE_2018  \\\n",
       "14    ABRAHAM-CUFF    NAFHRAH           SALARIED          48527   \n",
       "18             ABT     DEBBIE           SALARIED          78376   \n",
       "113          ALLEN    HEATHER           SALARIED          52196   \n",
       "114          ALLEN       MAYA           SALARIED          45359   \n",
       "117         ALLMAN  ELIZABETH           SALARIED          59532   \n",
       "...            ...        ...                ...            ...   \n",
       "8167      YORKONIS      TRACY           SALARIED          67789   \n",
       "8185            YU     JUYEON           SALARIED          90051   \n",
       "8197        ZAJDEL    HEATHER           SALARIED          90051   \n",
       "8213        ZELNER   KATHLEEN           SALARIED          69623   \n",
       "8237        ZOEGAR     JUNIUS           SALARIED          47278   \n",
       "\n",
       "      TITLE_DESCRIPTION_2018  HOME_ORGANIZATION  \\\n",
       "14    TEACHER,SPEC EDUCATION             6400.0   \n",
       "18         TEACHER,FULL TIME             6392.0   \n",
       "113        TEACHER,FULL TIME             6202.0   \n",
       "114        TEACHER,FULL TIME             6341.0   \n",
       "117        TEACHER,FULL TIME             4399.0   \n",
       "...                      ...                ...   \n",
       "8167       TEACHER,FULL TIME             1475.0   \n",
       "8185       TEACHER,FULL TIME             6400.0   \n",
       "8197       TEACHER,FULL TIME             8460.0   \n",
       "8213       TEACHER,FULL TIME             8272.0   \n",
       "8237       TEACHER,FULL TIME             8690.0   \n",
       "\n",
       "     HOME_ORGANIZATION_DESCRIPTION_2018      ORGANIZATION_LEVEL_2018  \\\n",
       "14              WIDENER MEMORIAL SCHOOL            ELEMENTARY SCHOOL   \n",
       "18              STEEL SCHOOL HEAD START              EARLY CHILDHOOD   \n",
       "113             DAY, ANNA B. HEAD START              EARLY CHILDHOOD   \n",
       "114                  PENNELL HEAD START              EARLY CHILDHOOD   \n",
       "117                   WRIGHT HEAD START              EARLY CHILDHOOD   \n",
       "...                                 ...                          ...   \n",
       "8167       HAVERFORD CTR BRIGHT FUTURES              EARLY CHILDHOOD   \n",
       "8185            WIDENER MEMORIAL SCHOOL            ELEMENTARY SCHOOL   \n",
       "8197       PHILA LEARNING ACADEMY-SOUTH  TRANSITION / OVERAGE SCHOOL   \n",
       "8213                   HOLME HEAD START              EARLY CHILDHOOD   \n",
       "8237     CROSSROADS ACCELERATED ACADEMY  TRANSITION / OVERAGE SCHOOL   \n",
       "\n",
       "     TYPE_OF_REPRESENTATION_2018 GENDER_2018  ... School ID Percent ELL  \\\n",
       "14                   PFT-TEACHER           F  ...       NaN         NaN   \n",
       "18                    PFT- PRE K           F  ...       NaN         NaN   \n",
       "113                   PFT- PRE K           F  ...       NaN         NaN   \n",
       "114                  PFT-TEACHER           F  ...       NaN         NaN   \n",
       "117                   PFT- PRE K           F  ...       NaN         NaN   \n",
       "...                          ...         ...  ...       ...         ...   \n",
       "8167                  PFT- PRE K           F  ...       NaN         NaN   \n",
       "8185                 PFT-TEACHER           F  ...       NaN         NaN   \n",
       "8197                 PFT-TEACHER           F  ...       NaN         NaN   \n",
       "8213                  PFT- PRE K           F  ...       NaN         NaN   \n",
       "8237                 PFT-TEACHER           M  ...       NaN         NaN   \n",
       "\n",
       "      Percent IEP Percent Male Percent Asian Percent Black/African American  \\\n",
       "14            NaN          NaN           NaN                            NaN   \n",
       "18            NaN          NaN           NaN                            NaN   \n",
       "113           NaN          NaN           NaN                            NaN   \n",
       "114           NaN          NaN           NaN                            NaN   \n",
       "117           NaN          NaN           NaN                            NaN   \n",
       "...           ...          ...           ...                            ...   \n",
       "8167          NaN          NaN           NaN                            NaN   \n",
       "8185          NaN          NaN           NaN                            NaN   \n",
       "8197          NaN          NaN           NaN                            NaN   \n",
       "8213          NaN          NaN           NaN                            NaN   \n",
       "8237          NaN          NaN           NaN                            NaN   \n",
       "\n",
       "     Percent Hispanic Percent Multi-Race Percent White  \\\n",
       "14                NaN                NaN           NaN   \n",
       "18                NaN                NaN           NaN   \n",
       "113               NaN                NaN           NaN   \n",
       "114               NaN                NaN           NaN   \n",
       "117               NaN                NaN           NaN   \n",
       "...               ...                ...           ...   \n",
       "8167              NaN                NaN           NaN   \n",
       "8185              NaN                NaN           NaN   \n",
       "8197              NaN                NaN           NaN   \n",
       "8213              NaN                NaN           NaN   \n",
       "8237              NaN                NaN           NaN   \n",
       "\n",
       "     Economically Disadvantaged Rate  \n",
       "14                               NaN  \n",
       "18                               NaN  \n",
       "113                              NaN  \n",
       "114                              NaN  \n",
       "117                              NaN  \n",
       "...                              ...  \n",
       "8167                             NaN  \n",
       "8185                             NaN  \n",
       "8197                             NaN  \n",
       "8213                             NaN  \n",
       "8237                             NaN  \n",
       "\n",
       "[268 rows x 62 columns]"
      ]
     },
     "execution_count": 44,
     "metadata": {},
     "output_type": "execute_result"
    }
   ],
   "source": [
    "full_turnover_2019[full_turnover_2019.filter(like='School').isnull().any(1)]"
   ]
  },
  {
   "cell_type": "markdown",
   "metadata": {},
   "source": [
    "After the merge, we can see that the teachers with no school information listed are those teachers who work in schools that did not participate in the School Progress Report, such as Head Start programs, Transition/Overage Schools, or schools that serve significant physical or medical disabilities. As we don't have School Progress Report data for those schools, we will drop those rows which represent minimal proportions of the data."
   ]
  },
  {
   "cell_type": "code",
   "execution_count": 45,
   "metadata": {},
   "outputs": [],
   "source": [
    "full_turnover_2019.dropna(subset = ['School'], inplace=True)"
   ]
  },
  {
   "cell_type": "code",
   "execution_count": 46,
   "metadata": {
    "scrolled": false
   },
   "outputs": [
    {
     "name": "stdout",
     "output_type": "stream",
     "text": [
      "<class 'pandas.core.frame.DataFrame'>\n",
      "Int64Index: 7984 entries, 0 to 8251\n",
      "Data columns (total 62 columns):\n",
      " #   Column                              Non-Null Count  Dtype  \n",
      "---  ------                              --------------  -----  \n",
      " 0   LAST_NAME                           7984 non-null   object \n",
      " 1   FIRST_NAME                          7984 non-null   object \n",
      " 2   PAY_RATE_TYPE_2018                  7984 non-null   object \n",
      " 3   PAY_RATE_2018                       7984 non-null   int64  \n",
      " 4   TITLE_DESCRIPTION_2018              7984 non-null   object \n",
      " 5   HOME_ORGANIZATION                   7984 non-null   float64\n",
      " 6   HOME_ORGANIZATION_DESCRIPTION_2018  7984 non-null   object \n",
      " 7   ORGANIZATION_LEVEL_2018             7984 non-null   object \n",
      " 8   TYPE_OF_REPRESENTATION_2018         7984 non-null   object \n",
      " 9   GENDER_2018                         7984 non-null   object \n",
      " 10  RUN_DATE_2018                       7984 non-null   object \n",
      " 11  PAY_RATE_TYPE_2019                  6450 non-null   object \n",
      " 12  PAY_RATE_2019                       6450 non-null   float64\n",
      " 13  TITLE_DESCRIPTION_2019              6450 non-null   object \n",
      " 14  HOME_ORGANIZATION_DESCRIPTION_2019  6450 non-null   object \n",
      " 15  ORGANIZATION_LEVEL_2019             6450 non-null   object \n",
      " 16  TYPE_OF_REPRESENTATION_2019         6450 non-null   object \n",
      " 17  GENDER_2019                         6450 non-null   object \n",
      " 18  RUN_DATE_2019                       6450 non-null   object \n",
      " 19  School                              7984 non-null   object \n",
      " 20  SRC School ID                       7984 non-null   float64\n",
      " 21  ULCS Code                           7984 non-null   float64\n",
      " 22  Zip Code                            7984 non-null   float64\n",
      " 23  Report                              7984 non-null   object \n",
      " 24  Turnaround Model                    7984 non-null   object \n",
      " 25  Enrollment                          7984 non-null   float64\n",
      " 26  Grades Served                       7984 non-null   object \n",
      " 27  Admissions Type                     7984 non-null   object \n",
      " 28  Overall Score                       7984 non-null   object \n",
      " 29  Overall Tier                        7984 non-null   object \n",
      " 30  Ach Score                           7984 non-null   object \n",
      " 31  Ach Tier                            7984 non-null   object \n",
      " 32  Prog Score                          7984 non-null   object \n",
      " 33  Prog Tier                           7984 non-null   object \n",
      " 34  Clim Score                          7984 non-null   float64\n",
      " 35  Clim Tier                           7984 non-null   object \n",
      " 36  Attendance (95%+) Score             7984 non-null   float64\n",
      " 37  Attendance (95%+) Tier              7984 non-null   object \n",
      " 38  Retention Score                     7984 non-null   float64\n",
      " 39  Retention Tier                      7984 non-null   object \n",
      " 40  ISS Score                           7984 non-null   float64\n",
      " 41  ISS Tier                            7984 non-null   object \n",
      " 42  OSS Score                           7984 non-null   float64\n",
      " 43  OSS Tier                            7984 non-null   object \n",
      " 44  Student Survey Climate Score        7984 non-null   object \n",
      " 45  Student Survey Climate Tier         7984 non-null   object \n",
      " 46  Parent Survey Climate Score         7984 non-null   float64\n",
      " 47  Parent Survey Climate Tier          7984 non-null   object \n",
      " 48  Parent Survey Participation Score   7984 non-null   float64\n",
      " 49  Parent Survey Participation Tier    7984 non-null   object \n",
      " 50  Teacher Attendance Score            7984 non-null   object \n",
      " 51  Student Survey Teaching Score       7984 non-null   object \n",
      " 52  School ID                           7984 non-null   float64\n",
      " 53  Percent ELL                         7984 non-null   float64\n",
      " 54  Percent IEP                         7984 non-null   float64\n",
      " 55  Percent Male                        7984 non-null   float64\n",
      " 56  Percent Asian                       7984 non-null   float64\n",
      " 57  Percent Black/African American      7984 non-null   float64\n",
      " 58  Percent Hispanic                    7984 non-null   float64\n",
      " 59  Percent Multi-Race                  7984 non-null   float64\n",
      " 60  Percent White                       7984 non-null   float64\n",
      " 61  Economically Disadvantaged Rate     7984 non-null   float64\n",
      "dtypes: float64(23), int64(1), object(38)\n",
      "memory usage: 3.8+ MB\n"
     ]
    }
   ],
   "source": [
    "full_turnover_2019.info()"
   ]
  },
  {
   "cell_type": "markdown",
   "metadata": {},
   "source": [
    "We only want to keep teachers who had a salary listed for any given year, so we filter out the teachers listed as having a salary equal to 0, which is a minimal proportion of the data."
   ]
  },
  {
   "cell_type": "code",
   "execution_count": 47,
   "metadata": {},
   "outputs": [],
   "source": [
    "full_turnover_2019 = full_turnover_2019[full_turnover_2019['PAY_RATE_2018']>0]"
   ]
  },
  {
   "cell_type": "code",
   "execution_count": 48,
   "metadata": {
    "scrolled": true
   },
   "outputs": [
    {
     "data": {
      "text/plain": [
       "(7927, 62)"
      ]
     },
     "execution_count": 48,
     "metadata": {},
     "output_type": "execute_result"
    }
   ],
   "source": [
    "full_turnover_2019.shape"
   ]
  },
  {
   "cell_type": "markdown",
   "metadata": {},
   "source": [
    "We also want to create a dummy column that indicates whether a teacher is new to teaching or not using their salary information. New to teaching will be those teachers who are qualified for the Teacher Induction program:\n",
    ">\"Our Induction program provides one year of support that prioritizes skill development, personal reflection, and professional networking. Our model provides teachers with general pedagogical strategies that are designed for teachers in years 0-3.\" from https://www.philasd.org/teachingandlearning/professional-development/induction/"
   ]
  },
  {
   "cell_type": "markdown",
   "metadata": {},
   "source": [
    "That means we will use cutoffs up to Step 3 from the Philadelphia Federation of Teachers' [Salary Schedule](https://jobs.philasd.org/wp-content/uploads/sites/47/2018/08/PFT-Salary-Schedules.pdf) that was in place from 2013-2021 to indicate new to teaching. \n"
   ]
  },
  {
   "cell_type": "code",
   "execution_count": 49,
   "metadata": {},
   "outputs": [],
   "source": [
    "#create new column and set all values to 0\n",
    "full_turnover_2019['NEW_TEACHER']=0"
   ]
  },
  {
   "cell_type": "code",
   "execution_count": 50,
   "metadata": {},
   "outputs": [],
   "source": [
    "conditions_2019 = [\n",
    "    (full_turnover_2019['PAY_RATE_2018'] <= 53281)&(full_turnover_2019['TITLE_DESCRIPTION_2018'] == 'TEACHER,FULL TIME'),\n",
    "    (full_turnover_2019['PAY_RATE_2018'] <= 54534)&(full_turnover_2019['TITLE_DESCRIPTION_2018'] == 'TEACHER,SPEC EDUCATION')\n",
    "    ]\n",
    "values = [1, 1]\n",
    "full_turnover_2019['NEW_TEACHER'] = np.select(conditions_2019, values)"
   ]
  },
  {
   "cell_type": "code",
   "execution_count": 51,
   "metadata": {},
   "outputs": [
    {
     "data": {
      "text/plain": [
       "0    0.828561\n",
       "1    0.171439\n",
       "Name: NEW_TEACHER, dtype: float64"
      ]
     },
     "execution_count": 51,
     "metadata": {},
     "output_type": "execute_result"
    }
   ],
   "source": [
    "full_turnover_2019['NEW_TEACHER'].value_counts(normalize=True)"
   ]
  },
  {
   "cell_type": "markdown",
   "metadata": {},
   "source": [
    "We will establish a `TURNOVER` column that will act as the target column for modeling purposes. To do this, if a record has non-null values from the following year's dataset, then they will be marked as 0 indicating they were retained in their school from the prior year. However, if a record has a null value in the following year's dataset, they will be marked with a 1 indicating they turned over from their school following the year prior."
   ]
  },
  {
   "cell_type": "code",
   "execution_count": 52,
   "metadata": {},
   "outputs": [],
   "source": [
    "full_turnover_2019['TURNOVER']=np.where(full_turnover_2019['PAY_RATE_2019'].isnull(), 1,0)"
   ]
  },
  {
   "cell_type": "code",
   "execution_count": 53,
   "metadata": {},
   "outputs": [
    {
     "data": {
      "text/plain": [
       "0    0.810647\n",
       "1    0.189353\n",
       "Name: TURNOVER, dtype: float64"
      ]
     },
     "execution_count": 53,
     "metadata": {},
     "output_type": "execute_result"
    }
   ],
   "source": [
    "full_turnover_2019['TURNOVER'].value_counts(normalize=True)"
   ]
  },
  {
   "cell_type": "markdown",
   "metadata": {},
   "source": [
    "From this, we can see that the turnover rate ranges from about 18% to nearly 22% of the public school teachers in Philadelphia from 2017-2019. This does indicate that there is a class imbalance at play that will need to be accounted for when modeling."
   ]
  },
  {
   "cell_type": "markdown",
   "metadata": {},
   "source": [
    "We still need to clean up some of the data before modeling. We can drop columns that will not be helpful for modeling, such as the teacher data from the following year in each DataFrame since it contains null values from those teachers that left their school."
   ]
  },
  {
   "cell_type": "code",
   "execution_count": 54,
   "metadata": {},
   "outputs": [
    {
     "name": "stdout",
     "output_type": "stream",
     "text": [
      "<class 'pandas.core.frame.DataFrame'>\n",
      "Int64Index: 7927 entries, 0 to 8251\n",
      "Data columns (total 64 columns):\n",
      " #   Column                              Non-Null Count  Dtype  \n",
      "---  ------                              --------------  -----  \n",
      " 0   LAST_NAME                           7927 non-null   object \n",
      " 1   FIRST_NAME                          7927 non-null   object \n",
      " 2   PAY_RATE_TYPE_2018                  7927 non-null   object \n",
      " 3   PAY_RATE_2018                       7927 non-null   int64  \n",
      " 4   TITLE_DESCRIPTION_2018              7927 non-null   object \n",
      " 5   HOME_ORGANIZATION                   7927 non-null   float64\n",
      " 6   HOME_ORGANIZATION_DESCRIPTION_2018  7927 non-null   object \n",
      " 7   ORGANIZATION_LEVEL_2018             7927 non-null   object \n",
      " 8   TYPE_OF_REPRESENTATION_2018         7927 non-null   object \n",
      " 9   GENDER_2018                         7927 non-null   object \n",
      " 10  RUN_DATE_2018                       7927 non-null   object \n",
      " 11  PAY_RATE_TYPE_2019                  6426 non-null   object \n",
      " 12  PAY_RATE_2019                       6426 non-null   float64\n",
      " 13  TITLE_DESCRIPTION_2019              6426 non-null   object \n",
      " 14  HOME_ORGANIZATION_DESCRIPTION_2019  6426 non-null   object \n",
      " 15  ORGANIZATION_LEVEL_2019             6426 non-null   object \n",
      " 16  TYPE_OF_REPRESENTATION_2019         6426 non-null   object \n",
      " 17  GENDER_2019                         6426 non-null   object \n",
      " 18  RUN_DATE_2019                       6426 non-null   object \n",
      " 19  School                              7927 non-null   object \n",
      " 20  SRC School ID                       7927 non-null   float64\n",
      " 21  ULCS Code                           7927 non-null   float64\n",
      " 22  Zip Code                            7927 non-null   float64\n",
      " 23  Report                              7927 non-null   object \n",
      " 24  Turnaround Model                    7927 non-null   object \n",
      " 25  Enrollment                          7927 non-null   float64\n",
      " 26  Grades Served                       7927 non-null   object \n",
      " 27  Admissions Type                     7927 non-null   object \n",
      " 28  Overall Score                       7927 non-null   object \n",
      " 29  Overall Tier                        7927 non-null   object \n",
      " 30  Ach Score                           7927 non-null   object \n",
      " 31  Ach Tier                            7927 non-null   object \n",
      " 32  Prog Score                          7927 non-null   object \n",
      " 33  Prog Tier                           7927 non-null   object \n",
      " 34  Clim Score                          7927 non-null   float64\n",
      " 35  Clim Tier                           7927 non-null   object \n",
      " 36  Attendance (95%+) Score             7927 non-null   float64\n",
      " 37  Attendance (95%+) Tier              7927 non-null   object \n",
      " 38  Retention Score                     7927 non-null   float64\n",
      " 39  Retention Tier                      7927 non-null   object \n",
      " 40  ISS Score                           7927 non-null   float64\n",
      " 41  ISS Tier                            7927 non-null   object \n",
      " 42  OSS Score                           7927 non-null   float64\n",
      " 43  OSS Tier                            7927 non-null   object \n",
      " 44  Student Survey Climate Score        7927 non-null   object \n",
      " 45  Student Survey Climate Tier         7927 non-null   object \n",
      " 46  Parent Survey Climate Score         7927 non-null   float64\n",
      " 47  Parent Survey Climate Tier          7927 non-null   object \n",
      " 48  Parent Survey Participation Score   7927 non-null   float64\n",
      " 49  Parent Survey Participation Tier    7927 non-null   object \n",
      " 50  Teacher Attendance Score            7927 non-null   object \n",
      " 51  Student Survey Teaching Score       7927 non-null   object \n",
      " 52  School ID                           7927 non-null   float64\n",
      " 53  Percent ELL                         7927 non-null   float64\n",
      " 54  Percent IEP                         7927 non-null   float64\n",
      " 55  Percent Male                        7927 non-null   float64\n",
      " 56  Percent Asian                       7927 non-null   float64\n",
      " 57  Percent Black/African American      7927 non-null   float64\n",
      " 58  Percent Hispanic                    7927 non-null   float64\n",
      " 59  Percent Multi-Race                  7927 non-null   float64\n",
      " 60  Percent White                       7927 non-null   float64\n",
      " 61  Economically Disadvantaged Rate     7927 non-null   float64\n",
      " 62  NEW_TEACHER                         7927 non-null   int64  \n",
      " 63  TURNOVER                            7927 non-null   int64  \n",
      "dtypes: float64(23), int64(3), object(38)\n",
      "memory usage: 3.9+ MB\n"
     ]
    }
   ],
   "source": [
    "full_turnover_2019.info()"
   ]
  },
  {
   "cell_type": "code",
   "execution_count": 55,
   "metadata": {},
   "outputs": [],
   "source": [
    "cols_to_drop_2019 = ['PAY_RATE_TYPE_2019', 'PAY_RATE_2019','TITLE_DESCRIPTION_2019', \n",
    "                'HOME_ORGANIZATION_DESCRIPTION_2019', 'ORGANIZATION_LEVEL_2019',\n",
    "                'TYPE_OF_REPRESENTATION_2019','GENDER_2019','RUN_DATE_2019', 'RUN_DATE_2018',\n",
    "                'HOME_ORGANIZATION_DESCRIPTION_2018', 'PAY_RATE_TYPE_2018', 'TYPE_OF_REPRESENTATION_2018',\n",
    "                'ULCS Code', 'Report', 'School ID', 'SRC School ID','Grades Served']"
   ]
  },
  {
   "cell_type": "code",
   "execution_count": 56,
   "metadata": {},
   "outputs": [],
   "source": [
    "full_turnover_2019.drop(cols_to_drop_2019, axis=1, inplace=True)"
   ]
  },
  {
   "cell_type": "code",
   "execution_count": 57,
   "metadata": {
    "scrolled": true
   },
   "outputs": [
    {
     "data": {
      "text/html": [
       "<div>\n",
       "<style scoped>\n",
       "    .dataframe tbody tr th:only-of-type {\n",
       "        vertical-align: middle;\n",
       "    }\n",
       "\n",
       "    .dataframe tbody tr th {\n",
       "        vertical-align: top;\n",
       "    }\n",
       "\n",
       "    .dataframe thead th {\n",
       "        text-align: right;\n",
       "    }\n",
       "</style>\n",
       "<table border=\"1\" class=\"dataframe\">\n",
       "  <thead>\n",
       "    <tr style=\"text-align: right;\">\n",
       "      <th></th>\n",
       "      <th>LAST_NAME</th>\n",
       "      <th>FIRST_NAME</th>\n",
       "      <th>PAY_RATE_2018</th>\n",
       "      <th>TITLE_DESCRIPTION_2018</th>\n",
       "      <th>HOME_ORGANIZATION</th>\n",
       "      <th>ORGANIZATION_LEVEL_2018</th>\n",
       "      <th>GENDER_2018</th>\n",
       "      <th>School</th>\n",
       "      <th>Zip Code</th>\n",
       "      <th>Turnaround Model</th>\n",
       "      <th>...</th>\n",
       "      <th>Percent IEP</th>\n",
       "      <th>Percent Male</th>\n",
       "      <th>Percent Asian</th>\n",
       "      <th>Percent Black/African American</th>\n",
       "      <th>Percent Hispanic</th>\n",
       "      <th>Percent Multi-Race</th>\n",
       "      <th>Percent White</th>\n",
       "      <th>Economically Disadvantaged Rate</th>\n",
       "      <th>NEW_TEACHER</th>\n",
       "      <th>TURNOVER</th>\n",
       "    </tr>\n",
       "  </thead>\n",
       "  <tbody>\n",
       "    <tr>\n",
       "      <th>0</th>\n",
       "      <td>ABAYOMI-IGE</td>\n",
       "      <td>OLABIMPE</td>\n",
       "      <td>90051</td>\n",
       "      <td>TEACHER,SPEC EDUCATION</td>\n",
       "      <td>5070.0</td>\n",
       "      <td>HIGH SCHOOL</td>\n",
       "      <td>F</td>\n",
       "      <td>Parkway Northwest High School</td>\n",
       "      <td>19138.0</td>\n",
       "      <td>None</td>\n",
       "      <td>...</td>\n",
       "      <td>0.103846</td>\n",
       "      <td>0.488462</td>\n",
       "      <td>0.000000</td>\n",
       "      <td>0.934615</td>\n",
       "      <td>0.046154</td>\n",
       "      <td>0.007692</td>\n",
       "      <td>0.011538</td>\n",
       "      <td>0.824615</td>\n",
       "      <td>0</td>\n",
       "      <td>0</td>\n",
       "    </tr>\n",
       "    <tr>\n",
       "      <th>1</th>\n",
       "      <td>ABBOTT</td>\n",
       "      <td>JOYCE</td>\n",
       "      <td>76461</td>\n",
       "      <td>TEACHER,FULL TIME</td>\n",
       "      <td>1290.0</td>\n",
       "      <td>ELEMENTARY SCHOOL</td>\n",
       "      <td>F</td>\n",
       "      <td>Andrew Hamilton School</td>\n",
       "      <td>19139.0</td>\n",
       "      <td>None</td>\n",
       "      <td>...</td>\n",
       "      <td>0.194757</td>\n",
       "      <td>0.558052</td>\n",
       "      <td>0.001873</td>\n",
       "      <td>0.893258</td>\n",
       "      <td>0.014981</td>\n",
       "      <td>0.069288</td>\n",
       "      <td>0.014981</td>\n",
       "      <td>1.000000</td>\n",
       "      <td>0</td>\n",
       "      <td>0</td>\n",
       "    </tr>\n",
       "    <tr>\n",
       "      <th>2</th>\n",
       "      <td>ABDUL-LATEEF</td>\n",
       "      <td>VILLIA</td>\n",
       "      <td>56531</td>\n",
       "      <td>TEACHER,FULL TIME</td>\n",
       "      <td>1010.0</td>\n",
       "      <td>HIGH SCHOOL</td>\n",
       "      <td>F</td>\n",
       "      <td>John Bartram High School</td>\n",
       "      <td>19142.0</td>\n",
       "      <td>None</td>\n",
       "      <td>...</td>\n",
       "      <td>0.293805</td>\n",
       "      <td>0.576991</td>\n",
       "      <td>0.033628</td>\n",
       "      <td>0.915044</td>\n",
       "      <td>0.030088</td>\n",
       "      <td>0.015929</td>\n",
       "      <td>0.003540</td>\n",
       "      <td>1.000000</td>\n",
       "      <td>0</td>\n",
       "      <td>1</td>\n",
       "    </tr>\n",
       "    <tr>\n",
       "      <th>3</th>\n",
       "      <td>ABDULALEEM</td>\n",
       "      <td>MUHAMMAD</td>\n",
       "      <td>70564</td>\n",
       "      <td>TEACHER,FULL TIME</td>\n",
       "      <td>6090.0</td>\n",
       "      <td>CAREER AND TECHNICAL HIGH SCHL</td>\n",
       "      <td>M</td>\n",
       "      <td>A. Philip Randolph Career and Technical High S...</td>\n",
       "      <td>19129.0</td>\n",
       "      <td>None</td>\n",
       "      <td>...</td>\n",
       "      <td>0.187879</td>\n",
       "      <td>0.634343</td>\n",
       "      <td>0.002020</td>\n",
       "      <td>0.905051</td>\n",
       "      <td>0.016162</td>\n",
       "      <td>0.040404</td>\n",
       "      <td>0.026263</td>\n",
       "      <td>1.000000</td>\n",
       "      <td>0</td>\n",
       "      <td>0</td>\n",
       "    </tr>\n",
       "    <tr>\n",
       "      <th>4</th>\n",
       "      <td>ABDULLAH</td>\n",
       "      <td>AARON</td>\n",
       "      <td>46694</td>\n",
       "      <td>TEACHER,FULL TIME</td>\n",
       "      <td>6360.0</td>\n",
       "      <td>ELEMENTARY SCHOOL</td>\n",
       "      <td>M</td>\n",
       "      <td>Theodore Roosevelt School</td>\n",
       "      <td>19144.0</td>\n",
       "      <td>Turnaround</td>\n",
       "      <td>...</td>\n",
       "      <td>0.178161</td>\n",
       "      <td>0.522989</td>\n",
       "      <td>0.001916</td>\n",
       "      <td>0.919540</td>\n",
       "      <td>0.040230</td>\n",
       "      <td>0.028736</td>\n",
       "      <td>0.009579</td>\n",
       "      <td>1.000000</td>\n",
       "      <td>1</td>\n",
       "      <td>0</td>\n",
       "    </tr>\n",
       "  </tbody>\n",
       "</table>\n",
       "<p>5 rows × 47 columns</p>\n",
       "</div>"
      ],
      "text/plain": [
       "      LAST_NAME FIRST_NAME  PAY_RATE_2018  TITLE_DESCRIPTION_2018  \\\n",
       "0   ABAYOMI-IGE   OLABIMPE          90051  TEACHER,SPEC EDUCATION   \n",
       "1        ABBOTT      JOYCE          76461       TEACHER,FULL TIME   \n",
       "2  ABDUL-LATEEF     VILLIA          56531       TEACHER,FULL TIME   \n",
       "3    ABDULALEEM   MUHAMMAD          70564       TEACHER,FULL TIME   \n",
       "4      ABDULLAH      AARON          46694       TEACHER,FULL TIME   \n",
       "\n",
       "   HOME_ORGANIZATION         ORGANIZATION_LEVEL_2018 GENDER_2018  \\\n",
       "0             5070.0                     HIGH SCHOOL           F   \n",
       "1             1290.0               ELEMENTARY SCHOOL           F   \n",
       "2             1010.0                     HIGH SCHOOL           F   \n",
       "3             6090.0  CAREER AND TECHNICAL HIGH SCHL           M   \n",
       "4             6360.0               ELEMENTARY SCHOOL           M   \n",
       "\n",
       "                                              School  Zip Code  \\\n",
       "0                      Parkway Northwest High School   19138.0   \n",
       "1                             Andrew Hamilton School   19139.0   \n",
       "2                           John Bartram High School   19142.0   \n",
       "3  A. Philip Randolph Career and Technical High S...   19129.0   \n",
       "4                          Theodore Roosevelt School   19144.0   \n",
       "\n",
       "  Turnaround Model  ...  Percent IEP Percent Male Percent Asian  \\\n",
       "0             None  ...     0.103846     0.488462      0.000000   \n",
       "1             None  ...     0.194757     0.558052      0.001873   \n",
       "2             None  ...     0.293805     0.576991      0.033628   \n",
       "3             None  ...     0.187879     0.634343      0.002020   \n",
       "4       Turnaround  ...     0.178161     0.522989      0.001916   \n",
       "\n",
       "  Percent Black/African American Percent Hispanic Percent Multi-Race  \\\n",
       "0                       0.934615         0.046154           0.007692   \n",
       "1                       0.893258         0.014981           0.069288   \n",
       "2                       0.915044         0.030088           0.015929   \n",
       "3                       0.905051         0.016162           0.040404   \n",
       "4                       0.919540         0.040230           0.028736   \n",
       "\n",
       "  Percent White Economically Disadvantaged Rate  NEW_TEACHER TURNOVER  \n",
       "0      0.011538                        0.824615            0        0  \n",
       "1      0.014981                        1.000000            0        0  \n",
       "2      0.003540                        1.000000            0        1  \n",
       "3      0.026263                        1.000000            0        0  \n",
       "4      0.009579                        1.000000            1        0  \n",
       "\n",
       "[5 rows x 47 columns]"
      ]
     },
     "execution_count": 57,
     "metadata": {},
     "output_type": "execute_result"
    }
   ],
   "source": [
    "full_turnover_2019.head()"
   ]
  },
  {
   "cell_type": "code",
   "execution_count": 58,
   "metadata": {},
   "outputs": [
    {
     "data": {
      "text/plain": [
       "Index(['LAST_NAME', 'FIRST_NAME', 'PAY_RATE_2018', 'TITLE_DESCRIPTION_2018',\n",
       "       'HOME_ORGANIZATION', 'ORGANIZATION_LEVEL_2018', 'GENDER_2018', 'School',\n",
       "       'Zip Code', 'Turnaround Model', 'Enrollment', 'Admissions Type',\n",
       "       'Overall Score', 'Overall Tier', 'Ach Score', 'Ach Tier', 'Prog Score',\n",
       "       'Prog Tier', 'Clim Score', 'Clim Tier', 'Attendance (95%+) Score',\n",
       "       'Attendance (95%+) Tier', 'Retention Score', 'Retention Tier',\n",
       "       'ISS Score', 'ISS Tier', 'OSS Score', 'OSS Tier',\n",
       "       'Student Survey Climate Score', 'Student Survey Climate Tier',\n",
       "       'Parent Survey Climate Score', 'Parent Survey Climate Tier',\n",
       "       'Parent Survey Participation Score', 'Parent Survey Participation Tier',\n",
       "       'Teacher Attendance Score', 'Student Survey Teaching Score',\n",
       "       'Percent ELL', 'Percent IEP', 'Percent Male', 'Percent Asian',\n",
       "       'Percent Black/African American', 'Percent Hispanic',\n",
       "       'Percent Multi-Race', 'Percent White',\n",
       "       'Economically Disadvantaged Rate', 'NEW_TEACHER', 'TURNOVER'],\n",
       "      dtype='object')"
      ]
     },
     "execution_count": 58,
     "metadata": {},
     "output_type": "execute_result"
    }
   ],
   "source": [
    "full_turnover_2019.columns"
   ]
  },
  {
   "cell_type": "code",
   "execution_count": 59,
   "metadata": {},
   "outputs": [],
   "source": [
    "full_turnover_2019.rename(columns={'PAY_RATE_2018': 'PAY_RATE',\n",
    "                   'TITLE_DESCRIPTION_2018': 'TITLE_DESCRIPTION',\n",
    "                   'ORGANIZATION_LEVEL_2018': 'ORGANIZATION_LEVEL',\n",
    "                   'GENDER_2018': 'GENDER'}, inplace=True)\n"
   ]
  },
  {
   "cell_type": "code",
   "execution_count": 60,
   "metadata": {},
   "outputs": [],
   "source": [
    "full_turnover_2019.to_csv('data/df_2019.csv')"
   ]
  },
  {
   "cell_type": "code",
   "execution_count": 61,
   "metadata": {
    "scrolled": false
   },
   "outputs": [
    {
     "name": "stdout",
     "output_type": "stream",
     "text": [
      "2017-2018 Enrollment & Demographics.xlsx\r\n",
      "SPR_SY1718_School_Metric_Scores_20190129.xlsx\r\n",
      "df_2019.csv\r\n",
      "df_eda.csv\r\n",
      "employee_information_April2018.csv\r\n",
      "employee_information_April2019.csv\r\n"
     ]
    }
   ],
   "source": [
    "ls data/"
   ]
  },
  {
   "cell_type": "code",
   "execution_count": null,
   "metadata": {},
   "outputs": [],
   "source": []
  }
 ],
 "metadata": {
  "kernelspec": {
   "display_name": "Python (learn-env)",
   "language": "python",
   "name": "learn-env"
  },
  "language_info": {
   "codemirror_mode": {
    "name": "ipython",
    "version": 3
   },
   "file_extension": ".py",
   "mimetype": "text/x-python",
   "name": "python",
   "nbconvert_exporter": "python",
   "pygments_lexer": "ipython3",
   "version": "3.8.5"
  }
 },
 "nbformat": 4,
 "nbformat_minor": 4
}
