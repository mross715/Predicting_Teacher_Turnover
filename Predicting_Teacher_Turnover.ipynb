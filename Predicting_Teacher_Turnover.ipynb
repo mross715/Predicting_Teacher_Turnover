{
 "cells": [
  {
   "cell_type": "markdown",
   "metadata": {},
   "source": [
    "# Predicting Teacher Turnover"
   ]
  },
  {
   "cell_type": "markdown",
   "metadata": {},
   "source": [
    "__Meaghan Ross__\n",
    "\n",
    "Flatiron School Capstone"
   ]
  },
  {
   "cell_type": "markdown",
   "metadata": {},
   "source": [
    "### Business Understanding"
   ]
  },
  {
   "cell_type": "markdown",
   "metadata": {},
   "source": []
  },
  {
   "cell_type": "markdown",
   "metadata": {},
   "source": [
    "### Data Understanding"
   ]
  },
  {
   "cell_type": "markdown",
   "metadata": {},
   "source": []
  },
  {
   "cell_type": "code",
   "execution_count": 59,
   "metadata": {},
   "outputs": [],
   "source": [
    "import pandas as pd\n",
    "import numpy as np\n",
    "import seaborn as sns\n",
    "from scipy import stats as stats\n",
    "import matplotlib.pyplot as plt\n",
    "%matplotlib inline\n",
    "\n",
    "from sklearn.preprocessing import OneHotEncoder, StandardScaler, FunctionTransformer\n",
    "from sklearn.compose import ColumnTransformer\n",
    "from sklearn.pipeline import Pipeline\n",
    "\n",
    "from sklearn.dummy import DummyClassifier\n",
    "from sklearn.linear_model import LogisticRegression\n",
    "from sklearn.neighbors import KNeighborsClassifier\n",
    "from sklearn.tree import DecisionTreeClassifier\n",
    "\n",
    "from sklearn.ensemble import RandomForestClassifier\n",
    "from xgboost import XGBClassifier\n",
    "\n",
    "from sklearn.metrics import accuracy_score, recall_score, confusion_matrix,\\\n",
    "plot_confusion_matrix, ConfusionMatrixDisplay\n",
    "from sklearn.model_selection import train_test_split, GridSearchCV,\\\n",
    "cross_validate"
   ]
  },
  {
   "cell_type": "code",
   "execution_count": null,
   "metadata": {},
   "outputs": [],
   "source": []
  },
  {
   "cell_type": "code",
   "execution_count": null,
   "metadata": {},
   "outputs": [],
   "source": []
  },
  {
   "cell_type": "code",
   "execution_count": null,
   "metadata": {},
   "outputs": [],
   "source": []
  },
  {
   "cell_type": "code",
   "execution_count": null,
   "metadata": {},
   "outputs": [],
   "source": []
  },
  {
   "cell_type": "code",
   "execution_count": null,
   "metadata": {},
   "outputs": [],
   "source": []
  },
  {
   "cell_type": "code",
   "execution_count": null,
   "metadata": {},
   "outputs": [],
   "source": []
  },
  {
   "cell_type": "code",
   "execution_count": null,
   "metadata": {},
   "outputs": [],
   "source": []
  },
  {
   "cell_type": "code",
   "execution_count": null,
   "metadata": {},
   "outputs": [],
   "source": []
  },
  {
   "cell_type": "markdown",
   "metadata": {},
   "source": [
    "### Data Preparation"
   ]
  },
  {
   "cell_type": "code",
   "execution_count": 2,
   "metadata": {
    "scrolled": false
   },
   "outputs": [
    {
     "name": "stdout",
     "output_type": "stream",
     "text": [
      "SPR_SY1415_School_Metric_Scores_20160208.xlsx\r\n",
      "SPR_SY1516_School_Metric_Scores_20170203.xlsx\r\n",
      "SPR_SY1617_School_Metric_Scores_20180206.xlsx\r\n",
      "SPR_SY1718_School_Metric_Scores_20190129.xlsx\r\n",
      "SPR_SY1819_School_Metric_Scores_20200127.xlsx\r\n",
      "df_2019\r\n",
      "df_2019.csv\r\n",
      "employee_information_April2015.csv\r\n",
      "employee_information_April2016.csv\r\n",
      "employee_information_April2017.csv\r\n",
      "employee_information_April2018.csv\r\n",
      "employee_information_April2019.csv\r\n",
      "employee_information_April2020.csv\r\n",
      "employee_information_April2021.csv\r\n",
      "full_data.csv\r\n"
     ]
    }
   ],
   "source": [
    "ls data/"
   ]
  },
  {
   "cell_type": "code",
   "execution_count": 3,
   "metadata": {},
   "outputs": [],
   "source": [
    "df = pd.read_csv('data/df_2019.csv', index_col=0)"
   ]
  },
  {
   "cell_type": "code",
   "execution_count": 4,
   "metadata": {},
   "outputs": [
    {
     "data": {
      "text/html": [
       "<div>\n",
       "<style scoped>\n",
       "    .dataframe tbody tr th:only-of-type {\n",
       "        vertical-align: middle;\n",
       "    }\n",
       "\n",
       "    .dataframe tbody tr th {\n",
       "        vertical-align: top;\n",
       "    }\n",
       "\n",
       "    .dataframe thead th {\n",
       "        text-align: right;\n",
       "    }\n",
       "</style>\n",
       "<table border=\"1\" class=\"dataframe\">\n",
       "  <thead>\n",
       "    <tr style=\"text-align: right;\">\n",
       "      <th></th>\n",
       "      <th>LAST_NAME</th>\n",
       "      <th>FIRST_NAME</th>\n",
       "      <th>PAY_RATE</th>\n",
       "      <th>TITLE_DESCRIPTION</th>\n",
       "      <th>HOME_ORGANIZATION</th>\n",
       "      <th>ORGANIZATION_LEVEL</th>\n",
       "      <th>GENDER</th>\n",
       "      <th>School</th>\n",
       "      <th>Turnaround Model</th>\n",
       "      <th>Enrollment</th>\n",
       "      <th>...</th>\n",
       "      <th>Student Survey Climate Score</th>\n",
       "      <th>Student Survey Climate Tier</th>\n",
       "      <th>Parent Survey Climate Score</th>\n",
       "      <th>Parent Survey Climate Tier</th>\n",
       "      <th>Parent Survey Participation Score</th>\n",
       "      <th>Parent Survey Participation Tier</th>\n",
       "      <th>Teacher Attendance Score</th>\n",
       "      <th>Student Survey Teaching Score</th>\n",
       "      <th>NEW_TEACHER</th>\n",
       "      <th>TURNOVER</th>\n",
       "    </tr>\n",
       "  </thead>\n",
       "  <tbody>\n",
       "    <tr>\n",
       "      <th>0</th>\n",
       "      <td>ABAYOMI-IGE</td>\n",
       "      <td>OLABIMPE</td>\n",
       "      <td>90051</td>\n",
       "      <td>TEACHER,SPEC EDUCATION</td>\n",
       "      <td>5070.0</td>\n",
       "      <td>HIGH SCHOOL</td>\n",
       "      <td>F</td>\n",
       "      <td>Parkway Northwest High School</td>\n",
       "      <td>None</td>\n",
       "      <td>260.0</td>\n",
       "      <td>...</td>\n",
       "      <td>48</td>\n",
       "      <td>WATCH</td>\n",
       "      <td>73.0</td>\n",
       "      <td>REINFORCE</td>\n",
       "      <td>18.0</td>\n",
       "      <td>INTERVENE</td>\n",
       "      <td>67</td>\n",
       "      <td>33</td>\n",
       "      <td>0</td>\n",
       "      <td>0</td>\n",
       "    </tr>\n",
       "    <tr>\n",
       "      <th>1</th>\n",
       "      <td>ABBOTT</td>\n",
       "      <td>JOYCE</td>\n",
       "      <td>76461</td>\n",
       "      <td>TEACHER,FULL TIME</td>\n",
       "      <td>1290.0</td>\n",
       "      <td>ELEMENTARY SCHOOL</td>\n",
       "      <td>F</td>\n",
       "      <td>Andrew Hamilton School</td>\n",
       "      <td>None</td>\n",
       "      <td>532.0</td>\n",
       "      <td>...</td>\n",
       "      <td>0</td>\n",
       "      <td>INTERVENE</td>\n",
       "      <td>0.0</td>\n",
       "      <td>INTERVENE</td>\n",
       "      <td>1.0</td>\n",
       "      <td>INTERVENE</td>\n",
       "      <td>46</td>\n",
       "      <td>0</td>\n",
       "      <td>0</td>\n",
       "      <td>0</td>\n",
       "    </tr>\n",
       "    <tr>\n",
       "      <th>2</th>\n",
       "      <td>ABDUL-LATEEF</td>\n",
       "      <td>VILLIA</td>\n",
       "      <td>56531</td>\n",
       "      <td>TEACHER,FULL TIME</td>\n",
       "      <td>1010.0</td>\n",
       "      <td>HIGH SCHOOL</td>\n",
       "      <td>F</td>\n",
       "      <td>John Bartram High School</td>\n",
       "      <td>None</td>\n",
       "      <td>561.0</td>\n",
       "      <td>...</td>\n",
       "      <td>52</td>\n",
       "      <td>REINFORCE</td>\n",
       "      <td>0.0</td>\n",
       "      <td>INTERVENE</td>\n",
       "      <td>2.0</td>\n",
       "      <td>INTERVENE</td>\n",
       "      <td>52</td>\n",
       "      <td>43</td>\n",
       "      <td>0</td>\n",
       "      <td>1</td>\n",
       "    </tr>\n",
       "    <tr>\n",
       "      <th>3</th>\n",
       "      <td>ABDULALEEM</td>\n",
       "      <td>MUHAMMAD</td>\n",
       "      <td>70564</td>\n",
       "      <td>TEACHER,FULL TIME</td>\n",
       "      <td>6090.0</td>\n",
       "      <td>CAREER AND TECHNICAL HIGH SCHL</td>\n",
       "      <td>M</td>\n",
       "      <td>A. Philip Randolph Career and Technical High S...</td>\n",
       "      <td>None</td>\n",
       "      <td>493.0</td>\n",
       "      <td>...</td>\n",
       "      <td>56</td>\n",
       "      <td>REINFORCE</td>\n",
       "      <td>0.0</td>\n",
       "      <td>INTERVENE</td>\n",
       "      <td>2.0</td>\n",
       "      <td>INTERVENE</td>\n",
       "      <td>64</td>\n",
       "      <td>36</td>\n",
       "      <td>0</td>\n",
       "      <td>0</td>\n",
       "    </tr>\n",
       "    <tr>\n",
       "      <th>4</th>\n",
       "      <td>ABDULLAH</td>\n",
       "      <td>AARON</td>\n",
       "      <td>46694</td>\n",
       "      <td>TEACHER,FULL TIME</td>\n",
       "      <td>6360.0</td>\n",
       "      <td>ELEMENTARY SCHOOL</td>\n",
       "      <td>M</td>\n",
       "      <td>Theodore Roosevelt School</td>\n",
       "      <td>Turnaround</td>\n",
       "      <td>525.0</td>\n",
       "      <td>...</td>\n",
       "      <td>47</td>\n",
       "      <td>WATCH</td>\n",
       "      <td>63.0</td>\n",
       "      <td>REINFORCE</td>\n",
       "      <td>10.0</td>\n",
       "      <td>INTERVENE</td>\n",
       "      <td>58</td>\n",
       "      <td>51</td>\n",
       "      <td>1</td>\n",
       "      <td>0</td>\n",
       "    </tr>\n",
       "  </tbody>\n",
       "</table>\n",
       "<p>5 rows × 38 columns</p>\n",
       "</div>"
      ],
      "text/plain": [
       "      LAST_NAME FIRST_NAME  PAY_RATE       TITLE_DESCRIPTION  \\\n",
       "0   ABAYOMI-IGE   OLABIMPE     90051  TEACHER,SPEC EDUCATION   \n",
       "1        ABBOTT      JOYCE     76461       TEACHER,FULL TIME   \n",
       "2  ABDUL-LATEEF     VILLIA     56531       TEACHER,FULL TIME   \n",
       "3    ABDULALEEM   MUHAMMAD     70564       TEACHER,FULL TIME   \n",
       "4      ABDULLAH      AARON     46694       TEACHER,FULL TIME   \n",
       "\n",
       "   HOME_ORGANIZATION              ORGANIZATION_LEVEL GENDER  \\\n",
       "0             5070.0                     HIGH SCHOOL      F   \n",
       "1             1290.0               ELEMENTARY SCHOOL      F   \n",
       "2             1010.0                     HIGH SCHOOL      F   \n",
       "3             6090.0  CAREER AND TECHNICAL HIGH SCHL      M   \n",
       "4             6360.0               ELEMENTARY SCHOOL      M   \n",
       "\n",
       "                                              School Turnaround Model  \\\n",
       "0                      Parkway Northwest High School             None   \n",
       "1                             Andrew Hamilton School             None   \n",
       "2                           John Bartram High School             None   \n",
       "3  A. Philip Randolph Career and Technical High S...             None   \n",
       "4                          Theodore Roosevelt School       Turnaround   \n",
       "\n",
       "   Enrollment  ... Student Survey Climate Score Student Survey Climate Tier  \\\n",
       "0       260.0  ...                           48                       WATCH   \n",
       "1       532.0  ...                            0                   INTERVENE   \n",
       "2       561.0  ...                           52                   REINFORCE   \n",
       "3       493.0  ...                           56                   REINFORCE   \n",
       "4       525.0  ...                           47                       WATCH   \n",
       "\n",
       "  Parent Survey Climate Score Parent Survey Climate Tier  \\\n",
       "0                        73.0                  REINFORCE   \n",
       "1                         0.0                  INTERVENE   \n",
       "2                         0.0                  INTERVENE   \n",
       "3                         0.0                  INTERVENE   \n",
       "4                        63.0                  REINFORCE   \n",
       "\n",
       "  Parent Survey Participation Score Parent Survey Participation Tier  \\\n",
       "0                              18.0                        INTERVENE   \n",
       "1                               1.0                        INTERVENE   \n",
       "2                               2.0                        INTERVENE   \n",
       "3                               2.0                        INTERVENE   \n",
       "4                              10.0                        INTERVENE   \n",
       "\n",
       "  Teacher Attendance Score Student Survey Teaching Score  NEW_TEACHER TURNOVER  \n",
       "0                       67                            33            0        0  \n",
       "1                       46                             0            0        0  \n",
       "2                       52                            43            0        1  \n",
       "3                       64                            36            0        0  \n",
       "4                       58                            51            1        0  \n",
       "\n",
       "[5 rows x 38 columns]"
      ]
     },
     "execution_count": 4,
     "metadata": {},
     "output_type": "execute_result"
    }
   ],
   "source": [
    "df.head()"
   ]
  },
  {
   "cell_type": "markdown",
   "metadata": {},
   "source": [
    "## EDA"
   ]
  },
  {
   "cell_type": "code",
   "execution_count": 5,
   "metadata": {
    "scrolled": false
   },
   "outputs": [
    {
     "data": {
      "image/png": "[encoded data removed]",
      "text/plain": [
       "<Figure size 432x288 with 1 Axes>"
      ]
     },
     "metadata": {
      "needs_background": "light"
     },
     "output_type": "display_data"
    }
   ],
   "source": [
    "df['NEW_TEACHER'].value_counts().plot.barh();"
   ]
  },
  {
   "cell_type": "code",
   "execution_count": 6,
   "metadata": {},
   "outputs": [
    {
     "data": {
      "image/png": "[encoded data removed]",
      "text/plain": [
       "<Figure size 432x288 with 1 Axes>"
      ]
     },
     "metadata": {
      "needs_background": "light"
     },
     "output_type": "display_data"
    }
   ],
   "source": [
    "df['TITLE_DESCRIPTION'].value_counts().plot.barh();"
   ]
  },
  {
   "cell_type": "code",
   "execution_count": 7,
   "metadata": {
    "scrolled": false
   },
   "outputs": [
    {
     "data": {
      "image/png": "[encoded data removed]",
      "text/plain": [
       "<Figure size 432x288 with 1 Axes>"
      ]
     },
     "metadata": {
      "needs_background": "light"
     },
     "output_type": "display_data"
    }
   ],
   "source": [
    "df['GENDER'].value_counts().plot.barh();"
   ]
  },
  {
   "cell_type": "code",
   "execution_count": 8,
   "metadata": {},
   "outputs": [
    {
     "data": {
      "image/png": "[encoded data removed]",
      "text/plain": [
       "<Figure size 576x720 with 1 Axes>"
      ]
     },
     "metadata": {
      "needs_background": "light"
     },
     "output_type": "display_data"
    }
   ],
   "source": [
    "f = plt.figure(figsize=(8,10))\n",
    "ax = f.add_subplot(2,1,1)\n",
    "\n",
    "sns.histplot(data=df, ax=ax, stat='probability', multiple=\"fill\",\n",
    "             x=\"PAY_RATE\", palette = 'RdBu_r',\n",
    "             hue=\"TURNOVER\", element=\"bars\", \n",
    "             legend=True, bins=15)\n",
    "ax.set_title(\"Distribution of Salary by Turnover\")\n",
    "ax.set_xlabel(\"Salary ($)\")\n",
    "ax.set_ylabel(\"%\");"
   ]
  },
  {
   "cell_type": "code",
   "execution_count": 9,
   "metadata": {
    "scrolled": false
   },
   "outputs": [
    {
     "data": {
      "text/html": [
       "<div>\n",
       "<style scoped>\n",
       "    .dataframe tbody tr th:only-of-type {\n",
       "        vertical-align: middle;\n",
       "    }\n",
       "\n",
       "    .dataframe tbody tr th {\n",
       "        vertical-align: top;\n",
       "    }\n",
       "\n",
       "    .dataframe thead th {\n",
       "        text-align: right;\n",
       "    }\n",
       "</style>\n",
       "<table border=\"1\" class=\"dataframe\">\n",
       "  <thead>\n",
       "    <tr style=\"text-align: right;\">\n",
       "      <th></th>\n",
       "      <th>PAY_RATE</th>\n",
       "      <th>HOME_ORGANIZATION</th>\n",
       "      <th>Enrollment</th>\n",
       "      <th>Clim Score</th>\n",
       "      <th>Attendance (95%+) Score</th>\n",
       "      <th>Retention Score</th>\n",
       "      <th>ISS Score</th>\n",
       "      <th>OSS Score</th>\n",
       "      <th>Parent Survey Climate Score</th>\n",
       "      <th>Parent Survey Participation Score</th>\n",
       "      <th>Teacher Attendance Score</th>\n",
       "      <th>NEW_TEACHER</th>\n",
       "      <th>TURNOVER</th>\n",
       "    </tr>\n",
       "  </thead>\n",
       "  <tbody>\n",
       "    <tr>\n",
       "      <th>PAY_RATE</th>\n",
       "      <td>1.000000</td>\n",
       "      <td>0.038187</td>\n",
       "      <td>0.084483</td>\n",
       "      <td>0.124878</td>\n",
       "      <td>0.101647</td>\n",
       "      <td>0.100311</td>\n",
       "      <td>0.023937</td>\n",
       "      <td>0.094068</td>\n",
       "      <td>0.030273</td>\n",
       "      <td>-0.017216</td>\n",
       "      <td>0.052436</td>\n",
       "      <td>-0.716830</td>\n",
       "      <td>-0.128383</td>\n",
       "    </tr>\n",
       "    <tr>\n",
       "      <th>HOME_ORGANIZATION</th>\n",
       "      <td>0.038187</td>\n",
       "      <td>1.000000</td>\n",
       "      <td>0.420716</td>\n",
       "      <td>0.161885</td>\n",
       "      <td>0.042418</td>\n",
       "      <td>0.180387</td>\n",
       "      <td>-0.048261</td>\n",
       "      <td>0.164868</td>\n",
       "      <td>-0.046431</td>\n",
       "      <td>-0.055446</td>\n",
       "      <td>0.005062</td>\n",
       "      <td>-0.021044</td>\n",
       "      <td>-0.040983</td>\n",
       "    </tr>\n",
       "    <tr>\n",
       "      <th>Enrollment</th>\n",
       "      <td>0.084483</td>\n",
       "      <td>0.420716</td>\n",
       "      <td>1.000000</td>\n",
       "      <td>0.154257</td>\n",
       "      <td>0.089632</td>\n",
       "      <td>0.188510</td>\n",
       "      <td>-0.193487</td>\n",
       "      <td>0.054606</td>\n",
       "      <td>-0.158786</td>\n",
       "      <td>-0.197453</td>\n",
       "      <td>0.017680</td>\n",
       "      <td>-0.066778</td>\n",
       "      <td>-0.074059</td>\n",
       "    </tr>\n",
       "    <tr>\n",
       "      <th>Clim Score</th>\n",
       "      <td>0.124878</td>\n",
       "      <td>0.161885</td>\n",
       "      <td>0.154257</td>\n",
       "      <td>1.000000</td>\n",
       "      <td>0.884434</td>\n",
       "      <td>0.889190</td>\n",
       "      <td>0.123755</td>\n",
       "      <td>0.685835</td>\n",
       "      <td>0.248483</td>\n",
       "      <td>0.192925</td>\n",
       "      <td>0.439631</td>\n",
       "      <td>-0.112942</td>\n",
       "      <td>-0.147260</td>\n",
       "    </tr>\n",
       "    <tr>\n",
       "      <th>Attendance (95%+) Score</th>\n",
       "      <td>0.101647</td>\n",
       "      <td>0.042418</td>\n",
       "      <td>0.089632</td>\n",
       "      <td>0.884434</td>\n",
       "      <td>1.000000</td>\n",
       "      <td>0.755330</td>\n",
       "      <td>0.120543</td>\n",
       "      <td>0.644979</td>\n",
       "      <td>0.203678</td>\n",
       "      <td>0.119316</td>\n",
       "      <td>0.367596</td>\n",
       "      <td>-0.094704</td>\n",
       "      <td>-0.111212</td>\n",
       "    </tr>\n",
       "    <tr>\n",
       "      <th>Retention Score</th>\n",
       "      <td>0.100311</td>\n",
       "      <td>0.180387</td>\n",
       "      <td>0.188510</td>\n",
       "      <td>0.889190</td>\n",
       "      <td>0.755330</td>\n",
       "      <td>1.000000</td>\n",
       "      <td>0.034136</td>\n",
       "      <td>0.583733</td>\n",
       "      <td>0.149625</td>\n",
       "      <td>0.124893</td>\n",
       "      <td>0.483844</td>\n",
       "      <td>-0.094468</td>\n",
       "      <td>-0.146313</td>\n",
       "    </tr>\n",
       "    <tr>\n",
       "      <th>ISS Score</th>\n",
       "      <td>0.023937</td>\n",
       "      <td>-0.048261</td>\n",
       "      <td>-0.193487</td>\n",
       "      <td>0.123755</td>\n",
       "      <td>0.120543</td>\n",
       "      <td>0.034136</td>\n",
       "      <td>1.000000</td>\n",
       "      <td>0.211967</td>\n",
       "      <td>0.046071</td>\n",
       "      <td>0.056472</td>\n",
       "      <td>0.051395</td>\n",
       "      <td>-0.016847</td>\n",
       "      <td>0.022632</td>\n",
       "    </tr>\n",
       "    <tr>\n",
       "      <th>OSS Score</th>\n",
       "      <td>0.094068</td>\n",
       "      <td>0.164868</td>\n",
       "      <td>0.054606</td>\n",
       "      <td>0.685835</td>\n",
       "      <td>0.644979</td>\n",
       "      <td>0.583733</td>\n",
       "      <td>0.211967</td>\n",
       "      <td>1.000000</td>\n",
       "      <td>0.319913</td>\n",
       "      <td>0.247719</td>\n",
       "      <td>0.272244</td>\n",
       "      <td>-0.105428</td>\n",
       "      <td>-0.103168</td>\n",
       "    </tr>\n",
       "    <tr>\n",
       "      <th>Parent Survey Climate Score</th>\n",
       "      <td>0.030273</td>\n",
       "      <td>-0.046431</td>\n",
       "      <td>-0.158786</td>\n",
       "      <td>0.248483</td>\n",
       "      <td>0.203678</td>\n",
       "      <td>0.149625</td>\n",
       "      <td>0.046071</td>\n",
       "      <td>0.319913</td>\n",
       "      <td>1.000000</td>\n",
       "      <td>0.642356</td>\n",
       "      <td>0.185495</td>\n",
       "      <td>-0.007046</td>\n",
       "      <td>-0.029399</td>\n",
       "    </tr>\n",
       "    <tr>\n",
       "      <th>Parent Survey Participation Score</th>\n",
       "      <td>-0.017216</td>\n",
       "      <td>-0.055446</td>\n",
       "      <td>-0.197453</td>\n",
       "      <td>0.192925</td>\n",
       "      <td>0.119316</td>\n",
       "      <td>0.124893</td>\n",
       "      <td>0.056472</td>\n",
       "      <td>0.247719</td>\n",
       "      <td>0.642356</td>\n",
       "      <td>1.000000</td>\n",
       "      <td>0.174428</td>\n",
       "      <td>0.022961</td>\n",
       "      <td>-0.023279</td>\n",
       "    </tr>\n",
       "    <tr>\n",
       "      <th>Teacher Attendance Score</th>\n",
       "      <td>0.052436</td>\n",
       "      <td>0.005062</td>\n",
       "      <td>0.017680</td>\n",
       "      <td>0.439631</td>\n",
       "      <td>0.367596</td>\n",
       "      <td>0.483844</td>\n",
       "      <td>0.051395</td>\n",
       "      <td>0.272244</td>\n",
       "      <td>0.185495</td>\n",
       "      <td>0.174428</td>\n",
       "      <td>1.000000</td>\n",
       "      <td>-0.063753</td>\n",
       "      <td>-0.116987</td>\n",
       "    </tr>\n",
       "    <tr>\n",
       "      <th>NEW_TEACHER</th>\n",
       "      <td>-0.716830</td>\n",
       "      <td>-0.021044</td>\n",
       "      <td>-0.066778</td>\n",
       "      <td>-0.112942</td>\n",
       "      <td>-0.094704</td>\n",
       "      <td>-0.094468</td>\n",
       "      <td>-0.016847</td>\n",
       "      <td>-0.105428</td>\n",
       "      <td>-0.007046</td>\n",
       "      <td>0.022961</td>\n",
       "      <td>-0.063753</td>\n",
       "      <td>1.000000</td>\n",
       "      <td>0.128720</td>\n",
       "    </tr>\n",
       "    <tr>\n",
       "      <th>TURNOVER</th>\n",
       "      <td>-0.128383</td>\n",
       "      <td>-0.040983</td>\n",
       "      <td>-0.074059</td>\n",
       "      <td>-0.147260</td>\n",
       "      <td>-0.111212</td>\n",
       "      <td>-0.146313</td>\n",
       "      <td>0.022632</td>\n",
       "      <td>-0.103168</td>\n",
       "      <td>-0.029399</td>\n",
       "      <td>-0.023279</td>\n",
       "      <td>-0.116987</td>\n",
       "      <td>0.128720</td>\n",
       "      <td>1.000000</td>\n",
       "    </tr>\n",
       "  </tbody>\n",
       "</table>\n",
       "</div>"
      ],
      "text/plain": [
       "                                   PAY_RATE  HOME_ORGANIZATION  Enrollment  \\\n",
       "PAY_RATE                           1.000000           0.038187    0.084483   \n",
       "HOME_ORGANIZATION                  0.038187           1.000000    0.420716   \n",
       "Enrollment                         0.084483           0.420716    1.000000   \n",
       "Clim Score                         0.124878           0.161885    0.154257   \n",
       "Attendance (95%+) Score            0.101647           0.042418    0.089632   \n",
       "Retention Score                    0.100311           0.180387    0.188510   \n",
       "ISS Score                          0.023937          -0.048261   -0.193487   \n",
       "OSS Score                          0.094068           0.164868    0.054606   \n",
       "Parent Survey Climate Score        0.030273          -0.046431   -0.158786   \n",
       "Parent Survey Participation Score -0.017216          -0.055446   -0.197453   \n",
       "Teacher Attendance Score           0.052436           0.005062    0.017680   \n",
       "NEW_TEACHER                       -0.716830          -0.021044   -0.066778   \n",
       "TURNOVER                          -0.128383          -0.040983   -0.074059   \n",
       "\n",
       "                                   Clim Score  Attendance (95%+) Score  \\\n",
       "PAY_RATE                             0.124878                 0.101647   \n",
       "HOME_ORGANIZATION                    0.161885                 0.042418   \n",
       "Enrollment                           0.154257                 0.089632   \n",
       "Clim Score                           1.000000                 0.884434   \n",
       "Attendance (95%+) Score              0.884434                 1.000000   \n",
       "Retention Score                      0.889190                 0.755330   \n",
       "ISS Score                            0.123755                 0.120543   \n",
       "OSS Score                            0.685835                 0.644979   \n",
       "Parent Survey Climate Score          0.248483                 0.203678   \n",
       "Parent Survey Participation Score    0.192925                 0.119316   \n",
       "Teacher Attendance Score             0.439631                 0.367596   \n",
       "NEW_TEACHER                         -0.112942                -0.094704   \n",
       "TURNOVER                            -0.147260                -0.111212   \n",
       "\n",
       "                                   Retention Score  ISS Score  OSS Score  \\\n",
       "PAY_RATE                                  0.100311   0.023937   0.094068   \n",
       "HOME_ORGANIZATION                         0.180387  -0.048261   0.164868   \n",
       "Enrollment                                0.188510  -0.193487   0.054606   \n",
       "Clim Score                                0.889190   0.123755   0.685835   \n",
       "Attendance (95%+) Score                   0.755330   0.120543   0.644979   \n",
       "Retention Score                           1.000000   0.034136   0.583733   \n",
       "ISS Score                                 0.034136   1.000000   0.211967   \n",
       "OSS Score                                 0.583733   0.211967   1.000000   \n",
       "Parent Survey Climate Score               0.149625   0.046071   0.319913   \n",
       "Parent Survey Participation Score         0.124893   0.056472   0.247719   \n",
       "Teacher Attendance Score                  0.483844   0.051395   0.272244   \n",
       "NEW_TEACHER                              -0.094468  -0.016847  -0.105428   \n",
       "TURNOVER                                 -0.146313   0.022632  -0.103168   \n",
       "\n",
       "                                   Parent Survey Climate Score  \\\n",
       "PAY_RATE                                              0.030273   \n",
       "HOME_ORGANIZATION                                    -0.046431   \n",
       "Enrollment                                           -0.158786   \n",
       "Clim Score                                            0.248483   \n",
       "Attendance (95%+) Score                               0.203678   \n",
       "Retention Score                                       0.149625   \n",
       "ISS Score                                             0.046071   \n",
       "OSS Score                                             0.319913   \n",
       "Parent Survey Climate Score                           1.000000   \n",
       "Parent Survey Participation Score                     0.642356   \n",
       "Teacher Attendance Score                              0.185495   \n",
       "NEW_TEACHER                                          -0.007046   \n",
       "TURNOVER                                             -0.029399   \n",
       "\n",
       "                                   Parent Survey Participation Score  \\\n",
       "PAY_RATE                                                   -0.017216   \n",
       "HOME_ORGANIZATION                                          -0.055446   \n",
       "Enrollment                                                 -0.197453   \n",
       "Clim Score                                                  0.192925   \n",
       "Attendance (95%+) Score                                     0.119316   \n",
       "Retention Score                                             0.124893   \n",
       "ISS Score                                                   0.056472   \n",
       "OSS Score                                                   0.247719   \n",
       "Parent Survey Climate Score                                 0.642356   \n",
       "Parent Survey Participation Score                           1.000000   \n",
       "Teacher Attendance Score                                    0.174428   \n",
       "NEW_TEACHER                                                 0.022961   \n",
       "TURNOVER                                                   -0.023279   \n",
       "\n",
       "                                   Teacher Attendance Score  NEW_TEACHER  \\\n",
       "PAY_RATE                                           0.052436    -0.716830   \n",
       "HOME_ORGANIZATION                                  0.005062    -0.021044   \n",
       "Enrollment                                         0.017680    -0.066778   \n",
       "Clim Score                                         0.439631    -0.112942   \n",
       "Attendance (95%+) Score                            0.367596    -0.094704   \n",
       "Retention Score                                    0.483844    -0.094468   \n",
       "ISS Score                                          0.051395    -0.016847   \n",
       "OSS Score                                          0.272244    -0.105428   \n",
       "Parent Survey Climate Score                        0.185495    -0.007046   \n",
       "Parent Survey Participation Score                  0.174428     0.022961   \n",
       "Teacher Attendance Score                           1.000000    -0.063753   \n",
       "NEW_TEACHER                                       -0.063753     1.000000   \n",
       "TURNOVER                                          -0.116987     0.128720   \n",
       "\n",
       "                                   TURNOVER  \n",
       "PAY_RATE                          -0.128383  \n",
       "HOME_ORGANIZATION                 -0.040983  \n",
       "Enrollment                        -0.074059  \n",
       "Clim Score                        -0.147260  \n",
       "Attendance (95%+) Score           -0.111212  \n",
       "Retention Score                   -0.146313  \n",
       "ISS Score                          0.022632  \n",
       "OSS Score                         -0.103168  \n",
       "Parent Survey Climate Score       -0.029399  \n",
       "Parent Survey Participation Score -0.023279  \n",
       "Teacher Attendance Score          -0.116987  \n",
       "NEW_TEACHER                        0.128720  \n",
       "TURNOVER                           1.000000  "
      ]
     },
     "execution_count": 9,
     "metadata": {},
     "output_type": "execute_result"
    }
   ],
   "source": [
    "df.corr()"
   ]
  },
  {
   "cell_type": "code",
   "execution_count": 10,
   "metadata": {},
   "outputs": [
    {
     "data": {
      "image/png": "[encoded data removed]",
      "text/plain": [
       "<Figure size 432x288 with 2 Axes>"
      ]
     },
     "metadata": {
      "needs_background": "light"
     },
     "output_type": "display_data"
    }
   ],
   "source": [
    "sns.heatmap(df.corr());"
   ]
  },
  {
   "cell_type": "code",
   "execution_count": 11,
   "metadata": {},
   "outputs": [
    {
     "data": {
      "image/png": "[encoded data removed]",
      "text/plain": [
       "<Figure size 1296x864 with 16 Axes>"
      ]
     },
     "metadata": {
      "needs_background": "light"
     },
     "output_type": "display_data"
    }
   ],
   "source": [
    "df.hist(figsize=(18, 12));\n"
   ]
  },
  {
   "cell_type": "markdown",
   "metadata": {},
   "source": [
    "### Preprocessing"
   ]
  },
  {
   "cell_type": "code",
   "execution_count": 12,
   "metadata": {},
   "outputs": [
    {
     "data": {
      "text/html": [
       "<div>\n",
       "<style scoped>\n",
       "    .dataframe tbody tr th:only-of-type {\n",
       "        vertical-align: middle;\n",
       "    }\n",
       "\n",
       "    .dataframe tbody tr th {\n",
       "        vertical-align: top;\n",
       "    }\n",
       "\n",
       "    .dataframe thead th {\n",
       "        text-align: right;\n",
       "    }\n",
       "</style>\n",
       "<table border=\"1\" class=\"dataframe\">\n",
       "  <thead>\n",
       "    <tr style=\"text-align: right;\">\n",
       "      <th></th>\n",
       "      <th>LAST_NAME</th>\n",
       "      <th>FIRST_NAME</th>\n",
       "      <th>PAY_RATE</th>\n",
       "      <th>TITLE_DESCRIPTION</th>\n",
       "      <th>HOME_ORGANIZATION</th>\n",
       "      <th>ORGANIZATION_LEVEL</th>\n",
       "      <th>GENDER</th>\n",
       "      <th>School</th>\n",
       "      <th>Turnaround Model</th>\n",
       "      <th>Enrollment</th>\n",
       "      <th>...</th>\n",
       "      <th>Student Survey Climate Score</th>\n",
       "      <th>Student Survey Climate Tier</th>\n",
       "      <th>Parent Survey Climate Score</th>\n",
       "      <th>Parent Survey Climate Tier</th>\n",
       "      <th>Parent Survey Participation Score</th>\n",
       "      <th>Parent Survey Participation Tier</th>\n",
       "      <th>Teacher Attendance Score</th>\n",
       "      <th>Student Survey Teaching Score</th>\n",
       "      <th>NEW_TEACHER</th>\n",
       "      <th>TURNOVER</th>\n",
       "    </tr>\n",
       "  </thead>\n",
       "  <tbody>\n",
       "    <tr>\n",
       "      <th>0</th>\n",
       "      <td>ABAYOMI-IGE</td>\n",
       "      <td>OLABIMPE</td>\n",
       "      <td>90051</td>\n",
       "      <td>TEACHER,SPEC EDUCATION</td>\n",
       "      <td>5070.0</td>\n",
       "      <td>HIGH SCHOOL</td>\n",
       "      <td>F</td>\n",
       "      <td>Parkway Northwest High School</td>\n",
       "      <td>None</td>\n",
       "      <td>260.0</td>\n",
       "      <td>...</td>\n",
       "      <td>48</td>\n",
       "      <td>WATCH</td>\n",
       "      <td>73.0</td>\n",
       "      <td>REINFORCE</td>\n",
       "      <td>18.0</td>\n",
       "      <td>INTERVENE</td>\n",
       "      <td>67</td>\n",
       "      <td>33</td>\n",
       "      <td>0</td>\n",
       "      <td>0</td>\n",
       "    </tr>\n",
       "    <tr>\n",
       "      <th>1</th>\n",
       "      <td>ABBOTT</td>\n",
       "      <td>JOYCE</td>\n",
       "      <td>76461</td>\n",
       "      <td>TEACHER,FULL TIME</td>\n",
       "      <td>1290.0</td>\n",
       "      <td>ELEMENTARY SCHOOL</td>\n",
       "      <td>F</td>\n",
       "      <td>Andrew Hamilton School</td>\n",
       "      <td>None</td>\n",
       "      <td>532.0</td>\n",
       "      <td>...</td>\n",
       "      <td>0</td>\n",
       "      <td>INTERVENE</td>\n",
       "      <td>0.0</td>\n",
       "      <td>INTERVENE</td>\n",
       "      <td>1.0</td>\n",
       "      <td>INTERVENE</td>\n",
       "      <td>46</td>\n",
       "      <td>0</td>\n",
       "      <td>0</td>\n",
       "      <td>0</td>\n",
       "    </tr>\n",
       "    <tr>\n",
       "      <th>2</th>\n",
       "      <td>ABDUL-LATEEF</td>\n",
       "      <td>VILLIA</td>\n",
       "      <td>56531</td>\n",
       "      <td>TEACHER,FULL TIME</td>\n",
       "      <td>1010.0</td>\n",
       "      <td>HIGH SCHOOL</td>\n",
       "      <td>F</td>\n",
       "      <td>John Bartram High School</td>\n",
       "      <td>None</td>\n",
       "      <td>561.0</td>\n",
       "      <td>...</td>\n",
       "      <td>52</td>\n",
       "      <td>REINFORCE</td>\n",
       "      <td>0.0</td>\n",
       "      <td>INTERVENE</td>\n",
       "      <td>2.0</td>\n",
       "      <td>INTERVENE</td>\n",
       "      <td>52</td>\n",
       "      <td>43</td>\n",
       "      <td>0</td>\n",
       "      <td>1</td>\n",
       "    </tr>\n",
       "    <tr>\n",
       "      <th>3</th>\n",
       "      <td>ABDULALEEM</td>\n",
       "      <td>MUHAMMAD</td>\n",
       "      <td>70564</td>\n",
       "      <td>TEACHER,FULL TIME</td>\n",
       "      <td>6090.0</td>\n",
       "      <td>CAREER AND TECHNICAL HIGH SCHL</td>\n",
       "      <td>M</td>\n",
       "      <td>A. Philip Randolph Career and Technical High S...</td>\n",
       "      <td>None</td>\n",
       "      <td>493.0</td>\n",
       "      <td>...</td>\n",
       "      <td>56</td>\n",
       "      <td>REINFORCE</td>\n",
       "      <td>0.0</td>\n",
       "      <td>INTERVENE</td>\n",
       "      <td>2.0</td>\n",
       "      <td>INTERVENE</td>\n",
       "      <td>64</td>\n",
       "      <td>36</td>\n",
       "      <td>0</td>\n",
       "      <td>0</td>\n",
       "    </tr>\n",
       "    <tr>\n",
       "      <th>4</th>\n",
       "      <td>ABDULLAH</td>\n",
       "      <td>AARON</td>\n",
       "      <td>46694</td>\n",
       "      <td>TEACHER,FULL TIME</td>\n",
       "      <td>6360.0</td>\n",
       "      <td>ELEMENTARY SCHOOL</td>\n",
       "      <td>M</td>\n",
       "      <td>Theodore Roosevelt School</td>\n",
       "      <td>Turnaround</td>\n",
       "      <td>525.0</td>\n",
       "      <td>...</td>\n",
       "      <td>47</td>\n",
       "      <td>WATCH</td>\n",
       "      <td>63.0</td>\n",
       "      <td>REINFORCE</td>\n",
       "      <td>10.0</td>\n",
       "      <td>INTERVENE</td>\n",
       "      <td>58</td>\n",
       "      <td>51</td>\n",
       "      <td>1</td>\n",
       "      <td>0</td>\n",
       "    </tr>\n",
       "  </tbody>\n",
       "</table>\n",
       "<p>5 rows × 38 columns</p>\n",
       "</div>"
      ],
      "text/plain": [
       "      LAST_NAME FIRST_NAME  PAY_RATE       TITLE_DESCRIPTION  \\\n",
       "0   ABAYOMI-IGE   OLABIMPE     90051  TEACHER,SPEC EDUCATION   \n",
       "1        ABBOTT      JOYCE     76461       TEACHER,FULL TIME   \n",
       "2  ABDUL-LATEEF     VILLIA     56531       TEACHER,FULL TIME   \n",
       "3    ABDULALEEM   MUHAMMAD     70564       TEACHER,FULL TIME   \n",
       "4      ABDULLAH      AARON     46694       TEACHER,FULL TIME   \n",
       "\n",
       "   HOME_ORGANIZATION              ORGANIZATION_LEVEL GENDER  \\\n",
       "0             5070.0                     HIGH SCHOOL      F   \n",
       "1             1290.0               ELEMENTARY SCHOOL      F   \n",
       "2             1010.0                     HIGH SCHOOL      F   \n",
       "3             6090.0  CAREER AND TECHNICAL HIGH SCHL      M   \n",
       "4             6360.0               ELEMENTARY SCHOOL      M   \n",
       "\n",
       "                                              School Turnaround Model  \\\n",
       "0                      Parkway Northwest High School             None   \n",
       "1                             Andrew Hamilton School             None   \n",
       "2                           John Bartram High School             None   \n",
       "3  A. Philip Randolph Career and Technical High S...             None   \n",
       "4                          Theodore Roosevelt School       Turnaround   \n",
       "\n",
       "   Enrollment  ... Student Survey Climate Score Student Survey Climate Tier  \\\n",
       "0       260.0  ...                           48                       WATCH   \n",
       "1       532.0  ...                            0                   INTERVENE   \n",
       "2       561.0  ...                           52                   REINFORCE   \n",
       "3       493.0  ...                           56                   REINFORCE   \n",
       "4       525.0  ...                           47                       WATCH   \n",
       "\n",
       "  Parent Survey Climate Score Parent Survey Climate Tier  \\\n",
       "0                        73.0                  REINFORCE   \n",
       "1                         0.0                  INTERVENE   \n",
       "2                         0.0                  INTERVENE   \n",
       "3                         0.0                  INTERVENE   \n",
       "4                        63.0                  REINFORCE   \n",
       "\n",
       "  Parent Survey Participation Score Parent Survey Participation Tier  \\\n",
       "0                              18.0                        INTERVENE   \n",
       "1                               1.0                        INTERVENE   \n",
       "2                               2.0                        INTERVENE   \n",
       "3                               2.0                        INTERVENE   \n",
       "4                              10.0                        INTERVENE   \n",
       "\n",
       "  Teacher Attendance Score Student Survey Teaching Score  NEW_TEACHER TURNOVER  \n",
       "0                       67                            33            0        0  \n",
       "1                       46                             0            0        0  \n",
       "2                       52                            43            0        1  \n",
       "3                       64                            36            0        0  \n",
       "4                       58                            51            1        0  \n",
       "\n",
       "[5 rows x 38 columns]"
      ]
     },
     "execution_count": 12,
     "metadata": {},
     "output_type": "execute_result"
    }
   ],
   "source": [
    "df.head()"
   ]
  },
  {
   "cell_type": "code",
   "execution_count": 13,
   "metadata": {
    "scrolled": false
   },
   "outputs": [
    {
     "name": "stdout",
     "output_type": "stream",
     "text": [
      "<class 'pandas.core.frame.DataFrame'>\n",
      "Int64Index: 7927 entries, 0 to 8251\n",
      "Data columns (total 38 columns):\n",
      " #   Column                             Non-Null Count  Dtype  \n",
      "---  ------                             --------------  -----  \n",
      " 0   LAST_NAME                          7927 non-null   object \n",
      " 1   FIRST_NAME                         7927 non-null   object \n",
      " 2   PAY_RATE                           7927 non-null   int64  \n",
      " 3   TITLE_DESCRIPTION                  7927 non-null   object \n",
      " 4   HOME_ORGANIZATION                  7927 non-null   float64\n",
      " 5   ORGANIZATION_LEVEL                 7927 non-null   object \n",
      " 6   GENDER                             7927 non-null   object \n",
      " 7   School                             7927 non-null   object \n",
      " 8   Turnaround Model                   7927 non-null   object \n",
      " 9   Enrollment                         7927 non-null   float64\n",
      " 10  Grades Served                      7927 non-null   object \n",
      " 11  Admissions Type                    7927 non-null   object \n",
      " 12  Overall Score                      7927 non-null   object \n",
      " 13  Overall Tier                       7927 non-null   object \n",
      " 14  Ach Score                          7927 non-null   object \n",
      " 15  Ach Tier                           7927 non-null   object \n",
      " 16  Prog Score                         7927 non-null   object \n",
      " 17  Prog Tier                          7927 non-null   object \n",
      " 18  Clim Score                         7927 non-null   float64\n",
      " 19  Clim Tier                          7927 non-null   object \n",
      " 20  Attendance (95%+) Score            7927 non-null   float64\n",
      " 21  Attendance (95%+) Tier             7927 non-null   object \n",
      " 22  Retention Score                    7927 non-null   float64\n",
      " 23  Retention Tier                     7927 non-null   object \n",
      " 24  ISS Score                          7927 non-null   float64\n",
      " 25  ISS Tier                           7927 non-null   object \n",
      " 26  OSS Score                          7927 non-null   float64\n",
      " 27  OSS Tier                           7927 non-null   object \n",
      " 28  Student Survey Climate Score       7927 non-null   object \n",
      " 29  Student Survey Climate Tier        7927 non-null   object \n",
      " 30  Parent Survey Climate Score        7927 non-null   float64\n",
      " 31  Parent Survey Climate Tier         7927 non-null   object \n",
      " 32  Parent Survey Participation Score  7927 non-null   float64\n",
      " 33  Parent Survey Participation Tier   7927 non-null   object \n",
      " 34  Teacher Attendance Score           7927 non-null   int64  \n",
      " 35  Student Survey Teaching Score      7927 non-null   object \n",
      " 36  NEW_TEACHER                        7927 non-null   int64  \n",
      " 37  TURNOVER                           7927 non-null   int64  \n",
      "dtypes: float64(9), int64(4), object(25)\n",
      "memory usage: 2.4+ MB\n"
     ]
    }
   ],
   "source": [
    "df.info()"
   ]
  },
  {
   "cell_type": "code",
   "execution_count": 14,
   "metadata": {},
   "outputs": [],
   "source": [
    "drop_modeling = ['LAST_NAME', 'FIRST_NAME', 'HOME_ORGANIZATION', 'School', 'Overall Tier',\n",
    "                 'Ach Tier', 'Prog Tier', 'Clim Tier', 'Attendance (95%+) Tier', \n",
    "                 'Retention Tier', 'ISS Tier', 'OSS Tier', 'Student Survey Climate Tier',\n",
    "                 'Parent Survey Climate Tier', 'Parent Survey Participation Tier', 'TURNOVER']"
   ]
  },
  {
   "cell_type": "code",
   "execution_count": 15,
   "metadata": {},
   "outputs": [],
   "source": [
    "X = df.drop(drop_modeling, axis=1)\n",
    "y = df['TURNOVER']\n",
    "\n",
    "X_train, X_test, y_train, y_test = train_test_split(X, y, random_state=42, stratify=y)"
   ]
  },
  {
   "cell_type": "code",
   "execution_count": 16,
   "metadata": {
    "scrolled": true
   },
   "outputs": [
    {
     "data": {
      "text/plain": [
       "(5945, 22)"
      ]
     },
     "execution_count": 16,
     "metadata": {},
     "output_type": "execute_result"
    }
   ],
   "source": [
    "X_train.shape"
   ]
  },
  {
   "cell_type": "markdown",
   "metadata": {},
   "source": [
    "There are some columns that are listed as objects when they should be numerical."
   ]
  },
  {
   "cell_type": "code",
   "execution_count": 17,
   "metadata": {},
   "outputs": [],
   "source": [
    "obj_to_num = ['Student Survey Climate Score', 'Student Survey Teaching Score', \n",
    "                  'Overall Score', 'Ach Score', 'Prog Score']"
   ]
  },
  {
   "cell_type": "code",
   "execution_count": 18,
   "metadata": {},
   "outputs": [],
   "source": [
    "def na_transformer(df):\n",
    "    '''\n",
    "    Changes values to 0 for columns that have \n",
    "    'Not Applicable' or 'Insufficient Data' preventing them from becoming numerical.\n",
    "    '''\n",
    "    for col in obj_to_num:\n",
    "        df.loc[(df[col] == 'Not Applicable'), col] = 0\n",
    "        df.loc[(df[col] == 'Insufficient Data'), col] = 0\n",
    "    return df"
   ]
  },
  {
   "cell_type": "code",
   "execution_count": 19,
   "metadata": {},
   "outputs": [],
   "source": [
    "def to_float_transformer(df):\n",
    "    '''\n",
    "    Ensure all 'Score' columns are float, and all int64 are also float.\n",
    "    '''\n",
    "    for col in obj_to_num:\n",
    "        df[col] = df[col].astype('float64')\n",
    "    for col in [df.select_dtypes('int64').columns]:\n",
    "        df[col] = df[col].astype('float64')\n",
    "    return df"
   ]
  },
  {
   "cell_type": "code",
   "execution_count": 20,
   "metadata": {},
   "outputs": [],
   "source": [
    "cat_columns = ['TITLE_DESCRIPTION', 'ORGANIZATION_LEVEL', 'GENDER', 'Turnaround Model',\n",
    "               'Grades Served', 'Admissions Type']\n",
    "\n",
    "# OneHotEncode the columns as part of cleaning\n",
    "# to avoid needing to separate numerical and categorical\n",
    "# columns later\n",
    "ohe_col_trans = ColumnTransformer(transformers=\n",
    "                                  [('ohe', OneHotEncoder(drop='first', sparse=False), cat_columns)],\n",
    "                                 remainder='passthrough')\n",
    "\n",
    "# Apply all our cleaning functions, then finish with ohe\n",
    "cleaning_pipeline = Pipeline(steps=[\n",
    "    ('na_trans', FunctionTransformer(na_transformer)),\n",
    "    ('float', FunctionTransformer(to_float_transformer)),\n",
    "    ('ohe_trans', ohe_col_trans)\n",
    "])"
   ]
  },
  {
   "cell_type": "code",
   "execution_count": 21,
   "metadata": {},
   "outputs": [
    {
     "name": "stderr",
     "output_type": "stream",
     "text": [
      "/Users/meaghanross/opt/anaconda3/envs/learn-env/lib/python3.8/site-packages/pandas/core/indexing.py:1765: SettingWithCopyWarning: \n",
      "A value is trying to be set on a copy of a slice from a DataFrame.\n",
      "Try using .loc[row_indexer,col_indexer] = value instead\n",
      "\n",
      "See the caveats in the documentation: https://pandas.pydata.org/pandas-docs/stable/user_guide/indexing.html#returning-a-view-versus-a-copy\n",
      "  isetter(loc, value)\n",
      "<ipython-input-19-4e71e321aa9c>:6: SettingWithCopyWarning: \n",
      "A value is trying to be set on a copy of a slice from a DataFrame.\n",
      "Try using .loc[row_indexer,col_indexer] = value instead\n",
      "\n",
      "See the caveats in the documentation: https://pandas.pydata.org/pandas-docs/stable/user_guide/indexing.html#returning-a-view-versus-a-copy\n",
      "  df[col] = df[col].astype('float64')\n",
      "/Users/meaghanross/opt/anaconda3/envs/learn-env/lib/python3.8/site-packages/pandas/core/frame.py:3065: SettingWithCopyWarning: \n",
      "A value is trying to be set on a copy of a slice from a DataFrame.\n",
      "Try using .loc[row_indexer,col_indexer] = value instead\n",
      "\n",
      "See the caveats in the documentation: https://pandas.pydata.org/pandas-docs/stable/user_guide/indexing.html#returning-a-view-versus-a-copy\n",
      "  self[k1] = value[k2]\n"
     ]
    }
   ],
   "source": [
    "X_train_clean = cleaning_pipeline.fit_transform(X_train)"
   ]
  },
  {
   "cell_type": "code",
   "execution_count": 22,
   "metadata": {},
   "outputs": [],
   "source": [
    "ohe_feature_names = cleaning_pipeline.steps[-1][1].get_feature_names()"
   ]
  },
  {
   "cell_type": "code",
   "execution_count": 23,
   "metadata": {},
   "outputs": [
    {
     "data": {
      "text/plain": [
       "['ohe__x0_TEACHER,SPEC EDUCATION',\n",
       " 'ohe__x1_ELEMENTARY SCHOOL',\n",
       " 'ohe__x1_HIGH SCHOOL',\n",
       " 'ohe__x1_MIDDLE SCHOOL',\n",
       " 'ohe__x2_M',\n",
       " 'ohe__x3_School Redesign Initiative',\n",
       " 'ohe__x3_Turnaround',\n",
       " \"ohe__x4_'5-6'\",\n",
       " \"ohe__x4_'5-8'\",\n",
       " \"ohe__x4_'6-8'\",\n",
       " \"ohe__x4_'7-8'\",\n",
       " \"ohe__x4_'9-12'\",\n",
       " \"ohe__x4_'K-2'\",\n",
       " \"ohe__x4_'K-4'\",\n",
       " \"ohe__x4_'K-5'\",\n",
       " \"ohe__x4_'K-6'\",\n",
       " \"ohe__x4_'K-7'\",\n",
       " \"ohe__x4_'K-8'\",\n",
       " 'ohe__x5_Neighborhood',\n",
       " 'ohe__x5_Special Admit',\n",
       " 'PAY_RATE',\n",
       " 'Enrollment',\n",
       " 'Overall Score',\n",
       " 'Ach Score',\n",
       " 'Prog Score',\n",
       " 'Clim Score',\n",
       " 'Attendance (95%+) Score',\n",
       " 'Retention Score',\n",
       " 'ISS Score',\n",
       " 'OSS Score',\n",
       " 'Student Survey Climate Score',\n",
       " 'Parent Survey Climate Score',\n",
       " 'Parent Survey Participation Score',\n",
       " 'Teacher Attendance Score',\n",
       " 'Student Survey Teaching Score',\n",
       " 'NEW_TEACHER']"
      ]
     },
     "execution_count": 23,
     "metadata": {},
     "output_type": "execute_result"
    }
   ],
   "source": [
    "ohe_feature_names"
   ]
  },
  {
   "cell_type": "markdown",
   "metadata": {},
   "source": [
    "### Modeling"
   ]
  },
  {
   "cell_type": "code",
   "execution_count": 39,
   "metadata": {},
   "outputs": [],
   "source": [
    "def print_cv_scores(pipe, X, y):\n",
    "    '''\n",
    "    Runs cross_validate on given feature and binary target arrays using given pipeline, \n",
    "    printing the scoring results for both training and cross_val.\n",
    "    '''\n",
    "    scoring = ['accuracy','recall']\n",
    "    # we pass in pipe to cross validate along with a feature list.\n",
    "    results = cross_validate(pipe, X, \n",
    "                                   y, \n",
    "                                   return_train_score=True, scoring=scoring)\n",
    "    \n",
    "    print(results['train_accuracy'])\n",
    "    print('Training Accuracy', results['train_accuracy'].mean())\n",
    "    print('##############')\n",
    "    print(results['test_accuracy'])\n",
    "    print('Cross_Val Accuracy', results['test_accuracy'].mean())\n",
    "    print('##############')\n",
    "    print('Training Recall:', results['train_recall'].mean())\n",
    "    print('Cross_Val Recall:', results['test_recall'].mean())\n"
   ]
  },
  {
   "cell_type": "code",
   "execution_count": 85,
   "metadata": {},
   "outputs": [],
   "source": [
    "display_labels = ['Retention', \n",
    "                  'Turnover']\n",
    "\n",
    "def print_cm_with_labels(y_true, \n",
    "                         y_pred, \n",
    "                         display_labels):\n",
    "    '''\n",
    "    Takes the true values and predicted values of a classifier and \n",
    "    plots a confusion matrix (normalized by predictions) using \n",
    "    a list of given display labels.\n",
    "    '''\n",
    "    cm = confusion_matrix(y_true, y_pred) #normalize = 'true')\n",
    "    disp = ConfusionMatrixDisplay(confusion_matrix=cm,\n",
    "                                  display_labels=display_labels)\n",
    "\n",
    "    fig, ax = plt.subplots(figsize=(6,6))\n",
    "    disp.plot(ax=ax)\n",
    "    ax.grid(False)\n",
    "    disp.ax_.set_xticklabels(display_labels,rotation=45);"
   ]
  },
  {
   "cell_type": "markdown",
   "metadata": {},
   "source": [
    "#### Dummy Classifier"
   ]
  },
  {
   "cell_type": "code",
   "execution_count": 86,
   "metadata": {},
   "outputs": [],
   "source": [
    "dummy_pipe = Pipeline(steps=[\n",
    "    ('ss', StandardScaler()),\n",
    "    ('dc', DummyClassifier(strategy='most_frequent'))\n",
    "])"
   ]
  },
  {
   "cell_type": "code",
   "execution_count": 87,
   "metadata": {
    "scrolled": true
   },
   "outputs": [
    {
     "name": "stdout",
     "output_type": "stream",
     "text": [
      "[0.81055509 0.81055509 0.81055509 0.81055509 0.81076535]\n",
      "Training Accuracy 0.8105971404541631\n",
      "##############\n",
      "[0.81076535 0.81076535 0.81076535 0.81076535 0.80992431]\n",
      "Cross_Val Accuracy 0.8105971404541631\n",
      "##############\n",
      "Training Recall: 0.0\n",
      "Cross_Val Recall: 0.0\n"
     ]
    }
   ],
   "source": [
    "print_cv_scores(dummy_pipe, X_train_clean, y_train)"
   ]
  },
  {
   "cell_type": "markdown",
   "metadata": {},
   "source": []
  },
  {
   "cell_type": "code",
   "execution_count": 88,
   "metadata": {},
   "outputs": [
    {
     "data": {
      "text/plain": [
       "Pipeline(steps=[('ss', StandardScaler()),\n",
       "                ('dc', DummyClassifier(strategy='stratified'))])"
      ]
     },
     "execution_count": 88,
     "metadata": {},
     "output_type": "execute_result"
    }
   ],
   "source": [
    "dummy_pipe = Pipeline(steps=[\n",
    "    ('ss', StandardScaler()),\n",
    "    ('dc', DummyClassifier(strategy='stratified'))\n",
    "])\n",
    "dummy_pipe.fit(X_train_clean, y_train)"
   ]
  },
  {
   "cell_type": "code",
   "execution_count": 89,
   "metadata": {},
   "outputs": [
    {
     "name": "stdout",
     "output_type": "stream",
     "text": [
      "[0.70353238 0.69091674 0.69995795 0.68124474 0.69238856]\n",
      "Training Accuracy 0.6936080740117746\n",
      "##############\n",
      "[0.67872161 0.686291   0.70058873 0.68713204 0.67199327]\n",
      "Cross_Val Accuracy 0.6849453322119428\n",
      "##############\n",
      "Training Recall: 0.19271895424836602\n",
      "Cross_Val Recall: 0.18740216322517206\n"
     ]
    }
   ],
   "source": [
    "print_cv_scores(dummy_pipe, X_train_clean, y_train)"
   ]
  },
  {
   "cell_type": "code",
   "execution_count": 90,
   "metadata": {
    "scrolled": false
   },
   "outputs": [
    {
     "data": {
      "image/png": "[encoded data removed]",
      "text/plain": [
       "<Figure size 432x432 with 2 Axes>"
      ]
     },
     "metadata": {
      "needs_background": "light"
     },
     "output_type": "display_data"
    }
   ],
   "source": [
    "print_cm_with_labels(y_train,\n",
    "                     dummy_pipe.predict(X_train_clean),\n",
    "                     display_labels)"
   ]
  },
  {
   "cell_type": "markdown",
   "metadata": {},
   "source": [
    "The dummy classifier is having a difficult time predicting the actual turnover. "
   ]
  },
  {
   "cell_type": "markdown",
   "metadata": {},
   "source": [
    "#### Logistic Regression"
   ]
  },
  {
   "cell_type": "code",
   "execution_count": null,
   "metadata": {},
   "outputs": [],
   "source": []
  },
  {
   "cell_type": "code",
   "execution_count": null,
   "metadata": {},
   "outputs": [],
   "source": []
  },
  {
   "cell_type": "code",
   "execution_count": null,
   "metadata": {},
   "outputs": [],
   "source": []
  },
  {
   "cell_type": "code",
   "execution_count": null,
   "metadata": {},
   "outputs": [],
   "source": []
  },
  {
   "cell_type": "code",
   "execution_count": null,
   "metadata": {},
   "outputs": [],
   "source": []
  },
  {
   "cell_type": "code",
   "execution_count": null,
   "metadata": {},
   "outputs": [],
   "source": []
  },
  {
   "cell_type": "code",
   "execution_count": null,
   "metadata": {},
   "outputs": [],
   "source": []
  },
  {
   "cell_type": "code",
   "execution_count": null,
   "metadata": {},
   "outputs": [],
   "source": []
  },
  {
   "cell_type": "markdown",
   "metadata": {},
   "source": [
    "### Evaluation"
   ]
  },
  {
   "cell_type": "code",
   "execution_count": null,
   "metadata": {},
   "outputs": [],
   "source": []
  },
  {
   "cell_type": "code",
   "execution_count": null,
   "metadata": {},
   "outputs": [],
   "source": []
  },
  {
   "cell_type": "code",
   "execution_count": null,
   "metadata": {},
   "outputs": [],
   "source": []
  },
  {
   "cell_type": "code",
   "execution_count": null,
   "metadata": {},
   "outputs": [],
   "source": []
  },
  {
   "cell_type": "code",
   "execution_count": null,
   "metadata": {},
   "outputs": [],
   "source": []
  },
  {
   "cell_type": "code",
   "execution_count": null,
   "metadata": {},
   "outputs": [],
   "source": []
  },
  {
   "cell_type": "code",
   "execution_count": null,
   "metadata": {},
   "outputs": [],
   "source": []
  },
  {
   "cell_type": "code",
   "execution_count": null,
   "metadata": {},
   "outputs": [],
   "source": []
  },
  {
   "cell_type": "code",
   "execution_count": null,
   "metadata": {},
   "outputs": [],
   "source": []
  },
  {
   "cell_type": "code",
   "execution_count": null,
   "metadata": {},
   "outputs": [],
   "source": []
  },
  {
   "cell_type": "code",
   "execution_count": null,
   "metadata": {},
   "outputs": [],
   "source": []
  },
  {
   "cell_type": "code",
   "execution_count": null,
   "metadata": {},
   "outputs": [],
   "source": []
  }
 ],
 "metadata": {
  "kernelspec": {
   "display_name": "Python (learn-env)",
   "language": "python",
   "name": "learn-env"
  },
  "language_info": {
   "codemirror_mode": {
    "name": "ipython",
    "version": 3
   },
   "file_extension": ".py",
   "mimetype": "text/x-python",
   "name": "python",
   "nbconvert_exporter": "python",
   "pygments_lexer": "ipython3",
   "version": "3.8.5"
  }
 },
 "nbformat": 4,
 "nbformat_minor": 4
}
