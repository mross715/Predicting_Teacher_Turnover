{
 "cells": [
  {
   "cell_type": "markdown",
   "metadata": {},
   "source": [
    "# Predicting Teacher Turnover"
   ]
  },
  {
   "cell_type": "markdown",
   "metadata": {},
   "source": [
    "__Meaghan Ross__\n",
    "\n",
    "Flatiron School Capstone"
   ]
  },
  {
   "cell_type": "markdown",
   "metadata": {},
   "source": [
    "![teacher-turnover](images/teacher-retention-illustration.jpeg)"
   ]
  },
  {
   "cell_type": "markdown",
   "metadata": {},
   "source": [
    "### Business Understanding"
   ]
  },
  {
   "cell_type": "markdown",
   "metadata": {},
   "source": [
    "Teacher turnover has been identified as one of the key factors contributing to teacher shortages, which have been growing since 2015. According to the [Learning Policy Institute](https://learningpolicyinstitute.org/product/teacher-turnover-brief), about 8% of teachers leave the profession each year, two-thirds of them for reasons other than retirement and another 8% shift to different schools each year. Additionally, beginning teachers have the highest turnover rates and somewhere between 40-50% of those that go into teaching are gone within five years.\n",
    "\n",
    "High turnover rates have been found to lower student achievement and are costly for schools. The revolving door of teacher turnover costs school districts upwards of $2.2 billion a year nationally. In 2019, The [Philadelphia Inquirer](https://www.inquirer.com/news/philadephia-district-schools-teacher-turnover-solutions-20190503.html) found that there were 26 schools in the 217 School District of Philadelphia public schools that have lost at least 25 percent of their teachers for four years straight or lost more than one-third in each of the last two school years. Richard Ingersoll, a University of Pennsylvania professor and expert in school staffing, called these findings “appalling.”\n",
    "\n",
    "The goal of this project is to create a classification model for the School District of Philadelphia that predicts which teachers will leave their current school of employment at the end of a school year. This model will allow district administrators to provide intervention in attempts to retain those teachers who are identified as leaving, or to notify school administrators to prepare earlier to hire quality teachers to fill vacancies. "
   ]
  },
  {
   "cell_type": "markdown",
   "metadata": {},
   "source": [
    "### Data Understanding"
   ]
  },
  {
   "cell_type": "markdown",
   "metadata": {},
   "source": [
    "For this project, publicly available data was gathered from the School District of Philadelphia. \n",
    "\n",
    "Research on teacher turnover has shown that occupational factors and student demographic factors influence turnover, so both types of features were incorporated to the final data frame. \n",
    "\n",
    "The many datasets were:\n",
    "* [Employee Information](https://www.philasd.org/performance/programsservices/open-data/district-information/#employee_data): This data included the occupational factors for individual teachers including gender, salary, and their title description.\n",
    "* [School Progress Reports](https://www.philasd.org/performance/programsservices/school-progress-reports/spr-helpful-resources/): This data includes school ratings in the areas of achievement, progress, and climate.\n",
    "* [Student Enrollment & Demographic Information](https://www.philasd.org/performance/programsservices/open-data/school-information/#school_enrollment): This data includes student demographic factors which includes the rates of economically disadvantaged, ELL (English Language Learners), IEP (Special Education), and ethincity by school."
   ]
  },
  {
   "cell_type": "markdown",
   "metadata": {},
   "source": [
    "The final dataset that resulted from merging the occupational factors with student demographic factors contained approximately 8,000 records representing teachers in the School District of Philadelphia from the 2017-2018 school year. Those teachers were identified as either returning to their current placement or having turned over using employee information from the 2018-2019 school year. The preparation of the final dataset can be viewed in the [Data Preparation Notebook](./Data_Prep.ipynb)."
   ]
  },
  {
   "cell_type": "markdown",
   "metadata": {},
   "source": [
    "### Import Dependencies and Data"
   ]
  },
  {
   "cell_type": "code",
   "execution_count": 1,
   "metadata": {},
   "outputs": [],
   "source": [
    "import pandas as pd\n",
    "import numpy as np\n",
    "import seaborn as sns\n",
    "from scipy import stats as stats\n",
    "import matplotlib.pyplot as plt\n",
    "%matplotlib inline\n",
    "\n",
    "from sklearn.preprocessing import OneHotEncoder, StandardScaler, FunctionTransformer\n",
    "from sklearn.compose import ColumnTransformer\n",
    "from sklearn.pipeline import Pipeline\n",
    "from sklearn.decomposition import PCA\n",
    "\n",
    "from sklearn.dummy import DummyClassifier\n",
    "from sklearn.linear_model import LogisticRegression\n",
    "from sklearn.neighbors import KNeighborsClassifier\n",
    "from sklearn.tree import DecisionTreeClassifier, plot_tree\n",
    "from sklearn.ensemble import RandomForestClassifier\n",
    "from xgboost import XGBClassifier\n",
    "\n",
    "from sklearn.metrics import accuracy_score, recall_score, confusion_matrix,\\\n",
    "plot_confusion_matrix, ConfusionMatrixDisplay\n",
    "from sklearn.model_selection import train_test_split, GridSearchCV,\\\n",
    "cross_validate"
   ]
  },
  {
   "cell_type": "code",
   "execution_count": 2,
   "metadata": {
    "scrolled": false
   },
   "outputs": [
    {
     "name": "stdout",
     "output_type": "stream",
     "text": [
      "2017-2018 Enrollment & Demographics.xlsx\r\n",
      "SPR_SY1415_School_Metric_Scores_20160208.xlsx\r\n",
      "SPR_SY1516_School_Metric_Scores_20170203.xlsx\r\n",
      "SPR_SY1617_School_Metric_Scores_20180206.xlsx\r\n",
      "SPR_SY1718_School_Metric_Scores_20190129.xlsx\r\n",
      "SPR_SY1819_School_Metric_Scores_20200127.xlsx\r\n",
      "df_2019.csv\r\n",
      "employee_information_April2015.csv\r\n",
      "employee_information_April2016.csv\r\n",
      "employee_information_April2017.csv\r\n",
      "employee_information_April2018.csv\r\n",
      "employee_information_April2019.csv\r\n",
      "employee_information_April2020.csv\r\n",
      "employee_information_April2021.csv\r\n",
      "full_data.csv\r\n"
     ]
    }
   ],
   "source": [
    "ls data/"
   ]
  },
  {
   "cell_type": "code",
   "execution_count": 3,
   "metadata": {},
   "outputs": [],
   "source": [
    "df = pd.read_csv('data/df_2019.csv', index_col=0)"
   ]
  },
  {
   "cell_type": "code",
   "execution_count": 4,
   "metadata": {},
   "outputs": [
    {
     "data": {
      "text/html": [
       "<div>\n",
       "<style scoped>\n",
       "    .dataframe tbody tr th:only-of-type {\n",
       "        vertical-align: middle;\n",
       "    }\n",
       "\n",
       "    .dataframe tbody tr th {\n",
       "        vertical-align: top;\n",
       "    }\n",
       "\n",
       "    .dataframe thead th {\n",
       "        text-align: right;\n",
       "    }\n",
       "</style>\n",
       "<table border=\"1\" class=\"dataframe\">\n",
       "  <thead>\n",
       "    <tr style=\"text-align: right;\">\n",
       "      <th></th>\n",
       "      <th>LAST_NAME</th>\n",
       "      <th>FIRST_NAME</th>\n",
       "      <th>PAY_RATE</th>\n",
       "      <th>TITLE_DESCRIPTION</th>\n",
       "      <th>HOME_ORGANIZATION</th>\n",
       "      <th>ORGANIZATION_LEVEL</th>\n",
       "      <th>GENDER</th>\n",
       "      <th>School</th>\n",
       "      <th>Zip Code</th>\n",
       "      <th>Turnaround Model</th>\n",
       "      <th>...</th>\n",
       "      <th>Percent IEP</th>\n",
       "      <th>Percent Male</th>\n",
       "      <th>Percent Asian</th>\n",
       "      <th>Percent Black/African American</th>\n",
       "      <th>Percent Hispanic</th>\n",
       "      <th>Percent Multi-Race</th>\n",
       "      <th>Percent White</th>\n",
       "      <th>Economically Disadvantaged Rate</th>\n",
       "      <th>NEW_TEACHER</th>\n",
       "      <th>TURNOVER</th>\n",
       "    </tr>\n",
       "  </thead>\n",
       "  <tbody>\n",
       "    <tr>\n",
       "      <th>0</th>\n",
       "      <td>ABAYOMI-IGE</td>\n",
       "      <td>OLABIMPE</td>\n",
       "      <td>90051</td>\n",
       "      <td>TEACHER,SPEC EDUCATION</td>\n",
       "      <td>5070.0</td>\n",
       "      <td>HIGH SCHOOL</td>\n",
       "      <td>F</td>\n",
       "      <td>Parkway Northwest High School</td>\n",
       "      <td>19138.0</td>\n",
       "      <td>None</td>\n",
       "      <td>...</td>\n",
       "      <td>0.103846</td>\n",
       "      <td>0.488462</td>\n",
       "      <td>0.000000</td>\n",
       "      <td>0.934615</td>\n",
       "      <td>0.046154</td>\n",
       "      <td>0.007692</td>\n",
       "      <td>0.011538</td>\n",
       "      <td>0.824615</td>\n",
       "      <td>0</td>\n",
       "      <td>0</td>\n",
       "    </tr>\n",
       "    <tr>\n",
       "      <th>1</th>\n",
       "      <td>ABBOTT</td>\n",
       "      <td>JOYCE</td>\n",
       "      <td>76461</td>\n",
       "      <td>TEACHER,FULL TIME</td>\n",
       "      <td>1290.0</td>\n",
       "      <td>ELEMENTARY SCHOOL</td>\n",
       "      <td>F</td>\n",
       "      <td>Andrew Hamilton School</td>\n",
       "      <td>19139.0</td>\n",
       "      <td>None</td>\n",
       "      <td>...</td>\n",
       "      <td>0.194757</td>\n",
       "      <td>0.558052</td>\n",
       "      <td>0.001873</td>\n",
       "      <td>0.893258</td>\n",
       "      <td>0.014981</td>\n",
       "      <td>0.069288</td>\n",
       "      <td>0.014981</td>\n",
       "      <td>1.000000</td>\n",
       "      <td>0</td>\n",
       "      <td>0</td>\n",
       "    </tr>\n",
       "    <tr>\n",
       "      <th>2</th>\n",
       "      <td>ABDUL-LATEEF</td>\n",
       "      <td>VILLIA</td>\n",
       "      <td>56531</td>\n",
       "      <td>TEACHER,FULL TIME</td>\n",
       "      <td>1010.0</td>\n",
       "      <td>HIGH SCHOOL</td>\n",
       "      <td>F</td>\n",
       "      <td>John Bartram High School</td>\n",
       "      <td>19142.0</td>\n",
       "      <td>None</td>\n",
       "      <td>...</td>\n",
       "      <td>0.293805</td>\n",
       "      <td>0.576991</td>\n",
       "      <td>0.033628</td>\n",
       "      <td>0.915044</td>\n",
       "      <td>0.030088</td>\n",
       "      <td>0.015929</td>\n",
       "      <td>0.003540</td>\n",
       "      <td>1.000000</td>\n",
       "      <td>0</td>\n",
       "      <td>1</td>\n",
       "    </tr>\n",
       "    <tr>\n",
       "      <th>3</th>\n",
       "      <td>ABDULALEEM</td>\n",
       "      <td>MUHAMMAD</td>\n",
       "      <td>70564</td>\n",
       "      <td>TEACHER,FULL TIME</td>\n",
       "      <td>6090.0</td>\n",
       "      <td>CAREER AND TECHNICAL HIGH SCHL</td>\n",
       "      <td>M</td>\n",
       "      <td>A. Philip Randolph Career and Technical High S...</td>\n",
       "      <td>19129.0</td>\n",
       "      <td>None</td>\n",
       "      <td>...</td>\n",
       "      <td>0.187879</td>\n",
       "      <td>0.634343</td>\n",
       "      <td>0.002020</td>\n",
       "      <td>0.905051</td>\n",
       "      <td>0.016162</td>\n",
       "      <td>0.040404</td>\n",
       "      <td>0.026263</td>\n",
       "      <td>1.000000</td>\n",
       "      <td>0</td>\n",
       "      <td>0</td>\n",
       "    </tr>\n",
       "    <tr>\n",
       "      <th>4</th>\n",
       "      <td>ABDULLAH</td>\n",
       "      <td>AARON</td>\n",
       "      <td>46694</td>\n",
       "      <td>TEACHER,FULL TIME</td>\n",
       "      <td>6360.0</td>\n",
       "      <td>ELEMENTARY SCHOOL</td>\n",
       "      <td>M</td>\n",
       "      <td>Theodore Roosevelt School</td>\n",
       "      <td>19144.0</td>\n",
       "      <td>Turnaround</td>\n",
       "      <td>...</td>\n",
       "      <td>0.178161</td>\n",
       "      <td>0.522989</td>\n",
       "      <td>0.001916</td>\n",
       "      <td>0.919540</td>\n",
       "      <td>0.040230</td>\n",
       "      <td>0.028736</td>\n",
       "      <td>0.009579</td>\n",
       "      <td>1.000000</td>\n",
       "      <td>1</td>\n",
       "      <td>0</td>\n",
       "    </tr>\n",
       "  </tbody>\n",
       "</table>\n",
       "<p>5 rows × 47 columns</p>\n",
       "</div>"
      ],
      "text/plain": [
       "      LAST_NAME FIRST_NAME  PAY_RATE       TITLE_DESCRIPTION  \\\n",
       "0   ABAYOMI-IGE   OLABIMPE     90051  TEACHER,SPEC EDUCATION   \n",
       "1        ABBOTT      JOYCE     76461       TEACHER,FULL TIME   \n",
       "2  ABDUL-LATEEF     VILLIA     56531       TEACHER,FULL TIME   \n",
       "3    ABDULALEEM   MUHAMMAD     70564       TEACHER,FULL TIME   \n",
       "4      ABDULLAH      AARON     46694       TEACHER,FULL TIME   \n",
       "\n",
       "   HOME_ORGANIZATION              ORGANIZATION_LEVEL GENDER  \\\n",
       "0             5070.0                     HIGH SCHOOL      F   \n",
       "1             1290.0               ELEMENTARY SCHOOL      F   \n",
       "2             1010.0                     HIGH SCHOOL      F   \n",
       "3             6090.0  CAREER AND TECHNICAL HIGH SCHL      M   \n",
       "4             6360.0               ELEMENTARY SCHOOL      M   \n",
       "\n",
       "                                              School  Zip Code  \\\n",
       "0                      Parkway Northwest High School   19138.0   \n",
       "1                             Andrew Hamilton School   19139.0   \n",
       "2                           John Bartram High School   19142.0   \n",
       "3  A. Philip Randolph Career and Technical High S...   19129.0   \n",
       "4                          Theodore Roosevelt School   19144.0   \n",
       "\n",
       "  Turnaround Model  ...  Percent IEP Percent Male Percent Asian  \\\n",
       "0             None  ...     0.103846     0.488462      0.000000   \n",
       "1             None  ...     0.194757     0.558052      0.001873   \n",
       "2             None  ...     0.293805     0.576991      0.033628   \n",
       "3             None  ...     0.187879     0.634343      0.002020   \n",
       "4       Turnaround  ...     0.178161     0.522989      0.001916   \n",
       "\n",
       "  Percent Black/African American Percent Hispanic Percent Multi-Race  \\\n",
       "0                       0.934615         0.046154           0.007692   \n",
       "1                       0.893258         0.014981           0.069288   \n",
       "2                       0.915044         0.030088           0.015929   \n",
       "3                       0.905051         0.016162           0.040404   \n",
       "4                       0.919540         0.040230           0.028736   \n",
       "\n",
       "  Percent White Economically Disadvantaged Rate  NEW_TEACHER TURNOVER  \n",
       "0      0.011538                        0.824615            0        0  \n",
       "1      0.014981                        1.000000            0        0  \n",
       "2      0.003540                        1.000000            0        1  \n",
       "3      0.026263                        1.000000            0        0  \n",
       "4      0.009579                        1.000000            1        0  \n",
       "\n",
       "[5 rows x 47 columns]"
      ]
     },
     "execution_count": 4,
     "metadata": {},
     "output_type": "execute_result"
    }
   ],
   "source": [
    "df.head()"
   ]
  },
  {
   "cell_type": "markdown",
   "metadata": {},
   "source": [
    "## EDA"
   ]
  },
  {
   "cell_type": "code",
   "execution_count": 5,
   "metadata": {
    "scrolled": true
   },
   "outputs": [
    {
     "data": {
      "text/html": [
       "<div>\n",
       "<style scoped>\n",
       "    .dataframe tbody tr th:only-of-type {\n",
       "        vertical-align: middle;\n",
       "    }\n",
       "\n",
       "    .dataframe tbody tr th {\n",
       "        vertical-align: top;\n",
       "    }\n",
       "\n",
       "    .dataframe thead th {\n",
       "        text-align: right;\n",
       "    }\n",
       "</style>\n",
       "<table border=\"1\" class=\"dataframe\">\n",
       "  <thead>\n",
       "    <tr style=\"text-align: right;\">\n",
       "      <th></th>\n",
       "      <th>LAST_NAME</th>\n",
       "      <th>FIRST_NAME</th>\n",
       "      <th>PAY_RATE</th>\n",
       "      <th>TITLE_DESCRIPTION</th>\n",
       "      <th>HOME_ORGANIZATION</th>\n",
       "      <th>ORGANIZATION_LEVEL</th>\n",
       "      <th>GENDER</th>\n",
       "      <th>School</th>\n",
       "      <th>Zip Code</th>\n",
       "      <th>Turnaround Model</th>\n",
       "      <th>...</th>\n",
       "      <th>Percent IEP</th>\n",
       "      <th>Percent Male</th>\n",
       "      <th>Percent Asian</th>\n",
       "      <th>Percent Black/African American</th>\n",
       "      <th>Percent Hispanic</th>\n",
       "      <th>Percent Multi-Race</th>\n",
       "      <th>Percent White</th>\n",
       "      <th>Economically Disadvantaged Rate</th>\n",
       "      <th>NEW_TEACHER</th>\n",
       "      <th>TURNOVER</th>\n",
       "    </tr>\n",
       "  </thead>\n",
       "  <tbody>\n",
       "    <tr>\n",
       "      <th>0</th>\n",
       "      <td>ABAYOMI-IGE</td>\n",
       "      <td>OLABIMPE</td>\n",
       "      <td>90051</td>\n",
       "      <td>TEACHER,SPEC EDUCATION</td>\n",
       "      <td>5070.0</td>\n",
       "      <td>HIGH SCHOOL</td>\n",
       "      <td>F</td>\n",
       "      <td>Parkway Northwest High School</td>\n",
       "      <td>19138.0</td>\n",
       "      <td>None</td>\n",
       "      <td>...</td>\n",
       "      <td>0.103846</td>\n",
       "      <td>0.488462</td>\n",
       "      <td>0.000000</td>\n",
       "      <td>0.934615</td>\n",
       "      <td>0.046154</td>\n",
       "      <td>0.007692</td>\n",
       "      <td>0.011538</td>\n",
       "      <td>0.824615</td>\n",
       "      <td>0</td>\n",
       "      <td>0</td>\n",
       "    </tr>\n",
       "    <tr>\n",
       "      <th>1</th>\n",
       "      <td>ABBOTT</td>\n",
       "      <td>JOYCE</td>\n",
       "      <td>76461</td>\n",
       "      <td>TEACHER,FULL TIME</td>\n",
       "      <td>1290.0</td>\n",
       "      <td>ELEMENTARY SCHOOL</td>\n",
       "      <td>F</td>\n",
       "      <td>Andrew Hamilton School</td>\n",
       "      <td>19139.0</td>\n",
       "      <td>None</td>\n",
       "      <td>...</td>\n",
       "      <td>0.194757</td>\n",
       "      <td>0.558052</td>\n",
       "      <td>0.001873</td>\n",
       "      <td>0.893258</td>\n",
       "      <td>0.014981</td>\n",
       "      <td>0.069288</td>\n",
       "      <td>0.014981</td>\n",
       "      <td>1.000000</td>\n",
       "      <td>0</td>\n",
       "      <td>0</td>\n",
       "    </tr>\n",
       "    <tr>\n",
       "      <th>2</th>\n",
       "      <td>ABDUL-LATEEF</td>\n",
       "      <td>VILLIA</td>\n",
       "      <td>56531</td>\n",
       "      <td>TEACHER,FULL TIME</td>\n",
       "      <td>1010.0</td>\n",
       "      <td>HIGH SCHOOL</td>\n",
       "      <td>F</td>\n",
       "      <td>John Bartram High School</td>\n",
       "      <td>19142.0</td>\n",
       "      <td>None</td>\n",
       "      <td>...</td>\n",
       "      <td>0.293805</td>\n",
       "      <td>0.576991</td>\n",
       "      <td>0.033628</td>\n",
       "      <td>0.915044</td>\n",
       "      <td>0.030088</td>\n",
       "      <td>0.015929</td>\n",
       "      <td>0.003540</td>\n",
       "      <td>1.000000</td>\n",
       "      <td>0</td>\n",
       "      <td>1</td>\n",
       "    </tr>\n",
       "    <tr>\n",
       "      <th>3</th>\n",
       "      <td>ABDULALEEM</td>\n",
       "      <td>MUHAMMAD</td>\n",
       "      <td>70564</td>\n",
       "      <td>TEACHER,FULL TIME</td>\n",
       "      <td>6090.0</td>\n",
       "      <td>CAREER AND TECHNICAL HIGH SCHL</td>\n",
       "      <td>M</td>\n",
       "      <td>A. Philip Randolph Career and Technical High S...</td>\n",
       "      <td>19129.0</td>\n",
       "      <td>None</td>\n",
       "      <td>...</td>\n",
       "      <td>0.187879</td>\n",
       "      <td>0.634343</td>\n",
       "      <td>0.002020</td>\n",
       "      <td>0.905051</td>\n",
       "      <td>0.016162</td>\n",
       "      <td>0.040404</td>\n",
       "      <td>0.026263</td>\n",
       "      <td>1.000000</td>\n",
       "      <td>0</td>\n",
       "      <td>0</td>\n",
       "    </tr>\n",
       "    <tr>\n",
       "      <th>4</th>\n",
       "      <td>ABDULLAH</td>\n",
       "      <td>AARON</td>\n",
       "      <td>46694</td>\n",
       "      <td>TEACHER,FULL TIME</td>\n",
       "      <td>6360.0</td>\n",
       "      <td>ELEMENTARY SCHOOL</td>\n",
       "      <td>M</td>\n",
       "      <td>Theodore Roosevelt School</td>\n",
       "      <td>19144.0</td>\n",
       "      <td>Turnaround</td>\n",
       "      <td>...</td>\n",
       "      <td>0.178161</td>\n",
       "      <td>0.522989</td>\n",
       "      <td>0.001916</td>\n",
       "      <td>0.919540</td>\n",
       "      <td>0.040230</td>\n",
       "      <td>0.028736</td>\n",
       "      <td>0.009579</td>\n",
       "      <td>1.000000</td>\n",
       "      <td>1</td>\n",
       "      <td>0</td>\n",
       "    </tr>\n",
       "  </tbody>\n",
       "</table>\n",
       "<p>5 rows × 47 columns</p>\n",
       "</div>"
      ],
      "text/plain": [
       "      LAST_NAME FIRST_NAME  PAY_RATE       TITLE_DESCRIPTION  \\\n",
       "0   ABAYOMI-IGE   OLABIMPE     90051  TEACHER,SPEC EDUCATION   \n",
       "1        ABBOTT      JOYCE     76461       TEACHER,FULL TIME   \n",
       "2  ABDUL-LATEEF     VILLIA     56531       TEACHER,FULL TIME   \n",
       "3    ABDULALEEM   MUHAMMAD     70564       TEACHER,FULL TIME   \n",
       "4      ABDULLAH      AARON     46694       TEACHER,FULL TIME   \n",
       "\n",
       "   HOME_ORGANIZATION              ORGANIZATION_LEVEL GENDER  \\\n",
       "0             5070.0                     HIGH SCHOOL      F   \n",
       "1             1290.0               ELEMENTARY SCHOOL      F   \n",
       "2             1010.0                     HIGH SCHOOL      F   \n",
       "3             6090.0  CAREER AND TECHNICAL HIGH SCHL      M   \n",
       "4             6360.0               ELEMENTARY SCHOOL      M   \n",
       "\n",
       "                                              School  Zip Code  \\\n",
       "0                      Parkway Northwest High School   19138.0   \n",
       "1                             Andrew Hamilton School   19139.0   \n",
       "2                           John Bartram High School   19142.0   \n",
       "3  A. Philip Randolph Career and Technical High S...   19129.0   \n",
       "4                          Theodore Roosevelt School   19144.0   \n",
       "\n",
       "  Turnaround Model  ...  Percent IEP Percent Male Percent Asian  \\\n",
       "0             None  ...     0.103846     0.488462      0.000000   \n",
       "1             None  ...     0.194757     0.558052      0.001873   \n",
       "2             None  ...     0.293805     0.576991      0.033628   \n",
       "3             None  ...     0.187879     0.634343      0.002020   \n",
       "4       Turnaround  ...     0.178161     0.522989      0.001916   \n",
       "\n",
       "  Percent Black/African American Percent Hispanic Percent Multi-Race  \\\n",
       "0                       0.934615         0.046154           0.007692   \n",
       "1                       0.893258         0.014981           0.069288   \n",
       "2                       0.915044         0.030088           0.015929   \n",
       "3                       0.905051         0.016162           0.040404   \n",
       "4                       0.919540         0.040230           0.028736   \n",
       "\n",
       "  Percent White Economically Disadvantaged Rate  NEW_TEACHER TURNOVER  \n",
       "0      0.011538                        0.824615            0        0  \n",
       "1      0.014981                        1.000000            0        0  \n",
       "2      0.003540                        1.000000            0        1  \n",
       "3      0.026263                        1.000000            0        0  \n",
       "4      0.009579                        1.000000            1        0  \n",
       "\n",
       "[5 rows x 47 columns]"
      ]
     },
     "execution_count": 5,
     "metadata": {},
     "output_type": "execute_result"
    }
   ],
   "source": [
    "df.head()"
   ]
  },
  {
   "cell_type": "markdown",
   "metadata": {},
   "source": [
    "There are some coulumns that are currently listed as objects that should be numerical so to do proper EDA we should transform those in order to explore relationships."
   ]
  },
  {
   "cell_type": "code",
   "execution_count": 6,
   "metadata": {},
   "outputs": [],
   "source": [
    "df_eda = df.copy()"
   ]
  },
  {
   "cell_type": "code",
   "execution_count": 7,
   "metadata": {},
   "outputs": [],
   "source": [
    "obj_to_num = ['Student Survey Climate Score', 'Student Survey Teaching Score', \n",
    "                  'Overall Score', 'Ach Score', 'Prog Score']"
   ]
  },
  {
   "cell_type": "code",
   "execution_count": 11,
   "metadata": {},
   "outputs": [],
   "source": [
    "for col in obj_to_num:\n",
    "    df_eda.loc[(df_eda[col] == 'Not Applicable'), col] = 0\n",
    "    df_eda.loc[(df_eda[col] == 'Insufficient Data'), col] = 0"
   ]
  },
  {
   "cell_type": "code",
   "execution_count": 12,
   "metadata": {},
   "outputs": [],
   "source": [
    "for col in obj_to_num:\n",
    "    df_eda[col] = df_eda[col].astype('float64')\n",
    "for col in [df_eda.select_dtypes('int64').columns]:\n",
    "    df_eda[col] = df_eda[col].astype('float64')"
   ]
  },
  {
   "cell_type": "code",
   "execution_count": 14,
   "metadata": {},
   "outputs": [
    {
     "name": "stdout",
     "output_type": "stream",
     "text": [
      "<class 'pandas.core.frame.DataFrame'>\n",
      "Int64Index: 7927 entries, 0 to 8251\n",
      "Data columns (total 47 columns):\n",
      " #   Column                             Non-Null Count  Dtype  \n",
      "---  ------                             --------------  -----  \n",
      " 0   LAST_NAME                          7927 non-null   object \n",
      " 1   FIRST_NAME                         7927 non-null   object \n",
      " 2   PAY_RATE                           7927 non-null   float64\n",
      " 3   TITLE_DESCRIPTION                  7927 non-null   object \n",
      " 4   HOME_ORGANIZATION                  7927 non-null   float64\n",
      " 5   ORGANIZATION_LEVEL                 7927 non-null   object \n",
      " 6   GENDER                             7927 non-null   object \n",
      " 7   School                             7927 non-null   object \n",
      " 8   Zip Code                           7927 non-null   float64\n",
      " 9   Turnaround Model                   7927 non-null   object \n",
      " 10  Enrollment                         7927 non-null   float64\n",
      " 11  Admissions Type                    7927 non-null   object \n",
      " 12  Overall Score                      7927 non-null   float64\n",
      " 13  Overall Tier                       7927 non-null   object \n",
      " 14  Ach Score                          7927 non-null   float64\n",
      " 15  Ach Tier                           7927 non-null   object \n",
      " 16  Prog Score                         7927 non-null   float64\n",
      " 17  Prog Tier                          7927 non-null   object \n",
      " 18  Clim Score                         7927 non-null   float64\n",
      " 19  Clim Tier                          7927 non-null   object \n",
      " 20  Attendance (95%+) Score            7927 non-null   float64\n",
      " 21  Attendance (95%+) Tier             7927 non-null   object \n",
      " 22  Retention Score                    7927 non-null   float64\n",
      " 23  Retention Tier                     7927 non-null   object \n",
      " 24  ISS Score                          7927 non-null   float64\n",
      " 25  ISS Tier                           7927 non-null   object \n",
      " 26  OSS Score                          7927 non-null   float64\n",
      " 27  OSS Tier                           7927 non-null   object \n",
      " 28  Student Survey Climate Score       7927 non-null   float64\n",
      " 29  Student Survey Climate Tier        7927 non-null   object \n",
      " 30  Parent Survey Climate Score        7927 non-null   float64\n",
      " 31  Parent Survey Climate Tier         7927 non-null   object \n",
      " 32  Parent Survey Participation Score  7927 non-null   float64\n",
      " 33  Parent Survey Participation Tier   7927 non-null   object \n",
      " 34  Teacher Attendance Score           7927 non-null   float64\n",
      " 35  Student Survey Teaching Score      7927 non-null   float64\n",
      " 36  Percent ELL                        7927 non-null   float64\n",
      " 37  Percent IEP                        7927 non-null   float64\n",
      " 38  Percent Male                       7927 non-null   float64\n",
      " 39  Percent Asian                      7927 non-null   float64\n",
      " 40  Percent Black/African American     7927 non-null   float64\n",
      " 41  Percent Hispanic                   7927 non-null   float64\n",
      " 42  Percent Multi-Race                 7927 non-null   float64\n",
      " 43  Percent White                      7927 non-null   float64\n",
      " 44  Economically Disadvantaged Rate    7927 non-null   float64\n",
      " 45  NEW_TEACHER                        7927 non-null   float64\n",
      " 46  TURNOVER                           7927 non-null   float64\n",
      "dtypes: float64(28), object(19)\n",
      "memory usage: 2.9+ MB\n"
     ]
    }
   ],
   "source": [
    "df_eda.info()"
   ]
  },
  {
   "cell_type": "markdown",
   "metadata": {},
   "source": [
    "__What is the distribution of teacher turnover following the 2017-2018 school year?__"
   ]
  },
  {
   "cell_type": "code",
   "execution_count": 15,
   "metadata": {
    "scrolled": true
   },
   "outputs": [
    {
     "data": {
      "image/png": "[encoded data removed]",
      "text/plain": [
       "<Figure size 432x288 with 1 Axes>"
      ]
     },
     "metadata": {
      "needs_background": "light"
     },
     "output_type": "display_data"
    }
   ],
   "source": [
    "ax = sns.barplot(x='TURNOVER', \n",
    "                 y='TURNOVER', \n",
    "                 data=df_eda, \n",
    "                 estimator=lambda x: len(x) / len(df) * 100)\n",
    "ax.set(ylabel=\"Percent\", \n",
    "       xlabel=\"Turnover\", \n",
    "       title = \"Distribution of Teacher Turnover\");"
   ]
  },
  {
   "cell_type": "markdown",
   "metadata": {},
   "source": []
  },
  {
   "cell_type": "markdown",
   "metadata": {},
   "source": [
    "__What is the relationship between new to teaching and turnover?__"
   ]
  },
  {
   "cell_type": "code",
   "execution_count": 16,
   "metadata": {
    "scrolled": false
   },
   "outputs": [
    {
     "data": {
      "image/png": "[encoded data removed]",
      "text/plain": [
       "<Figure size 432x288 with 1 Axes>"
      ]
     },
     "metadata": {
      "needs_background": "light"
     },
     "output_type": "display_data"
    }
   ],
   "source": [
    "ax = sns.barplot(x='NEW_TEACHER', \n",
    "                 y='NEW_TEACHER', \n",
    "                 data=df_eda, \n",
    "                 estimator=lambda x: len(x) / len(df) * 100)\n",
    "ax.set(ylabel=\"Percent\", \n",
    "       xlabel=\"New to Teaching (0-3 years)\", \n",
    "       title = \"Distribution of New to Teaching in 2017-2018 SY\");"
   ]
  },
  {
   "cell_type": "code",
   "execution_count": 17,
   "metadata": {},
   "outputs": [
    {
     "data": {
      "image/png": "[encoded data removed]",
      "text/plain": [
       "<Figure size 432x288 with 1 Axes>"
      ]
     },
     "metadata": {
      "needs_background": "light"
     },
     "output_type": "display_data"
    }
   ],
   "source": [
    "ax = sns.barplot(x='NEW_TEACHER', \n",
    "                 y=\"TURNOVER\", \n",
    "                 data=df_eda,\n",
    "                 ci=None)\n",
    "ax.set(ylabel=\"Turnover Rate\", \n",
    "       xlabel=\"New to Teaching (0-3 years)\", \n",
    "       title = \"Turnover Rate by Teaching Experience \\n Following 2017-2018 SY\");"
   ]
  },
  {
   "cell_type": "markdown",
   "metadata": {},
   "source": []
  },
  {
   "cell_type": "markdown",
   "metadata": {},
   "source": [
    "__What is the relationship between type of teacher (General Education vs Special Education) and teacher turnover?__"
   ]
  },
  {
   "cell_type": "code",
   "execution_count": 19,
   "metadata": {
    "scrolled": true
   },
   "outputs": [
    {
     "data": {
      "image/png": "[encoded data removed]",
      "text/plain": [
       "<Figure size 432x288 with 1 Axes>"
      ]
     },
     "metadata": {
      "needs_background": "light"
     },
     "output_type": "display_data"
    }
   ],
   "source": [
    "df_eda['TITLE_DESCRIPTION'].value_counts().plot.barh();"
   ]
  },
  {
   "cell_type": "markdown",
   "metadata": {},
   "source": []
  },
  {
   "cell_type": "markdown",
   "metadata": {},
   "source": [
    "__What is the realtionship between Gender and Teacher Turnover?__"
   ]
  },
  {
   "cell_type": "code",
   "execution_count": 20,
   "metadata": {
    "scrolled": false
   },
   "outputs": [
    {
     "data": {
      "image/png": "[encoded data removed]",
      "text/plain": [
       "<Figure size 432x288 with 1 Axes>"
      ]
     },
     "metadata": {
      "needs_background": "light"
     },
     "output_type": "display_data"
    }
   ],
   "source": [
    "df_eda['GENDER'].value_counts().plot.barh();"
   ]
  },
  {
   "cell_type": "markdown",
   "metadata": {},
   "source": []
  },
  {
   "cell_type": "markdown",
   "metadata": {},
   "source": [
    "__What is the relationship between salary and teacher turnover?__"
   ]
  },
  {
   "cell_type": "code",
   "execution_count": 21,
   "metadata": {
    "scrolled": true
   },
   "outputs": [
    {
     "data": {
      "image/png": "[encoded data removed]",
      "text/plain": [
       "<Figure size 576x720 with 1 Axes>"
      ]
     },
     "metadata": {
      "needs_background": "light"
     },
     "output_type": "display_data"
    }
   ],
   "source": [
    "f = plt.figure(figsize=(8,10))\n",
    "ax = f.add_subplot(2,1,1)\n",
    "\n",
    "sns.histplot(data=df_eda, ax=ax, stat='probability', multiple=\"fill\",\n",
    "             x=\"PAY_RATE\", palette = 'RdBu_r',\n",
    "             hue=\"TURNOVER\", element=\"bars\", \n",
    "             legend=True, bins=15)\n",
    "ax.set_title(\"Distribution of Salary by Turnover\")\n",
    "ax.set_xlabel(\"Salary ($)\")\n",
    "ax.set_ylabel(\"%\");"
   ]
  },
  {
   "cell_type": "markdown",
   "metadata": {},
   "source": [
    "__What is the distribution of economically disadvantaged students in relation to teacher turnover?__"
   ]
  },
  {
   "cell_type": "markdown",
   "metadata": {},
   "source": []
  },
  {
   "cell_type": "code",
   "execution_count": null,
   "metadata": {},
   "outputs": [],
   "source": []
  },
  {
   "cell_type": "markdown",
   "metadata": {},
   "source": []
  },
  {
   "cell_type": "code",
   "execution_count": null,
   "metadata": {},
   "outputs": [],
   "source": []
  },
  {
   "cell_type": "code",
   "execution_count": null,
   "metadata": {},
   "outputs": [],
   "source": []
  },
  {
   "cell_type": "code",
   "execution_count": 23,
   "metadata": {
    "scrolled": false
   },
   "outputs": [
    {
     "data": {
      "text/html": [
       "<div>\n",
       "<style scoped>\n",
       "    .dataframe tbody tr th:only-of-type {\n",
       "        vertical-align: middle;\n",
       "    }\n",
       "\n",
       "    .dataframe tbody tr th {\n",
       "        vertical-align: top;\n",
       "    }\n",
       "\n",
       "    .dataframe thead th {\n",
       "        text-align: right;\n",
       "    }\n",
       "</style>\n",
       "<table border=\"1\" class=\"dataframe\">\n",
       "  <thead>\n",
       "    <tr style=\"text-align: right;\">\n",
       "      <th></th>\n",
       "      <th>PAY_RATE</th>\n",
       "      <th>HOME_ORGANIZATION</th>\n",
       "      <th>Zip Code</th>\n",
       "      <th>Enrollment</th>\n",
       "      <th>Overall Score</th>\n",
       "      <th>Ach Score</th>\n",
       "      <th>Prog Score</th>\n",
       "      <th>Clim Score</th>\n",
       "      <th>Attendance (95%+) Score</th>\n",
       "      <th>Retention Score</th>\n",
       "      <th>...</th>\n",
       "      <th>Percent IEP</th>\n",
       "      <th>Percent Male</th>\n",
       "      <th>Percent Asian</th>\n",
       "      <th>Percent Black/African American</th>\n",
       "      <th>Percent Hispanic</th>\n",
       "      <th>Percent Multi-Race</th>\n",
       "      <th>Percent White</th>\n",
       "      <th>Economically Disadvantaged Rate</th>\n",
       "      <th>NEW_TEACHER</th>\n",
       "      <th>TURNOVER</th>\n",
       "    </tr>\n",
       "  </thead>\n",
       "  <tbody>\n",
       "    <tr>\n",
       "      <th>PAY_RATE</th>\n",
       "      <td>1.000000</td>\n",
       "      <td>0.038187</td>\n",
       "      <td>-0.006289</td>\n",
       "      <td>0.084483</td>\n",
       "      <td>0.081015</td>\n",
       "      <td>0.114272</td>\n",
       "      <td>-0.001125</td>\n",
       "      <td>0.124878</td>\n",
       "      <td>0.101647</td>\n",
       "      <td>0.100311</td>\n",
       "      <td>...</td>\n",
       "      <td>-0.049168</td>\n",
       "      <td>-0.028847</td>\n",
       "      <td>0.115173</td>\n",
       "      <td>-0.105985</td>\n",
       "      <td>-0.018540</td>\n",
       "      <td>0.072683</td>\n",
       "      <td>0.124008</td>\n",
       "      <td>-0.088749</td>\n",
       "      <td>-0.716830</td>\n",
       "      <td>-0.128383</td>\n",
       "    </tr>\n",
       "    <tr>\n",
       "      <th>HOME_ORGANIZATION</th>\n",
       "      <td>0.038187</td>\n",
       "      <td>1.000000</td>\n",
       "      <td>-0.173860</td>\n",
       "      <td>0.420716</td>\n",
       "      <td>0.087136</td>\n",
       "      <td>0.032721</td>\n",
       "      <td>0.032713</td>\n",
       "      <td>0.161885</td>\n",
       "      <td>0.042418</td>\n",
       "      <td>0.180387</td>\n",
       "      <td>...</td>\n",
       "      <td>-0.134362</td>\n",
       "      <td>0.047961</td>\n",
       "      <td>0.022180</td>\n",
       "      <td>-0.379480</td>\n",
       "      <td>0.271753</td>\n",
       "      <td>0.279922</td>\n",
       "      <td>0.269318</td>\n",
       "      <td>0.003295</td>\n",
       "      <td>-0.021044</td>\n",
       "      <td>-0.040983</td>\n",
       "    </tr>\n",
       "    <tr>\n",
       "      <th>Zip Code</th>\n",
       "      <td>-0.006289</td>\n",
       "      <td>-0.173860</td>\n",
       "      <td>1.000000</td>\n",
       "      <td>-0.170351</td>\n",
       "      <td>-0.076863</td>\n",
       "      <td>-0.078634</td>\n",
       "      <td>-0.029728</td>\n",
       "      <td>-0.123098</td>\n",
       "      <td>-0.033053</td>\n",
       "      <td>-0.118810</td>\n",
       "      <td>...</td>\n",
       "      <td>-0.004095</td>\n",
       "      <td>-0.130155</td>\n",
       "      <td>0.019649</td>\n",
       "      <td>0.059872</td>\n",
       "      <td>-0.019510</td>\n",
       "      <td>-0.058822</td>\n",
       "      <td>-0.082395</td>\n",
       "      <td>0.178683</td>\n",
       "      <td>-0.003045</td>\n",
       "      <td>0.012072</td>\n",
       "    </tr>\n",
       "    <tr>\n",
       "      <th>Enrollment</th>\n",
       "      <td>0.084483</td>\n",
       "      <td>0.420716</td>\n",
       "      <td>-0.170351</td>\n",
       "      <td>1.000000</td>\n",
       "      <td>0.136520</td>\n",
       "      <td>0.188791</td>\n",
       "      <td>0.055080</td>\n",
       "      <td>0.154257</td>\n",
       "      <td>0.089632</td>\n",
       "      <td>0.188510</td>\n",
       "      <td>...</td>\n",
       "      <td>-0.258881</td>\n",
       "      <td>0.033960</td>\n",
       "      <td>0.448074</td>\n",
       "      <td>-0.368478</td>\n",
       "      <td>0.129420</td>\n",
       "      <td>0.084677</td>\n",
       "      <td>0.198777</td>\n",
       "      <td>-0.112231</td>\n",
       "      <td>-0.066778</td>\n",
       "      <td>-0.074059</td>\n",
       "    </tr>\n",
       "    <tr>\n",
       "      <th>Overall Score</th>\n",
       "      <td>0.081015</td>\n",
       "      <td>0.087136</td>\n",
       "      <td>-0.076863</td>\n",
       "      <td>0.136520</td>\n",
       "      <td>1.000000</td>\n",
       "      <td>0.842815</td>\n",
       "      <td>0.794141</td>\n",
       "      <td>0.770077</td>\n",
       "      <td>0.810346</td>\n",
       "      <td>0.693493</td>\n",
       "      <td>...</td>\n",
       "      <td>-0.571032</td>\n",
       "      <td>-0.355370</td>\n",
       "      <td>0.562558</td>\n",
       "      <td>-0.398046</td>\n",
       "      <td>-0.158467</td>\n",
       "      <td>0.389763</td>\n",
       "      <td>0.465141</td>\n",
       "      <td>-0.581319</td>\n",
       "      <td>-0.071667</td>\n",
       "      <td>-0.113308</td>\n",
       "    </tr>\n",
       "    <tr>\n",
       "      <th>Ach Score</th>\n",
       "      <td>0.114272</td>\n",
       "      <td>0.032721</td>\n",
       "      <td>-0.078634</td>\n",
       "      <td>0.188791</td>\n",
       "      <td>0.842815</td>\n",
       "      <td>1.000000</td>\n",
       "      <td>0.434941</td>\n",
       "      <td>0.733895</td>\n",
       "      <td>0.794655</td>\n",
       "      <td>0.657069</td>\n",
       "      <td>...</td>\n",
       "      <td>-0.484609</td>\n",
       "      <td>-0.326481</td>\n",
       "      <td>0.546492</td>\n",
       "      <td>-0.376198</td>\n",
       "      <td>-0.278603</td>\n",
       "      <td>0.354665</td>\n",
       "      <td>0.591105</td>\n",
       "      <td>-0.777393</td>\n",
       "      <td>-0.093956</td>\n",
       "      <td>-0.115066</td>\n",
       "    </tr>\n",
       "    <tr>\n",
       "      <th>Prog Score</th>\n",
       "      <td>-0.001125</td>\n",
       "      <td>0.032713</td>\n",
       "      <td>-0.029728</td>\n",
       "      <td>0.055080</td>\n",
       "      <td>0.794141</td>\n",
       "      <td>0.434941</td>\n",
       "      <td>1.000000</td>\n",
       "      <td>0.299743</td>\n",
       "      <td>0.403191</td>\n",
       "      <td>0.279872</td>\n",
       "      <td>...</td>\n",
       "      <td>-0.449542</td>\n",
       "      <td>-0.229285</td>\n",
       "      <td>0.336866</td>\n",
       "      <td>-0.181349</td>\n",
       "      <td>-0.078634</td>\n",
       "      <td>0.245067</td>\n",
       "      <td>0.152903</td>\n",
       "      <td>-0.206669</td>\n",
       "      <td>-0.001738</td>\n",
       "      <td>-0.039779</td>\n",
       "    </tr>\n",
       "    <tr>\n",
       "      <th>Clim Score</th>\n",
       "      <td>0.124878</td>\n",
       "      <td>0.161885</td>\n",
       "      <td>-0.123098</td>\n",
       "      <td>0.154257</td>\n",
       "      <td>0.770077</td>\n",
       "      <td>0.733895</td>\n",
       "      <td>0.299743</td>\n",
       "      <td>1.000000</td>\n",
       "      <td>0.884434</td>\n",
       "      <td>0.889190</td>\n",
       "      <td>...</td>\n",
       "      <td>-0.469853</td>\n",
       "      <td>-0.337816</td>\n",
       "      <td>0.565987</td>\n",
       "      <td>-0.488072</td>\n",
       "      <td>-0.046860</td>\n",
       "      <td>0.360949</td>\n",
       "      <td>0.495340</td>\n",
       "      <td>-0.576475</td>\n",
       "      <td>-0.112942</td>\n",
       "      <td>-0.147260</td>\n",
       "    </tr>\n",
       "    <tr>\n",
       "      <th>Attendance (95%+) Score</th>\n",
       "      <td>0.101647</td>\n",
       "      <td>0.042418</td>\n",
       "      <td>-0.033053</td>\n",
       "      <td>0.089632</td>\n",
       "      <td>0.810346</td>\n",
       "      <td>0.794655</td>\n",
       "      <td>0.403191</td>\n",
       "      <td>0.884434</td>\n",
       "      <td>1.000000</td>\n",
       "      <td>0.755330</td>\n",
       "      <td>...</td>\n",
       "      <td>-0.519831</td>\n",
       "      <td>-0.343937</td>\n",
       "      <td>0.558159</td>\n",
       "      <td>-0.315412</td>\n",
       "      <td>-0.216932</td>\n",
       "      <td>0.351204</td>\n",
       "      <td>0.402087</td>\n",
       "      <td>-0.623439</td>\n",
       "      <td>-0.094704</td>\n",
       "      <td>-0.111212</td>\n",
       "    </tr>\n",
       "    <tr>\n",
       "      <th>Retention Score</th>\n",
       "      <td>0.100311</td>\n",
       "      <td>0.180387</td>\n",
       "      <td>-0.118810</td>\n",
       "      <td>0.188510</td>\n",
       "      <td>0.693493</td>\n",
       "      <td>0.657069</td>\n",
       "      <td>0.279872</td>\n",
       "      <td>0.889190</td>\n",
       "      <td>0.755330</td>\n",
       "      <td>1.000000</td>\n",
       "      <td>...</td>\n",
       "      <td>-0.414310</td>\n",
       "      <td>-0.334934</td>\n",
       "      <td>0.469235</td>\n",
       "      <td>-0.513534</td>\n",
       "      <td>0.054861</td>\n",
       "      <td>0.405245</td>\n",
       "      <td>0.467632</td>\n",
       "      <td>-0.538183</td>\n",
       "      <td>-0.094468</td>\n",
       "      <td>-0.146313</td>\n",
       "    </tr>\n",
       "    <tr>\n",
       "      <th>ISS Score</th>\n",
       "      <td>0.023937</td>\n",
       "      <td>-0.048261</td>\n",
       "      <td>0.063562</td>\n",
       "      <td>-0.193487</td>\n",
       "      <td>0.071990</td>\n",
       "      <td>0.028216</td>\n",
       "      <td>0.025989</td>\n",
       "      <td>0.123755</td>\n",
       "      <td>0.120543</td>\n",
       "      <td>0.034136</td>\n",
       "      <td>...</td>\n",
       "      <td>-0.104986</td>\n",
       "      <td>-0.156824</td>\n",
       "      <td>-0.007994</td>\n",
       "      <td>-0.042950</td>\n",
       "      <td>0.071725</td>\n",
       "      <td>0.024980</td>\n",
       "      <td>-0.010853</td>\n",
       "      <td>-0.018317</td>\n",
       "      <td>-0.016847</td>\n",
       "      <td>0.022632</td>\n",
       "    </tr>\n",
       "    <tr>\n",
       "      <th>OSS Score</th>\n",
       "      <td>0.094068</td>\n",
       "      <td>0.164868</td>\n",
       "      <td>0.043937</td>\n",
       "      <td>0.054606</td>\n",
       "      <td>0.617476</td>\n",
       "      <td>0.526810</td>\n",
       "      <td>0.345737</td>\n",
       "      <td>0.685835</td>\n",
       "      <td>0.644979</td>\n",
       "      <td>0.583733</td>\n",
       "      <td>...</td>\n",
       "      <td>-0.563533</td>\n",
       "      <td>-0.329921</td>\n",
       "      <td>0.350180</td>\n",
       "      <td>-0.436586</td>\n",
       "      <td>0.109775</td>\n",
       "      <td>0.439746</td>\n",
       "      <td>0.329789</td>\n",
       "      <td>-0.335855</td>\n",
       "      <td>-0.105428</td>\n",
       "      <td>-0.103168</td>\n",
       "    </tr>\n",
       "    <tr>\n",
       "      <th>Student Survey Climate Score</th>\n",
       "      <td>0.014391</td>\n",
       "      <td>-0.067783</td>\n",
       "      <td>-0.002077</td>\n",
       "      <td>-0.357273</td>\n",
       "      <td>0.367333</td>\n",
       "      <td>0.307139</td>\n",
       "      <td>0.235458</td>\n",
       "      <td>0.309986</td>\n",
       "      <td>0.302389</td>\n",
       "      <td>0.233823</td>\n",
       "      <td>...</td>\n",
       "      <td>-0.179316</td>\n",
       "      <td>-0.194787</td>\n",
       "      <td>0.109610</td>\n",
       "      <td>-0.126481</td>\n",
       "      <td>-0.009651</td>\n",
       "      <td>0.159347</td>\n",
       "      <td>0.134871</td>\n",
       "      <td>-0.222645</td>\n",
       "      <td>-0.004661</td>\n",
       "      <td>-0.054615</td>\n",
       "    </tr>\n",
       "    <tr>\n",
       "      <th>Parent Survey Climate Score</th>\n",
       "      <td>0.030273</td>\n",
       "      <td>-0.046431</td>\n",
       "      <td>-0.080520</td>\n",
       "      <td>-0.158786</td>\n",
       "      <td>0.313406</td>\n",
       "      <td>0.255978</td>\n",
       "      <td>0.260671</td>\n",
       "      <td>0.248483</td>\n",
       "      <td>0.203678</td>\n",
       "      <td>0.149625</td>\n",
       "      <td>...</td>\n",
       "      <td>-0.250052</td>\n",
       "      <td>-0.183121</td>\n",
       "      <td>0.094925</td>\n",
       "      <td>-0.181528</td>\n",
       "      <td>0.081904</td>\n",
       "      <td>0.097150</td>\n",
       "      <td>0.143686</td>\n",
       "      <td>-0.178080</td>\n",
       "      <td>-0.007046</td>\n",
       "      <td>-0.029399</td>\n",
       "    </tr>\n",
       "    <tr>\n",
       "      <th>Parent Survey Participation Score</th>\n",
       "      <td>-0.017216</td>\n",
       "      <td>-0.055446</td>\n",
       "      <td>-0.076155</td>\n",
       "      <td>-0.197453</td>\n",
       "      <td>0.232348</td>\n",
       "      <td>0.124734</td>\n",
       "      <td>0.226941</td>\n",
       "      <td>0.192925</td>\n",
       "      <td>0.119316</td>\n",
       "      <td>0.124893</td>\n",
       "      <td>...</td>\n",
       "      <td>-0.157752</td>\n",
       "      <td>-0.158282</td>\n",
       "      <td>-0.000120</td>\n",
       "      <td>-0.147143</td>\n",
       "      <td>0.156658</td>\n",
       "      <td>0.064998</td>\n",
       "      <td>0.057997</td>\n",
       "      <td>-0.081119</td>\n",
       "      <td>0.022961</td>\n",
       "      <td>-0.023279</td>\n",
       "    </tr>\n",
       "    <tr>\n",
       "      <th>Teacher Attendance Score</th>\n",
       "      <td>0.052436</td>\n",
       "      <td>0.005062</td>\n",
       "      <td>-0.082204</td>\n",
       "      <td>0.017680</td>\n",
       "      <td>0.356930</td>\n",
       "      <td>0.408250</td>\n",
       "      <td>0.102906</td>\n",
       "      <td>0.439631</td>\n",
       "      <td>0.367596</td>\n",
       "      <td>0.483844</td>\n",
       "      <td>...</td>\n",
       "      <td>-0.154616</td>\n",
       "      <td>-0.141650</td>\n",
       "      <td>0.237088</td>\n",
       "      <td>-0.308222</td>\n",
       "      <td>0.096160</td>\n",
       "      <td>0.120606</td>\n",
       "      <td>0.256306</td>\n",
       "      <td>-0.309513</td>\n",
       "      <td>-0.063753</td>\n",
       "      <td>-0.116987</td>\n",
       "    </tr>\n",
       "    <tr>\n",
       "      <th>Student Survey Teaching Score</th>\n",
       "      <td>-0.007280</td>\n",
       "      <td>-0.031576</td>\n",
       "      <td>0.007417</td>\n",
       "      <td>-0.345283</td>\n",
       "      <td>0.334956</td>\n",
       "      <td>0.235522</td>\n",
       "      <td>0.290543</td>\n",
       "      <td>0.199645</td>\n",
       "      <td>0.213480</td>\n",
       "      <td>0.124003</td>\n",
       "      <td>...</td>\n",
       "      <td>-0.219746</td>\n",
       "      <td>-0.118731</td>\n",
       "      <td>0.082593</td>\n",
       "      <td>-0.144634</td>\n",
       "      <td>0.037291</td>\n",
       "      <td>0.254770</td>\n",
       "      <td>0.106404</td>\n",
       "      <td>-0.102062</td>\n",
       "      <td>0.011138</td>\n",
       "      <td>-0.037417</td>\n",
       "    </tr>\n",
       "    <tr>\n",
       "      <th>Percent ELL</th>\n",
       "      <td>0.056485</td>\n",
       "      <td>0.192007</td>\n",
       "      <td>0.048242</td>\n",
       "      <td>0.304387</td>\n",
       "      <td>0.122193</td>\n",
       "      <td>-0.066186</td>\n",
       "      <td>0.122182</td>\n",
       "      <td>0.239348</td>\n",
       "      <td>0.075180</td>\n",
       "      <td>0.176674</td>\n",
       "      <td>...</td>\n",
       "      <td>-0.121991</td>\n",
       "      <td>0.085350</td>\n",
       "      <td>0.557938</td>\n",
       "      <td>-0.650867</td>\n",
       "      <td>0.598166</td>\n",
       "      <td>0.170485</td>\n",
       "      <td>0.044641</td>\n",
       "      <td>0.199002</td>\n",
       "      <td>-0.053769</td>\n",
       "      <td>-0.081585</td>\n",
       "    </tr>\n",
       "    <tr>\n",
       "      <th>Percent IEP</th>\n",
       "      <td>-0.049168</td>\n",
       "      <td>-0.134362</td>\n",
       "      <td>-0.004095</td>\n",
       "      <td>-0.258881</td>\n",
       "      <td>-0.571032</td>\n",
       "      <td>-0.484609</td>\n",
       "      <td>-0.449542</td>\n",
       "      <td>-0.469853</td>\n",
       "      <td>-0.519831</td>\n",
       "      <td>-0.414310</td>\n",
       "      <td>...</td>\n",
       "      <td>1.000000</td>\n",
       "      <td>0.477530</td>\n",
       "      <td>-0.395849</td>\n",
       "      <td>0.251852</td>\n",
       "      <td>0.000727</td>\n",
       "      <td>-0.221223</td>\n",
       "      <td>-0.153828</td>\n",
       "      <td>0.317151</td>\n",
       "      <td>0.064091</td>\n",
       "      <td>0.061511</td>\n",
       "    </tr>\n",
       "    <tr>\n",
       "      <th>Percent Male</th>\n",
       "      <td>-0.028847</td>\n",
       "      <td>0.047961</td>\n",
       "      <td>-0.130155</td>\n",
       "      <td>0.033960</td>\n",
       "      <td>-0.355370</td>\n",
       "      <td>-0.326481</td>\n",
       "      <td>-0.229285</td>\n",
       "      <td>-0.337816</td>\n",
       "      <td>-0.343937</td>\n",
       "      <td>-0.334934</td>\n",
       "      <td>...</td>\n",
       "      <td>0.477530</td>\n",
       "      <td>1.000000</td>\n",
       "      <td>-0.108793</td>\n",
       "      <td>0.076371</td>\n",
       "      <td>-0.003440</td>\n",
       "      <td>-0.056504</td>\n",
       "      <td>-0.053741</td>\n",
       "      <td>0.247421</td>\n",
       "      <td>0.030871</td>\n",
       "      <td>0.024637</td>\n",
       "    </tr>\n",
       "    <tr>\n",
       "      <th>Percent Asian</th>\n",
       "      <td>0.115173</td>\n",
       "      <td>0.022180</td>\n",
       "      <td>0.019649</td>\n",
       "      <td>0.448074</td>\n",
       "      <td>0.562558</td>\n",
       "      <td>0.546492</td>\n",
       "      <td>0.336866</td>\n",
       "      <td>0.565987</td>\n",
       "      <td>0.558159</td>\n",
       "      <td>0.469235</td>\n",
       "      <td>...</td>\n",
       "      <td>-0.395849</td>\n",
       "      <td>-0.108793</td>\n",
       "      <td>1.000000</td>\n",
       "      <td>-0.511409</td>\n",
       "      <td>-0.037531</td>\n",
       "      <td>0.191805</td>\n",
       "      <td>0.290333</td>\n",
       "      <td>-0.291188</td>\n",
       "      <td>-0.091607</td>\n",
       "      <td>-0.112670</td>\n",
       "    </tr>\n",
       "    <tr>\n",
       "      <th>Percent Black/African American</th>\n",
       "      <td>-0.105985</td>\n",
       "      <td>-0.379480</td>\n",
       "      <td>0.059872</td>\n",
       "      <td>-0.368478</td>\n",
       "      <td>-0.398046</td>\n",
       "      <td>-0.376198</td>\n",
       "      <td>-0.181349</td>\n",
       "      <td>-0.488072</td>\n",
       "      <td>-0.315412</td>\n",
       "      <td>-0.513534</td>\n",
       "      <td>...</td>\n",
       "      <td>0.251852</td>\n",
       "      <td>0.076371</td>\n",
       "      <td>-0.511409</td>\n",
       "      <td>1.000000</td>\n",
       "      <td>-0.600740</td>\n",
       "      <td>-0.522093</td>\n",
       "      <td>-0.615745</td>\n",
       "      <td>0.259667</td>\n",
       "      <td>0.082128</td>\n",
       "      <td>0.126941</td>\n",
       "    </tr>\n",
       "    <tr>\n",
       "      <th>Percent Hispanic</th>\n",
       "      <td>-0.018540</td>\n",
       "      <td>0.271753</td>\n",
       "      <td>-0.019510</td>\n",
       "      <td>0.129420</td>\n",
       "      <td>-0.158467</td>\n",
       "      <td>-0.278603</td>\n",
       "      <td>-0.078634</td>\n",
       "      <td>-0.046860</td>\n",
       "      <td>-0.216932</td>\n",
       "      <td>0.054861</td>\n",
       "      <td>...</td>\n",
       "      <td>0.000727</td>\n",
       "      <td>-0.003440</td>\n",
       "      <td>-0.037531</td>\n",
       "      <td>-0.600740</td>\n",
       "      <td>1.000000</td>\n",
       "      <td>0.118994</td>\n",
       "      <td>-0.151479</td>\n",
       "      <td>0.267961</td>\n",
       "      <td>0.003022</td>\n",
       "      <td>-0.029604</td>\n",
       "    </tr>\n",
       "    <tr>\n",
       "      <th>Percent Multi-Race</th>\n",
       "      <td>0.072683</td>\n",
       "      <td>0.279922</td>\n",
       "      <td>-0.058822</td>\n",
       "      <td>0.084677</td>\n",
       "      <td>0.389763</td>\n",
       "      <td>0.354665</td>\n",
       "      <td>0.245067</td>\n",
       "      <td>0.360949</td>\n",
       "      <td>0.351204</td>\n",
       "      <td>0.405245</td>\n",
       "      <td>...</td>\n",
       "      <td>-0.221223</td>\n",
       "      <td>-0.056504</td>\n",
       "      <td>0.191805</td>\n",
       "      <td>-0.522093</td>\n",
       "      <td>0.118994</td>\n",
       "      <td>1.000000</td>\n",
       "      <td>0.454532</td>\n",
       "      <td>-0.199308</td>\n",
       "      <td>-0.055405</td>\n",
       "      <td>-0.078163</td>\n",
       "    </tr>\n",
       "    <tr>\n",
       "      <th>Percent White</th>\n",
       "      <td>0.124008</td>\n",
       "      <td>0.269318</td>\n",
       "      <td>-0.082395</td>\n",
       "      <td>0.198777</td>\n",
       "      <td>0.465141</td>\n",
       "      <td>0.591105</td>\n",
       "      <td>0.152903</td>\n",
       "      <td>0.495340</td>\n",
       "      <td>0.402087</td>\n",
       "      <td>0.467632</td>\n",
       "      <td>...</td>\n",
       "      <td>-0.153828</td>\n",
       "      <td>-0.053741</td>\n",
       "      <td>0.290333</td>\n",
       "      <td>-0.615745</td>\n",
       "      <td>-0.151479</td>\n",
       "      <td>0.454532</td>\n",
       "      <td>1.000000</td>\n",
       "      <td>-0.564469</td>\n",
       "      <td>-0.080843</td>\n",
       "      <td>-0.102493</td>\n",
       "    </tr>\n",
       "    <tr>\n",
       "      <th>Economically Disadvantaged Rate</th>\n",
       "      <td>-0.088749</td>\n",
       "      <td>0.003295</td>\n",
       "      <td>0.178683</td>\n",
       "      <td>-0.112231</td>\n",
       "      <td>-0.581319</td>\n",
       "      <td>-0.777393</td>\n",
       "      <td>-0.206669</td>\n",
       "      <td>-0.576475</td>\n",
       "      <td>-0.623439</td>\n",
       "      <td>-0.538183</td>\n",
       "      <td>...</td>\n",
       "      <td>0.317151</td>\n",
       "      <td>0.247421</td>\n",
       "      <td>-0.291188</td>\n",
       "      <td>0.259667</td>\n",
       "      <td>0.267961</td>\n",
       "      <td>-0.199308</td>\n",
       "      <td>-0.564469</td>\n",
       "      <td>1.000000</td>\n",
       "      <td>0.074309</td>\n",
       "      <td>0.080252</td>\n",
       "    </tr>\n",
       "    <tr>\n",
       "      <th>NEW_TEACHER</th>\n",
       "      <td>-0.716830</td>\n",
       "      <td>-0.021044</td>\n",
       "      <td>-0.003045</td>\n",
       "      <td>-0.066778</td>\n",
       "      <td>-0.071667</td>\n",
       "      <td>-0.093956</td>\n",
       "      <td>-0.001738</td>\n",
       "      <td>-0.112942</td>\n",
       "      <td>-0.094704</td>\n",
       "      <td>-0.094468</td>\n",
       "      <td>...</td>\n",
       "      <td>0.064091</td>\n",
       "      <td>0.030871</td>\n",
       "      <td>-0.091607</td>\n",
       "      <td>0.082128</td>\n",
       "      <td>0.003022</td>\n",
       "      <td>-0.055405</td>\n",
       "      <td>-0.080843</td>\n",
       "      <td>0.074309</td>\n",
       "      <td>1.000000</td>\n",
       "      <td>0.128720</td>\n",
       "    </tr>\n",
       "    <tr>\n",
       "      <th>TURNOVER</th>\n",
       "      <td>-0.128383</td>\n",
       "      <td>-0.040983</td>\n",
       "      <td>0.012072</td>\n",
       "      <td>-0.074059</td>\n",
       "      <td>-0.113308</td>\n",
       "      <td>-0.115066</td>\n",
       "      <td>-0.039779</td>\n",
       "      <td>-0.147260</td>\n",
       "      <td>-0.111212</td>\n",
       "      <td>-0.146313</td>\n",
       "      <td>...</td>\n",
       "      <td>0.061511</td>\n",
       "      <td>0.024637</td>\n",
       "      <td>-0.112670</td>\n",
       "      <td>0.126941</td>\n",
       "      <td>-0.029604</td>\n",
       "      <td>-0.078163</td>\n",
       "      <td>-0.102493</td>\n",
       "      <td>0.080252</td>\n",
       "      <td>0.128720</td>\n",
       "      <td>1.000000</td>\n",
       "    </tr>\n",
       "  </tbody>\n",
       "</table>\n",
       "<p>28 rows × 28 columns</p>\n",
       "</div>"
      ],
      "text/plain": [
       "                                   PAY_RATE  HOME_ORGANIZATION  Zip Code  \\\n",
       "PAY_RATE                           1.000000           0.038187 -0.006289   \n",
       "HOME_ORGANIZATION                  0.038187           1.000000 -0.173860   \n",
       "Zip Code                          -0.006289          -0.173860  1.000000   \n",
       "Enrollment                         0.084483           0.420716 -0.170351   \n",
       "Overall Score                      0.081015           0.087136 -0.076863   \n",
       "Ach Score                          0.114272           0.032721 -0.078634   \n",
       "Prog Score                        -0.001125           0.032713 -0.029728   \n",
       "Clim Score                         0.124878           0.161885 -0.123098   \n",
       "Attendance (95%+) Score            0.101647           0.042418 -0.033053   \n",
       "Retention Score                    0.100311           0.180387 -0.118810   \n",
       "ISS Score                          0.023937          -0.048261  0.063562   \n",
       "OSS Score                          0.094068           0.164868  0.043937   \n",
       "Student Survey Climate Score       0.014391          -0.067783 -0.002077   \n",
       "Parent Survey Climate Score        0.030273          -0.046431 -0.080520   \n",
       "Parent Survey Participation Score -0.017216          -0.055446 -0.076155   \n",
       "Teacher Attendance Score           0.052436           0.005062 -0.082204   \n",
       "Student Survey Teaching Score     -0.007280          -0.031576  0.007417   \n",
       "Percent ELL                        0.056485           0.192007  0.048242   \n",
       "Percent IEP                       -0.049168          -0.134362 -0.004095   \n",
       "Percent Male                      -0.028847           0.047961 -0.130155   \n",
       "Percent Asian                      0.115173           0.022180  0.019649   \n",
       "Percent Black/African American    -0.105985          -0.379480  0.059872   \n",
       "Percent Hispanic                  -0.018540           0.271753 -0.019510   \n",
       "Percent Multi-Race                 0.072683           0.279922 -0.058822   \n",
       "Percent White                      0.124008           0.269318 -0.082395   \n",
       "Economically Disadvantaged Rate   -0.088749           0.003295  0.178683   \n",
       "NEW_TEACHER                       -0.716830          -0.021044 -0.003045   \n",
       "TURNOVER                          -0.128383          -0.040983  0.012072   \n",
       "\n",
       "                                   Enrollment  Overall Score  Ach Score  \\\n",
       "PAY_RATE                             0.084483       0.081015   0.114272   \n",
       "HOME_ORGANIZATION                    0.420716       0.087136   0.032721   \n",
       "Zip Code                            -0.170351      -0.076863  -0.078634   \n",
       "Enrollment                           1.000000       0.136520   0.188791   \n",
       "Overall Score                        0.136520       1.000000   0.842815   \n",
       "Ach Score                            0.188791       0.842815   1.000000   \n",
       "Prog Score                           0.055080       0.794141   0.434941   \n",
       "Clim Score                           0.154257       0.770077   0.733895   \n",
       "Attendance (95%+) Score              0.089632       0.810346   0.794655   \n",
       "Retention Score                      0.188510       0.693493   0.657069   \n",
       "ISS Score                           -0.193487       0.071990   0.028216   \n",
       "OSS Score                            0.054606       0.617476   0.526810   \n",
       "Student Survey Climate Score        -0.357273       0.367333   0.307139   \n",
       "Parent Survey Climate Score         -0.158786       0.313406   0.255978   \n",
       "Parent Survey Participation Score   -0.197453       0.232348   0.124734   \n",
       "Teacher Attendance Score             0.017680       0.356930   0.408250   \n",
       "Student Survey Teaching Score       -0.345283       0.334956   0.235522   \n",
       "Percent ELL                          0.304387       0.122193  -0.066186   \n",
       "Percent IEP                         -0.258881      -0.571032  -0.484609   \n",
       "Percent Male                         0.033960      -0.355370  -0.326481   \n",
       "Percent Asian                        0.448074       0.562558   0.546492   \n",
       "Percent Black/African American      -0.368478      -0.398046  -0.376198   \n",
       "Percent Hispanic                     0.129420      -0.158467  -0.278603   \n",
       "Percent Multi-Race                   0.084677       0.389763   0.354665   \n",
       "Percent White                        0.198777       0.465141   0.591105   \n",
       "Economically Disadvantaged Rate     -0.112231      -0.581319  -0.777393   \n",
       "NEW_TEACHER                         -0.066778      -0.071667  -0.093956   \n",
       "TURNOVER                            -0.074059      -0.113308  -0.115066   \n",
       "\n",
       "                                   Prog Score  Clim Score  \\\n",
       "PAY_RATE                            -0.001125    0.124878   \n",
       "HOME_ORGANIZATION                    0.032713    0.161885   \n",
       "Zip Code                            -0.029728   -0.123098   \n",
       "Enrollment                           0.055080    0.154257   \n",
       "Overall Score                        0.794141    0.770077   \n",
       "Ach Score                            0.434941    0.733895   \n",
       "Prog Score                           1.000000    0.299743   \n",
       "Clim Score                           0.299743    1.000000   \n",
       "Attendance (95%+) Score              0.403191    0.884434   \n",
       "Retention Score                      0.279872    0.889190   \n",
       "ISS Score                            0.025989    0.123755   \n",
       "OSS Score                            0.345737    0.685835   \n",
       "Student Survey Climate Score         0.235458    0.309986   \n",
       "Parent Survey Climate Score          0.260671    0.248483   \n",
       "Parent Survey Participation Score    0.226941    0.192925   \n",
       "Teacher Attendance Score             0.102906    0.439631   \n",
       "Student Survey Teaching Score        0.290543    0.199645   \n",
       "Percent ELL                          0.122182    0.239348   \n",
       "Percent IEP                         -0.449542   -0.469853   \n",
       "Percent Male                        -0.229285   -0.337816   \n",
       "Percent Asian                        0.336866    0.565987   \n",
       "Percent Black/African American      -0.181349   -0.488072   \n",
       "Percent Hispanic                    -0.078634   -0.046860   \n",
       "Percent Multi-Race                   0.245067    0.360949   \n",
       "Percent White                        0.152903    0.495340   \n",
       "Economically Disadvantaged Rate     -0.206669   -0.576475   \n",
       "NEW_TEACHER                         -0.001738   -0.112942   \n",
       "TURNOVER                            -0.039779   -0.147260   \n",
       "\n",
       "                                   Attendance (95%+) Score  Retention Score  \\\n",
       "PAY_RATE                                          0.101647         0.100311   \n",
       "HOME_ORGANIZATION                                 0.042418         0.180387   \n",
       "Zip Code                                         -0.033053        -0.118810   \n",
       "Enrollment                                        0.089632         0.188510   \n",
       "Overall Score                                     0.810346         0.693493   \n",
       "Ach Score                                         0.794655         0.657069   \n",
       "Prog Score                                        0.403191         0.279872   \n",
       "Clim Score                                        0.884434         0.889190   \n",
       "Attendance (95%+) Score                           1.000000         0.755330   \n",
       "Retention Score                                   0.755330         1.000000   \n",
       "ISS Score                                         0.120543         0.034136   \n",
       "OSS Score                                         0.644979         0.583733   \n",
       "Student Survey Climate Score                      0.302389         0.233823   \n",
       "Parent Survey Climate Score                       0.203678         0.149625   \n",
       "Parent Survey Participation Score                 0.119316         0.124893   \n",
       "Teacher Attendance Score                          0.367596         0.483844   \n",
       "Student Survey Teaching Score                     0.213480         0.124003   \n",
       "Percent ELL                                       0.075180         0.176674   \n",
       "Percent IEP                                      -0.519831        -0.414310   \n",
       "Percent Male                                     -0.343937        -0.334934   \n",
       "Percent Asian                                     0.558159         0.469235   \n",
       "Percent Black/African American                   -0.315412        -0.513534   \n",
       "Percent Hispanic                                 -0.216932         0.054861   \n",
       "Percent Multi-Race                                0.351204         0.405245   \n",
       "Percent White                                     0.402087         0.467632   \n",
       "Economically Disadvantaged Rate                  -0.623439        -0.538183   \n",
       "NEW_TEACHER                                      -0.094704        -0.094468   \n",
       "TURNOVER                                         -0.111212        -0.146313   \n",
       "\n",
       "                                   ...  Percent IEP  Percent Male  \\\n",
       "PAY_RATE                           ...    -0.049168     -0.028847   \n",
       "HOME_ORGANIZATION                  ...    -0.134362      0.047961   \n",
       "Zip Code                           ...    -0.004095     -0.130155   \n",
       "Enrollment                         ...    -0.258881      0.033960   \n",
       "Overall Score                      ...    -0.571032     -0.355370   \n",
       "Ach Score                          ...    -0.484609     -0.326481   \n",
       "Prog Score                         ...    -0.449542     -0.229285   \n",
       "Clim Score                         ...    -0.469853     -0.337816   \n",
       "Attendance (95%+) Score            ...    -0.519831     -0.343937   \n",
       "Retention Score                    ...    -0.414310     -0.334934   \n",
       "ISS Score                          ...    -0.104986     -0.156824   \n",
       "OSS Score                          ...    -0.563533     -0.329921   \n",
       "Student Survey Climate Score       ...    -0.179316     -0.194787   \n",
       "Parent Survey Climate Score        ...    -0.250052     -0.183121   \n",
       "Parent Survey Participation Score  ...    -0.157752     -0.158282   \n",
       "Teacher Attendance Score           ...    -0.154616     -0.141650   \n",
       "Student Survey Teaching Score      ...    -0.219746     -0.118731   \n",
       "Percent ELL                        ...    -0.121991      0.085350   \n",
       "Percent IEP                        ...     1.000000      0.477530   \n",
       "Percent Male                       ...     0.477530      1.000000   \n",
       "Percent Asian                      ...    -0.395849     -0.108793   \n",
       "Percent Black/African American     ...     0.251852      0.076371   \n",
       "Percent Hispanic                   ...     0.000727     -0.003440   \n",
       "Percent Multi-Race                 ...    -0.221223     -0.056504   \n",
       "Percent White                      ...    -0.153828     -0.053741   \n",
       "Economically Disadvantaged Rate    ...     0.317151      0.247421   \n",
       "NEW_TEACHER                        ...     0.064091      0.030871   \n",
       "TURNOVER                           ...     0.061511      0.024637   \n",
       "\n",
       "                                   Percent Asian  \\\n",
       "PAY_RATE                                0.115173   \n",
       "HOME_ORGANIZATION                       0.022180   \n",
       "Zip Code                                0.019649   \n",
       "Enrollment                              0.448074   \n",
       "Overall Score                           0.562558   \n",
       "Ach Score                               0.546492   \n",
       "Prog Score                              0.336866   \n",
       "Clim Score                              0.565987   \n",
       "Attendance (95%+) Score                 0.558159   \n",
       "Retention Score                         0.469235   \n",
       "ISS Score                              -0.007994   \n",
       "OSS Score                               0.350180   \n",
       "Student Survey Climate Score            0.109610   \n",
       "Parent Survey Climate Score             0.094925   \n",
       "Parent Survey Participation Score      -0.000120   \n",
       "Teacher Attendance Score                0.237088   \n",
       "Student Survey Teaching Score           0.082593   \n",
       "Percent ELL                             0.557938   \n",
       "Percent IEP                            -0.395849   \n",
       "Percent Male                           -0.108793   \n",
       "Percent Asian                           1.000000   \n",
       "Percent Black/African American         -0.511409   \n",
       "Percent Hispanic                       -0.037531   \n",
       "Percent Multi-Race                      0.191805   \n",
       "Percent White                           0.290333   \n",
       "Economically Disadvantaged Rate        -0.291188   \n",
       "NEW_TEACHER                            -0.091607   \n",
       "TURNOVER                               -0.112670   \n",
       "\n",
       "                                   Percent Black/African American  \\\n",
       "PAY_RATE                                                -0.105985   \n",
       "HOME_ORGANIZATION                                       -0.379480   \n",
       "Zip Code                                                 0.059872   \n",
       "Enrollment                                              -0.368478   \n",
       "Overall Score                                           -0.398046   \n",
       "Ach Score                                               -0.376198   \n",
       "Prog Score                                              -0.181349   \n",
       "Clim Score                                              -0.488072   \n",
       "Attendance (95%+) Score                                 -0.315412   \n",
       "Retention Score                                         -0.513534   \n",
       "ISS Score                                               -0.042950   \n",
       "OSS Score                                               -0.436586   \n",
       "Student Survey Climate Score                            -0.126481   \n",
       "Parent Survey Climate Score                             -0.181528   \n",
       "Parent Survey Participation Score                       -0.147143   \n",
       "Teacher Attendance Score                                -0.308222   \n",
       "Student Survey Teaching Score                           -0.144634   \n",
       "Percent ELL                                             -0.650867   \n",
       "Percent IEP                                              0.251852   \n",
       "Percent Male                                             0.076371   \n",
       "Percent Asian                                           -0.511409   \n",
       "Percent Black/African American                           1.000000   \n",
       "Percent Hispanic                                        -0.600740   \n",
       "Percent Multi-Race                                      -0.522093   \n",
       "Percent White                                           -0.615745   \n",
       "Economically Disadvantaged Rate                          0.259667   \n",
       "NEW_TEACHER                                              0.082128   \n",
       "TURNOVER                                                 0.126941   \n",
       "\n",
       "                                   Percent Hispanic  Percent Multi-Race  \\\n",
       "PAY_RATE                                  -0.018540            0.072683   \n",
       "HOME_ORGANIZATION                          0.271753            0.279922   \n",
       "Zip Code                                  -0.019510           -0.058822   \n",
       "Enrollment                                 0.129420            0.084677   \n",
       "Overall Score                             -0.158467            0.389763   \n",
       "Ach Score                                 -0.278603            0.354665   \n",
       "Prog Score                                -0.078634            0.245067   \n",
       "Clim Score                                -0.046860            0.360949   \n",
       "Attendance (95%+) Score                   -0.216932            0.351204   \n",
       "Retention Score                            0.054861            0.405245   \n",
       "ISS Score                                  0.071725            0.024980   \n",
       "OSS Score                                  0.109775            0.439746   \n",
       "Student Survey Climate Score              -0.009651            0.159347   \n",
       "Parent Survey Climate Score                0.081904            0.097150   \n",
       "Parent Survey Participation Score          0.156658            0.064998   \n",
       "Teacher Attendance Score                   0.096160            0.120606   \n",
       "Student Survey Teaching Score              0.037291            0.254770   \n",
       "Percent ELL                                0.598166            0.170485   \n",
       "Percent IEP                                0.000727           -0.221223   \n",
       "Percent Male                              -0.003440           -0.056504   \n",
       "Percent Asian                             -0.037531            0.191805   \n",
       "Percent Black/African American            -0.600740           -0.522093   \n",
       "Percent Hispanic                           1.000000            0.118994   \n",
       "Percent Multi-Race                         0.118994            1.000000   \n",
       "Percent White                             -0.151479            0.454532   \n",
       "Economically Disadvantaged Rate            0.267961           -0.199308   \n",
       "NEW_TEACHER                                0.003022           -0.055405   \n",
       "TURNOVER                                  -0.029604           -0.078163   \n",
       "\n",
       "                                   Percent White  \\\n",
       "PAY_RATE                                0.124008   \n",
       "HOME_ORGANIZATION                       0.269318   \n",
       "Zip Code                               -0.082395   \n",
       "Enrollment                              0.198777   \n",
       "Overall Score                           0.465141   \n",
       "Ach Score                               0.591105   \n",
       "Prog Score                              0.152903   \n",
       "Clim Score                              0.495340   \n",
       "Attendance (95%+) Score                 0.402087   \n",
       "Retention Score                         0.467632   \n",
       "ISS Score                              -0.010853   \n",
       "OSS Score                               0.329789   \n",
       "Student Survey Climate Score            0.134871   \n",
       "Parent Survey Climate Score             0.143686   \n",
       "Parent Survey Participation Score       0.057997   \n",
       "Teacher Attendance Score                0.256306   \n",
       "Student Survey Teaching Score           0.106404   \n",
       "Percent ELL                             0.044641   \n",
       "Percent IEP                            -0.153828   \n",
       "Percent Male                           -0.053741   \n",
       "Percent Asian                           0.290333   \n",
       "Percent Black/African American         -0.615745   \n",
       "Percent Hispanic                       -0.151479   \n",
       "Percent Multi-Race                      0.454532   \n",
       "Percent White                           1.000000   \n",
       "Economically Disadvantaged Rate        -0.564469   \n",
       "NEW_TEACHER                            -0.080843   \n",
       "TURNOVER                               -0.102493   \n",
       "\n",
       "                                   Economically Disadvantaged Rate  \\\n",
       "PAY_RATE                                                 -0.088749   \n",
       "HOME_ORGANIZATION                                         0.003295   \n",
       "Zip Code                                                  0.178683   \n",
       "Enrollment                                               -0.112231   \n",
       "Overall Score                                            -0.581319   \n",
       "Ach Score                                                -0.777393   \n",
       "Prog Score                                               -0.206669   \n",
       "Clim Score                                               -0.576475   \n",
       "Attendance (95%+) Score                                  -0.623439   \n",
       "Retention Score                                          -0.538183   \n",
       "ISS Score                                                -0.018317   \n",
       "OSS Score                                                -0.335855   \n",
       "Student Survey Climate Score                             -0.222645   \n",
       "Parent Survey Climate Score                              -0.178080   \n",
       "Parent Survey Participation Score                        -0.081119   \n",
       "Teacher Attendance Score                                 -0.309513   \n",
       "Student Survey Teaching Score                            -0.102062   \n",
       "Percent ELL                                               0.199002   \n",
       "Percent IEP                                               0.317151   \n",
       "Percent Male                                              0.247421   \n",
       "Percent Asian                                            -0.291188   \n",
       "Percent Black/African American                            0.259667   \n",
       "Percent Hispanic                                          0.267961   \n",
       "Percent Multi-Race                                       -0.199308   \n",
       "Percent White                                            -0.564469   \n",
       "Economically Disadvantaged Rate                           1.000000   \n",
       "NEW_TEACHER                                               0.074309   \n",
       "TURNOVER                                                  0.080252   \n",
       "\n",
       "                                   NEW_TEACHER  TURNOVER  \n",
       "PAY_RATE                             -0.716830 -0.128383  \n",
       "HOME_ORGANIZATION                    -0.021044 -0.040983  \n",
       "Zip Code                             -0.003045  0.012072  \n",
       "Enrollment                           -0.066778 -0.074059  \n",
       "Overall Score                        -0.071667 -0.113308  \n",
       "Ach Score                            -0.093956 -0.115066  \n",
       "Prog Score                           -0.001738 -0.039779  \n",
       "Clim Score                           -0.112942 -0.147260  \n",
       "Attendance (95%+) Score              -0.094704 -0.111212  \n",
       "Retention Score                      -0.094468 -0.146313  \n",
       "ISS Score                            -0.016847  0.022632  \n",
       "OSS Score                            -0.105428 -0.103168  \n",
       "Student Survey Climate Score         -0.004661 -0.054615  \n",
       "Parent Survey Climate Score          -0.007046 -0.029399  \n",
       "Parent Survey Participation Score     0.022961 -0.023279  \n",
       "Teacher Attendance Score             -0.063753 -0.116987  \n",
       "Student Survey Teaching Score         0.011138 -0.037417  \n",
       "Percent ELL                          -0.053769 -0.081585  \n",
       "Percent IEP                           0.064091  0.061511  \n",
       "Percent Male                          0.030871  0.024637  \n",
       "Percent Asian                        -0.091607 -0.112670  \n",
       "Percent Black/African American        0.082128  0.126941  \n",
       "Percent Hispanic                      0.003022 -0.029604  \n",
       "Percent Multi-Race                   -0.055405 -0.078163  \n",
       "Percent White                        -0.080843 -0.102493  \n",
       "Economically Disadvantaged Rate       0.074309  0.080252  \n",
       "NEW_TEACHER                           1.000000  0.128720  \n",
       "TURNOVER                              0.128720  1.000000  \n",
       "\n",
       "[28 rows x 28 columns]"
      ]
     },
     "execution_count": 23,
     "metadata": {},
     "output_type": "execute_result"
    }
   ],
   "source": [
    "df_eda.corr()"
   ]
  },
  {
   "cell_type": "code",
   "execution_count": 22,
   "metadata": {},
   "outputs": [
    {
     "data": {
      "image/png": "[encoded data removed]",
      "text/plain": [
       "<Figure size 432x288 with 2 Axes>"
      ]
     },
     "metadata": {
      "needs_background": "light"
     },
     "output_type": "display_data"
    }
   ],
   "source": [
    "sns.heatmap(df_eda.corr());"
   ]
  },
  {
   "cell_type": "code",
   "execution_count": 26,
   "metadata": {},
   "outputs": [
    {
     "data": {
      "image/png": "[encoded data removed]",
      "text/plain": [
       "<Figure size 1296x1152 with 30 Axes>"
      ]
     },
     "metadata": {
      "needs_background": "light"
     },
     "output_type": "display_data"
    }
   ],
   "source": [
    "df_eda.hist(figsize=(18, 16));"
   ]
  },
  {
   "cell_type": "markdown",
   "metadata": {},
   "source": [
    "### Preprocessing"
   ]
  },
  {
   "cell_type": "code",
   "execution_count": 27,
   "metadata": {},
   "outputs": [
    {
     "data": {
      "text/html": [
       "<div>\n",
       "<style scoped>\n",
       "    .dataframe tbody tr th:only-of-type {\n",
       "        vertical-align: middle;\n",
       "    }\n",
       "\n",
       "    .dataframe tbody tr th {\n",
       "        vertical-align: top;\n",
       "    }\n",
       "\n",
       "    .dataframe thead th {\n",
       "        text-align: right;\n",
       "    }\n",
       "</style>\n",
       "<table border=\"1\" class=\"dataframe\">\n",
       "  <thead>\n",
       "    <tr style=\"text-align: right;\">\n",
       "      <th></th>\n",
       "      <th>LAST_NAME</th>\n",
       "      <th>FIRST_NAME</th>\n",
       "      <th>PAY_RATE</th>\n",
       "      <th>TITLE_DESCRIPTION</th>\n",
       "      <th>HOME_ORGANIZATION</th>\n",
       "      <th>ORGANIZATION_LEVEL</th>\n",
       "      <th>GENDER</th>\n",
       "      <th>School</th>\n",
       "      <th>Zip Code</th>\n",
       "      <th>Turnaround Model</th>\n",
       "      <th>...</th>\n",
       "      <th>Percent IEP</th>\n",
       "      <th>Percent Male</th>\n",
       "      <th>Percent Asian</th>\n",
       "      <th>Percent Black/African American</th>\n",
       "      <th>Percent Hispanic</th>\n",
       "      <th>Percent Multi-Race</th>\n",
       "      <th>Percent White</th>\n",
       "      <th>Economically Disadvantaged Rate</th>\n",
       "      <th>NEW_TEACHER</th>\n",
       "      <th>TURNOVER</th>\n",
       "    </tr>\n",
       "  </thead>\n",
       "  <tbody>\n",
       "    <tr>\n",
       "      <th>0</th>\n",
       "      <td>ABAYOMI-IGE</td>\n",
       "      <td>OLABIMPE</td>\n",
       "      <td>90051</td>\n",
       "      <td>TEACHER,SPEC EDUCATION</td>\n",
       "      <td>5070.0</td>\n",
       "      <td>HIGH SCHOOL</td>\n",
       "      <td>F</td>\n",
       "      <td>Parkway Northwest High School</td>\n",
       "      <td>19138.0</td>\n",
       "      <td>None</td>\n",
       "      <td>...</td>\n",
       "      <td>0.103846</td>\n",
       "      <td>0.488462</td>\n",
       "      <td>0.000000</td>\n",
       "      <td>0.934615</td>\n",
       "      <td>0.046154</td>\n",
       "      <td>0.007692</td>\n",
       "      <td>0.011538</td>\n",
       "      <td>0.824615</td>\n",
       "      <td>0</td>\n",
       "      <td>0</td>\n",
       "    </tr>\n",
       "    <tr>\n",
       "      <th>1</th>\n",
       "      <td>ABBOTT</td>\n",
       "      <td>JOYCE</td>\n",
       "      <td>76461</td>\n",
       "      <td>TEACHER,FULL TIME</td>\n",
       "      <td>1290.0</td>\n",
       "      <td>ELEMENTARY SCHOOL</td>\n",
       "      <td>F</td>\n",
       "      <td>Andrew Hamilton School</td>\n",
       "      <td>19139.0</td>\n",
       "      <td>None</td>\n",
       "      <td>...</td>\n",
       "      <td>0.194757</td>\n",
       "      <td>0.558052</td>\n",
       "      <td>0.001873</td>\n",
       "      <td>0.893258</td>\n",
       "      <td>0.014981</td>\n",
       "      <td>0.069288</td>\n",
       "      <td>0.014981</td>\n",
       "      <td>1.000000</td>\n",
       "      <td>0</td>\n",
       "      <td>0</td>\n",
       "    </tr>\n",
       "    <tr>\n",
       "      <th>2</th>\n",
       "      <td>ABDUL-LATEEF</td>\n",
       "      <td>VILLIA</td>\n",
       "      <td>56531</td>\n",
       "      <td>TEACHER,FULL TIME</td>\n",
       "      <td>1010.0</td>\n",
       "      <td>HIGH SCHOOL</td>\n",
       "      <td>F</td>\n",
       "      <td>John Bartram High School</td>\n",
       "      <td>19142.0</td>\n",
       "      <td>None</td>\n",
       "      <td>...</td>\n",
       "      <td>0.293805</td>\n",
       "      <td>0.576991</td>\n",
       "      <td>0.033628</td>\n",
       "      <td>0.915044</td>\n",
       "      <td>0.030088</td>\n",
       "      <td>0.015929</td>\n",
       "      <td>0.003540</td>\n",
       "      <td>1.000000</td>\n",
       "      <td>0</td>\n",
       "      <td>1</td>\n",
       "    </tr>\n",
       "    <tr>\n",
       "      <th>3</th>\n",
       "      <td>ABDULALEEM</td>\n",
       "      <td>MUHAMMAD</td>\n",
       "      <td>70564</td>\n",
       "      <td>TEACHER,FULL TIME</td>\n",
       "      <td>6090.0</td>\n",
       "      <td>CAREER AND TECHNICAL HIGH SCHL</td>\n",
       "      <td>M</td>\n",
       "      <td>A. Philip Randolph Career and Technical High S...</td>\n",
       "      <td>19129.0</td>\n",
       "      <td>None</td>\n",
       "      <td>...</td>\n",
       "      <td>0.187879</td>\n",
       "      <td>0.634343</td>\n",
       "      <td>0.002020</td>\n",
       "      <td>0.905051</td>\n",
       "      <td>0.016162</td>\n",
       "      <td>0.040404</td>\n",
       "      <td>0.026263</td>\n",
       "      <td>1.000000</td>\n",
       "      <td>0</td>\n",
       "      <td>0</td>\n",
       "    </tr>\n",
       "    <tr>\n",
       "      <th>4</th>\n",
       "      <td>ABDULLAH</td>\n",
       "      <td>AARON</td>\n",
       "      <td>46694</td>\n",
       "      <td>TEACHER,FULL TIME</td>\n",
       "      <td>6360.0</td>\n",
       "      <td>ELEMENTARY SCHOOL</td>\n",
       "      <td>M</td>\n",
       "      <td>Theodore Roosevelt School</td>\n",
       "      <td>19144.0</td>\n",
       "      <td>Turnaround</td>\n",
       "      <td>...</td>\n",
       "      <td>0.178161</td>\n",
       "      <td>0.522989</td>\n",
       "      <td>0.001916</td>\n",
       "      <td>0.919540</td>\n",
       "      <td>0.040230</td>\n",
       "      <td>0.028736</td>\n",
       "      <td>0.009579</td>\n",
       "      <td>1.000000</td>\n",
       "      <td>1</td>\n",
       "      <td>0</td>\n",
       "    </tr>\n",
       "  </tbody>\n",
       "</table>\n",
       "<p>5 rows × 47 columns</p>\n",
       "</div>"
      ],
      "text/plain": [
       "      LAST_NAME FIRST_NAME  PAY_RATE       TITLE_DESCRIPTION  \\\n",
       "0   ABAYOMI-IGE   OLABIMPE     90051  TEACHER,SPEC EDUCATION   \n",
       "1        ABBOTT      JOYCE     76461       TEACHER,FULL TIME   \n",
       "2  ABDUL-LATEEF     VILLIA     56531       TEACHER,FULL TIME   \n",
       "3    ABDULALEEM   MUHAMMAD     70564       TEACHER,FULL TIME   \n",
       "4      ABDULLAH      AARON     46694       TEACHER,FULL TIME   \n",
       "\n",
       "   HOME_ORGANIZATION              ORGANIZATION_LEVEL GENDER  \\\n",
       "0             5070.0                     HIGH SCHOOL      F   \n",
       "1             1290.0               ELEMENTARY SCHOOL      F   \n",
       "2             1010.0                     HIGH SCHOOL      F   \n",
       "3             6090.0  CAREER AND TECHNICAL HIGH SCHL      M   \n",
       "4             6360.0               ELEMENTARY SCHOOL      M   \n",
       "\n",
       "                                              School  Zip Code  \\\n",
       "0                      Parkway Northwest High School   19138.0   \n",
       "1                             Andrew Hamilton School   19139.0   \n",
       "2                           John Bartram High School   19142.0   \n",
       "3  A. Philip Randolph Career and Technical High S...   19129.0   \n",
       "4                          Theodore Roosevelt School   19144.0   \n",
       "\n",
       "  Turnaround Model  ...  Percent IEP Percent Male Percent Asian  \\\n",
       "0             None  ...     0.103846     0.488462      0.000000   \n",
       "1             None  ...     0.194757     0.558052      0.001873   \n",
       "2             None  ...     0.293805     0.576991      0.033628   \n",
       "3             None  ...     0.187879     0.634343      0.002020   \n",
       "4       Turnaround  ...     0.178161     0.522989      0.001916   \n",
       "\n",
       "  Percent Black/African American Percent Hispanic Percent Multi-Race  \\\n",
       "0                       0.934615         0.046154           0.007692   \n",
       "1                       0.893258         0.014981           0.069288   \n",
       "2                       0.915044         0.030088           0.015929   \n",
       "3                       0.905051         0.016162           0.040404   \n",
       "4                       0.919540         0.040230           0.028736   \n",
       "\n",
       "  Percent White Economically Disadvantaged Rate  NEW_TEACHER TURNOVER  \n",
       "0      0.011538                        0.824615            0        0  \n",
       "1      0.014981                        1.000000            0        0  \n",
       "2      0.003540                        1.000000            0        1  \n",
       "3      0.026263                        1.000000            0        0  \n",
       "4      0.009579                        1.000000            1        0  \n",
       "\n",
       "[5 rows x 47 columns]"
      ]
     },
     "execution_count": 27,
     "metadata": {},
     "output_type": "execute_result"
    }
   ],
   "source": [
    "df.head()"
   ]
  },
  {
   "cell_type": "code",
   "execution_count": 28,
   "metadata": {
    "scrolled": false
   },
   "outputs": [
    {
     "name": "stdout",
     "output_type": "stream",
     "text": [
      "<class 'pandas.core.frame.DataFrame'>\n",
      "Int64Index: 7927 entries, 0 to 8251\n",
      "Data columns (total 47 columns):\n",
      " #   Column                             Non-Null Count  Dtype  \n",
      "---  ------                             --------------  -----  \n",
      " 0   LAST_NAME                          7927 non-null   object \n",
      " 1   FIRST_NAME                         7927 non-null   object \n",
      " 2   PAY_RATE                           7927 non-null   int64  \n",
      " 3   TITLE_DESCRIPTION                  7927 non-null   object \n",
      " 4   HOME_ORGANIZATION                  7927 non-null   float64\n",
      " 5   ORGANIZATION_LEVEL                 7927 non-null   object \n",
      " 6   GENDER                             7927 non-null   object \n",
      " 7   School                             7927 non-null   object \n",
      " 8   Zip Code                           7927 non-null   float64\n",
      " 9   Turnaround Model                   7927 non-null   object \n",
      " 10  Enrollment                         7927 non-null   float64\n",
      " 11  Admissions Type                    7927 non-null   object \n",
      " 12  Overall Score                      7927 non-null   object \n",
      " 13  Overall Tier                       7927 non-null   object \n",
      " 14  Ach Score                          7927 non-null   object \n",
      " 15  Ach Tier                           7927 non-null   object \n",
      " 16  Prog Score                         7927 non-null   object \n",
      " 17  Prog Tier                          7927 non-null   object \n",
      " 18  Clim Score                         7927 non-null   float64\n",
      " 19  Clim Tier                          7927 non-null   object \n",
      " 20  Attendance (95%+) Score            7927 non-null   float64\n",
      " 21  Attendance (95%+) Tier             7927 non-null   object \n",
      " 22  Retention Score                    7927 non-null   float64\n",
      " 23  Retention Tier                     7927 non-null   object \n",
      " 24  ISS Score                          7927 non-null   float64\n",
      " 25  ISS Tier                           7927 non-null   object \n",
      " 26  OSS Score                          7927 non-null   float64\n",
      " 27  OSS Tier                           7927 non-null   object \n",
      " 28  Student Survey Climate Score       7927 non-null   object \n",
      " 29  Student Survey Climate Tier        7927 non-null   object \n",
      " 30  Parent Survey Climate Score        7927 non-null   float64\n",
      " 31  Parent Survey Climate Tier         7927 non-null   object \n",
      " 32  Parent Survey Participation Score  7927 non-null   float64\n",
      " 33  Parent Survey Participation Tier   7927 non-null   object \n",
      " 34  Teacher Attendance Score           7927 non-null   int64  \n",
      " 35  Student Survey Teaching Score      7927 non-null   object \n",
      " 36  Percent ELL                        7927 non-null   float64\n",
      " 37  Percent IEP                        7927 non-null   float64\n",
      " 38  Percent Male                       7927 non-null   float64\n",
      " 39  Percent Asian                      7927 non-null   float64\n",
      " 40  Percent Black/African American     7927 non-null   float64\n",
      " 41  Percent Hispanic                   7927 non-null   float64\n",
      " 42  Percent Multi-Race                 7927 non-null   float64\n",
      " 43  Percent White                      7927 non-null   float64\n",
      " 44  Economically Disadvantaged Rate    7927 non-null   float64\n",
      " 45  NEW_TEACHER                        7927 non-null   int64  \n",
      " 46  TURNOVER                           7927 non-null   int64  \n",
      "dtypes: float64(19), int64(4), object(24)\n",
      "memory usage: 2.9+ MB\n"
     ]
    }
   ],
   "source": [
    "df.info()"
   ]
  },
  {
   "cell_type": "code",
   "execution_count": 29,
   "metadata": {},
   "outputs": [],
   "source": [
    "drop_modeling = ['LAST_NAME', 'FIRST_NAME', 'HOME_ORGANIZATION', 'School', 'Overall Tier',\n",
    "                 'Ach Tier', 'Prog Tier', 'Clim Tier', 'Attendance (95%+) Tier', \n",
    "                 'Retention Tier', 'ISS Tier', 'OSS Tier', 'Student Survey Climate Tier',\n",
    "                 'Parent Survey Climate Tier', 'Parent Survey Participation Tier', 'TURNOVER']"
   ]
  },
  {
   "cell_type": "code",
   "execution_count": 30,
   "metadata": {},
   "outputs": [],
   "source": [
    "X = df.drop(drop_modeling, axis=1)\n",
    "y = df['TURNOVER']\n",
    "\n",
    "X_train, X_test, y_train, y_test = train_test_split(X, y, random_state=42, stratify=y)"
   ]
  },
  {
   "cell_type": "code",
   "execution_count": 31,
   "metadata": {
    "scrolled": true
   },
   "outputs": [
    {
     "data": {
      "text/plain": [
       "(5945, 31)"
      ]
     },
     "execution_count": 31,
     "metadata": {},
     "output_type": "execute_result"
    }
   ],
   "source": [
    "X_train.shape"
   ]
  },
  {
   "cell_type": "markdown",
   "metadata": {},
   "source": [
    "There are some columns that are listed as objects when they should be numerical."
   ]
  },
  {
   "cell_type": "code",
   "execution_count": 32,
   "metadata": {},
   "outputs": [],
   "source": [
    "obj_to_num = ['Student Survey Climate Score', 'Student Survey Teaching Score', \n",
    "                  'Overall Score', 'Ach Score', 'Prog Score']"
   ]
  },
  {
   "cell_type": "code",
   "execution_count": 33,
   "metadata": {},
   "outputs": [],
   "source": [
    "def na_transformer(df):\n",
    "    '''\n",
    "    Changes values to 0 for columns that have \n",
    "    'Not Applicable' or 'Insufficient Data' preventing them from becoming numerical.\n",
    "    '''\n",
    "    for col in obj_to_num:\n",
    "        df.loc[(df[col] == 'Not Applicable'), col] = 0\n",
    "        df.loc[(df[col] == 'Insufficient Data'), col] = 0\n",
    "    return df"
   ]
  },
  {
   "cell_type": "code",
   "execution_count": 34,
   "metadata": {},
   "outputs": [],
   "source": [
    "def to_float_transformer(df):\n",
    "    '''\n",
    "    Ensure all 'Score' columns are float, and all int64 are also float.\n",
    "    '''\n",
    "    for col in obj_to_num:\n",
    "        df[col] = df[col].astype('float64')\n",
    "    for col in [df.select_dtypes('int64').columns]:\n",
    "        df[col] = df[col].astype('float64')\n",
    "    return df"
   ]
  },
  {
   "cell_type": "code",
   "execution_count": 35,
   "metadata": {},
   "outputs": [],
   "source": [
    "cat_columns = ['TITLE_DESCRIPTION', 'ORGANIZATION_LEVEL', 'GENDER', \n",
    "               'Turnaround Model', 'Admissions Type', 'Zip Code']\n",
    "\n",
    "# OneHotEncode the columns as part of cleaning\n",
    "# to avoid needing to separate numerical and categorical\n",
    "# columns later\n",
    "ohe_col_trans = ColumnTransformer(transformers=\n",
    "                                  [('ohe', OneHotEncoder(drop='first', sparse=False), \n",
    "                                    cat_columns)],\n",
    "                                  remainder='passthrough')\n",
    "\n",
    "# Apply all our cleaning functions, then finish with ohe\n",
    "cleaning_pipeline = Pipeline(steps=[\n",
    "    ('na_trans', FunctionTransformer(na_transformer)),\n",
    "    ('float', FunctionTransformer(to_float_transformer)),\n",
    "    ('ohe_trans', ohe_col_trans)\n",
    "])"
   ]
  },
  {
   "cell_type": "code",
   "execution_count": 36,
   "metadata": {},
   "outputs": [
    {
     "name": "stderr",
     "output_type": "stream",
     "text": [
      "/Users/meaghanross/opt/anaconda3/envs/learn-env/lib/python3.8/site-packages/pandas/core/indexing.py:1765: SettingWithCopyWarning: \n",
      "A value is trying to be set on a copy of a slice from a DataFrame.\n",
      "Try using .loc[row_indexer,col_indexer] = value instead\n",
      "\n",
      "See the caveats in the documentation: https://pandas.pydata.org/pandas-docs/stable/user_guide/indexing.html#returning-a-view-versus-a-copy\n",
      "  isetter(loc, value)\n",
      "<ipython-input-34-4e71e321aa9c>:6: SettingWithCopyWarning: \n",
      "A value is trying to be set on a copy of a slice from a DataFrame.\n",
      "Try using .loc[row_indexer,col_indexer] = value instead\n",
      "\n",
      "See the caveats in the documentation: https://pandas.pydata.org/pandas-docs/stable/user_guide/indexing.html#returning-a-view-versus-a-copy\n",
      "  df[col] = df[col].astype('float64')\n",
      "/Users/meaghanross/opt/anaconda3/envs/learn-env/lib/python3.8/site-packages/pandas/core/frame.py:3065: SettingWithCopyWarning: \n",
      "A value is trying to be set on a copy of a slice from a DataFrame.\n",
      "Try using .loc[row_indexer,col_indexer] = value instead\n",
      "\n",
      "See the caveats in the documentation: https://pandas.pydata.org/pandas-docs/stable/user_guide/indexing.html#returning-a-view-versus-a-copy\n",
      "  self[k1] = value[k2]\n"
     ]
    }
   ],
   "source": [
    "X_train_clean = cleaning_pipeline.fit_transform(X_train)"
   ]
  },
  {
   "cell_type": "code",
   "execution_count": 37,
   "metadata": {},
   "outputs": [],
   "source": [
    "ohe_feature_names = cleaning_pipeline.steps[-1][1].get_feature_names()"
   ]
  },
  {
   "cell_type": "code",
   "execution_count": 38,
   "metadata": {},
   "outputs": [
    {
     "data": {
      "text/plain": [
       "77"
      ]
     },
     "execution_count": 38,
     "metadata": {},
     "output_type": "execute_result"
    }
   ],
   "source": [
    "len(ohe_feature_names)"
   ]
  },
  {
   "cell_type": "code",
   "execution_count": 39,
   "metadata": {},
   "outputs": [
    {
     "data": {
      "text/plain": [
       "['ohe__x0_TEACHER,SPEC EDUCATION',\n",
       " 'ohe__x1_ELEMENTARY SCHOOL',\n",
       " 'ohe__x1_HIGH SCHOOL',\n",
       " 'ohe__x1_MIDDLE SCHOOL',\n",
       " 'ohe__x2_M',\n",
       " 'ohe__x3_School Redesign Initiative',\n",
       " 'ohe__x3_Turnaround',\n",
       " 'ohe__x4_Neighborhood',\n",
       " 'ohe__x4_Special Admit',\n",
       " 'ohe__x5_19104.0',\n",
       " 'ohe__x5_19106.0',\n",
       " 'ohe__x5_19111.0',\n",
       " 'ohe__x5_19114.0',\n",
       " 'ohe__x5_19115.0',\n",
       " 'ohe__x5_19116.0',\n",
       " 'ohe__x5_19118.0',\n",
       " 'ohe__x5_19119.0',\n",
       " 'ohe__x5_19120.0',\n",
       " 'ohe__x5_19121.0',\n",
       " 'ohe__x5_19122.0',\n",
       " 'ohe__x5_19123.0',\n",
       " 'ohe__x5_19124.0',\n",
       " 'ohe__x5_19125.0',\n",
       " 'ohe__x5_19126.0',\n",
       " 'ohe__x5_19127.0',\n",
       " 'ohe__x5_19128.0',\n",
       " 'ohe__x5_19129.0',\n",
       " 'ohe__x5_19130.0',\n",
       " 'ohe__x5_19131.0',\n",
       " 'ohe__x5_19132.0',\n",
       " 'ohe__x5_19133.0',\n",
       " 'ohe__x5_19134.0',\n",
       " 'ohe__x5_19135.0',\n",
       " 'ohe__x5_19136.0',\n",
       " 'ohe__x5_19137.0',\n",
       " 'ohe__x5_19138.0',\n",
       " 'ohe__x5_19139.0',\n",
       " 'ohe__x5_19140.0',\n",
       " 'ohe__x5_19141.0',\n",
       " 'ohe__x5_19142.0',\n",
       " 'ohe__x5_19143.0',\n",
       " 'ohe__x5_19144.0',\n",
       " 'ohe__x5_19145.0',\n",
       " 'ohe__x5_19146.0',\n",
       " 'ohe__x5_19147.0',\n",
       " 'ohe__x5_19148.0',\n",
       " 'ohe__x5_19149.0',\n",
       " 'ohe__x5_19150.0',\n",
       " 'ohe__x5_19151.0',\n",
       " 'ohe__x5_19152.0',\n",
       " 'ohe__x5_19153.0',\n",
       " 'ohe__x5_19154.0',\n",
       " 'PAY_RATE',\n",
       " 'Enrollment',\n",
       " 'Overall Score',\n",
       " 'Ach Score',\n",
       " 'Prog Score',\n",
       " 'Clim Score',\n",
       " 'Attendance (95%+) Score',\n",
       " 'Retention Score',\n",
       " 'ISS Score',\n",
       " 'OSS Score',\n",
       " 'Student Survey Climate Score',\n",
       " 'Parent Survey Climate Score',\n",
       " 'Parent Survey Participation Score',\n",
       " 'Teacher Attendance Score',\n",
       " 'Student Survey Teaching Score',\n",
       " 'Percent ELL',\n",
       " 'Percent IEP',\n",
       " 'Percent Male',\n",
       " 'Percent Asian',\n",
       " 'Percent Black/African American',\n",
       " 'Percent Hispanic',\n",
       " 'Percent Multi-Race',\n",
       " 'Percent White',\n",
       " 'Economically Disadvantaged Rate',\n",
       " 'NEW_TEACHER']"
      ]
     },
     "execution_count": 39,
     "metadata": {},
     "output_type": "execute_result"
    }
   ],
   "source": [
    "ohe_feature_names"
   ]
  },
  {
   "cell_type": "markdown",
   "metadata": {},
   "source": [
    "### Modeling"
   ]
  },
  {
   "cell_type": "markdown",
   "metadata": {},
   "source": [
    "Many models were created for this project. The `DummyClassifier` was used as baseline model. In order to improve on that baseline, we designed `LogisticRegression`, `DecisionTreeClassifier`, `RandomForestClassifier`, and `XGBoost` models, with and without using SMOTE, to counteract class imbalances. \n",
    "\n",
    "For each model we will build a pipeline using `StandardScaler` and the model of choice. Then we will evaluate the model by running the pipeline through our print_cv_scores function and then gathering metrics for model efficacy.\n",
    "\n",
    "Through the model iteration process we are seeking to maximize the recall score by minimizing the number of false negatives, meaning teachers who were predicted to stay and actually end up leaving. By focusing on recall, we are trying to reduce the chances of the model missing a teacher who actually leaves their school the following year.\n"
   ]
  },
  {
   "cell_type": "code",
   "execution_count": 40,
   "metadata": {},
   "outputs": [],
   "source": [
    "def print_cv_scores(pipe, X, y):\n",
    "    '''\n",
    "    Runs cross_validate on given feature and binary target arrays using given pipeline, \n",
    "    printing the scoring results for both training and cross_val.\n",
    "    '''\n",
    "    scoring = ['accuracy','recall']\n",
    "    # we pass in pipe to cross validate along with a feature list.\n",
    "    results = cross_validate(pipe, X, \n",
    "                                   y, \n",
    "                                   return_train_score=True, scoring=scoring)\n",
    "    \n",
    "    print(results['train_accuracy'])\n",
    "    print('Training Accuracy', results['train_accuracy'].mean())\n",
    "    print('##############')\n",
    "    print(results['test_accuracy'])\n",
    "    print('Cross_Val Accuracy', results['test_accuracy'].mean())\n",
    "    print('##############')\n",
    "    print('Training Recall:', results['train_recall'].mean())\n",
    "    print('Cross_Val Recall:', results['test_recall'].mean())\n"
   ]
  },
  {
   "cell_type": "markdown",
   "metadata": {},
   "source": [
    "#### Dummy Classifier"
   ]
  },
  {
   "cell_type": "code",
   "execution_count": 41,
   "metadata": {},
   "outputs": [],
   "source": [
    "dummy_pipe = Pipeline(steps=[\n",
    "    ('ss', StandardScaler()),\n",
    "    ('dc', DummyClassifier(strategy='most_frequent'))\n",
    "])"
   ]
  },
  {
   "cell_type": "code",
   "execution_count": 42,
   "metadata": {
    "scrolled": true
   },
   "outputs": [
    {
     "name": "stdout",
     "output_type": "stream",
     "text": [
      "[0.81055509 0.81055509 0.81055509 0.81055509 0.81076535]\n",
      "Training Accuracy 0.8105971404541631\n",
      "##############\n",
      "[0.81076535 0.81076535 0.81076535 0.81076535 0.80992431]\n",
      "Cross_Val Accuracy 0.8105971404541631\n",
      "##############\n",
      "Training Recall: 0.0\n",
      "Cross_Val Recall: 0.0\n"
     ]
    }
   ],
   "source": [
    "print_cv_scores(dummy_pipe, X_train_clean, y_train)"
   ]
  },
  {
   "cell_type": "markdown",
   "metadata": {},
   "source": []
  },
  {
   "cell_type": "code",
   "execution_count": 43,
   "metadata": {},
   "outputs": [
    {
     "data": {
      "text/plain": [
       "Pipeline(steps=[('ss', StandardScaler()),\n",
       "                ('dc', DummyClassifier(strategy='stratified'))])"
      ]
     },
     "execution_count": 43,
     "metadata": {},
     "output_type": "execute_result"
    }
   ],
   "source": [
    "dummy_pipe = Pipeline(steps=[\n",
    "    ('ss', StandardScaler()),\n",
    "    ('dc', DummyClassifier(strategy='stratified'))\n",
    "])\n",
    "dummy_pipe.fit(X_train_clean, y_train)"
   ]
  },
  {
   "cell_type": "code",
   "execution_count": 44,
   "metadata": {
    "scrolled": true
   },
   "outputs": [
    {
     "name": "stdout",
     "output_type": "stream",
     "text": [
      "[0.68881413 0.70016821 0.69238856 0.69175778 0.6745164 ]\n",
      "Training Accuracy 0.6895290159798149\n",
      "##############\n",
      "[0.68881413 0.70227082 0.67619849 0.69890664 0.67283431]\n",
      "Cross_Val Accuracy 0.6878048780487804\n",
      "##############\n",
      "Training Recall: 0.18872240720187444\n",
      "Cross_Val Recall: 0.18296165191740416\n"
     ]
    }
   ],
   "source": [
    "print_cv_scores(dummy_pipe, X_train_clean, y_train)"
   ]
  },
  {
   "cell_type": "code",
   "execution_count": 47,
   "metadata": {},
   "outputs": [],
   "source": [
    "dc_acc = 0.6878048780487804\n",
    "dc_rec = 0.18296165191740416"
   ]
  },
  {
   "cell_type": "code",
   "execution_count": 48,
   "metadata": {
    "scrolled": true
   },
   "outputs": [
    {
     "data": {
      "image/png": "[encoded data removed]",
      "text/plain": [
       "<Figure size 432x288 with 2 Axes>"
      ]
     },
     "metadata": {
      "needs_background": "light"
     },
     "output_type": "display_data"
    }
   ],
   "source": [
    "plot_confusion_matrix(dummy_pipe, \n",
    "                      X_train_clean, \n",
    "                      y_train, \n",
    "                      normalize = 'true',\n",
    "                      display_labels= ['Retention', 'Turnover']);"
   ]
  },
  {
   "cell_type": "markdown",
   "metadata": {},
   "source": [
    "The dummy classifier is having a difficult time predicting the actual turnover. "
   ]
  },
  {
   "cell_type": "markdown",
   "metadata": {},
   "source": [
    "#### Logistic Regression"
   ]
  },
  {
   "cell_type": "markdown",
   "metadata": {},
   "source": [
    "Let's first perform a logistic regression with default hyperparameters."
   ]
  },
  {
   "cell_type": "code",
   "execution_count": 49,
   "metadata": {},
   "outputs": [
    {
     "name": "stderr",
     "output_type": "stream",
     "text": [
      "/Users/meaghanross/opt/anaconda3/envs/learn-env/lib/python3.8/site-packages/sklearn/linear_model/_logistic.py:762: ConvergenceWarning: lbfgs failed to converge (status=1):\n",
      "STOP: TOTAL NO. of ITERATIONS REACHED LIMIT.\n",
      "\n",
      "Increase the number of iterations (max_iter) or scale the data as shown in:\n",
      "    https://scikit-learn.org/stable/modules/preprocessing.html\n",
      "Please also refer to the documentation for alternative solver options:\n",
      "    https://scikit-learn.org/stable/modules/linear_model.html#logistic-regression\n",
      "  n_iter_i = _check_optimize_result(\n"
     ]
    },
    {
     "data": {
      "text/plain": [
       "Pipeline(steps=[('ss', StandardScaler()),\n",
       "                ('lr', LogisticRegression(random_state=42))])"
      ]
     },
     "execution_count": 49,
     "metadata": {},
     "output_type": "execute_result"
    }
   ],
   "source": [
    "lr_pipe = Pipeline(steps=[\n",
    "    ('ss', StandardScaler()),\n",
    "    ('lr', LogisticRegression(random_state=42))\n",
    "])\n",
    "lr_pipe.fit(X_train_clean, y_train)"
   ]
  },
  {
   "cell_type": "code",
   "execution_count": 50,
   "metadata": {},
   "outputs": [
    {
     "name": "stderr",
     "output_type": "stream",
     "text": [
      "/Users/meaghanross/opt/anaconda3/envs/learn-env/lib/python3.8/site-packages/sklearn/linear_model/_logistic.py:762: ConvergenceWarning: lbfgs failed to converge (status=1):\n",
      "STOP: TOTAL NO. of ITERATIONS REACHED LIMIT.\n",
      "\n",
      "Increase the number of iterations (max_iter) or scale the data as shown in:\n",
      "    https://scikit-learn.org/stable/modules/preprocessing.html\n",
      "Please also refer to the documentation for alternative solver options:\n",
      "    https://scikit-learn.org/stable/modules/linear_model.html#logistic-regression\n",
      "  n_iter_i = _check_optimize_result(\n",
      "/Users/meaghanross/opt/anaconda3/envs/learn-env/lib/python3.8/site-packages/sklearn/linear_model/_logistic.py:762: ConvergenceWarning: lbfgs failed to converge (status=1):\n",
      "STOP: TOTAL NO. of ITERATIONS REACHED LIMIT.\n",
      "\n",
      "Increase the number of iterations (max_iter) or scale the data as shown in:\n",
      "    https://scikit-learn.org/stable/modules/preprocessing.html\n",
      "Please also refer to the documentation for alternative solver options:\n",
      "    https://scikit-learn.org/stable/modules/linear_model.html#logistic-regression\n",
      "  n_iter_i = _check_optimize_result(\n",
      "/Users/meaghanross/opt/anaconda3/envs/learn-env/lib/python3.8/site-packages/sklearn/linear_model/_logistic.py:762: ConvergenceWarning: lbfgs failed to converge (status=1):\n",
      "STOP: TOTAL NO. of ITERATIONS REACHED LIMIT.\n",
      "\n",
      "Increase the number of iterations (max_iter) or scale the data as shown in:\n",
      "    https://scikit-learn.org/stable/modules/preprocessing.html\n",
      "Please also refer to the documentation for alternative solver options:\n",
      "    https://scikit-learn.org/stable/modules/linear_model.html#logistic-regression\n",
      "  n_iter_i = _check_optimize_result(\n",
      "/Users/meaghanross/opt/anaconda3/envs/learn-env/lib/python3.8/site-packages/sklearn/linear_model/_logistic.py:762: ConvergenceWarning: lbfgs failed to converge (status=1):\n",
      "STOP: TOTAL NO. of ITERATIONS REACHED LIMIT.\n",
      "\n",
      "Increase the number of iterations (max_iter) or scale the data as shown in:\n",
      "    https://scikit-learn.org/stable/modules/preprocessing.html\n",
      "Please also refer to the documentation for alternative solver options:\n",
      "    https://scikit-learn.org/stable/modules/linear_model.html#logistic-regression\n",
      "  n_iter_i = _check_optimize_result(\n"
     ]
    },
    {
     "name": "stdout",
     "output_type": "stream",
     "text": [
      "[0.81097561 0.81076535 0.81307822 0.81118587 0.81139613]\n",
      "Training Accuracy 0.8114802354920101\n",
      "##############\n",
      "[0.80992431 0.80992431 0.80656013 0.80992431 0.81244743]\n",
      "Cross_Val Accuracy 0.8097560975609757\n",
      "##############\n",
      "Training Recall: 0.03263559008509064\n",
      "Cross_Val Recall: 0.030198623402163227\n"
     ]
    },
    {
     "name": "stderr",
     "output_type": "stream",
     "text": [
      "/Users/meaghanross/opt/anaconda3/envs/learn-env/lib/python3.8/site-packages/sklearn/linear_model/_logistic.py:762: ConvergenceWarning: lbfgs failed to converge (status=1):\n",
      "STOP: TOTAL NO. of ITERATIONS REACHED LIMIT.\n",
      "\n",
      "Increase the number of iterations (max_iter) or scale the data as shown in:\n",
      "    https://scikit-learn.org/stable/modules/preprocessing.html\n",
      "Please also refer to the documentation for alternative solver options:\n",
      "    https://scikit-learn.org/stable/modules/linear_model.html#logistic-regression\n",
      "  n_iter_i = _check_optimize_result(\n"
     ]
    }
   ],
   "source": [
    "print_cv_scores(lr_pipe, X_train_clean, y_train)"
   ]
  },
  {
   "cell_type": "code",
   "execution_count": 51,
   "metadata": {},
   "outputs": [
    {
     "data": {
      "image/png": "[encoded data removed]",
      "text/plain": [
       "<Figure size 432x288 with 2 Axes>"
      ]
     },
     "metadata": {
      "needs_background": "light"
     },
     "output_type": "display_data"
    }
   ],
   "source": [
    "plot_confusion_matrix(lr_pipe, \n",
    "                      X_train_clean, \n",
    "                      y_train, \n",
    "                      normalize = 'true',\n",
    "                      display_labels= ['Retention', 'Turnover']);"
   ]
  },
  {
   "cell_type": "markdown",
   "metadata": {},
   "source": [
    "In a Logistic Regression model with default parameters, we can see that it has a really hard time classifying the minority class likely due to the class imbalance, so let's iterate this model to try to improve the recall scores."
   ]
  },
  {
   "cell_type": "code",
   "execution_count": 52,
   "metadata": {},
   "outputs": [
    {
     "name": "stderr",
     "output_type": "stream",
     "text": [
      "/Users/meaghanross/opt/anaconda3/envs/learn-env/lib/python3.8/site-packages/sklearn/linear_model/_logistic.py:762: ConvergenceWarning: lbfgs failed to converge (status=1):\n",
      "STOP: TOTAL NO. of ITERATIONS REACHED LIMIT.\n",
      "\n",
      "Increase the number of iterations (max_iter) or scale the data as shown in:\n",
      "    https://scikit-learn.org/stable/modules/preprocessing.html\n",
      "Please also refer to the documentation for alternative solver options:\n",
      "    https://scikit-learn.org/stable/modules/linear_model.html#logistic-regression\n",
      "  n_iter_i = _check_optimize_result(\n"
     ]
    },
    {
     "data": {
      "text/plain": [
       "Pipeline(steps=[('ss', StandardScaler()),\n",
       "                ('lr',\n",
       "                 LogisticRegression(class_weight='balanced', random_state=42))])"
      ]
     },
     "execution_count": 52,
     "metadata": {},
     "output_type": "execute_result"
    }
   ],
   "source": [
    "lr_pipe1 = Pipeline(steps=[\n",
    "    ('ss', StandardScaler()),\n",
    "    ('lr', LogisticRegression(class_weight='balanced',\n",
    "                              random_state=42))\n",
    "])\n",
    "lr_pipe1.fit(X_train_clean, y_train)"
   ]
  },
  {
   "cell_type": "code",
   "execution_count": 53,
   "metadata": {},
   "outputs": [
    {
     "name": "stderr",
     "output_type": "stream",
     "text": [
      "/Users/meaghanross/opt/anaconda3/envs/learn-env/lib/python3.8/site-packages/sklearn/linear_model/_logistic.py:762: ConvergenceWarning: lbfgs failed to converge (status=1):\n",
      "STOP: TOTAL NO. of ITERATIONS REACHED LIMIT.\n",
      "\n",
      "Increase the number of iterations (max_iter) or scale the data as shown in:\n",
      "    https://scikit-learn.org/stable/modules/preprocessing.html\n",
      "Please also refer to the documentation for alternative solver options:\n",
      "    https://scikit-learn.org/stable/modules/linear_model.html#logistic-regression\n",
      "  n_iter_i = _check_optimize_result(\n",
      "/Users/meaghanross/opt/anaconda3/envs/learn-env/lib/python3.8/site-packages/sklearn/linear_model/_logistic.py:762: ConvergenceWarning: lbfgs failed to converge (status=1):\n",
      "STOP: TOTAL NO. of ITERATIONS REACHED LIMIT.\n",
      "\n",
      "Increase the number of iterations (max_iter) or scale the data as shown in:\n",
      "    https://scikit-learn.org/stable/modules/preprocessing.html\n",
      "Please also refer to the documentation for alternative solver options:\n",
      "    https://scikit-learn.org/stable/modules/linear_model.html#logistic-regression\n",
      "  n_iter_i = _check_optimize_result(\n",
      "/Users/meaghanross/opt/anaconda3/envs/learn-env/lib/python3.8/site-packages/sklearn/linear_model/_logistic.py:762: ConvergenceWarning: lbfgs failed to converge (status=1):\n",
      "STOP: TOTAL NO. of ITERATIONS REACHED LIMIT.\n",
      "\n",
      "Increase the number of iterations (max_iter) or scale the data as shown in:\n",
      "    https://scikit-learn.org/stable/modules/preprocessing.html\n",
      "Please also refer to the documentation for alternative solver options:\n",
      "    https://scikit-learn.org/stable/modules/linear_model.html#logistic-regression\n",
      "  n_iter_i = _check_optimize_result(\n"
     ]
    },
    {
     "name": "stdout",
     "output_type": "stream",
     "text": [
      "[0.64045416 0.62952061 0.64108495 0.62867956 0.63015139]\n",
      "Training Accuracy 0.6339781328847771\n",
      "##############\n",
      "[0.60807401 0.6156434  0.61059714 0.59966358 0.62068966]\n",
      "Cross_Val Accuracy 0.6109335576114383\n",
      "##############\n",
      "Training Recall: 0.6263341965717104\n",
      "Cross_Val Recall: 0.5683618485742379\n"
     ]
    },
    {
     "name": "stderr",
     "output_type": "stream",
     "text": [
      "/Users/meaghanross/opt/anaconda3/envs/learn-env/lib/python3.8/site-packages/sklearn/linear_model/_logistic.py:762: ConvergenceWarning: lbfgs failed to converge (status=1):\n",
      "STOP: TOTAL NO. of ITERATIONS REACHED LIMIT.\n",
      "\n",
      "Increase the number of iterations (max_iter) or scale the data as shown in:\n",
      "    https://scikit-learn.org/stable/modules/preprocessing.html\n",
      "Please also refer to the documentation for alternative solver options:\n",
      "    https://scikit-learn.org/stable/modules/linear_model.html#logistic-regression\n",
      "  n_iter_i = _check_optimize_result(\n",
      "/Users/meaghanross/opt/anaconda3/envs/learn-env/lib/python3.8/site-packages/sklearn/linear_model/_logistic.py:762: ConvergenceWarning: lbfgs failed to converge (status=1):\n",
      "STOP: TOTAL NO. of ITERATIONS REACHED LIMIT.\n",
      "\n",
      "Increase the number of iterations (max_iter) or scale the data as shown in:\n",
      "    https://scikit-learn.org/stable/modules/preprocessing.html\n",
      "Please also refer to the documentation for alternative solver options:\n",
      "    https://scikit-learn.org/stable/modules/linear_model.html#logistic-regression\n",
      "  n_iter_i = _check_optimize_result(\n"
     ]
    }
   ],
   "source": [
    "print_cv_scores(lr_pipe1, X_train_clean, y_train)"
   ]
  },
  {
   "cell_type": "code",
   "execution_count": 54,
   "metadata": {},
   "outputs": [
    {
     "data": {
      "image/png": "[encoded data removed]",
      "text/plain": [
       "<Figure size 432x288 with 2 Axes>"
      ]
     },
     "metadata": {
      "needs_background": "light"
     },
     "output_type": "display_data"
    }
   ],
   "source": [
    "plot_confusion_matrix(lr_pipe1, \n",
    "                      X_train_clean, \n",
    "                      y_train, \n",
    "                      normalize = 'true',\n",
    "                      display_labels= ['Retention', 'Turnover']);"
   ]
  },
  {
   "cell_type": "markdown",
   "metadata": {},
   "source": [
    "By setting the `class_weight` hyperparameter to balanced, this helps for the logistic regression model to better classify the minority class and the recall score increases by over 50%.\n",
    "\n",
    "Let's set up a grid search to find the best hyperparameters to maximize the recall score."
   ]
  },
  {
   "cell_type": "code",
   "execution_count": 55,
   "metadata": {},
   "outputs": [],
   "source": [
    "lr_grid_pipe = Pipeline(steps=[\n",
    "    ('ss', StandardScaler()),\n",
    "    ('lr', LogisticRegression(class_weight='balanced',\n",
    "                              random_state=42))\n",
    "])\n",
    "\n",
    "grid = {'lr__tol': [1e-5,1e-4,1e-3],\n",
    "        'lr__C' : [1e-5,1e-3,1e-1, 1, 100],\n",
    "        'lr__max_iter':[1e3, 1e5]\n",
    "       }"
   ]
  },
  {
   "cell_type": "code",
   "execution_count": 56,
   "metadata": {},
   "outputs": [
    {
     "data": {
      "text/plain": [
       "GridSearchCV(estimator=Pipeline(steps=[('ss', StandardScaler()),\n",
       "                                       ('lr',\n",
       "                                        LogisticRegression(class_weight='balanced',\n",
       "                                                           random_state=42))]),\n",
       "             param_grid={'lr__C': [1e-05, 0.001, 0.1, 1, 100],\n",
       "                         'lr__max_iter': [1000.0, 100000.0],\n",
       "                         'lr__tol': [1e-05, 0.0001, 0.001]},\n",
       "             return_train_score=True, scoring='recall')"
      ]
     },
     "execution_count": 56,
     "metadata": {},
     "output_type": "execute_result"
    }
   ],
   "source": [
    "gridsearch = GridSearchCV(lr_grid_pipe, \n",
    "                          grid, \n",
    "                          return_train_score=True, \n",
    "                          scoring='recall')\n",
    "\n",
    "gridsearch.fit(X_train_clean, y_train)"
   ]
  },
  {
   "cell_type": "code",
   "execution_count": 57,
   "metadata": {},
   "outputs": [
    {
     "data": {
      "text/plain": [
       "{'lr__C': 1e-05, 'lr__max_iter': 1000.0, 'lr__tol': 1e-05}"
      ]
     },
     "execution_count": 57,
     "metadata": {},
     "output_type": "execute_result"
    }
   ],
   "source": [
    "gridsearch.best_params_"
   ]
  },
  {
   "cell_type": "markdown",
   "metadata": {},
   "source": [
    "From these results, it seems that the logistic regression model likes higher regularization with the smallest C performing best, as well as the smallest tolerance. Let's run it again with different penalty types and some smaller C and tolerance levels."
   ]
  },
  {
   "cell_type": "code",
   "execution_count": 58,
   "metadata": {},
   "outputs": [],
   "source": [
    "lr_grid_pipe1 = Pipeline(steps=[\n",
    "    ('ss', StandardScaler()),\n",
    "    ('lr', LogisticRegression(class_weight='balanced',\n",
    "                              max_iter = 1000,\n",
    "                              solver = 'liblinear',\n",
    "                              random_state=42))\n",
    "])\n",
    "\n",
    "grid1 = {'lr__tol': [1e-7, 1e-6, 1e-5],\n",
    "        'lr__C' : [1e-7, 1e-6, 1e-5],\n",
    "        'lr__penalty':['l1', 'l2']\n",
    "        }"
   ]
  },
  {
   "cell_type": "code",
   "execution_count": 59,
   "metadata": {},
   "outputs": [
    {
     "data": {
      "text/plain": [
       "GridSearchCV(estimator=Pipeline(steps=[('ss', StandardScaler()),\n",
       "                                       ('lr',\n",
       "                                        LogisticRegression(class_weight='balanced',\n",
       "                                                           max_iter=1000,\n",
       "                                                           random_state=42,\n",
       "                                                           solver='liblinear'))]),\n",
       "             param_grid={'lr__C': [1e-07, 1e-06, 1e-05],\n",
       "                         'lr__penalty': ['l1', 'l2'],\n",
       "                         'lr__tol': [1e-07, 1e-06, 1e-05]},\n",
       "             return_train_score=True, scoring='recall')"
      ]
     },
     "execution_count": 59,
     "metadata": {},
     "output_type": "execute_result"
    }
   ],
   "source": [
    "gridsearch1 = GridSearchCV(lr_grid_pipe1, \n",
    "                          grid1, \n",
    "                          return_train_score=True, \n",
    "                          scoring='recall')\n",
    "\n",
    "gridsearch1.fit(X_train_clean, y_train)"
   ]
  },
  {
   "cell_type": "code",
   "execution_count": 60,
   "metadata": {},
   "outputs": [
    {
     "data": {
      "text/plain": [
       "{'lr__C': 1e-06, 'lr__penalty': 'l2', 'lr__tol': 1e-07}"
      ]
     },
     "execution_count": 60,
     "metadata": {},
     "output_type": "execute_result"
    }
   ],
   "source": [
    "gridsearch1.best_params_"
   ]
  },
  {
   "cell_type": "markdown",
   "metadata": {},
   "source": [
    "Higher regularization strength and lower tolerance allows this logistic regression model to perform the best.\n",
    "\n",
    "It looks like the l2 penalty continues to perform the best, let's just check to see the scores using different solvers."
   ]
  },
  {
   "cell_type": "code",
   "execution_count": 61,
   "metadata": {},
   "outputs": [],
   "source": [
    "lr_grid_pipe2 = Pipeline(steps=[\n",
    "    ('ss', StandardScaler()),\n",
    "    ('lr', LogisticRegression(class_weight='balanced',\n",
    "                              max_iter = 1000,\n",
    "                              C = 1e-06,\n",
    "                              tol = 1e-07,\n",
    "                              random_state=42))\n",
    "])\n",
    "grid2 = {'lr__solver': ['liblinear', 'lbfgs']}"
   ]
  },
  {
   "cell_type": "code",
   "execution_count": 62,
   "metadata": {
    "scrolled": true
   },
   "outputs": [
    {
     "data": {
      "text/plain": [
       "GridSearchCV(estimator=Pipeline(steps=[('ss', StandardScaler()),\n",
       "                                       ('lr',\n",
       "                                        LogisticRegression(C=1e-06,\n",
       "                                                           class_weight='balanced',\n",
       "                                                           max_iter=1000,\n",
       "                                                           random_state=42,\n",
       "                                                           tol=1e-07))]),\n",
       "             param_grid={'lr__solver': ['liblinear', 'lbfgs']},\n",
       "             return_train_score=True, scoring='recall')"
      ]
     },
     "execution_count": 62,
     "metadata": {},
     "output_type": "execute_result"
    }
   ],
   "source": [
    "gridsearch2 = GridSearchCV(lr_grid_pipe2, \n",
    "                          grid2, \n",
    "                          return_train_score=True, \n",
    "                          scoring='recall')\n",
    "\n",
    "gridsearch2.fit(X_train_clean, y_train)"
   ]
  },
  {
   "cell_type": "code",
   "execution_count": 63,
   "metadata": {},
   "outputs": [
    {
     "data": {
      "text/plain": [
       "{'lr__solver': 'liblinear'}"
      ]
     },
     "execution_count": 63,
     "metadata": {},
     "output_type": "execute_result"
    }
   ],
   "source": [
    "gridsearch2.best_params_"
   ]
  },
  {
   "cell_type": "code",
   "execution_count": 64,
   "metadata": {
    "scrolled": true
   },
   "outputs": [
    {
     "data": {
      "text/plain": [
       "0.6882831858407079"
      ]
     },
     "execution_count": 64,
     "metadata": {},
     "output_type": "execute_result"
    }
   ],
   "source": [
    "gridsearch2.best_score_"
   ]
  },
  {
   "cell_type": "markdown",
   "metadata": {},
   "source": [
    "##### Best Logistic Regression Model"
   ]
  },
  {
   "cell_type": "code",
   "execution_count": 65,
   "metadata": {},
   "outputs": [
    {
     "data": {
      "text/plain": [
       "Pipeline(steps=[('ss', StandardScaler()),\n",
       "                ('lr',\n",
       "                 LogisticRegression(C=1e-06, class_weight='balanced',\n",
       "                                    max_iter=1000, random_state=42,\n",
       "                                    solver='liblinear', tol=1e-07))])"
      ]
     },
     "execution_count": 65,
     "metadata": {},
     "output_type": "execute_result"
    }
   ],
   "source": [
    "best_lr = Pipeline(steps=[\n",
    "    ('ss', StandardScaler()),\n",
    "    ('lr', LogisticRegression(class_weight='balanced',\n",
    "                              solver = 'liblinear',\n",
    "                              C = 1e-06,\n",
    "                              tol = 1e-07,\n",
    "                              max_iter=1000,\n",
    "                              random_state=42))\n",
    "])\n",
    "best_lr.fit(X_train_clean, y_train)"
   ]
  },
  {
   "cell_type": "code",
   "execution_count": 66,
   "metadata": {},
   "outputs": [
    {
     "name": "stdout",
     "output_type": "stream",
     "text": [
      "[0.55256518 0.55761144 0.55403701 0.55109336 0.55109336]\n",
      "Training Accuracy 0.5532800672834315\n",
      "##############\n",
      "[0.54415475 0.54499579 0.56013457 0.52985702 0.56686291]\n",
      "Cross_Val Accuracy 0.5492010092514719\n",
      "##############\n",
      "Training Recall: 0.696270070292268\n",
      "Cross_Val Recall: 0.6882831858407079\n"
     ]
    }
   ],
   "source": [
    "print_cv_scores(best_lr, X_train_clean, y_train)"
   ]
  },
  {
   "cell_type": "code",
   "execution_count": 67,
   "metadata": {
    "scrolled": true
   },
   "outputs": [
    {
     "data": {
      "image/png": "[encoded data removed]",
      "text/plain": [
       "<Figure size 432x288 with 2 Axes>"
      ]
     },
     "metadata": {
      "needs_background": "light"
     },
     "output_type": "display_data"
    }
   ],
   "source": [
    "plot_confusion_matrix(best_lr, \n",
    "                      X_train_clean, \n",
    "                      y_train, \n",
    "                      normalize='true',\n",
    "                      display_labels= ['Retention', 'Turnover']);"
   ]
  },
  {
   "cell_type": "markdown",
   "metadata": {},
   "source": [
    "__PCA with Logistic Regression__"
   ]
  },
  {
   "cell_type": "code",
   "execution_count": 150,
   "metadata": {
    "scrolled": true
   },
   "outputs": [],
   "source": [
    "lr_PCA = Pipeline(steps=[('ss', StandardScaler()),\n",
    "                         ('pca', PCA()),\n",
    "                         ('lr', LogisticRegression(class_weight='balanced',\n",
    "                                                   solver = 'liblinear',\n",
    "                                                   C = 1e-06,\n",
    "                                                   tol = 1e-07,\n",
    "                                                   max_iter=1000,\n",
    "                                                   random_state=42))\n",
    "])\n",
    "\n",
    "pca_grid = {'pca__n_components': [0.1, 0.2, 0.5, 0.7, 0.75, 0.8, 0.85, 0.9, 0.95]}"
   ]
  },
  {
   "cell_type": "code",
   "execution_count": 151,
   "metadata": {},
   "outputs": [
    {
     "data": {
      "text/plain": [
       "GridSearchCV(estimator=Pipeline(steps=[('ss', StandardScaler()), ('pca', PCA()),\n",
       "                                       ('lr',\n",
       "                                        LogisticRegression(C=1e-06,\n",
       "                                                           class_weight='balanced',\n",
       "                                                           max_iter=1000,\n",
       "                                                           random_state=42,\n",
       "                                                           solver='liblinear',\n",
       "                                                           tol=1e-07))]),\n",
       "             param_grid={'pca__n_components': [0.1, 0.2, 0.5, 0.7, 0.75, 0.8,\n",
       "                                               0.85, 0.9, 0.95]},\n",
       "             return_train_score=True, scoring='recall')"
      ]
     },
     "execution_count": 151,
     "metadata": {},
     "output_type": "execute_result"
    }
   ],
   "source": [
    "pca_gridsearch = GridSearchCV(lr_PCA, \n",
    "                              pca_grid, \n",
    "                              return_train_score=True, \n",
    "                              scoring='recall')\n",
    "\n",
    "pca_gridsearch.fit(X_train_clean, y_train)"
   ]
  },
  {
   "cell_type": "code",
   "execution_count": 152,
   "metadata": {},
   "outputs": [
    {
     "data": {
      "text/plain": [
       "{'pca__n_components': 0.8}"
      ]
     },
     "execution_count": 152,
     "metadata": {},
     "output_type": "execute_result"
    }
   ],
   "source": [
    "pca_gridsearch.best_params_"
   ]
  },
  {
   "cell_type": "code",
   "execution_count": 153,
   "metadata": {},
   "outputs": [
    {
     "data": {
      "text/plain": [
       "0.6980609636184858"
      ]
     },
     "execution_count": 153,
     "metadata": {},
     "output_type": "execute_result"
    }
   ],
   "source": [
    "pca_gridsearch.best_score_"
   ]
  },
  {
   "cell_type": "code",
   "execution_count": 155,
   "metadata": {},
   "outputs": [
    {
     "data": {
      "text/plain": [
       "39"
      ]
     },
     "execution_count": 155,
     "metadata": {},
     "output_type": "execute_result"
    }
   ],
   "source": [
    "pca_gridsearch.best_estimator_[1].n_components_"
   ]
  },
  {
   "cell_type": "markdown",
   "metadata": {},
   "source": [
    "The PCA that kept 80% of the variance of the model is the one that performs the best. Using Principal Component Analysis, the Logistic Regression model performed about 1% better on recall than without PCA. "
   ]
  },
  {
   "cell_type": "markdown",
   "metadata": {},
   "source": [
    "#### Best Logistic Regression with PCA"
   ]
  },
  {
   "cell_type": "code",
   "execution_count": 196,
   "metadata": {},
   "outputs": [
    {
     "data": {
      "text/plain": [
       "Pipeline(steps=[('ss', StandardScaler()), ('pca', PCA(n_components=0.8)),\n",
       "                ('lr',\n",
       "                 LogisticRegression(C=1e-07, class_weight='balanced',\n",
       "                                    max_iter=1000, random_state=42,\n",
       "                                    solver='liblinear', tol=1e-07))])"
      ]
     },
     "execution_count": 196,
     "metadata": {},
     "output_type": "execute_result"
    }
   ],
   "source": [
    "lr_PCA = Pipeline(steps=[('ss', StandardScaler()),\n",
    "                         ('pca', PCA(n_components=0.8)),\n",
    "                         ('lr', LogisticRegression(class_weight='balanced',\n",
    "                                                   solver = 'liblinear',\n",
    "                                                   C = 1e-07,\n",
    "                                                   tol = 1e-07,\n",
    "                                                   max_iter=1000,\n",
    "                                                   random_state=42))\n",
    "])\n",
    "\n",
    "lr_PCA.fit(X_train_clean, y_train)"
   ]
  },
  {
   "cell_type": "code",
   "execution_count": 197,
   "metadata": {
    "scrolled": true
   },
   "outputs": [
    {
     "name": "stdout",
     "output_type": "stream",
     "text": [
      "[0.54857023 0.55529857 0.55067283 0.54730866 0.54667788]\n",
      "Training Accuracy 0.5497056349873843\n",
      "##############\n",
      "[0.54079058 0.54667788 0.55845248 0.53322119 0.55929352]\n",
      "Cross_Val Accuracy 0.5476871320437342\n",
      "##############\n",
      "Training Recall: 0.6991559995067209\n",
      "Cross_Val Recall: 0.6962871189773845\n"
     ]
    }
   ],
   "source": [
    "print_cv_scores(lr_PCA, X_train_clean, y_train)"
   ]
  },
  {
   "cell_type": "code",
   "execution_count": 198,
   "metadata": {},
   "outputs": [],
   "source": [
    "lr_acc = 0.5476871320437342\n",
    "lr_rec = 0.6962871189773845"
   ]
  },
  {
   "cell_type": "code",
   "execution_count": 199,
   "metadata": {
    "scrolled": false
   },
   "outputs": [
    {
     "data": {
      "image/png": "[encoded data removed]",
      "text/plain": [
       "<Figure size 432x288 with 2 Axes>"
      ]
     },
     "metadata": {
      "needs_background": "light"
     },
     "output_type": "display_data"
    }
   ],
   "source": [
    "plot_confusion_matrix(lr_PCA, \n",
    "                      X_train_clean, \n",
    "                      y_train, \n",
    "                      normalize='true',\n",
    "                      display_labels= ['Retention', 'Turnover']);"
   ]
  },
  {
   "cell_type": "code",
   "execution_count": 200,
   "metadata": {},
   "outputs": [
    {
     "data": {
      "text/plain": [
       "77"
      ]
     },
     "execution_count": 200,
     "metadata": {},
     "output_type": "execute_result"
    }
   ],
   "source": [
    "len(ohe_feature_names)"
   ]
  },
  {
   "cell_type": "code",
   "execution_count": 201,
   "metadata": {},
   "outputs": [
    {
     "data": {
      "text/plain": [
       "39"
      ]
     },
     "execution_count": 201,
     "metadata": {},
     "output_type": "execute_result"
    }
   ],
   "source": [
    "lr_PCA[1].n_components_"
   ]
  },
  {
   "cell_type": "code",
   "execution_count": 202,
   "metadata": {},
   "outputs": [
    {
     "data": {
      "text/plain": [
       "array([0.11405829, 0.05828288, 0.04870678, 0.03241171, 0.02890407,\n",
       "       0.02510801, 0.02332368, 0.02232165, 0.01987881, 0.01952622,\n",
       "       0.01858635, 0.01705375, 0.01636431, 0.01575433, 0.01564298,\n",
       "       0.01545155, 0.01519688, 0.01479706, 0.01457451, 0.01431715,\n",
       "       0.01395437, 0.01395201, 0.01374047, 0.013551  , 0.01352098,\n",
       "       0.01349132, 0.01343007, 0.01336903, 0.01332781, 0.01332001,\n",
       "       0.01331564, 0.01329995, 0.01327519, 0.01326033, 0.01324003,\n",
       "       0.01321464, 0.01320674, 0.01317944, 0.01316477])"
      ]
     },
     "execution_count": 202,
     "metadata": {},
     "output_type": "execute_result"
    }
   ],
   "source": [
    "lr_PCA[1].explained_variance_ratio_"
   ]
  },
  {
   "cell_type": "code",
   "execution_count": 203,
   "metadata": {},
   "outputs": [],
   "source": [
    "def create_importance_dataframe(pca):\n",
    "\n",
    "    # Change pcs components ndarray to a dataframe\n",
    "    importance_df  = pd.DataFrame(pca.components_)\n",
    "\n",
    "    # Assign columns\n",
    "    importance_df.columns  = ohe_feature_names\n",
    "\n",
    "    # Change to absolute values\n",
    "    importance_df =importance_df.apply(np.abs)\n",
    "\n",
    "    # Transpose\n",
    "    importance_df=importance_df.transpose()\n",
    "\n",
    "    # Change column names again\n",
    "\n",
    "    ## First get number of pcs\n",
    "    num_pcs = importance_df.shape[1]\n",
    "\n",
    "    ## Generate the new column names\n",
    "    new_columns = [f'PC{i}' for i in range(1, num_pcs + 1)]\n",
    "\n",
    "    ## Now rename\n",
    "    importance_df.columns  =new_columns\n",
    "\n",
    "    # Return importance df\n",
    "    return importance_df\n"
   ]
  },
  {
   "cell_type": "code",
   "execution_count": 204,
   "metadata": {
    "scrolled": true
   },
   "outputs": [
    {
     "data": {
      "text/html": [
       "<div>\n",
       "<style scoped>\n",
       "    .dataframe tbody tr th:only-of-type {\n",
       "        vertical-align: middle;\n",
       "    }\n",
       "\n",
       "    .dataframe tbody tr th {\n",
       "        vertical-align: top;\n",
       "    }\n",
       "\n",
       "    .dataframe thead th {\n",
       "        text-align: right;\n",
       "    }\n",
       "</style>\n",
       "<table border=\"1\" class=\"dataframe\">\n",
       "  <thead>\n",
       "    <tr style=\"text-align: right;\">\n",
       "      <th></th>\n",
       "      <th>PC1</th>\n",
       "      <th>PC2</th>\n",
       "      <th>PC3</th>\n",
       "      <th>PC4</th>\n",
       "      <th>PC5</th>\n",
       "      <th>PC6</th>\n",
       "      <th>PC7</th>\n",
       "      <th>PC8</th>\n",
       "      <th>PC9</th>\n",
       "      <th>PC10</th>\n",
       "      <th>...</th>\n",
       "      <th>PC30</th>\n",
       "      <th>PC31</th>\n",
       "      <th>PC32</th>\n",
       "      <th>PC33</th>\n",
       "      <th>PC34</th>\n",
       "      <th>PC35</th>\n",
       "      <th>PC36</th>\n",
       "      <th>PC37</th>\n",
       "      <th>PC38</th>\n",
       "      <th>PC39</th>\n",
       "    </tr>\n",
       "  </thead>\n",
       "  <tbody>\n",
       "    <tr>\n",
       "      <th>ohe__x0_TEACHER,SPEC EDUCATION</th>\n",
       "      <td>0.029606</td>\n",
       "      <td>0.001615</td>\n",
       "      <td>0.000503</td>\n",
       "      <td>0.017213</td>\n",
       "      <td>0.143520</td>\n",
       "      <td>0.002570</td>\n",
       "      <td>0.005794</td>\n",
       "      <td>0.122205</td>\n",
       "      <td>0.061482</td>\n",
       "      <td>0.032753</td>\n",
       "      <td>...</td>\n",
       "      <td>0.086494</td>\n",
       "      <td>0.023853</td>\n",
       "      <td>0.014110</td>\n",
       "      <td>0.000239</td>\n",
       "      <td>0.033176</td>\n",
       "      <td>0.019649</td>\n",
       "      <td>0.007527</td>\n",
       "      <td>0.026249</td>\n",
       "      <td>0.041651</td>\n",
       "      <td>0.036283</td>\n",
       "    </tr>\n",
       "    <tr>\n",
       "      <th>ohe__x1_ELEMENTARY SCHOOL</th>\n",
       "      <td>0.004865</td>\n",
       "      <td>0.362659</td>\n",
       "      <td>0.163322</td>\n",
       "      <td>0.211459</td>\n",
       "      <td>0.083530</td>\n",
       "      <td>0.120961</td>\n",
       "      <td>0.018410</td>\n",
       "      <td>0.087504</td>\n",
       "      <td>0.120130</td>\n",
       "      <td>0.091444</td>\n",
       "      <td>...</td>\n",
       "      <td>0.007659</td>\n",
       "      <td>0.001067</td>\n",
       "      <td>0.001947</td>\n",
       "      <td>0.007139</td>\n",
       "      <td>0.000667</td>\n",
       "      <td>0.002076</td>\n",
       "      <td>0.023845</td>\n",
       "      <td>0.007887</td>\n",
       "      <td>0.001172</td>\n",
       "      <td>0.014728</td>\n",
       "    </tr>\n",
       "    <tr>\n",
       "      <th>ohe__x1_HIGH SCHOOL</th>\n",
       "      <td>0.004687</td>\n",
       "      <td>0.363214</td>\n",
       "      <td>0.122668</td>\n",
       "      <td>0.171493</td>\n",
       "      <td>0.027888</td>\n",
       "      <td>0.115611</td>\n",
       "      <td>0.130560</td>\n",
       "      <td>0.005111</td>\n",
       "      <td>0.169761</td>\n",
       "      <td>0.010935</td>\n",
       "      <td>...</td>\n",
       "      <td>0.003343</td>\n",
       "      <td>0.008236</td>\n",
       "      <td>0.023552</td>\n",
       "      <td>0.004799</td>\n",
       "      <td>0.001394</td>\n",
       "      <td>0.005997</td>\n",
       "      <td>0.006743</td>\n",
       "      <td>0.007526</td>\n",
       "      <td>0.000067</td>\n",
       "      <td>0.000477</td>\n",
       "    </tr>\n",
       "    <tr>\n",
       "      <th>ohe__x1_MIDDLE SCHOOL</th>\n",
       "      <td>0.012827</td>\n",
       "      <td>0.017275</td>\n",
       "      <td>0.093393</td>\n",
       "      <td>0.002824</td>\n",
       "      <td>0.073193</td>\n",
       "      <td>0.057934</td>\n",
       "      <td>0.178130</td>\n",
       "      <td>0.205138</td>\n",
       "      <td>0.490578</td>\n",
       "      <td>0.155410</td>\n",
       "      <td>...</td>\n",
       "      <td>0.000745</td>\n",
       "      <td>0.005292</td>\n",
       "      <td>0.010736</td>\n",
       "      <td>0.006470</td>\n",
       "      <td>0.011719</td>\n",
       "      <td>0.015149</td>\n",
       "      <td>0.009600</td>\n",
       "      <td>0.002702</td>\n",
       "      <td>0.001089</td>\n",
       "      <td>0.003537</td>\n",
       "    </tr>\n",
       "    <tr>\n",
       "      <th>ohe__x2_M</th>\n",
       "      <td>0.000935</td>\n",
       "      <td>0.150581</td>\n",
       "      <td>0.053592</td>\n",
       "      <td>0.101927</td>\n",
       "      <td>0.000604</td>\n",
       "      <td>0.074113</td>\n",
       "      <td>0.014739</td>\n",
       "      <td>0.040349</td>\n",
       "      <td>0.000620</td>\n",
       "      <td>0.013176</td>\n",
       "      <td>...</td>\n",
       "      <td>0.020662</td>\n",
       "      <td>0.000135</td>\n",
       "      <td>0.024299</td>\n",
       "      <td>0.009403</td>\n",
       "      <td>0.010517</td>\n",
       "      <td>0.005311</td>\n",
       "      <td>0.045481</td>\n",
       "      <td>0.025352</td>\n",
       "      <td>0.004084</td>\n",
       "      <td>0.027194</td>\n",
       "    </tr>\n",
       "  </tbody>\n",
       "</table>\n",
       "<p>5 rows × 39 columns</p>\n",
       "</div>"
      ],
      "text/plain": [
       "                                     PC1       PC2       PC3       PC4  \\\n",
       "ohe__x0_TEACHER,SPEC EDUCATION  0.029606  0.001615  0.000503  0.017213   \n",
       "ohe__x1_ELEMENTARY SCHOOL       0.004865  0.362659  0.163322  0.211459   \n",
       "ohe__x1_HIGH SCHOOL             0.004687  0.363214  0.122668  0.171493   \n",
       "ohe__x1_MIDDLE SCHOOL           0.012827  0.017275  0.093393  0.002824   \n",
       "ohe__x2_M                       0.000935  0.150581  0.053592  0.101927   \n",
       "\n",
       "                                     PC5       PC6       PC7       PC8  \\\n",
       "ohe__x0_TEACHER,SPEC EDUCATION  0.143520  0.002570  0.005794  0.122205   \n",
       "ohe__x1_ELEMENTARY SCHOOL       0.083530  0.120961  0.018410  0.087504   \n",
       "ohe__x1_HIGH SCHOOL             0.027888  0.115611  0.130560  0.005111   \n",
       "ohe__x1_MIDDLE SCHOOL           0.073193  0.057934  0.178130  0.205138   \n",
       "ohe__x2_M                       0.000604  0.074113  0.014739  0.040349   \n",
       "\n",
       "                                     PC9      PC10  ...      PC30      PC31  \\\n",
       "ohe__x0_TEACHER,SPEC EDUCATION  0.061482  0.032753  ...  0.086494  0.023853   \n",
       "ohe__x1_ELEMENTARY SCHOOL       0.120130  0.091444  ...  0.007659  0.001067   \n",
       "ohe__x1_HIGH SCHOOL             0.169761  0.010935  ...  0.003343  0.008236   \n",
       "ohe__x1_MIDDLE SCHOOL           0.490578  0.155410  ...  0.000745  0.005292   \n",
       "ohe__x2_M                       0.000620  0.013176  ...  0.020662  0.000135   \n",
       "\n",
       "                                    PC32      PC33      PC34      PC35  \\\n",
       "ohe__x0_TEACHER,SPEC EDUCATION  0.014110  0.000239  0.033176  0.019649   \n",
       "ohe__x1_ELEMENTARY SCHOOL       0.001947  0.007139  0.000667  0.002076   \n",
       "ohe__x1_HIGH SCHOOL             0.023552  0.004799  0.001394  0.005997   \n",
       "ohe__x1_MIDDLE SCHOOL           0.010736  0.006470  0.011719  0.015149   \n",
       "ohe__x2_M                       0.024299  0.009403  0.010517  0.005311   \n",
       "\n",
       "                                    PC36      PC37      PC38      PC39  \n",
       "ohe__x0_TEACHER,SPEC EDUCATION  0.007527  0.026249  0.041651  0.036283  \n",
       "ohe__x1_ELEMENTARY SCHOOL       0.023845  0.007887  0.001172  0.014728  \n",
       "ohe__x1_HIGH SCHOOL             0.006743  0.007526  0.000067  0.000477  \n",
       "ohe__x1_MIDDLE SCHOOL           0.009600  0.002702  0.001089  0.003537  \n",
       "ohe__x2_M                       0.045481  0.025352  0.004084  0.027194  \n",
       "\n",
       "[5 rows x 39 columns]"
      ]
     },
     "metadata": {},
     "output_type": "display_data"
    }
   ],
   "source": [
    "importance_df=create_importance_dataframe(lr_PCA[1])\n",
    "display(importance_df.head())"
   ]
  },
  {
   "cell_type": "code",
   "execution_count": 205,
   "metadata": {
    "scrolled": true
   },
   "outputs": [
    {
     "name": "stdout",
     "output_type": "stream",
     "text": [
      "\n",
      "PC1 top 10 features are\n"
     ]
    },
    {
     "data": {
      "text/plain": [
       "Clim Score                         0.306016\n",
       "Overall Score                      0.303483\n",
       "Attendance (95%+) Score            0.296413\n",
       "Ach Score                          0.293234\n",
       "Retention Score                    0.283305\n",
       "OSS Score                          0.246988\n",
       "Economically Disadvantaged Rate    0.226529\n",
       "Percent Asian                      0.213329\n",
       "Percent IEP                        0.208463\n",
       "Percent White                      0.197804\n",
       "Name: PC1, dtype: float64"
      ]
     },
     "metadata": {},
     "output_type": "display_data"
    }
   ],
   "source": [
    "pc1_top_10_features = importance_df['PC1'].sort_values(ascending = False)[:10]\n",
    "print(), print(f'PC1 top 10 features are')\n",
    "display(pc1_top_10_features)"
   ]
  },
  {
   "cell_type": "code",
   "execution_count": 195,
   "metadata": {
    "scrolled": true
   },
   "outputs": [
    {
     "name": "stdout",
     "output_type": "stream",
     "text": [
      "\n",
      "PC2 top 10 features are\n"
     ]
    },
    {
     "data": {
      "text/plain": [
       "ohe__x1_HIGH SCHOOL                  0.363207\n",
       "ohe__x1_ELEMENTARY SCHOOL            0.362654\n",
       "ohe__x4_Neighborhood                 0.331782\n",
       "ohe__x4_Special Admit                0.319042\n",
       "Student Survey Teaching Score        0.259789\n",
       "Percent ELL                          0.207613\n",
       "Percent Multi-Race                   0.203065\n",
       "Percent Hispanic                     0.197211\n",
       "Parent Survey Participation Score    0.184256\n",
       "Percent Black/African American       0.180343\n",
       "Name: PC2, dtype: float64"
      ]
     },
     "metadata": {},
     "output_type": "display_data"
    }
   ],
   "source": [
    "pc2_top_10_features = importance_df['PC2'].sort_values(ascending = False)[:10]\n",
    "print(), print(f'PC2 top 10 features are')\n",
    "display(pc2_top_10_features)"
   ]
  },
  {
   "cell_type": "markdown",
   "metadata": {},
   "source": [
    "#### K-Neighbors Classification"
   ]
  },
  {
   "cell_type": "code",
   "execution_count": 82,
   "metadata": {},
   "outputs": [
    {
     "data": {
      "text/plain": [
       "Pipeline(steps=[('ss', StandardScaler()), ('knn', KNeighborsClassifier())])"
      ]
     },
     "execution_count": 82,
     "metadata": {},
     "output_type": "execute_result"
    }
   ],
   "source": [
    "knn_pipe = Pipeline(steps=[\n",
    "    ('ss', StandardScaler()),\n",
    "    ('knn', KNeighborsClassifier())\n",
    "])\n",
    "knn_pipe.fit(X_train_clean, y_train)"
   ]
  },
  {
   "cell_type": "code",
   "execution_count": 83,
   "metadata": {
    "scrolled": true
   },
   "outputs": [
    {
     "name": "stdout",
     "output_type": "stream",
     "text": [
      "[0.82884777 0.83410429 0.83746846 0.83368377 0.82926829]\n",
      "Training Accuracy 0.8326745164003364\n",
      "##############\n",
      "[0.78805719 0.78973928 0.78469302 0.78216989 0.79310345]\n",
      "Cross_Val Accuracy 0.7875525651808243\n",
      "##############\n",
      "Training Recall: 0.23956098162535455\n",
      "Cross_Val Recall: 0.10656440511307767\n"
     ]
    }
   ],
   "source": [
    "print_cv_scores(knn_pipe, X_train_clean, y_train)"
   ]
  },
  {
   "cell_type": "code",
   "execution_count": 84,
   "metadata": {
    "scrolled": true
   },
   "outputs": [
    {
     "data": {
      "image/png": "[encoded data removed]",
      "text/plain": [
       "<Figure size 432x288 with 2 Axes>"
      ]
     },
     "metadata": {
      "needs_background": "light"
     },
     "output_type": "display_data"
    }
   ],
   "source": [
    "plot_confusion_matrix(knn_pipe, \n",
    "                      X_train_clean, \n",
    "                      y_train, \n",
    "                      normalize='true',\n",
    "                      display_labels= ['Retention', 'Turnover']);"
   ]
  },
  {
   "cell_type": "markdown",
   "metadata": {},
   "source": [
    "The k-nearest neighbors classifier is doing well to predict retention, but struggles to identify teachers who are leaving, which is the main focus of this project. Let's see if we can improve the performance of the model by trying out different hyperparameters like the number of neighbors and the distance metric."
   ]
  },
  {
   "cell_type": "code",
   "execution_count": null,
   "metadata": {},
   "outputs": [],
   "source": [
    "# knn_pipe = Pipeline(steps=[\n",
    "#     ('ss', StandardScaler()),\n",
    "#     ('knn', KNeighborsClassifier())\n",
    "# ])\n",
    "\n",
    "# knn_grid = {'knn__n_neighbors': [3, 5, 7],\n",
    "#             'knn__p': [1, 2, 3]}\n",
    "\n",
    "# knn_gridsearch = GridSearchCV(knn_pipe, \n",
    "#                               knn_grid, \n",
    "#                               return_train_score=True, \n",
    "#                               scoring='recall')\n",
    "\n",
    "# knn_gridsearch.fit(X_train_clean, y_train)"
   ]
  },
  {
   "cell_type": "code",
   "execution_count": null,
   "metadata": {
    "scrolled": true
   },
   "outputs": [],
   "source": [
    "# knn_gridsearch.best_params_"
   ]
  },
  {
   "cell_type": "markdown",
   "metadata": {},
   "source": [
    "The grid search performed above has been commented out to save runtime when rerunning this notebook, however, the best parameters are used in the below knn pipeline."
   ]
  },
  {
   "cell_type": "code",
   "execution_count": 136,
   "metadata": {},
   "outputs": [
    {
     "data": {
      "text/plain": [
       "Pipeline(steps=[('ss', StandardScaler()), ('sm', SMOTE()),\n",
       "                ('knn', KNeighborsClassifier(n_neighbors=3))])"
      ]
     },
     "execution_count": 136,
     "metadata": {},
     "output_type": "execute_result"
    }
   ],
   "source": [
    "knn_pipe_best = imbpipe(steps=[('ss', StandardScaler()),\n",
    "                               ('sm', SMOTE()),\n",
    "                               ('knn', KNeighborsClassifier(n_neighbors=3, p=2))\n",
    "])\n",
    "\n",
    "knn_pipe_best.fit(X_train_clean, y_train)"
   ]
  },
  {
   "cell_type": "code",
   "execution_count": 137,
   "metadata": {},
   "outputs": [
    {
     "name": "stdout",
     "output_type": "stream",
     "text": [
      "[0.84629941 0.85176619 0.85723297 0.85470984 0.84924306]\n",
      "Training Accuracy 0.8518502943650127\n",
      "##############\n",
      "[0.686291   0.69974769 0.66778806 0.68713204 0.67872161]\n",
      "Cross_Val Accuracy 0.6839360807401178\n",
      "##############\n",
      "Training Recall: 0.7084834134911826\n",
      "Cross_Val Recall: 0.3321297935103245\n"
     ]
    }
   ],
   "source": [
    "print_cv_scores(knn_pipe_best, X_train_clean, y_train)"
   ]
  },
  {
   "cell_type": "code",
   "execution_count": 138,
   "metadata": {},
   "outputs": [],
   "source": [
    "knn_acc = 0.6839360807401178\n",
    "knn_rec = 0.3321297935103245"
   ]
  },
  {
   "cell_type": "code",
   "execution_count": 139,
   "metadata": {},
   "outputs": [
    {
     "data": {
      "image/png": "[encoded data removed]",
      "text/plain": [
       "<Figure size 432x288 with 2 Axes>"
      ]
     },
     "metadata": {
      "needs_background": "light"
     },
     "output_type": "display_data"
    }
   ],
   "source": [
    "plot_confusion_matrix(knn_pipe_best, \n",
    "                      X_train_clean, \n",
    "                      y_train, \n",
    "                      normalize='true',\n",
    "                      display_labels= ['Retention', 'Turnover']);"
   ]
  },
  {
   "cell_type": "markdown",
   "metadata": {},
   "source": [
    "Based on the performance of the K-Nearest Neighbors Classifier, with only 33% recall, I don't think it's wise to explore this classifier any further."
   ]
  },
  {
   "cell_type": "markdown",
   "metadata": {},
   "source": [
    "#### Decision Tree"
   ]
  },
  {
   "cell_type": "code",
   "execution_count": 89,
   "metadata": {},
   "outputs": [
    {
     "data": {
      "text/plain": [
       "Pipeline(steps=[('ss', StandardScaler()), ('pca', PCA(n_components=0.8)),\n",
       "                ('dtc', DecisionTreeClassifier(class_weight='balanced'))])"
      ]
     },
     "execution_count": 89,
     "metadata": {},
     "output_type": "execute_result"
    }
   ],
   "source": [
    "dtc_pipe = Pipeline(steps=[\n",
    "    ('ss', StandardScaler()),\n",
    "    ('pca', PCA(n_components=0.8)),\n",
    "    ('dtc', DecisionTreeClassifier(class_weight='balanced'))\n",
    "])\n",
    "dtc_pipe.fit(X_train_clean, y_train)"
   ]
  },
  {
   "cell_type": "code",
   "execution_count": 90,
   "metadata": {},
   "outputs": [
    {
     "data": {
      "text/plain": [
       "36"
      ]
     },
     "execution_count": 90,
     "metadata": {},
     "output_type": "execute_result"
    }
   ],
   "source": [
    "dtc_pipe[-1].get_depth()"
   ]
  },
  {
   "cell_type": "code",
   "execution_count": 91,
   "metadata": {},
   "outputs": [
    {
     "name": "stdout",
     "output_type": "stream",
     "text": [
      "[0.90117746 0.90117746 0.90306981 0.90517241 0.90412111]\n",
      "Training Accuracy 0.9029436501261564\n",
      "##############\n",
      "[0.66021867 0.66778806 0.67031119 0.65601346 0.6804037 ]\n",
      "Cross_Val Accuracy 0.6669470142977293\n",
      "##############\n",
      "Training Recall: 0.9777972623011468\n",
      "Cross_Val Recall: 0.2983834808259587\n"
     ]
    }
   ],
   "source": [
    "print_cv_scores(dtc_pipe, X_train_clean, y_train)"
   ]
  },
  {
   "cell_type": "markdown",
   "metadata": {},
   "source": [
    "With default hyperparameters, it's clear that the decision tree is overfitting. Let's prune the tree using GridSearchCV"
   ]
  },
  {
   "cell_type": "code",
   "execution_count": 92,
   "metadata": {},
   "outputs": [],
   "source": [
    "dtc_pipe = Pipeline(steps=[\n",
    "    ('ss', StandardScaler()),\n",
    "    ('pca', PCA()),\n",
    "    ('dtc', DecisionTreeClassifier(class_weight='balanced', \n",
    "                                   random_state=42))\n",
    "])"
   ]
  },
  {
   "cell_type": "code",
   "execution_count": 93,
   "metadata": {},
   "outputs": [],
   "source": [
    "dtc_grid = {'pca__n_components': [0.75, 0.8, 0.85, 0.9],\n",
    "            'dtc__max_depth': [5, 6, 7],\n",
    "            'dtc__min_samples_leaf': [1, 2, 3],\n",
    "            'dtc__max_features': ['auto', 'sqrt', 'log2']}"
   ]
  },
  {
   "cell_type": "code",
   "execution_count": 94,
   "metadata": {},
   "outputs": [
    {
     "data": {
      "text/plain": [
       "GridSearchCV(estimator=Pipeline(steps=[('ss', StandardScaler()), ('pca', PCA()),\n",
       "                                       ('dtc',\n",
       "                                        DecisionTreeClassifier(class_weight='balanced',\n",
       "                                                               random_state=42))]),\n",
       "             param_grid={'dtc__max_depth': [5, 6, 7, 8],\n",
       "                         'dtc__max_features': ['auto', 'sqrt', 'log2'],\n",
       "                         'dtc__min_samples_leaf': [1, 2, 3],\n",
       "                         'pca__n_components': [0.75, 0.8, 0.85, 0.9]},\n",
       "             scoring='recall')"
      ]
     },
     "execution_count": 94,
     "metadata": {},
     "output_type": "execute_result"
    }
   ],
   "source": [
    "dtc_gridsearch = GridSearchCV(dtc_pipe, \n",
    "                              dtc_grid, \n",
    "                              scoring='recall')\n",
    "\n",
    "dtc_gridsearch.fit(X_train_clean, y_train)"
   ]
  },
  {
   "cell_type": "code",
   "execution_count": 95,
   "metadata": {},
   "outputs": [
    {
     "data": {
      "text/plain": [
       "{'dtc__max_depth': 5,\n",
       " 'dtc__max_features': 'log2',\n",
       " 'dtc__min_samples_leaf': 2,\n",
       " 'pca__n_components': 0.8}"
      ]
     },
     "execution_count": 95,
     "metadata": {},
     "output_type": "execute_result"
    }
   ],
   "source": [
    "dtc_gridsearch.best_params_"
   ]
  },
  {
   "cell_type": "code",
   "execution_count": 96,
   "metadata": {
    "scrolled": false
   },
   "outputs": [
    {
     "name": "stdout",
     "output_type": "stream",
     "text": [
      "[0.504836   0.58326325 0.66042893 0.51198486 0.48780488]\n",
      "Training Accuracy 0.549663582842725\n",
      "##############\n",
      "[0.45584525 0.55929352 0.63414634 0.48864592 0.48107653]\n",
      "Cross_Val Accuracy 0.5238015138772077\n",
      "##############\n",
      "Training Recall: 0.7262658774201505\n",
      "Cross_Val Recall: 0.6508790560471975\n"
     ]
    }
   ],
   "source": [
    "print_cv_scores(dtc_gridsearch.best_estimator_, X_train_clean, y_train)"
   ]
  },
  {
   "cell_type": "code",
   "execution_count": 97,
   "metadata": {},
   "outputs": [],
   "source": [
    "dtc_acc = 0.5238015138772077\n",
    "dtc_rec = 0.6508790560471975"
   ]
  },
  {
   "cell_type": "code",
   "execution_count": 98,
   "metadata": {
    "scrolled": true
   },
   "outputs": [
    {
     "data": {
      "image/png": "[encoded data removed]",
      "text/plain": [
       "<Figure size 432x288 with 2 Axes>"
      ]
     },
     "metadata": {
      "needs_background": "light"
     },
     "output_type": "display_data"
    }
   ],
   "source": [
    "dtc_gridsearch.best_estimator_.fit(X_train_clean, y_train)\n",
    "plot_confusion_matrix(dtc_gridsearch.best_estimator_, \n",
    "                      X_train_clean, \n",
    "                      y_train,\n",
    "                      normalize = 'true',\n",
    "                      display_labels= ['Retention', 'Turnover']);"
   ]
  },
  {
   "cell_type": "code",
   "execution_count": 99,
   "metadata": {},
   "outputs": [
    {
     "data": {
      "text/plain": [
       "array([ 2.60078312e-01,  9.73720484e-02,  1.55234682e-01,  3.94634299e-02,\n",
       "        9.58669002e-02,  2.07937856e-02,  5.32360037e-03,  5.08775254e-02,\n",
       "        2.18712825e-02,  7.82476855e-04,  0.00000000e+00,  0.00000000e+00,\n",
       "        1.48990853e-02,  1.03300859e-02,  0.00000000e+00,  0.00000000e+00,\n",
       "        0.00000000e+00,  1.42256028e-02,  0.00000000e+00,  3.09868525e-02,\n",
       "        6.18151551e-02,  7.25946673e-02,  0.00000000e+00,  0.00000000e+00,\n",
       "        1.95701742e-02,  0.00000000e+00,  2.74723335e-03,  0.00000000e+00,\n",
       "        1.72103021e-02,  0.00000000e+00,  0.00000000e+00,  7.95679837e-03,\n",
       "        0.00000000e+00,  0.00000000e+00,  0.00000000e+00,  0.00000000e+00,\n",
       "       -2.46008545e-18,  0.00000000e+00,  0.00000000e+00])"
      ]
     },
     "execution_count": 99,
     "metadata": {},
     "output_type": "execute_result"
    }
   ],
   "source": [
    "dtc_gridsearch.best_estimator_[-1].feature_importances_"
   ]
  },
  {
   "cell_type": "code",
   "execution_count": 100,
   "metadata": {},
   "outputs": [
    {
     "data": {
      "text/plain": [
       "39"
      ]
     },
     "execution_count": 100,
     "metadata": {},
     "output_type": "execute_result"
    }
   ],
   "source": [
    "dtc_gridsearch.best_estimator_[-1].n_features_in_"
   ]
  },
  {
   "cell_type": "code",
   "execution_count": 102,
   "metadata": {},
   "outputs": [
    {
     "data": {
      "image/png": "[encoded data removed]",
      "text/plain": [
       "<Figure size 1296x864 with 1 Axes>"
      ]
     },
     "metadata": {
      "needs_background": "light"
     },
     "output_type": "display_data"
    }
   ],
   "source": [
    "plt.figure(figsize=(18,12)) \n",
    "plot_tree(dtc_gridsearch.best_estimator_[-1], \n",
    "          feature_names=ohe_feature_names, \n",
    "          fontsize=12)\n",
    "plt.show()"
   ]
  },
  {
   "cell_type": "markdown",
   "metadata": {},
   "source": [
    "Pruning has helped to make the decision tree model less overfit and perform better on the recall during cross validation. Let's try a random forest model to see if scores will imporve further."
   ]
  },
  {
   "cell_type": "markdown",
   "metadata": {},
   "source": [
    "#### Random Forest"
   ]
  },
  {
   "cell_type": "code",
   "execution_count": 103,
   "metadata": {},
   "outputs": [
    {
     "data": {
      "text/plain": [
       "Pipeline(steps=[('ss', StandardScaler()), ('pca', PCA()),\n",
       "                ('rf', RandomForestClassifier())])"
      ]
     },
     "execution_count": 103,
     "metadata": {},
     "output_type": "execute_result"
    }
   ],
   "source": [
    "rf_pipe = Pipeline(steps=[('ss', StandardScaler()),\n",
    "                          ('pca', PCA()),\n",
    "                          ('rf', RandomForestClassifier())])\n",
    "rf_pipe.fit(X_train_clean, y_train)"
   ]
  },
  {
   "cell_type": "code",
   "execution_count": 104,
   "metadata": {},
   "outputs": [
    {
     "name": "stdout",
     "output_type": "stream",
     "text": [
      "[0.93608074 0.936291   0.93902439 0.93797309 0.93860387]\n",
      "Training Accuracy 0.9375946173254835\n",
      "##############\n",
      "[0.75357443 0.76534903 0.74179983 0.74600505 0.75357443]\n",
      "Cross_Val Accuracy 0.7520605550883095\n",
      "##############\n",
      "Training Recall: 0.7329061536564312\n",
      "Cross_Val Recall: 0.1865093411996067\n"
     ]
    }
   ],
   "source": [
    "print_cv_scores(rf_pipe, X_train_clean, y_train)"
   ]
  },
  {
   "cell_type": "code",
   "execution_count": 107,
   "metadata": {},
   "outputs": [],
   "source": [
    "rf_pipe = Pipeline(steps=[('ss', StandardScaler()),\n",
    "                          ('pca', PCA()),\n",
    "                          ('rf', RandomForestClassifier(class_weight='balanced',\n",
    "                                                        n_jobs = -1,\n",
    "                                                        random_state=42))])\n",
    "\n",
    "rf_grid = {'rf__n_estimators': [50, 100],\n",
    "           'rf__max_depth': [5, 10, 15],\n",
    "           'rf__min_samples_leaf': [1, 2],\n",
    "           'rf__max_features': ['sqrt', 'log2'],\n",
    "           'pca__n_components': [0.75, 0.8, 0.9]}"
   ]
  },
  {
   "cell_type": "code",
   "execution_count": 108,
   "metadata": {},
   "outputs": [
    {
     "data": {
      "text/plain": [
       "GridSearchCV(estimator=Pipeline(steps=[('ss', StandardScaler()), ('pca', PCA()),\n",
       "                                       ('rf',\n",
       "                                        RandomForestClassifier(class_weight='balanced',\n",
       "                                                               n_jobs=-1,\n",
       "                                                               random_state=42))]),\n",
       "             param_grid={'pca__n_components': [0.75, 0.8, 0.9],\n",
       "                         'rf__max_depth': [5, 10, 15],\n",
       "                         'rf__max_features': ['sqrt', 'log2'],\n",
       "                         'rf__min_samples_leaf': [1, 2],\n",
       "                         'rf__n_estimators': [50, 100]},\n",
       "             scoring='recall')"
      ]
     },
     "execution_count": 108,
     "metadata": {},
     "output_type": "execute_result"
    }
   ],
   "source": [
    "rf_gridsearch = GridSearchCV(rf_pipe, \n",
    "                             rf_grid, \n",
    "                             scoring='recall')\n",
    "\n",
    "rf_gridsearch.fit(X_train_clean, y_train)"
   ]
  },
  {
   "cell_type": "code",
   "execution_count": 109,
   "metadata": {},
   "outputs": [
    {
     "data": {
      "text/plain": [
       "{'pca__n_components': 0.9,\n",
       " 'rf__max_depth': 5,\n",
       " 'rf__max_features': 'sqrt',\n",
       " 'rf__min_samples_leaf': 1,\n",
       " 'rf__n_estimators': 50}"
      ]
     },
     "execution_count": 109,
     "metadata": {},
     "output_type": "execute_result"
    }
   ],
   "source": [
    "rf_gridsearch.best_params_"
   ]
  },
  {
   "cell_type": "code",
   "execution_count": 110,
   "metadata": {},
   "outputs": [
    {
     "data": {
      "text/plain": [
       "0.5132940019665683"
      ]
     },
     "execution_count": 110,
     "metadata": {},
     "output_type": "execute_result"
    }
   ],
   "source": [
    "rf_gridsearch.best_score_"
   ]
  },
  {
   "cell_type": "code",
   "execution_count": 111,
   "metadata": {
    "scrolled": true
   },
   "outputs": [
    {
     "name": "stdout",
     "output_type": "stream",
     "text": [
      "[0.70836838 0.70374264 0.7195122  0.70584525 0.68902439]\n",
      "Training Accuracy 0.7052985702270816\n",
      "##############\n",
      "[0.6568545  0.66021867 0.64003364 0.63835156 0.66190076]\n",
      "Cross_Val Accuracy 0.6514718250630782\n",
      "##############\n",
      "Training Recall: 0.6625238623751387\n",
      "Cross_Val Recall: 0.5132940019665683\n"
     ]
    }
   ],
   "source": [
    "print_cv_scores(rf_gridsearch.best_estimator_, X_train_clean, y_train)"
   ]
  },
  {
   "cell_type": "code",
   "execution_count": 112,
   "metadata": {},
   "outputs": [],
   "source": [
    "rf_acc = 0.6514718250630782\n",
    "rf_rec = 0.5132940019665683"
   ]
  },
  {
   "cell_type": "code",
   "execution_count": 113,
   "metadata": {
    "scrolled": true
   },
   "outputs": [
    {
     "data": {
      "image/png": "[encoded data removed]",
      "text/plain": [
       "<Figure size 432x288 with 2 Axes>"
      ]
     },
     "metadata": {
      "needs_background": "light"
     },
     "output_type": "display_data"
    }
   ],
   "source": [
    "rf_gridsearch.best_estimator_.fit(X_train_clean, y_train)\n",
    "plot_confusion_matrix(rf_gridsearch.best_estimator_, \n",
    "                      X_train_clean, \n",
    "                      y_train,\n",
    "                      normalize = 'true');"
   ]
  },
  {
   "cell_type": "markdown",
   "metadata": {},
   "source": [
    "#### XGBoost"
   ]
  },
  {
   "cell_type": "code",
   "execution_count": 114,
   "metadata": {},
   "outputs": [
    {
     "data": {
      "text/plain": [
       "Pipeline(steps=[('ss', StandardScaler()), ('pca', PCA(n_components=0.9)),\n",
       "                ('xgb',\n",
       "                 XGBClassifier(alpha=10, base_score=0.5, booster='gbtree',\n",
       "                               colsample_bylevel=1, colsample_bynode=1,\n",
       "                               colsample_bytree=0.2, gamma=0, gpu_id=-1,\n",
       "                               importance_type='gain',\n",
       "                               interaction_constraints='', learning_rate=0.3,\n",
       "                               max_delta_step=0, max_depth=6,\n",
       "                               min_child_weight=1, missing=nan,\n",
       "                               monotone_constraints='()', n_estimators=1000,\n",
       "                               n_jobs=0, num_parallel_tree=1, random_state=0,\n",
       "                               reg_alpha=10, reg_lambda=1, scale_pos_weight=1,\n",
       "                               subsample=1, tree_method='exact',\n",
       "                               validate_parameters=1, verbosity=None))])"
      ]
     },
     "execution_count": 114,
     "metadata": {},
     "output_type": "execute_result"
    }
   ],
   "source": [
    "xgb_pipe = Pipeline(steps=[('ss', StandardScaler()),\n",
    "                           ('pca', PCA(n_components=0.9)),\n",
    "                           ('xgb', XGBClassifier(objective ='binary:logistic', \n",
    "                                                 colsample_bytree = 0.2, \n",
    "                                                 learning_rate = 0.3,\n",
    "                                                 max_depth = 6, \n",
    "                                                 alpha = 10, \n",
    "                                                 n_estimators = 1000))])\n",
    "xgb_pipe.fit(X_train_clean, y_train)"
   ]
  },
  {
   "cell_type": "code",
   "execution_count": 115,
   "metadata": {},
   "outputs": [
    {
     "name": "stdout",
     "output_type": "stream",
     "text": [
      "[0.83767872 0.83557611 0.84125315 0.83809924 0.83788898]\n",
      "Training Accuracy 0.8380992430613962\n",
      "##############\n",
      "[0.79730866 0.80151388 0.78973928 0.80656013 0.80740118]\n",
      "Cross_Val Accuracy 0.8005046257359126\n",
      "##############\n",
      "Training Recall: 0.18228092243186583\n",
      "Cross_Val Recall: 0.0648220255653884\n"
     ]
    }
   ],
   "source": [
    "print_cv_scores(xgb_pipe, X_train_clean, y_train)"
   ]
  },
  {
   "cell_type": "code",
   "execution_count": 133,
   "metadata": {},
   "outputs": [
    {
     "data": {
      "text/plain": [
       "Pipeline(steps=[('ss', StandardScaler()), ('pca', PCA(n_components=0.9)),\n",
       "                ('xgb',\n",
       "                 XGBClassifier(alpha=10, base_score=0.5, booster='gbtree',\n",
       "                               colsample_bylevel=1, colsample_bynode=1,\n",
       "                               colsample_bytree=0.2, gamma=0, gpu_id=-1,\n",
       "                               importance_type='gain',\n",
       "                               interaction_constraints='', learning_rate=0.3,\n",
       "                               max_delta_step=0, max_depth=6,\n",
       "                               min_child_weight=1, missing=nan,\n",
       "                               monotone_constraints='()', n_estimators=1000,\n",
       "                               n_jobs=0, num_parallel_tree=1, random_state=0,\n",
       "                               reg_alpha=10, reg_lambda=1, scale_pos_weight=1,\n",
       "                               subsample=1, tree_method='exact',\n",
       "                               validate_parameters=1, verbosity=None))])"
      ]
     },
     "execution_count": 133,
     "metadata": {},
     "output_type": "execute_result"
    }
   ],
   "source": [
    "xgb_pipe_smote = imbpipe(steps=[('ss', StandardScaler()),\n",
    "                                ('sm', SMOTE(random_state=42)),\n",
    "                                ('xgb', XGBClassifier(objective ='binary:logistic', \n",
    "                                                      colsample_bytree = 0.3, \n",
    "                                                      learning_rate = 0.1,\n",
    "                                                      max_depth = 6, \n",
    "                                                      alpha = 10, \n",
    "                                                      n_estimators = 50))])\n",
    "xgb_pipe.fit(X_train_clean, y_train)"
   ]
  },
  {
   "cell_type": "code",
   "execution_count": 134,
   "metadata": {},
   "outputs": [
    {
     "name": "stdout",
     "output_type": "stream",
     "text": [
      "[0.79100084 0.7901598  0.79478553 0.78553406 0.78826745]\n",
      "Training Accuracy 0.7899495374264088\n",
      "##############\n",
      "[0.74011775 0.75946173 0.745164   0.73675357 0.77207738]\n",
      "Cross_Val Accuracy 0.7507148864592094\n",
      "##############\n",
      "Training Recall: 0.3694453076828216\n",
      "Cross_Val Recall: 0.26287905604719763\n"
     ]
    }
   ],
   "source": [
    "print_cv_scores(xgb_pipe_smote, X_train_clean, y_train)"
   ]
  },
  {
   "cell_type": "code",
   "execution_count": 135,
   "metadata": {},
   "outputs": [],
   "source": [
    "xgb_acc = 0.7507148864592094\n",
    "xgb_rec = 0.26287905604719763"
   ]
  },
  {
   "cell_type": "code",
   "execution_count": null,
   "metadata": {},
   "outputs": [],
   "source": []
  },
  {
   "cell_type": "markdown",
   "metadata": {},
   "source": [
    "__Identifying Best Performing Model__"
   ]
  },
  {
   "cell_type": "code",
   "execution_count": 142,
   "metadata": {},
   "outputs": [],
   "source": [
    "X_labels = ['Dummy''\\n''Classification',\n",
    "            'Logistic''\\n''Regression', \n",
    "            'KNN',\n",
    "            'Decision''\\n''Tree',\n",
    "            'Random''\\n''Forest',  \n",
    "            'XGBoost']\n",
    "\n",
    "y1 = [dc_acc, lr_acc, knn_acc, dtc_acc, rf_acc, xgb_acc]\n",
    "y2 = [dc_rec, lr_rec, knn_rec, dtc_rec, rf_rec, xgb_rec]"
   ]
  },
  {
   "cell_type": "code",
   "execution_count": 143,
   "metadata": {
    "scrolled": false
   },
   "outputs": [
    {
     "data": {
      "image/png": "[encoded data removed]",
      "text/plain": [
       "<Figure size 720x576 with 1 Axes>"
      ]
     },
     "metadata": {},
     "output_type": "display_data"
    }
   ],
   "source": [
    "width = 0.35  # the width of the bars\n",
    "x = np.arange(len(X_labels))\n",
    "fig, ax = plt.subplots(figsize=(10,8))\n",
    "\n",
    "rects1 = ax.bar(x - width/2, y1, width, label='Accuracy', color='lightsteelblue')\n",
    "rects2 = ax.bar(x + width/2, y2, width, label='Recall', color='midnightblue')\n",
    "\n",
    "\n",
    "# Add some text for labels, title and custom x-axis tick labels, etc.\n",
    "ax.set_ylabel('Scores (%)')\n",
    "ax.set_title('Model Accuracy and Recall Scores', fontsize=20)\n",
    "ax.set_xticks(x)\n",
    "ax.set_xticklabels(X_labels)\n",
    "ax.legend(bbox_to_anchor=(1.15, 1))\n",
    "\n",
    "fig.tight_layout()\n",
    "#set background color to white\n",
    "fig.patch.set_facecolor('white')\n",
    "plt.show()\n",
    "#save the figure in the images folder\n",
    "#fig.savefig('images/Model_Scores.png')"
   ]
  },
  {
   "cell_type": "markdown",
   "metadata": {},
   "source": []
  },
  {
   "cell_type": "markdown",
   "metadata": {},
   "source": [
    "### Evaluation"
   ]
  },
  {
   "cell_type": "code",
   "execution_count": null,
   "metadata": {},
   "outputs": [],
   "source": []
  },
  {
   "cell_type": "code",
   "execution_count": null,
   "metadata": {},
   "outputs": [],
   "source": []
  },
  {
   "cell_type": "code",
   "execution_count": null,
   "metadata": {},
   "outputs": [],
   "source": []
  },
  {
   "cell_type": "code",
   "execution_count": null,
   "metadata": {},
   "outputs": [],
   "source": []
  },
  {
   "cell_type": "code",
   "execution_count": null,
   "metadata": {},
   "outputs": [],
   "source": []
  },
  {
   "cell_type": "code",
   "execution_count": null,
   "metadata": {},
   "outputs": [],
   "source": []
  },
  {
   "cell_type": "code",
   "execution_count": null,
   "metadata": {},
   "outputs": [],
   "source": []
  },
  {
   "cell_type": "code",
   "execution_count": null,
   "metadata": {},
   "outputs": [],
   "source": []
  },
  {
   "cell_type": "code",
   "execution_count": null,
   "metadata": {},
   "outputs": [],
   "source": []
  },
  {
   "cell_type": "code",
   "execution_count": null,
   "metadata": {},
   "outputs": [],
   "source": []
  },
  {
   "cell_type": "code",
   "execution_count": null,
   "metadata": {},
   "outputs": [],
   "source": []
  },
  {
   "cell_type": "code",
   "execution_count": null,
   "metadata": {},
   "outputs": [],
   "source": []
  }
 ],
 "metadata": {
  "kernelspec": {
   "display_name": "Python (learn-env)",
   "language": "python",
   "name": "learn-env"
  },
  "language_info": {
   "codemirror_mode": {
    "name": "ipython",
    "version": 3
   },
   "file_extension": ".py",
   "mimetype": "text/x-python",
   "name": "python",
   "nbconvert_exporter": "python",
   "pygments_lexer": "ipython3",
   "version": "3.8.5"
  }
 },
 "nbformat": 4,
 "nbformat_minor": 4
}
