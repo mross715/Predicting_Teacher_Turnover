{
 "cells": [
  {
   "cell_type": "markdown",
   "metadata": {},
   "source": [
    "# Predicting Teacher Turnover"
   ]
  },
  {
   "cell_type": "markdown",
   "metadata": {},
   "source": [
    "__Meaghan Ross__\n",
    "\n",
    "Flatiron School Capstone"
   ]
  },
  {
   "cell_type": "markdown",
   "metadata": {},
   "source": [
    "![teacher-turnover](images/teacher-retention-illustration.jpeg)"
   ]
  },
  {
   "cell_type": "markdown",
   "metadata": {},
   "source": [
    "### Business Understanding"
   ]
  },
  {
   "cell_type": "markdown",
   "metadata": {},
   "source": [
    "Teacher turnover has been identified as one of the key factors contributing to teacher shortages, which have been growing since 2015. According to the [Learning Policy Institute](https://learningpolicyinstitute.org/product/teacher-turnover-brief), about 8% of teachers leave the profession each year, two-thirds of them for reasons other than retirement and another 8% shift to different schools each year. Additionally, beginning teachers have the highest turnover rates and somewhere between 40-50% of those that go into teaching are gone within five years.\n",
    "\n",
    "High turnover rates have been found to lower student achievement and are costly for schools. The revolving door of teacher turnover costs school districts upwards of $2.2 billion a year nationally. In 2019, The [Philadelphia Inquirer](https://www.inquirer.com/news/philadephia-district-schools-teacher-turnover-solutions-20190503.html) found that there were 26 schools in the 217 School District of Philadelphia public schools that have lost at least 25 percent of their teachers for four years straight or lost more than one-third in each of the last two school years. Richard Ingersoll, a University of Pennsylvania professor and expert in school staffing, called these findings “appalling.”\n",
    "\n",
    "The goal of this project is to create a classification model for the School District of Philadelphia that predicts which teachers will leave their current school of employment at the end of a school year. This model will allow district administrators to provide intervention in attempts to retain those teachers who are identified as leaving, or to notify school administrators to prepare earlier to hire quality teachers to fill vacancies. \n",
    "\n",
    "The metric of interest for this project is recall. By looking to maximize the recall, the aim is to minimize false negatives where the model predicts that a teacher will stay in their current school when they actually end up leaving. Missing predictions of actual teacher turnover would be costly to the district because they would have to hire and train new teachers unexpectedly. In this circumstance, false positives could also result in monetary cost to provide what could be considered unnecessary intervention, as false positives occur when the model predicts a teacher will leave their school, but they actually stay the following school year. Compared to the costs of false negatives, the costs of false positives could actually end up having a positive effect on long term retention and are not nearly as costly of having to hire and train new teachers."
   ]
  },
  {
   "cell_type": "markdown",
   "metadata": {},
   "source": [
    "### Data Understanding"
   ]
  },
  {
   "cell_type": "markdown",
   "metadata": {},
   "source": [
    "For this project, publicly available data was gathered from the School District of Philadelphia. \n",
    "\n",
    "Research on teacher turnover has shown that occupational factors and student demographic factors influence turnover, so both types of features were incorporated to the final data frame. \n",
    "\n",
    "The many datasets were:\n",
    "* [Employee Information](https://www.philasd.org/performance/programsservices/open-data/district-information/#employee_data): This data included the occupational factors for individual teachers including gender, salary, and their title description.\n",
    "* [School Progress Reports](https://www.philasd.org/performance/programsservices/school-progress-reports/spr-helpful-resources/): This data includes school ratings in the areas of achievement, progress, and climate.\n",
    "* [Student Enrollment & Demographic Information](https://www.philasd.org/performance/programsservices/open-data/school-information/#school_enrollment): This data includes student demographic factors which includes the rates of economically disadvantaged, ELL (English Language Learners), IEP (Special Education), and ethincity by school."
   ]
  },
  {
   "cell_type": "markdown",
   "metadata": {},
   "source": [
    "The final dataset that resulted from merging the occupational factors with student demographic factors contained approximately 8,000 records representing teachers in the School District of Philadelphia from the 2017-2018 school year. Those teachers were identified as either returning to their current placement or having turned over using employee information from the 2018-2019 school year. The preparation of the final dataset can be viewed in the [Data Preparation Notebook](./Data_Prep.ipynb)."
   ]
  },
  {
   "cell_type": "markdown",
   "metadata": {},
   "source": [
    "### Import Dependencies and Data"
   ]
  },
  {
   "cell_type": "code",
   "execution_count": 1,
   "metadata": {},
   "outputs": [],
   "source": [
    "import pandas as pd\n",
    "import numpy as np\n",
    "import seaborn as sns\n",
    "from scipy import stats as stats\n",
    "import matplotlib.pyplot as plt\n",
    "from matplotlib.patches import Patch\n",
    "%matplotlib inline\n",
    "\n",
    "from sklearn.preprocessing import OneHotEncoder, StandardScaler, FunctionTransformer\n",
    "from sklearn.compose import ColumnTransformer\n",
    "from sklearn.pipeline import Pipeline\n",
    "from sklearn.decomposition import PCA\n",
    "\n",
    "from sklearn.dummy import DummyClassifier\n",
    "from sklearn.svm import LinearSVC\n",
    "from sklearn.linear_model import LogisticRegression\n",
    "from sklearn.neighbors import KNeighborsClassifier\n",
    "from sklearn.tree import DecisionTreeClassifier, plot_tree\n",
    "from sklearn.ensemble import RandomForestClassifier\n",
    "from xgboost import XGBClassifier\n",
    "\n",
    "from sklearn.metrics import accuracy_score, recall_score, confusion_matrix,\\\n",
    "plot_confusion_matrix, ConfusionMatrixDisplay\n",
    "from sklearn.model_selection import train_test_split, GridSearchCV,\\\n",
    "cross_validate\n",
    "\n",
    "%run -i 'src.py'"
   ]
  },
  {
   "cell_type": "markdown",
   "metadata": {},
   "source": [
    "Load the data from the [Data Prep](Data_Prep.ipynb) Notebook."
   ]
  },
  {
   "cell_type": "code",
   "execution_count": 2,
   "metadata": {
    "scrolled": false
   },
   "outputs": [
    {
     "name": "stdout",
     "output_type": "stream",
     "text": [
      "2017-2018 Enrollment & Demographics.xlsx\r\n",
      "SPR_SY1718_School_Metric_Scores_20190129.xlsx\r\n",
      "df_2019.csv\r\n",
      "employee_information_April2018.csv\r\n",
      "employee_information_April2019.csv\r\n"
     ]
    }
   ],
   "source": [
    "ls data/"
   ]
  },
  {
   "cell_type": "code",
   "execution_count": 3,
   "metadata": {},
   "outputs": [],
   "source": [
    "df = pd.read_csv('data/df_2019.csv', index_col=0)"
   ]
  },
  {
   "cell_type": "markdown",
   "metadata": {},
   "source": [
    "## EDA"
   ]
  },
  {
   "cell_type": "code",
   "execution_count": 4,
   "metadata": {
    "scrolled": false
   },
   "outputs": [
    {
     "data": {
      "text/html": [
       "<div>\n",
       "<style scoped>\n",
       "    .dataframe tbody tr th:only-of-type {\n",
       "        vertical-align: middle;\n",
       "    }\n",
       "\n",
       "    .dataframe tbody tr th {\n",
       "        vertical-align: top;\n",
       "    }\n",
       "\n",
       "    .dataframe thead th {\n",
       "        text-align: right;\n",
       "    }\n",
       "</style>\n",
       "<table border=\"1\" class=\"dataframe\">\n",
       "  <thead>\n",
       "    <tr style=\"text-align: right;\">\n",
       "      <th></th>\n",
       "      <th>LAST_NAME</th>\n",
       "      <th>FIRST_NAME</th>\n",
       "      <th>PAY_RATE</th>\n",
       "      <th>TITLE_DESCRIPTION</th>\n",
       "      <th>HOME_ORGANIZATION</th>\n",
       "      <th>ORGANIZATION_LEVEL</th>\n",
       "      <th>GENDER</th>\n",
       "      <th>School</th>\n",
       "      <th>Zip Code</th>\n",
       "      <th>Turnaround Model</th>\n",
       "      <th>Enrollment</th>\n",
       "      <th>Admissions Type</th>\n",
       "      <th>Overall Score</th>\n",
       "      <th>Overall Tier</th>\n",
       "      <th>Ach Score</th>\n",
       "      <th>Ach Tier</th>\n",
       "      <th>Prog Score</th>\n",
       "      <th>Prog Tier</th>\n",
       "      <th>Clim Score</th>\n",
       "      <th>Clim Tier</th>\n",
       "      <th>Attendance (95%+) Score</th>\n",
       "      <th>Attendance (95%+) Tier</th>\n",
       "      <th>Retention Score</th>\n",
       "      <th>Retention Tier</th>\n",
       "      <th>ISS Score</th>\n",
       "      <th>ISS Tier</th>\n",
       "      <th>OSS Score</th>\n",
       "      <th>OSS Tier</th>\n",
       "      <th>Student Survey Climate Score</th>\n",
       "      <th>Student Survey Climate Tier</th>\n",
       "      <th>Parent Survey Climate Score</th>\n",
       "      <th>Parent Survey Climate Tier</th>\n",
       "      <th>Parent Survey Participation Score</th>\n",
       "      <th>Parent Survey Participation Tier</th>\n",
       "      <th>Teacher Attendance Score</th>\n",
       "      <th>Student Survey Teaching Score</th>\n",
       "      <th>Percent ELL</th>\n",
       "      <th>Percent IEP</th>\n",
       "      <th>Percent Male</th>\n",
       "      <th>Percent Asian</th>\n",
       "      <th>Percent Black/African American</th>\n",
       "      <th>Percent Hispanic</th>\n",
       "      <th>Percent Multi-Race</th>\n",
       "      <th>Percent White</th>\n",
       "      <th>Economically Disadvantaged Rate</th>\n",
       "      <th>NEW_TEACHER</th>\n",
       "      <th>TURNOVER</th>\n",
       "    </tr>\n",
       "  </thead>\n",
       "  <tbody>\n",
       "    <tr>\n",
       "      <th>5135</th>\n",
       "      <td>MILLER</td>\n",
       "      <td>MARSHA</td>\n",
       "      <td>76461</td>\n",
       "      <td>TEACHER,SPEC EDUCATION</td>\n",
       "      <td>6440.0</td>\n",
       "      <td>ELEMENTARY SCHOOL</td>\n",
       "      <td>F</td>\n",
       "      <td>Anna L. Lingelbach School</td>\n",
       "      <td>19144.0</td>\n",
       "      <td>None</td>\n",
       "      <td>411.0</td>\n",
       "      <td>Neighborhood</td>\n",
       "      <td>30</td>\n",
       "      <td>WATCH</td>\n",
       "      <td>14</td>\n",
       "      <td>INTERVENE</td>\n",
       "      <td>23</td>\n",
       "      <td>INTERVENE</td>\n",
       "      <td>56.0</td>\n",
       "      <td>REINFORCE</td>\n",
       "      <td>52.0</td>\n",
       "      <td>WATCH</td>\n",
       "      <td>84.0</td>\n",
       "      <td>WATCH</td>\n",
       "      <td>100.0</td>\n",
       "      <td>MODEL</td>\n",
       "      <td>99.0</td>\n",
       "      <td>MODEL</td>\n",
       "      <td>58</td>\n",
       "      <td>REINFORCE</td>\n",
       "      <td>84.0</td>\n",
       "      <td>MODEL</td>\n",
       "      <td>15.0</td>\n",
       "      <td>INTERVENE</td>\n",
       "      <td>57</td>\n",
       "      <td>63</td>\n",
       "      <td>0.053398</td>\n",
       "      <td>0.118932</td>\n",
       "      <td>0.516990</td>\n",
       "      <td>0.002427</td>\n",
       "      <td>0.854369</td>\n",
       "      <td>0.046117</td>\n",
       "      <td>0.063107</td>\n",
       "      <td>0.031553</td>\n",
       "      <td>0.998058</td>\n",
       "      <td>0</td>\n",
       "      <td>0</td>\n",
       "    </tr>\n",
       "    <tr>\n",
       "      <th>5780</th>\n",
       "      <td>PAUL</td>\n",
       "      <td>ALYSSA</td>\n",
       "      <td>64785</td>\n",
       "      <td>TEACHER,SPEC EDUCATION</td>\n",
       "      <td>1470.0</td>\n",
       "      <td>ELEMENTARY SCHOOL</td>\n",
       "      <td>F</td>\n",
       "      <td>Alain Locke School</td>\n",
       "      <td>19139.0</td>\n",
       "      <td>None</td>\n",
       "      <td>442.0</td>\n",
       "      <td>Neighborhood</td>\n",
       "      <td>40</td>\n",
       "      <td>WATCH</td>\n",
       "      <td>2</td>\n",
       "      <td>INTERVENE</td>\n",
       "      <td>92</td>\n",
       "      <td>MODEL</td>\n",
       "      <td>15.0</td>\n",
       "      <td>INTERVENE</td>\n",
       "      <td>32.0</td>\n",
       "      <td>INTERVENE</td>\n",
       "      <td>70.0</td>\n",
       "      <td>INTERVENE</td>\n",
       "      <td>100.0</td>\n",
       "      <td>MODEL</td>\n",
       "      <td>92.0</td>\n",
       "      <td>REINFORCE</td>\n",
       "      <td>46</td>\n",
       "      <td>WATCH</td>\n",
       "      <td>0.0</td>\n",
       "      <td>INTERVENE</td>\n",
       "      <td>8.0</td>\n",
       "      <td>INTERVENE</td>\n",
       "      <td>75</td>\n",
       "      <td>48</td>\n",
       "      <td>0.096197</td>\n",
       "      <td>0.149888</td>\n",
       "      <td>0.496644</td>\n",
       "      <td>0.051454</td>\n",
       "      <td>0.807606</td>\n",
       "      <td>0.046980</td>\n",
       "      <td>0.071588</td>\n",
       "      <td>0.015660</td>\n",
       "      <td>1.000000</td>\n",
       "      <td>0</td>\n",
       "      <td>0</td>\n",
       "    </tr>\n",
       "    <tr>\n",
       "      <th>5263</th>\n",
       "      <td>MORRELL</td>\n",
       "      <td>SARAH</td>\n",
       "      <td>73453</td>\n",
       "      <td>TEACHER,FULL TIME</td>\n",
       "      <td>2260.0</td>\n",
       "      <td>ELEMENTARY SCHOOL</td>\n",
       "      <td>F</td>\n",
       "      <td>George W. Childs School</td>\n",
       "      <td>19146.0</td>\n",
       "      <td>None</td>\n",
       "      <td>520.0</td>\n",
       "      <td>Neighborhood</td>\n",
       "      <td>35</td>\n",
       "      <td>WATCH</td>\n",
       "      <td>22</td>\n",
       "      <td>INTERVENE</td>\n",
       "      <td>35</td>\n",
       "      <td>WATCH</td>\n",
       "      <td>49.0</td>\n",
       "      <td>WATCH</td>\n",
       "      <td>51.0</td>\n",
       "      <td>WATCH</td>\n",
       "      <td>84.0</td>\n",
       "      <td>WATCH</td>\n",
       "      <td>100.0</td>\n",
       "      <td>MODEL</td>\n",
       "      <td>92.0</td>\n",
       "      <td>REINFORCE</td>\n",
       "      <td>51</td>\n",
       "      <td>REINFORCE</td>\n",
       "      <td>76.0</td>\n",
       "      <td>MODEL</td>\n",
       "      <td>10.0</td>\n",
       "      <td>INTERVENE</td>\n",
       "      <td>72</td>\n",
       "      <td>51</td>\n",
       "      <td>0.214971</td>\n",
       "      <td>0.209213</td>\n",
       "      <td>0.497121</td>\n",
       "      <td>0.264875</td>\n",
       "      <td>0.451056</td>\n",
       "      <td>0.157390</td>\n",
       "      <td>0.088292</td>\n",
       "      <td>0.036468</td>\n",
       "      <td>1.000000</td>\n",
       "      <td>0</td>\n",
       "      <td>0</td>\n",
       "    </tr>\n",
       "    <tr>\n",
       "      <th>3708</th>\n",
       "      <td>JONES</td>\n",
       "      <td>FREYA</td>\n",
       "      <td>57785</td>\n",
       "      <td>TEACHER,SPEC EDUCATION</td>\n",
       "      <td>7010.0</td>\n",
       "      <td>HIGH SCHOOL</td>\n",
       "      <td>F</td>\n",
       "      <td>Frankford High School</td>\n",
       "      <td>19124.0</td>\n",
       "      <td>None</td>\n",
       "      <td>955.0</td>\n",
       "      <td>Neighborhood</td>\n",
       "      <td>12</td>\n",
       "      <td>INTERVENE</td>\n",
       "      <td>0</td>\n",
       "      <td>INTERVENE</td>\n",
       "      <td>15</td>\n",
       "      <td>INTERVENE</td>\n",
       "      <td>24.0</td>\n",
       "      <td>INTERVENE</td>\n",
       "      <td>21.0</td>\n",
       "      <td>INTERVENE</td>\n",
       "      <td>78.0</td>\n",
       "      <td>WATCH</td>\n",
       "      <td>92.0</td>\n",
       "      <td>INTERVENE</td>\n",
       "      <td>85.0</td>\n",
       "      <td>WATCH</td>\n",
       "      <td>50</td>\n",
       "      <td>REINFORCE</td>\n",
       "      <td>69.0</td>\n",
       "      <td>REINFORCE</td>\n",
       "      <td>11.0</td>\n",
       "      <td>INTERVENE</td>\n",
       "      <td>71</td>\n",
       "      <td>47</td>\n",
       "      <td>0.150000</td>\n",
       "      <td>0.295833</td>\n",
       "      <td>0.580208</td>\n",
       "      <td>0.014583</td>\n",
       "      <td>0.529167</td>\n",
       "      <td>0.329167</td>\n",
       "      <td>0.035417</td>\n",
       "      <td>0.089583</td>\n",
       "      <td>1.000000</td>\n",
       "      <td>0</td>\n",
       "      <td>1</td>\n",
       "    </tr>\n",
       "    <tr>\n",
       "      <th>6282</th>\n",
       "      <td>RICHARDSON</td>\n",
       "      <td>AMANDA</td>\n",
       "      <td>69207</td>\n",
       "      <td>TEACHER,FULL TIME</td>\n",
       "      <td>5660.0</td>\n",
       "      <td>HIGH SCHOOL</td>\n",
       "      <td>F</td>\n",
       "      <td>The LINC</td>\n",
       "      <td>19140.0</td>\n",
       "      <td>None</td>\n",
       "      <td>265.0</td>\n",
       "      <td>Citywide</td>\n",
       "      <td>22</td>\n",
       "      <td>INTERVENE</td>\n",
       "      <td>0</td>\n",
       "      <td>INTERVENE</td>\n",
       "      <td>25</td>\n",
       "      <td>WATCH</td>\n",
       "      <td>45.0</td>\n",
       "      <td>WATCH</td>\n",
       "      <td>28.0</td>\n",
       "      <td>INTERVENE</td>\n",
       "      <td>82.0</td>\n",
       "      <td>REINFORCE</td>\n",
       "      <td>99.0</td>\n",
       "      <td>MODEL</td>\n",
       "      <td>98.0</td>\n",
       "      <td>MODEL</td>\n",
       "      <td>53</td>\n",
       "      <td>REINFORCE</td>\n",
       "      <td>0.0</td>\n",
       "      <td>INTERVENE</td>\n",
       "      <td>3.0</td>\n",
       "      <td>INTERVENE</td>\n",
       "      <td>61</td>\n",
       "      <td>47</td>\n",
       "      <td>0.189591</td>\n",
       "      <td>0.174721</td>\n",
       "      <td>0.576208</td>\n",
       "      <td>0.007435</td>\n",
       "      <td>0.382900</td>\n",
       "      <td>0.572491</td>\n",
       "      <td>0.011152</td>\n",
       "      <td>0.014870</td>\n",
       "      <td>1.000000</td>\n",
       "      <td>0</td>\n",
       "      <td>1</td>\n",
       "    </tr>\n",
       "  </tbody>\n",
       "</table>\n",
       "</div>"
      ],
      "text/plain": [
       "       LAST_NAME FIRST_NAME  PAY_RATE       TITLE_DESCRIPTION  \\\n",
       "5135      MILLER     MARSHA     76461  TEACHER,SPEC EDUCATION   \n",
       "5780        PAUL     ALYSSA     64785  TEACHER,SPEC EDUCATION   \n",
       "5263     MORRELL      SARAH     73453       TEACHER,FULL TIME   \n",
       "3708       JONES      FREYA     57785  TEACHER,SPEC EDUCATION   \n",
       "6282  RICHARDSON     AMANDA     69207       TEACHER,FULL TIME   \n",
       "\n",
       "      HOME_ORGANIZATION ORGANIZATION_LEVEL GENDER                     School  \\\n",
       "5135             6440.0  ELEMENTARY SCHOOL      F  Anna L. Lingelbach School   \n",
       "5780             1470.0  ELEMENTARY SCHOOL      F         Alain Locke School   \n",
       "5263             2260.0  ELEMENTARY SCHOOL      F    George W. Childs School   \n",
       "3708             7010.0        HIGH SCHOOL      F      Frankford High School   \n",
       "6282             5660.0        HIGH SCHOOL      F                   The LINC   \n",
       "\n",
       "      Zip Code Turnaround Model  Enrollment Admissions Type Overall Score  \\\n",
       "5135   19144.0             None       411.0    Neighborhood            30   \n",
       "5780   19139.0             None       442.0    Neighborhood            40   \n",
       "5263   19146.0             None       520.0    Neighborhood            35   \n",
       "3708   19124.0             None       955.0    Neighborhood            12   \n",
       "6282   19140.0             None       265.0        Citywide            22   \n",
       "\n",
       "     Overall Tier Ach Score   Ach Tier Prog Score  Prog Tier  Clim Score  \\\n",
       "5135        WATCH        14  INTERVENE         23  INTERVENE        56.0   \n",
       "5780        WATCH         2  INTERVENE         92      MODEL        15.0   \n",
       "5263        WATCH        22  INTERVENE         35      WATCH        49.0   \n",
       "3708    INTERVENE         0  INTERVENE         15  INTERVENE        24.0   \n",
       "6282    INTERVENE         0  INTERVENE         25      WATCH        45.0   \n",
       "\n",
       "      Clim Tier  Attendance (95%+) Score Attendance (95%+) Tier  \\\n",
       "5135  REINFORCE                     52.0                  WATCH   \n",
       "5780  INTERVENE                     32.0              INTERVENE   \n",
       "5263      WATCH                     51.0                  WATCH   \n",
       "3708  INTERVENE                     21.0              INTERVENE   \n",
       "6282      WATCH                     28.0              INTERVENE   \n",
       "\n",
       "      Retention Score Retention Tier  ISS Score   ISS Tier  OSS Score  \\\n",
       "5135             84.0          WATCH      100.0      MODEL       99.0   \n",
       "5780             70.0      INTERVENE      100.0      MODEL       92.0   \n",
       "5263             84.0          WATCH      100.0      MODEL       92.0   \n",
       "3708             78.0          WATCH       92.0  INTERVENE       85.0   \n",
       "6282             82.0      REINFORCE       99.0      MODEL       98.0   \n",
       "\n",
       "       OSS Tier Student Survey Climate Score Student Survey Climate Tier  \\\n",
       "5135      MODEL                           58                   REINFORCE   \n",
       "5780  REINFORCE                           46                       WATCH   \n",
       "5263  REINFORCE                           51                   REINFORCE   \n",
       "3708      WATCH                           50                   REINFORCE   \n",
       "6282      MODEL                           53                   REINFORCE   \n",
       "\n",
       "      Parent Survey Climate Score Parent Survey Climate Tier  \\\n",
       "5135                         84.0                      MODEL   \n",
       "5780                          0.0                  INTERVENE   \n",
       "5263                         76.0                      MODEL   \n",
       "3708                         69.0                  REINFORCE   \n",
       "6282                          0.0                  INTERVENE   \n",
       "\n",
       "      Parent Survey Participation Score Parent Survey Participation Tier  \\\n",
       "5135                               15.0                        INTERVENE   \n",
       "5780                                8.0                        INTERVENE   \n",
       "5263                               10.0                        INTERVENE   \n",
       "3708                               11.0                        INTERVENE   \n",
       "6282                                3.0                        INTERVENE   \n",
       "\n",
       "      Teacher Attendance Score Student Survey Teaching Score  Percent ELL  \\\n",
       "5135                        57                            63     0.053398   \n",
       "5780                        75                            48     0.096197   \n",
       "5263                        72                            51     0.214971   \n",
       "3708                        71                            47     0.150000   \n",
       "6282                        61                            47     0.189591   \n",
       "\n",
       "      Percent IEP  Percent Male  Percent Asian  \\\n",
       "5135     0.118932      0.516990       0.002427   \n",
       "5780     0.149888      0.496644       0.051454   \n",
       "5263     0.209213      0.497121       0.264875   \n",
       "3708     0.295833      0.580208       0.014583   \n",
       "6282     0.174721      0.576208       0.007435   \n",
       "\n",
       "      Percent Black/African American  Percent Hispanic  Percent Multi-Race  \\\n",
       "5135                        0.854369          0.046117            0.063107   \n",
       "5780                        0.807606          0.046980            0.071588   \n",
       "5263                        0.451056          0.157390            0.088292   \n",
       "3708                        0.529167          0.329167            0.035417   \n",
       "6282                        0.382900          0.572491            0.011152   \n",
       "\n",
       "      Percent White  Economically Disadvantaged Rate  NEW_TEACHER  TURNOVER  \n",
       "5135       0.031553                         0.998058            0         0  \n",
       "5780       0.015660                         1.000000            0         0  \n",
       "5263       0.036468                         1.000000            0         0  \n",
       "3708       0.089583                         1.000000            0         1  \n",
       "6282       0.014870                         1.000000            0         1  "
      ]
     },
     "execution_count": 4,
     "metadata": {},
     "output_type": "execute_result"
    }
   ],
   "source": [
    "pd.set_option('max_columns', None)\n",
    "df.sample(5)"
   ]
  },
  {
   "cell_type": "markdown",
   "metadata": {},
   "source": [
    "Identify teacher profile for presentation."
   ]
  },
  {
   "cell_type": "code",
   "execution_count": 5,
   "metadata": {},
   "outputs": [
    {
     "data": {
      "text/plain": [
       "LAST_NAME                                             WOMACK\n",
       "FIRST_NAME                                               MAY\n",
       "PAY_RATE                                               47278\n",
       "TITLE_DESCRIPTION                          TEACHER,FULL TIME\n",
       "HOME_ORGANIZATION                                       5160\n",
       "ORGANIZATION_LEVEL                               HIGH SCHOOL\n",
       "GENDER                                                     F\n",
       "School                               Penn Treaty High School\n",
       "Zip Code                                               19125\n",
       "Turnaround Model                                        None\n",
       "Enrollment                                               342\n",
       "Admissions Type                                 Neighborhood\n",
       "Overall Score                                             36\n",
       "Overall Tier                                           WATCH\n",
       "Ach Score                                                  5\n",
       "Ach Tier                                           INTERVENE\n",
       "Prog Score                                                51\n",
       "Prog Tier                                          REINFORCE\n",
       "Clim Score                                                62\n",
       "Clim Tier                                          REINFORCE\n",
       "Attendance (95%+) Score                                   44\n",
       "Attendance (95%+) Tier                                 WATCH\n",
       "Retention Score                                           83\n",
       "Retention Tier                                         MODEL\n",
       "ISS Score                                                100\n",
       "ISS Tier                                               MODEL\n",
       "OSS Score                                                 89\n",
       "OSS Tier                                           REINFORCE\n",
       "Student Survey Climate Score                              58\n",
       "Student Survey Climate Tier                        REINFORCE\n",
       "Parent Survey Climate Score                               75\n",
       "Parent Survey Climate Tier                             MODEL\n",
       "Parent Survey Participation Score                         16\n",
       "Parent Survey Participation Tier                   INTERVENE\n",
       "Teacher Attendance Score                                  59\n",
       "Student Survey Teaching Score                             54\n",
       "Percent ELL                                        0.0816327\n",
       "Percent IEP                                         0.335807\n",
       "Percent Male                                        0.586271\n",
       "Percent Asian                                     0.00927644\n",
       "Percent Black/African American                      0.293135\n",
       "Percent Hispanic                                    0.313544\n",
       "Percent Multi-Race                                 0.0797774\n",
       "Percent White                                       0.304267\n",
       "Economically Disadvantaged Rate                            1\n",
       "NEW_TEACHER                                                1\n",
       "TURNOVER                                                   1\n",
       "Name: 8066, dtype: object"
      ]
     },
     "execution_count": 5,
     "metadata": {},
     "output_type": "execute_result"
    }
   ],
   "source": [
    "df.loc[8066]"
   ]
  },
  {
   "cell_type": "markdown",
   "metadata": {},
   "source": [
    "There are some columns that are currently listed as objects that should be numerical so to do proper EDA we should transform those in order to explore relationships."
   ]
  },
  {
   "cell_type": "code",
   "execution_count": 6,
   "metadata": {},
   "outputs": [],
   "source": [
    "df_eda = df.copy()"
   ]
  },
  {
   "cell_type": "code",
   "execution_count": 7,
   "metadata": {},
   "outputs": [],
   "source": [
    "obj_to_num = ['Student Survey Climate Score', 'Student Survey Teaching Score', \n",
    "                  'Overall Score', 'Ach Score', 'Prog Score']"
   ]
  },
  {
   "cell_type": "code",
   "execution_count": 8,
   "metadata": {},
   "outputs": [],
   "source": [
    "for col in obj_to_num:\n",
    "    df_eda.loc[(df_eda[col] == 'Not Applicable'), col] = 0\n",
    "    df_eda.loc[(df_eda[col] == 'Insufficient Data'), col] = 0"
   ]
  },
  {
   "cell_type": "code",
   "execution_count": 9,
   "metadata": {},
   "outputs": [],
   "source": [
    "for col in obj_to_num:\n",
    "    df_eda[col] = df_eda[col].astype('float64')\n",
    "for col in [df_eda.select_dtypes('int64').columns]:\n",
    "    df_eda[col] = df_eda[col].astype('float64')"
   ]
  },
  {
   "cell_type": "code",
   "execution_count": 10,
   "metadata": {
    "scrolled": true
   },
   "outputs": [
    {
     "name": "stdout",
     "output_type": "stream",
     "text": [
      "<class 'pandas.core.frame.DataFrame'>\n",
      "Int64Index: 7927 entries, 0 to 8251\n",
      "Data columns (total 47 columns):\n",
      " #   Column                             Non-Null Count  Dtype  \n",
      "---  ------                             --------------  -----  \n",
      " 0   LAST_NAME                          7927 non-null   object \n",
      " 1   FIRST_NAME                         7927 non-null   object \n",
      " 2   PAY_RATE                           7927 non-null   float64\n",
      " 3   TITLE_DESCRIPTION                  7927 non-null   object \n",
      " 4   HOME_ORGANIZATION                  7927 non-null   float64\n",
      " 5   ORGANIZATION_LEVEL                 7927 non-null   object \n",
      " 6   GENDER                             7927 non-null   object \n",
      " 7   School                             7927 non-null   object \n",
      " 8   Zip Code                           7927 non-null   float64\n",
      " 9   Turnaround Model                   7927 non-null   object \n",
      " 10  Enrollment                         7927 non-null   float64\n",
      " 11  Admissions Type                    7927 non-null   object \n",
      " 12  Overall Score                      7927 non-null   float64\n",
      " 13  Overall Tier                       7927 non-null   object \n",
      " 14  Ach Score                          7927 non-null   float64\n",
      " 15  Ach Tier                           7927 non-null   object \n",
      " 16  Prog Score                         7927 non-null   float64\n",
      " 17  Prog Tier                          7927 non-null   object \n",
      " 18  Clim Score                         7927 non-null   float64\n",
      " 19  Clim Tier                          7927 non-null   object \n",
      " 20  Attendance (95%+) Score            7927 non-null   float64\n",
      " 21  Attendance (95%+) Tier             7927 non-null   object \n",
      " 22  Retention Score                    7927 non-null   float64\n",
      " 23  Retention Tier                     7927 non-null   object \n",
      " 24  ISS Score                          7927 non-null   float64\n",
      " 25  ISS Tier                           7927 non-null   object \n",
      " 26  OSS Score                          7927 non-null   float64\n",
      " 27  OSS Tier                           7927 non-null   object \n",
      " 28  Student Survey Climate Score       7927 non-null   float64\n",
      " 29  Student Survey Climate Tier        7927 non-null   object \n",
      " 30  Parent Survey Climate Score        7927 non-null   float64\n",
      " 31  Parent Survey Climate Tier         7927 non-null   object \n",
      " 32  Parent Survey Participation Score  7927 non-null   float64\n",
      " 33  Parent Survey Participation Tier   7927 non-null   object \n",
      " 34  Teacher Attendance Score           7927 non-null   float64\n",
      " 35  Student Survey Teaching Score      7927 non-null   float64\n",
      " 36  Percent ELL                        7927 non-null   float64\n",
      " 37  Percent IEP                        7927 non-null   float64\n",
      " 38  Percent Male                       7927 non-null   float64\n",
      " 39  Percent Asian                      7927 non-null   float64\n",
      " 40  Percent Black/African American     7927 non-null   float64\n",
      " 41  Percent Hispanic                   7927 non-null   float64\n",
      " 42  Percent Multi-Race                 7927 non-null   float64\n",
      " 43  Percent White                      7927 non-null   float64\n",
      " 44  Economically Disadvantaged Rate    7927 non-null   float64\n",
      " 45  NEW_TEACHER                        7927 non-null   float64\n",
      " 46  TURNOVER                           7927 non-null   float64\n",
      "dtypes: float64(28), object(19)\n",
      "memory usage: 3.2+ MB\n"
     ]
    }
   ],
   "source": [
    "df_eda.info()"
   ]
  },
  {
   "cell_type": "code",
   "execution_count": 11,
   "metadata": {},
   "outputs": [
    {
     "data": {
      "text/html": [
       "<div>\n",
       "<style scoped>\n",
       "    .dataframe tbody tr th:only-of-type {\n",
       "        vertical-align: middle;\n",
       "    }\n",
       "\n",
       "    .dataframe tbody tr th {\n",
       "        vertical-align: top;\n",
       "    }\n",
       "\n",
       "    .dataframe thead th {\n",
       "        text-align: right;\n",
       "    }\n",
       "</style>\n",
       "<table border=\"1\" class=\"dataframe\">\n",
       "  <thead>\n",
       "    <tr style=\"text-align: right;\">\n",
       "      <th></th>\n",
       "      <th>PAY_RATE</th>\n",
       "      <th>HOME_ORGANIZATION</th>\n",
       "      <th>Zip Code</th>\n",
       "      <th>Enrollment</th>\n",
       "      <th>Overall Score</th>\n",
       "      <th>Ach Score</th>\n",
       "      <th>Prog Score</th>\n",
       "      <th>Clim Score</th>\n",
       "      <th>Attendance (95%+) Score</th>\n",
       "      <th>Retention Score</th>\n",
       "      <th>ISS Score</th>\n",
       "      <th>OSS Score</th>\n",
       "      <th>Student Survey Climate Score</th>\n",
       "      <th>Parent Survey Climate Score</th>\n",
       "      <th>Parent Survey Participation Score</th>\n",
       "      <th>Teacher Attendance Score</th>\n",
       "      <th>Student Survey Teaching Score</th>\n",
       "      <th>Percent ELL</th>\n",
       "      <th>Percent IEP</th>\n",
       "      <th>Percent Male</th>\n",
       "      <th>Percent Asian</th>\n",
       "      <th>Percent Black/African American</th>\n",
       "      <th>Percent Hispanic</th>\n",
       "      <th>Percent Multi-Race</th>\n",
       "      <th>Percent White</th>\n",
       "      <th>Economically Disadvantaged Rate</th>\n",
       "      <th>NEW_TEACHER</th>\n",
       "      <th>TURNOVER</th>\n",
       "    </tr>\n",
       "  </thead>\n",
       "  <tbody>\n",
       "    <tr>\n",
       "      <th>count</th>\n",
       "      <td>7927.000000</td>\n",
       "      <td>7927.000000</td>\n",
       "      <td>7927.000000</td>\n",
       "      <td>7927.000000</td>\n",
       "      <td>7927.000000</td>\n",
       "      <td>7927.000000</td>\n",
       "      <td>7927.000000</td>\n",
       "      <td>7927.000000</td>\n",
       "      <td>7927.000000</td>\n",
       "      <td>7927.000000</td>\n",
       "      <td>7927.000000</td>\n",
       "      <td>7927.000000</td>\n",
       "      <td>7927.000000</td>\n",
       "      <td>7927.000000</td>\n",
       "      <td>7927.000000</td>\n",
       "      <td>7927.000000</td>\n",
       "      <td>7927.000000</td>\n",
       "      <td>7927.000000</td>\n",
       "      <td>7927.000000</td>\n",
       "      <td>7927.000000</td>\n",
       "      <td>7927.000000</td>\n",
       "      <td>7927.000000</td>\n",
       "      <td>7927.000000</td>\n",
       "      <td>7927.000000</td>\n",
       "      <td>7927.000000</td>\n",
       "      <td>7927.000000</td>\n",
       "      <td>7927.000000</td>\n",
       "      <td>7927.000000</td>\n",
       "    </tr>\n",
       "    <tr>\n",
       "      <th>mean</th>\n",
       "      <td>69445.358017</td>\n",
       "      <td>5449.568563</td>\n",
       "      <td>19132.066229</td>\n",
       "      <td>745.185064</td>\n",
       "      <td>40.436104</td>\n",
       "      <td>19.154535</td>\n",
       "      <td>51.069888</td>\n",
       "      <td>50.104958</td>\n",
       "      <td>45.441024</td>\n",
       "      <td>83.893150</td>\n",
       "      <td>99.234515</td>\n",
       "      <td>92.015895</td>\n",
       "      <td>49.018418</td>\n",
       "      <td>50.585215</td>\n",
       "      <td>16.800934</td>\n",
       "      <td>62.391825</td>\n",
       "      <td>48.745175</td>\n",
       "      <td>0.107116</td>\n",
       "      <td>0.150743</td>\n",
       "      <td>0.519010</td>\n",
       "      <td>0.077719</td>\n",
       "      <td>0.506891</td>\n",
       "      <td>0.205425</td>\n",
       "      <td>0.069506</td>\n",
       "      <td>0.137435</td>\n",
       "      <td>0.935210</td>\n",
       "      <td>0.171439</td>\n",
       "      <td>0.189353</td>\n",
       "    </tr>\n",
       "    <tr>\n",
       "      <th>std</th>\n",
       "      <td>13310.902174</td>\n",
       "      <td>2366.607163</td>\n",
       "      <td>13.192849</td>\n",
       "      <td>543.100051</td>\n",
       "      <td>20.881016</td>\n",
       "      <td>21.511611</td>\n",
       "      <td>27.926988</td>\n",
       "      <td>26.560342</td>\n",
       "      <td>17.048269</td>\n",
       "      <td>8.177368</td>\n",
       "      <td>2.219504</td>\n",
       "      <td>7.044074</td>\n",
       "      <td>17.597439</td>\n",
       "      <td>39.161325</td>\n",
       "      <td>14.513308</td>\n",
       "      <td>11.915968</td>\n",
       "      <td>19.212838</td>\n",
       "      <td>0.102088</td>\n",
       "      <td>0.076513</td>\n",
       "      <td>0.063495</td>\n",
       "      <td>0.104955</td>\n",
       "      <td>0.299275</td>\n",
       "      <td>0.205538</td>\n",
       "      <td>0.034410</td>\n",
       "      <td>0.169208</td>\n",
       "      <td>0.139592</td>\n",
       "      <td>0.376916</td>\n",
       "      <td>0.391813</td>\n",
       "    </tr>\n",
       "    <tr>\n",
       "      <th>min</th>\n",
       "      <td>32561.000000</td>\n",
       "      <td>1010.000000</td>\n",
       "      <td>19103.000000</td>\n",
       "      <td>115.000000</td>\n",
       "      <td>0.000000</td>\n",
       "      <td>0.000000</td>\n",
       "      <td>0.000000</td>\n",
       "      <td>3.000000</td>\n",
       "      <td>14.000000</td>\n",
       "      <td>54.000000</td>\n",
       "      <td>84.000000</td>\n",
       "      <td>63.000000</td>\n",
       "      <td>0.000000</td>\n",
       "      <td>0.000000</td>\n",
       "      <td>0.000000</td>\n",
       "      <td>21.000000</td>\n",
       "      <td>0.000000</td>\n",
       "      <td>0.000000</td>\n",
       "      <td>0.006281</td>\n",
       "      <td>0.001007</td>\n",
       "      <td>0.000000</td>\n",
       "      <td>0.012255</td>\n",
       "      <td>0.005405</td>\n",
       "      <td>0.003597</td>\n",
       "      <td>0.000000</td>\n",
       "      <td>0.217801</td>\n",
       "      <td>0.000000</td>\n",
       "      <td>0.000000</td>\n",
       "    </tr>\n",
       "    <tr>\n",
       "      <th>25%</th>\n",
       "      <td>59532.000000</td>\n",
       "      <td>4020.000000</td>\n",
       "      <td>19121.000000</td>\n",
       "      <td>457.000000</td>\n",
       "      <td>26.000000</td>\n",
       "      <td>3.000000</td>\n",
       "      <td>25.000000</td>\n",
       "      <td>28.000000</td>\n",
       "      <td>33.000000</td>\n",
       "      <td>79.000000</td>\n",
       "      <td>100.000000</td>\n",
       "      <td>88.000000</td>\n",
       "      <td>48.000000</td>\n",
       "      <td>0.000000</td>\n",
       "      <td>7.000000</td>\n",
       "      <td>55.000000</td>\n",
       "      <td>43.000000</td>\n",
       "      <td>0.013514</td>\n",
       "      <td>0.095436</td>\n",
       "      <td>0.503008</td>\n",
       "      <td>0.004438</td>\n",
       "      <td>0.238693</td>\n",
       "      <td>0.037879</td>\n",
       "      <td>0.044597</td>\n",
       "      <td>0.018405</td>\n",
       "      <td>0.962745</td>\n",
       "      <td>0.000000</td>\n",
       "      <td>0.000000</td>\n",
       "    </tr>\n",
       "    <tr>\n",
       "      <th>50%</th>\n",
       "      <td>70564.000000</td>\n",
       "      <td>5700.000000</td>\n",
       "      <td>19134.000000</td>\n",
       "      <td>579.000000</td>\n",
       "      <td>38.000000</td>\n",
       "      <td>12.000000</td>\n",
       "      <td>52.000000</td>\n",
       "      <td>49.000000</td>\n",
       "      <td>43.000000</td>\n",
       "      <td>84.000000</td>\n",
       "      <td>100.000000</td>\n",
       "      <td>94.000000</td>\n",
       "      <td>53.000000</td>\n",
       "      <td>74.000000</td>\n",
       "      <td>12.000000</td>\n",
       "      <td>63.000000</td>\n",
       "      <td>53.000000</td>\n",
       "      <td>0.081633</td>\n",
       "      <td>0.138158</td>\n",
       "      <td>0.523126</td>\n",
       "      <td>0.033113</td>\n",
       "      <td>0.427262</td>\n",
       "      <td>0.140316</td>\n",
       "      <td>0.066548</td>\n",
       "      <td>0.060000</td>\n",
       "      <td>1.000000</td>\n",
       "      <td>0.000000</td>\n",
       "      <td>0.000000</td>\n",
       "    </tr>\n",
       "    <tr>\n",
       "      <th>75%</th>\n",
       "      <td>76461.000000</td>\n",
       "      <td>7430.000000</td>\n",
       "      <td>19143.000000</td>\n",
       "      <td>858.000000</td>\n",
       "      <td>54.000000</td>\n",
       "      <td>29.000000</td>\n",
       "      <td>79.000000</td>\n",
       "      <td>71.000000</td>\n",
       "      <td>55.000000</td>\n",
       "      <td>89.000000</td>\n",
       "      <td>100.000000</td>\n",
       "      <td>98.000000</td>\n",
       "      <td>58.000000</td>\n",
       "      <td>83.000000</td>\n",
       "      <td>23.000000</td>\n",
       "      <td>71.000000</td>\n",
       "      <td>61.000000</td>\n",
       "      <td>0.182174</td>\n",
       "      <td>0.196296</td>\n",
       "      <td>0.546778</td>\n",
       "      <td>0.113314</td>\n",
       "      <td>0.838590</td>\n",
       "      <td>0.287762</td>\n",
       "      <td>0.091820</td>\n",
       "      <td>0.189707</td>\n",
       "      <td>1.000000</td>\n",
       "      <td>0.000000</td>\n",
       "      <td>0.000000</td>\n",
       "    </tr>\n",
       "    <tr>\n",
       "      <th>max</th>\n",
       "      <td>90051.000000</td>\n",
       "      <td>8770.000000</td>\n",
       "      <td>19154.000000</td>\n",
       "      <td>3363.000000</td>\n",
       "      <td>95.000000</td>\n",
       "      <td>96.000000</td>\n",
       "      <td>98.000000</td>\n",
       "      <td>97.000000</td>\n",
       "      <td>95.000000</td>\n",
       "      <td>100.000000</td>\n",
       "      <td>100.000000</td>\n",
       "      <td>100.000000</td>\n",
       "      <td>80.000000</td>\n",
       "      <td>99.000000</td>\n",
       "      <td>83.000000</td>\n",
       "      <td>96.000000</td>\n",
       "      <td>85.000000</td>\n",
       "      <td>0.543524</td>\n",
       "      <td>0.375587</td>\n",
       "      <td>0.700000</td>\n",
       "      <td>0.504814</td>\n",
       "      <td>0.970588</td>\n",
       "      <td>0.809249</td>\n",
       "      <td>0.215434</td>\n",
       "      <td>0.846814</td>\n",
       "      <td>1.000000</td>\n",
       "      <td>1.000000</td>\n",
       "      <td>1.000000</td>\n",
       "    </tr>\n",
       "  </tbody>\n",
       "</table>\n",
       "</div>"
      ],
      "text/plain": [
       "           PAY_RATE  HOME_ORGANIZATION      Zip Code   Enrollment  \\\n",
       "count   7927.000000        7927.000000   7927.000000  7927.000000   \n",
       "mean   69445.358017        5449.568563  19132.066229   745.185064   \n",
       "std    13310.902174        2366.607163     13.192849   543.100051   \n",
       "min    32561.000000        1010.000000  19103.000000   115.000000   \n",
       "25%    59532.000000        4020.000000  19121.000000   457.000000   \n",
       "50%    70564.000000        5700.000000  19134.000000   579.000000   \n",
       "75%    76461.000000        7430.000000  19143.000000   858.000000   \n",
       "max    90051.000000        8770.000000  19154.000000  3363.000000   \n",
       "\n",
       "       Overall Score    Ach Score   Prog Score   Clim Score  \\\n",
       "count    7927.000000  7927.000000  7927.000000  7927.000000   \n",
       "mean       40.436104    19.154535    51.069888    50.104958   \n",
       "std        20.881016    21.511611    27.926988    26.560342   \n",
       "min         0.000000     0.000000     0.000000     3.000000   \n",
       "25%        26.000000     3.000000    25.000000    28.000000   \n",
       "50%        38.000000    12.000000    52.000000    49.000000   \n",
       "75%        54.000000    29.000000    79.000000    71.000000   \n",
       "max        95.000000    96.000000    98.000000    97.000000   \n",
       "\n",
       "       Attendance (95%+) Score  Retention Score    ISS Score    OSS Score  \\\n",
       "count              7927.000000      7927.000000  7927.000000  7927.000000   \n",
       "mean                 45.441024        83.893150    99.234515    92.015895   \n",
       "std                  17.048269         8.177368     2.219504     7.044074   \n",
       "min                  14.000000        54.000000    84.000000    63.000000   \n",
       "25%                  33.000000        79.000000   100.000000    88.000000   \n",
       "50%                  43.000000        84.000000   100.000000    94.000000   \n",
       "75%                  55.000000        89.000000   100.000000    98.000000   \n",
       "max                  95.000000       100.000000   100.000000   100.000000   \n",
       "\n",
       "       Student Survey Climate Score  Parent Survey Climate Score  \\\n",
       "count                   7927.000000                  7927.000000   \n",
       "mean                      49.018418                    50.585215   \n",
       "std                       17.597439                    39.161325   \n",
       "min                        0.000000                     0.000000   \n",
       "25%                       48.000000                     0.000000   \n",
       "50%                       53.000000                    74.000000   \n",
       "75%                       58.000000                    83.000000   \n",
       "max                       80.000000                    99.000000   \n",
       "\n",
       "       Parent Survey Participation Score  Teacher Attendance Score  \\\n",
       "count                        7927.000000               7927.000000   \n",
       "mean                           16.800934                 62.391825   \n",
       "std                            14.513308                 11.915968   \n",
       "min                             0.000000                 21.000000   \n",
       "25%                             7.000000                 55.000000   \n",
       "50%                            12.000000                 63.000000   \n",
       "75%                            23.000000                 71.000000   \n",
       "max                            83.000000                 96.000000   \n",
       "\n",
       "       Student Survey Teaching Score  Percent ELL  Percent IEP  Percent Male  \\\n",
       "count                    7927.000000  7927.000000  7927.000000   7927.000000   \n",
       "mean                       48.745175     0.107116     0.150743      0.519010   \n",
       "std                        19.212838     0.102088     0.076513      0.063495   \n",
       "min                         0.000000     0.000000     0.006281      0.001007   \n",
       "25%                        43.000000     0.013514     0.095436      0.503008   \n",
       "50%                        53.000000     0.081633     0.138158      0.523126   \n",
       "75%                        61.000000     0.182174     0.196296      0.546778   \n",
       "max                        85.000000     0.543524     0.375587      0.700000   \n",
       "\n",
       "       Percent Asian  Percent Black/African American  Percent Hispanic  \\\n",
       "count    7927.000000                     7927.000000       7927.000000   \n",
       "mean        0.077719                        0.506891          0.205425   \n",
       "std         0.104955                        0.299275          0.205538   \n",
       "min         0.000000                        0.012255          0.005405   \n",
       "25%         0.004438                        0.238693          0.037879   \n",
       "50%         0.033113                        0.427262          0.140316   \n",
       "75%         0.113314                        0.838590          0.287762   \n",
       "max         0.504814                        0.970588          0.809249   \n",
       "\n",
       "       Percent Multi-Race  Percent White  Economically Disadvantaged Rate  \\\n",
       "count         7927.000000    7927.000000                      7927.000000   \n",
       "mean             0.069506       0.137435                         0.935210   \n",
       "std              0.034410       0.169208                         0.139592   \n",
       "min              0.003597       0.000000                         0.217801   \n",
       "25%              0.044597       0.018405                         0.962745   \n",
       "50%              0.066548       0.060000                         1.000000   \n",
       "75%              0.091820       0.189707                         1.000000   \n",
       "max              0.215434       0.846814                         1.000000   \n",
       "\n",
       "       NEW_TEACHER     TURNOVER  \n",
       "count  7927.000000  7927.000000  \n",
       "mean      0.171439     0.189353  \n",
       "std       0.376916     0.391813  \n",
       "min       0.000000     0.000000  \n",
       "25%       0.000000     0.000000  \n",
       "50%       0.000000     0.000000  \n",
       "75%       0.000000     0.000000  \n",
       "max       1.000000     1.000000  "
      ]
     },
     "execution_count": 11,
     "metadata": {},
     "output_type": "execute_result"
    }
   ],
   "source": [
    "df_eda.describe()"
   ]
  },
  {
   "cell_type": "markdown",
   "metadata": {},
   "source": [
    "Set colors for visualizations."
   ]
  },
  {
   "cell_type": "code",
   "execution_count": 12,
   "metadata": {},
   "outputs": [],
   "source": [
    "color=[\"lightsteelblue\", \"orange\"]"
   ]
  },
  {
   "cell_type": "code",
   "execution_count": 13,
   "metadata": {},
   "outputs": [],
   "source": [
    "color_patches = [Patch(facecolor=color[0], label=\"retention\"), \n",
    "                 Patch(facecolor=color[1], label=\"turnover\")]"
   ]
  },
  {
   "cell_type": "markdown",
   "metadata": {},
   "source": [
    "### Target Variable"
   ]
  },
  {
   "cell_type": "markdown",
   "metadata": {},
   "source": [
    "__What is the distribution of teacher turnover following the 2017-2018 school year?__"
   ]
  },
  {
   "cell_type": "code",
   "execution_count": 14,
   "metadata": {
    "scrolled": true
   },
   "outputs": [
    {
     "data": {
      "image/png": "[encoded data removed]",
      "text/plain": [
       "<Figure size 432x288 with 1 Axes>"
      ]
     },
     "metadata": {
      "needs_background": "light"
     },
     "output_type": "display_data"
    }
   ],
   "source": [
    "fig, ax = plt.subplots(figsize=(6, 4))\n",
    "\n",
    "df_eda['TURNOVER'].value_counts(normalize=True).plot(kind='bar', \n",
    "                                                     color=color, \n",
    "                                                     ax=ax)\n",
    "\n",
    "ax.set_xlabel(\"Classification\")\n",
    "ax.set_xticklabels(['Retention', 'Turnover'], rotation=0)\n",
    "ax.set_ylabel(\"Proportion\")\n",
    "ax.set_title(\"Distribution of Teacher Turnover\", fontsize=16)\n",
    "fig.savefig('images/Target.png');"
   ]
  },
  {
   "cell_type": "markdown",
   "metadata": {},
   "source": [
    "Approximately 20% of the teachers in the School District of Philadelphia did not return to their position following the 2017-2018 school year. This shows that there is a class imbalance to take into account for modeling as a majority of teachers do stay at their current school."
   ]
  },
  {
   "cell_type": "markdown",
   "metadata": {},
   "source": [
    "### Occupational Factors"
   ]
  },
  {
   "cell_type": "markdown",
   "metadata": {},
   "source": [
    "__What is the relationship between teaching experience and turnover?__"
   ]
  },
  {
   "cell_type": "code",
   "execution_count": 15,
   "metadata": {},
   "outputs": [
    {
     "data": {
      "image/png": "[encoded data removed]",
      "text/plain": [
       "<Figure size 432x288 with 1 Axes>"
      ]
     },
     "metadata": {
      "needs_background": "light"
     },
     "output_type": "display_data"
    }
   ],
   "source": [
    "fig, ax = plt.subplots(figsize=(6, 4))\n",
    "\n",
    "df_eda['NEW_TEACHER'].value_counts(normalize=True).plot(kind='bar', \n",
    "                                                        color=color, \n",
    "                                                        ax=ax)\n",
    "\n",
    "ax.set_xlabel(\"Experience Level\")\n",
    "ax.set_xticklabels(['4+ Years', '0-3 Years'], rotation=0)\n",
    "ax.set_ylabel(\"Proportion\")\n",
    "ax.set_title(\"Distribution of Teaching Experience\", fontsize=16);"
   ]
  },
  {
   "cell_type": "code",
   "execution_count": 16,
   "metadata": {
    "scrolled": false
   },
   "outputs": [
    {
     "data": {
      "image/png": "[encoded data removed]",
      "text/plain": [
       "<Figure size 576x432 with 1 Axes>"
      ]
     },
     "metadata": {
      "needs_background": "light"
     },
     "output_type": "display_data"
    }
   ],
   "source": [
    "counts_df = df_eda.groupby([\"NEW_TEACHER\", \"TURNOVER\"])[\"HOME_ORGANIZATION\"].count().unstack()\n",
    "turnover_percents_df = counts_df.T.div(counts_df.T.sum()).T.reindex([1, 0])\n",
    "fig, ax = plt.subplots(figsize=(8, 6))\n",
    "\n",
    "turnover_percents_df.plot(kind=\"bar\", stacked=True, color=color, ax=ax)\n",
    "\n",
    "ax.set_xlabel(\"Experience Level\")\n",
    "ax.set_xticklabels(['0-3 Years', \n",
    "                    '4+ Years'], rotation=0)\n",
    "ax.set_ylabel(\"Proportion\")\n",
    "ax.legend(handles=color_patches)\n",
    "\n",
    "fig.suptitle(\"Teaching Experience vs. Teacher Turnover\", fontsize=20)\n",
    "fig.savefig('images/New_teacher.png');"
   ]
  },
  {
   "cell_type": "code",
   "execution_count": 17,
   "metadata": {},
   "outputs": [
    {
     "data": {
      "text/html": [
       "<div>\n",
       "<style scoped>\n",
       "    .dataframe tbody tr th:only-of-type {\n",
       "        vertical-align: middle;\n",
       "    }\n",
       "\n",
       "    .dataframe tbody tr th {\n",
       "        vertical-align: top;\n",
       "    }\n",
       "\n",
       "    .dataframe thead th {\n",
       "        text-align: right;\n",
       "    }\n",
       "</style>\n",
       "<table border=\"1\" class=\"dataframe\">\n",
       "  <thead>\n",
       "    <tr style=\"text-align: right;\">\n",
       "      <th>TURNOVER</th>\n",
       "      <th>0.0</th>\n",
       "      <th>1.0</th>\n",
       "    </tr>\n",
       "    <tr>\n",
       "      <th>NEW_TEACHER</th>\n",
       "      <th></th>\n",
       "      <th></th>\n",
       "    </tr>\n",
       "  </thead>\n",
       "  <tbody>\n",
       "    <tr>\n",
       "      <th>1</th>\n",
       "      <td>0.699779</td>\n",
       "      <td>0.300221</td>\n",
       "    </tr>\n",
       "    <tr>\n",
       "      <th>0</th>\n",
       "      <td>0.833587</td>\n",
       "      <td>0.166413</td>\n",
       "    </tr>\n",
       "  </tbody>\n",
       "</table>\n",
       "</div>"
      ],
      "text/plain": [
       "TURNOVER          0.0       1.0\n",
       "NEW_TEACHER                    \n",
       "1            0.699779  0.300221\n",
       "0            0.833587  0.166413"
      ]
     },
     "execution_count": 17,
     "metadata": {},
     "output_type": "execute_result"
    }
   ],
   "source": [
    "turnover_percents_df"
   ]
  },
  {
   "cell_type": "markdown",
   "metadata": {},
   "source": [
    "New teachers make up less than 20% of the teacher force in Philadelphia. New teachers are those whose salaries indicate they have 3 years of experience or less. Interestingly, the rate of turnover for new teachers is nearly double that of teachers with more experience at 30%."
   ]
  },
  {
   "cell_type": "markdown",
   "metadata": {},
   "source": [
    "__What is the relationship between type of teacher (General Education vs Special Education) and teacher turnover?__"
   ]
  },
  {
   "cell_type": "code",
   "execution_count": 18,
   "metadata": {
    "scrolled": false
   },
   "outputs": [
    {
     "data": {
      "image/png": "[encoded data removed]",
      "text/plain": [
       "<Figure size 432x288 with 1 Axes>"
      ]
     },
     "metadata": {
      "needs_background": "light"
     },
     "output_type": "display_data"
    }
   ],
   "source": [
    "fig, ax = plt.subplots(figsize=(6, 4))\n",
    "\n",
    "df_eda['TITLE_DESCRIPTION'].value_counts(normalize=True).plot(kind='bar', \n",
    "                                                              color=color, \n",
    "                                                              ax=ax)\n",
    "\n",
    "ax.set_xlabel(\"Title Desciption\")\n",
    "ax.set_xticklabels(['Full Time Teacher', 'Special Education \\n Teacher'], rotation=0)\n",
    "ax.set_ylabel(\"Proportion\")\n",
    "ax.set_title(\"Distribution of Teacher Type\", fontsize=16);"
   ]
  },
  {
   "cell_type": "code",
   "execution_count": 19,
   "metadata": {},
   "outputs": [
    {
     "data": {
      "image/png": "[encoded data removed]",
      "text/plain": [
       "<Figure size 576x432 with 1 Axes>"
      ]
     },
     "metadata": {
      "needs_background": "light"
     },
     "output_type": "display_data"
    }
   ],
   "source": [
    "counts1_df = df_eda.groupby([\"TITLE_DESCRIPTION\", \"TURNOVER\"])[\"HOME_ORGANIZATION\"].count().unstack()\n",
    "turnover_percents_bytype_df = counts1_df.T.div(counts1_df.T.sum()).T\n",
    "fig, ax = plt.subplots(figsize=(8, 6))\n",
    "\n",
    "turnover_percents_bytype_df.plot(kind=\"bar\", stacked=True, color=color, ax=ax)\n",
    "\n",
    "ax.set_xlabel(\"Title Descption\")\n",
    "ax.set_xticklabels(['Full Time Teacher', \n",
    "                    'Special Education \\n Teacher'], rotation=0)\n",
    "ax.set_ylabel(\"Proportion\")\n",
    "ax.legend(handles=color_patches)\n",
    "\n",
    "fig.suptitle(\"Teacher Type vs. Teacher Turnover\", fontsize=16);"
   ]
  },
  {
   "cell_type": "markdown",
   "metadata": {},
   "source": [
    "Special Education teachers make up a smaller proportion of the teacher workforce in Philadelphia. Special Education teachers have a slightly higher rate of turnover than full time teachers, so this feature may not be as important for modeling."
   ]
  },
  {
   "cell_type": "markdown",
   "metadata": {},
   "source": [
    "__What is the relationship between Gender and Teacher Turnover?__"
   ]
  },
  {
   "cell_type": "code",
   "execution_count": 20,
   "metadata": {},
   "outputs": [
    {
     "data": {
      "image/png": "[encoded data removed]",
      "text/plain": [
       "<Figure size 432x288 with 1 Axes>"
      ]
     },
     "metadata": {
      "needs_background": "light"
     },
     "output_type": "display_data"
    }
   ],
   "source": [
    "fig, ax = plt.subplots(figsize=(6, 4))\n",
    "\n",
    "df_eda['GENDER'].value_counts(normalize=True).plot(kind='bar', \n",
    "                                                   color=color, ax=ax)\n",
    "\n",
    "ax.set_xlabel(\"Gender\")\n",
    "ax.set_xticklabels(['Female', 'Male'], rotation=0)\n",
    "ax.set_ylabel(\"Proportion\")\n",
    "ax.set_title(\"Distribution of Gender\", fontsize=16);"
   ]
  },
  {
   "cell_type": "code",
   "execution_count": 21,
   "metadata": {
    "scrolled": false
   },
   "outputs": [
    {
     "data": {
      "image/png": "[encoded data removed]",
      "text/plain": [
       "<Figure size 576x432 with 1 Axes>"
      ]
     },
     "metadata": {
      "needs_background": "light"
     },
     "output_type": "display_data"
    }
   ],
   "source": [
    "counts2_df = df_eda.groupby([\"GENDER\", \"TURNOVER\"])[\"HOME_ORGANIZATION\"].count().unstack()\n",
    "turnover_percents_bygender_df = counts2_df.T.div(counts2_df.T.sum()).T\n",
    "fig, ax = plt.subplots(figsize=(8, 6))\n",
    "\n",
    "turnover_percents_bygender_df.plot(kind=\"bar\", stacked=True, color=color, ax=ax)\n",
    "\n",
    "ax.set_xlabel(\"Gender\")\n",
    "ax.set_xticklabels(['Female', 'Male'], rotation=0)\n",
    "ax.set_ylabel(\"Proportion\")\n",
    "ax.legend(handles=color_patches)\n",
    "\n",
    "fig.suptitle(\"Teacher Gender vs. Teacher Turnover\", fontsize=16);"
   ]
  },
  {
   "cell_type": "markdown",
   "metadata": {},
   "source": [
    "Teachers who identify as female make up a majority of the workforce, however gender does not seem to play a role in turnover rates as males and females have similar rates of turnover."
   ]
  },
  {
   "cell_type": "markdown",
   "metadata": {},
   "source": [
    "__What is the relationship between salary and teacher turnover?__"
   ]
  },
  {
   "cell_type": "code",
   "execution_count": 22,
   "metadata": {
    "scrolled": false
   },
   "outputs": [
    {
     "data": {
      "image/png": "[encoded data removed]",
      "text/plain": [
       "<Figure size 720x720 with 1 Axes>"
      ]
     },
     "metadata": {
      "needs_background": "light"
     },
     "output_type": "display_data"
    }
   ],
   "source": [
    "fig, ax = plt.subplots(figsize=(10,10))\n",
    "sns.boxplot(x=\"PAY_RATE\", \n",
    "            y=\"TURNOVER\", \n",
    "            data=df_eda, \n",
    "            orient=\"h\", \n",
    "            palette={1:color[1], 0:color[0]}, \n",
    "            ax=ax)\n",
    "ax.get_yaxis().set_visible(False)\n",
    "fig.suptitle(\"Salary vs. Teacher Turnover \\n 2017-2018 SY\", fontsize=16)\n",
    "ax.legend(handles=color_patches)\n",
    "ax.set_xlabel('Salary [$]');"
   ]
  },
  {
   "cell_type": "markdown",
   "metadata": {},
   "source": [
    "Teachers who were not retained at their school following the 2017-2018 school year tended to have lower salaries than those teachers who were retained. This goes along with the information about new teacher (who have lower salaries) leaving at higher rates."
   ]
  },
  {
   "cell_type": "markdown",
   "metadata": {},
   "source": [
    "### School Demographic Factors"
   ]
  },
  {
   "cell_type": "markdown",
   "metadata": {},
   "source": [
    "__What is the distribution of economically disadvantaged students in relation to teacher turnover?__"
   ]
  },
  {
   "cell_type": "code",
   "execution_count": 23,
   "metadata": {},
   "outputs": [
    {
     "data": {
      "image/png": "[encoded data removed]",
      "text/plain": [
       "<Figure size 432x288 with 1 Axes>"
      ]
     },
     "metadata": {
      "needs_background": "light"
     },
     "output_type": "display_data"
    }
   ],
   "source": [
    "fig, ax = plt.subplots()\n",
    "sns.boxplot(x=\"Economically Disadvantaged Rate\", \n",
    "            y=\"TURNOVER\", data=df_eda, orient=\"h\", \n",
    "            palette={1:color[1], 0:color[0]}, ax=ax)\n",
    "ax.get_yaxis().set_visible(False)\n",
    "fig.suptitle(\"Economically Disadvantaged Rate vs. Teacher Turnover \\n 2017-2018 SY\")\n",
    "ax.legend(handles=color_patches)\n",
    "ax.set_xlabel('Economically Disadvantaged Rate');"
   ]
  },
  {
   "cell_type": "markdown",
   "metadata": {},
   "source": [
    "Schools with higher rates of economically disadvantaged students are associated with higher rates of teacher turnover."
   ]
  },
  {
   "cell_type": "markdown",
   "metadata": {},
   "source": [
    "__What is the relationship between School Climate Scores and Teacher Turnover?__"
   ]
  },
  {
   "cell_type": "code",
   "execution_count": 24,
   "metadata": {
    "scrolled": false
   },
   "outputs": [
    {
     "data": {
      "image/png": "[encoded data removed]",
      "text/plain": [
       "<Figure size 432x432 with 1 Axes>"
      ]
     },
     "metadata": {
      "needs_background": "light"
     },
     "output_type": "display_data"
    }
   ],
   "source": [
    "climate_turnover = pd.crosstab(df_eda['Clim Tier'], \n",
    "                               df_eda['TURNOVER'], \n",
    "                               normalize='index')\n",
    "\n",
    "climate_turnover_copy = climate_turnover.T.copy()\n",
    "climate_turnover_copy = climate_turnover_copy[['INTERVENE', 'WATCH', 'REINFORCE', 'MODEL']]\n",
    "climate_turnover_copy = climate_turnover_copy.T\n",
    "    \n",
    "fig, ax = plt.subplots(figsize=(6, 6))\n",
    "climate_turnover_copy.plot.bar(ax=ax, stacked=True, color=color)\n",
    "plt.title('Teacher Turnover by School Climate Tier', size=15)\n",
    "plt.ylabel('Proportion', size=12)\n",
    "plt.xticks(np.arange(4), ['Intervene', 'Watch', 'Reinforce', 'Model'], rotation=0)\n",
    "plt.xlabel('School Climate Tier', size=12)\n",
    "ax.legend(handles=color_patches, bbox_to_anchor=(1.3, 1))\n",
    "fig.savefig('images/Climate.png');"
   ]
  },
  {
   "cell_type": "markdown",
   "metadata": {},
   "source": [
    "The Climate domain measures student engagement and school climate, focusing on student attendance, student retention, and in- and out-of-school suspensions. A school’s progress at the domain level is categorized into four performance tiers based on the percentage of possible points earned. Schools with low climate scores and fall into the Intervene Tier have higher rates of teacher turnover than those schools with higher climate scores."
   ]
  },
  {
   "cell_type": "markdown",
   "metadata": {},
   "source": [
    "__What is the relationship between Grade Level and Teacher Turnover?__"
   ]
  },
  {
   "cell_type": "code",
   "execution_count": 25,
   "metadata": {
    "scrolled": true
   },
   "outputs": [
    {
     "data": {
      "image/png": "[encoded data removed]",
      "text/plain": [
       "<Figure size 432x432 with 1 Axes>"
      ]
     },
     "metadata": {
      "needs_background": "light"
     },
     "output_type": "display_data"
    }
   ],
   "source": [
    "grade_turnover = pd.crosstab(df_eda['ORGANIZATION_LEVEL'], \n",
    "                             df_eda['TURNOVER'], \n",
    "                             normalize='index')\n",
    "\n",
    "grade_turnover_copy = grade_turnover.T.copy()\n",
    "grade_turnover_copy = grade_turnover_copy[['ELEMENTARY SCHOOL', \n",
    "                                           'MIDDLE SCHOOL', \n",
    "                                           'HIGH SCHOOL', \n",
    "                                           'CAREER AND TECHNICAL HIGH SCHL']]\n",
    "grade_turnover_copy = grade_turnover_copy.T\n",
    "    \n",
    "fig, ax = plt.subplots(figsize=(6, 6))\n",
    "grade_turnover_copy.plot.bar(ax=ax, stacked=True, color=color)\n",
    "plt.title('Teacher Turnover by School Level', size=15)\n",
    "plt.ylabel('Proportion', size=12)\n",
    "plt.xticks(np.arange(4), ['Elementary \\n School', \n",
    "                          'Middle \\n School', \n",
    "                          'High \\n School', \n",
    "                          'CTE High \\n School'], rotation=0)\n",
    "plt.xlabel('School Level', size=12)\n",
    "ax.legend(handles=color_patches, bbox_to_anchor=(1.3, 1));"
   ]
  },
  {
   "cell_type": "markdown",
   "metadata": {},
   "source": [
    "In the School District of Philadelphia, it appears as though High Schools have the lower rates of teacher turnover compared to the other school levels. Interestingly, Career and Technical Education (CTE) High Schools see more teacher turnover than generic high schools. \n",
    "\n",
    "From the above EDA it seems like there is a combination of both occupational factors and school demographic factors that contribute to teacher turnover in Philadelpia public schools."
   ]
  },
  {
   "cell_type": "code",
   "execution_count": 26,
   "metadata": {},
   "outputs": [
    {
     "data": {
      "image/png": "[encoded data removed]",
      "text/plain": [
       "<Figure size 432x432 with 1 Axes>"
      ]
     },
     "metadata": {
      "needs_background": "light"
     },
     "output_type": "display_data"
    }
   ],
   "source": [
    "grade_turnover = pd.crosstab(df_eda['ORGANIZATION_LEVEL'], \n",
    "                             df_eda['TURNOVER'], \n",
    "                             normalize='index')\n",
    "\n",
    "grade_turnover_copy = grade_turnover.T.copy()\n",
    "grade_turnover_copy = grade_turnover_copy[['ELEMENTARY SCHOOL', \n",
    "                                           'MIDDLE SCHOOL', \n",
    "                                           'HIGH SCHOOL', \n",
    "                                           'CAREER AND TECHNICAL HIGH SCHL']]\n",
    "grade_turnover_copy = grade_turnover_copy.T\n",
    "    \n",
    "fig, ax = plt.subplots(figsize=(6, 6))\n",
    "grade_turnover_copy.plot.bar(ax=ax, stacked=True, color=color)\n",
    "plt.title('Teacher Turnover by School Level', size=15)\n",
    "plt.ylabel('Proportion', size=12)\n",
    "plt.xticks(np.arange(4), ['Elementary \\n School', \n",
    "                          'Middle \\n School', \n",
    "                          'High \\n School', \n",
    "                          'CTE High \\n School'], rotation=0)\n",
    "plt.xlabel('School Level', size=12)\n",
    "ax.legend(handles=color_patches, bbox_to_anchor=(1.3, 1));"
   ]
  },
  {
   "cell_type": "code",
   "execution_count": null,
   "metadata": {},
   "outputs": [],
   "source": []
  },
  {
   "cell_type": "code",
   "execution_count": null,
   "metadata": {},
   "outputs": [],
   "source": []
  },
  {
   "cell_type": "markdown",
   "metadata": {},
   "source": [
    "Let's look at the correlations between the numerical features. "
   ]
  },
  {
   "cell_type": "code",
   "execution_count": 27,
   "metadata": {
    "scrolled": false
   },
   "outputs": [
    {
     "data": {
      "text/html": [
       "<div>\n",
       "<style scoped>\n",
       "    .dataframe tbody tr th:only-of-type {\n",
       "        vertical-align: middle;\n",
       "    }\n",
       "\n",
       "    .dataframe tbody tr th {\n",
       "        vertical-align: top;\n",
       "    }\n",
       "\n",
       "    .dataframe thead th {\n",
       "        text-align: right;\n",
       "    }\n",
       "</style>\n",
       "<table border=\"1\" class=\"dataframe\">\n",
       "  <thead>\n",
       "    <tr style=\"text-align: right;\">\n",
       "      <th></th>\n",
       "      <th>PAY_RATE</th>\n",
       "      <th>HOME_ORGANIZATION</th>\n",
       "      <th>Zip Code</th>\n",
       "      <th>Enrollment</th>\n",
       "      <th>Overall Score</th>\n",
       "      <th>Ach Score</th>\n",
       "      <th>Prog Score</th>\n",
       "      <th>Clim Score</th>\n",
       "      <th>Attendance (95%+) Score</th>\n",
       "      <th>Retention Score</th>\n",
       "      <th>ISS Score</th>\n",
       "      <th>OSS Score</th>\n",
       "      <th>Student Survey Climate Score</th>\n",
       "      <th>Parent Survey Climate Score</th>\n",
       "      <th>Parent Survey Participation Score</th>\n",
       "      <th>Teacher Attendance Score</th>\n",
       "      <th>Student Survey Teaching Score</th>\n",
       "      <th>Percent ELL</th>\n",
       "      <th>Percent IEP</th>\n",
       "      <th>Percent Male</th>\n",
       "      <th>Percent Asian</th>\n",
       "      <th>Percent Black/African American</th>\n",
       "      <th>Percent Hispanic</th>\n",
       "      <th>Percent Multi-Race</th>\n",
       "      <th>Percent White</th>\n",
       "      <th>Economically Disadvantaged Rate</th>\n",
       "      <th>NEW_TEACHER</th>\n",
       "      <th>TURNOVER</th>\n",
       "    </tr>\n",
       "  </thead>\n",
       "  <tbody>\n",
       "    <tr>\n",
       "      <th>PAY_RATE</th>\n",
       "      <td>1.000000</td>\n",
       "      <td>0.038187</td>\n",
       "      <td>-0.006289</td>\n",
       "      <td>0.084483</td>\n",
       "      <td>0.081015</td>\n",
       "      <td>0.114272</td>\n",
       "      <td>-0.001125</td>\n",
       "      <td>0.124878</td>\n",
       "      <td>0.101647</td>\n",
       "      <td>0.100311</td>\n",
       "      <td>0.023937</td>\n",
       "      <td>0.094068</td>\n",
       "      <td>0.014391</td>\n",
       "      <td>0.030273</td>\n",
       "      <td>-0.017216</td>\n",
       "      <td>0.052436</td>\n",
       "      <td>-0.007280</td>\n",
       "      <td>0.056485</td>\n",
       "      <td>-0.049168</td>\n",
       "      <td>-0.028847</td>\n",
       "      <td>0.115173</td>\n",
       "      <td>-0.105985</td>\n",
       "      <td>-0.018540</td>\n",
       "      <td>0.072683</td>\n",
       "      <td>0.124008</td>\n",
       "      <td>-0.088749</td>\n",
       "      <td>-0.716830</td>\n",
       "      <td>-0.128383</td>\n",
       "    </tr>\n",
       "    <tr>\n",
       "      <th>HOME_ORGANIZATION</th>\n",
       "      <td>0.038187</td>\n",
       "      <td>1.000000</td>\n",
       "      <td>-0.173860</td>\n",
       "      <td>0.420716</td>\n",
       "      <td>0.087136</td>\n",
       "      <td>0.032721</td>\n",
       "      <td>0.032713</td>\n",
       "      <td>0.161885</td>\n",
       "      <td>0.042418</td>\n",
       "      <td>0.180387</td>\n",
       "      <td>-0.048261</td>\n",
       "      <td>0.164868</td>\n",
       "      <td>-0.067783</td>\n",
       "      <td>-0.046431</td>\n",
       "      <td>-0.055446</td>\n",
       "      <td>0.005062</td>\n",
       "      <td>-0.031576</td>\n",
       "      <td>0.192007</td>\n",
       "      <td>-0.134362</td>\n",
       "      <td>0.047961</td>\n",
       "      <td>0.022180</td>\n",
       "      <td>-0.379480</td>\n",
       "      <td>0.271753</td>\n",
       "      <td>0.279922</td>\n",
       "      <td>0.269318</td>\n",
       "      <td>0.003295</td>\n",
       "      <td>-0.021044</td>\n",
       "      <td>-0.040983</td>\n",
       "    </tr>\n",
       "    <tr>\n",
       "      <th>Zip Code</th>\n",
       "      <td>-0.006289</td>\n",
       "      <td>-0.173860</td>\n",
       "      <td>1.000000</td>\n",
       "      <td>-0.170351</td>\n",
       "      <td>-0.076863</td>\n",
       "      <td>-0.078634</td>\n",
       "      <td>-0.029728</td>\n",
       "      <td>-0.123098</td>\n",
       "      <td>-0.033053</td>\n",
       "      <td>-0.118810</td>\n",
       "      <td>0.063562</td>\n",
       "      <td>0.043937</td>\n",
       "      <td>-0.002077</td>\n",
       "      <td>-0.080520</td>\n",
       "      <td>-0.076155</td>\n",
       "      <td>-0.082204</td>\n",
       "      <td>0.007417</td>\n",
       "      <td>0.048242</td>\n",
       "      <td>-0.004095</td>\n",
       "      <td>-0.130155</td>\n",
       "      <td>0.019649</td>\n",
       "      <td>0.059872</td>\n",
       "      <td>-0.019510</td>\n",
       "      <td>-0.058822</td>\n",
       "      <td>-0.082395</td>\n",
       "      <td>0.178683</td>\n",
       "      <td>-0.003045</td>\n",
       "      <td>0.012072</td>\n",
       "    </tr>\n",
       "    <tr>\n",
       "      <th>Enrollment</th>\n",
       "      <td>0.084483</td>\n",
       "      <td>0.420716</td>\n",
       "      <td>-0.170351</td>\n",
       "      <td>1.000000</td>\n",
       "      <td>0.136520</td>\n",
       "      <td>0.188791</td>\n",
       "      <td>0.055080</td>\n",
       "      <td>0.154257</td>\n",
       "      <td>0.089632</td>\n",
       "      <td>0.188510</td>\n",
       "      <td>-0.193487</td>\n",
       "      <td>0.054606</td>\n",
       "      <td>-0.357273</td>\n",
       "      <td>-0.158786</td>\n",
       "      <td>-0.197453</td>\n",
       "      <td>0.017680</td>\n",
       "      <td>-0.345283</td>\n",
       "      <td>0.304387</td>\n",
       "      <td>-0.258881</td>\n",
       "      <td>0.033960</td>\n",
       "      <td>0.448074</td>\n",
       "      <td>-0.368478</td>\n",
       "      <td>0.129420</td>\n",
       "      <td>0.084677</td>\n",
       "      <td>0.198777</td>\n",
       "      <td>-0.112231</td>\n",
       "      <td>-0.066778</td>\n",
       "      <td>-0.074059</td>\n",
       "    </tr>\n",
       "    <tr>\n",
       "      <th>Overall Score</th>\n",
       "      <td>0.081015</td>\n",
       "      <td>0.087136</td>\n",
       "      <td>-0.076863</td>\n",
       "      <td>0.136520</td>\n",
       "      <td>1.000000</td>\n",
       "      <td>0.842815</td>\n",
       "      <td>0.794141</td>\n",
       "      <td>0.770077</td>\n",
       "      <td>0.810346</td>\n",
       "      <td>0.693493</td>\n",
       "      <td>0.071990</td>\n",
       "      <td>0.617476</td>\n",
       "      <td>0.367333</td>\n",
       "      <td>0.313406</td>\n",
       "      <td>0.232348</td>\n",
       "      <td>0.356930</td>\n",
       "      <td>0.334956</td>\n",
       "      <td>0.122193</td>\n",
       "      <td>-0.571032</td>\n",
       "      <td>-0.355370</td>\n",
       "      <td>0.562558</td>\n",
       "      <td>-0.398046</td>\n",
       "      <td>-0.158467</td>\n",
       "      <td>0.389763</td>\n",
       "      <td>0.465141</td>\n",
       "      <td>-0.581319</td>\n",
       "      <td>-0.071667</td>\n",
       "      <td>-0.113308</td>\n",
       "    </tr>\n",
       "    <tr>\n",
       "      <th>Ach Score</th>\n",
       "      <td>0.114272</td>\n",
       "      <td>0.032721</td>\n",
       "      <td>-0.078634</td>\n",
       "      <td>0.188791</td>\n",
       "      <td>0.842815</td>\n",
       "      <td>1.000000</td>\n",
       "      <td>0.434941</td>\n",
       "      <td>0.733895</td>\n",
       "      <td>0.794655</td>\n",
       "      <td>0.657069</td>\n",
       "      <td>0.028216</td>\n",
       "      <td>0.526810</td>\n",
       "      <td>0.307139</td>\n",
       "      <td>0.255978</td>\n",
       "      <td>0.124734</td>\n",
       "      <td>0.408250</td>\n",
       "      <td>0.235522</td>\n",
       "      <td>-0.066186</td>\n",
       "      <td>-0.484609</td>\n",
       "      <td>-0.326481</td>\n",
       "      <td>0.546492</td>\n",
       "      <td>-0.376198</td>\n",
       "      <td>-0.278603</td>\n",
       "      <td>0.354665</td>\n",
       "      <td>0.591105</td>\n",
       "      <td>-0.777393</td>\n",
       "      <td>-0.093956</td>\n",
       "      <td>-0.115066</td>\n",
       "    </tr>\n",
       "    <tr>\n",
       "      <th>Prog Score</th>\n",
       "      <td>-0.001125</td>\n",
       "      <td>0.032713</td>\n",
       "      <td>-0.029728</td>\n",
       "      <td>0.055080</td>\n",
       "      <td>0.794141</td>\n",
       "      <td>0.434941</td>\n",
       "      <td>1.000000</td>\n",
       "      <td>0.299743</td>\n",
       "      <td>0.403191</td>\n",
       "      <td>0.279872</td>\n",
       "      <td>0.025989</td>\n",
       "      <td>0.345737</td>\n",
       "      <td>0.235458</td>\n",
       "      <td>0.260671</td>\n",
       "      <td>0.226941</td>\n",
       "      <td>0.102906</td>\n",
       "      <td>0.290543</td>\n",
       "      <td>0.122182</td>\n",
       "      <td>-0.449542</td>\n",
       "      <td>-0.229285</td>\n",
       "      <td>0.336866</td>\n",
       "      <td>-0.181349</td>\n",
       "      <td>-0.078634</td>\n",
       "      <td>0.245067</td>\n",
       "      <td>0.152903</td>\n",
       "      <td>-0.206669</td>\n",
       "      <td>-0.001738</td>\n",
       "      <td>-0.039779</td>\n",
       "    </tr>\n",
       "    <tr>\n",
       "      <th>Clim Score</th>\n",
       "      <td>0.124878</td>\n",
       "      <td>0.161885</td>\n",
       "      <td>-0.123098</td>\n",
       "      <td>0.154257</td>\n",
       "      <td>0.770077</td>\n",
       "      <td>0.733895</td>\n",
       "      <td>0.299743</td>\n",
       "      <td>1.000000</td>\n",
       "      <td>0.884434</td>\n",
       "      <td>0.889190</td>\n",
       "      <td>0.123755</td>\n",
       "      <td>0.685835</td>\n",
       "      <td>0.309986</td>\n",
       "      <td>0.248483</td>\n",
       "      <td>0.192925</td>\n",
       "      <td>0.439631</td>\n",
       "      <td>0.199645</td>\n",
       "      <td>0.239348</td>\n",
       "      <td>-0.469853</td>\n",
       "      <td>-0.337816</td>\n",
       "      <td>0.565987</td>\n",
       "      <td>-0.488072</td>\n",
       "      <td>-0.046860</td>\n",
       "      <td>0.360949</td>\n",
       "      <td>0.495340</td>\n",
       "      <td>-0.576475</td>\n",
       "      <td>-0.112942</td>\n",
       "      <td>-0.147260</td>\n",
       "    </tr>\n",
       "    <tr>\n",
       "      <th>Attendance (95%+) Score</th>\n",
       "      <td>0.101647</td>\n",
       "      <td>0.042418</td>\n",
       "      <td>-0.033053</td>\n",
       "      <td>0.089632</td>\n",
       "      <td>0.810346</td>\n",
       "      <td>0.794655</td>\n",
       "      <td>0.403191</td>\n",
       "      <td>0.884434</td>\n",
       "      <td>1.000000</td>\n",
       "      <td>0.755330</td>\n",
       "      <td>0.120543</td>\n",
       "      <td>0.644979</td>\n",
       "      <td>0.302389</td>\n",
       "      <td>0.203678</td>\n",
       "      <td>0.119316</td>\n",
       "      <td>0.367596</td>\n",
       "      <td>0.213480</td>\n",
       "      <td>0.075180</td>\n",
       "      <td>-0.519831</td>\n",
       "      <td>-0.343937</td>\n",
       "      <td>0.558159</td>\n",
       "      <td>-0.315412</td>\n",
       "      <td>-0.216932</td>\n",
       "      <td>0.351204</td>\n",
       "      <td>0.402087</td>\n",
       "      <td>-0.623439</td>\n",
       "      <td>-0.094704</td>\n",
       "      <td>-0.111212</td>\n",
       "    </tr>\n",
       "    <tr>\n",
       "      <th>Retention Score</th>\n",
       "      <td>0.100311</td>\n",
       "      <td>0.180387</td>\n",
       "      <td>-0.118810</td>\n",
       "      <td>0.188510</td>\n",
       "      <td>0.693493</td>\n",
       "      <td>0.657069</td>\n",
       "      <td>0.279872</td>\n",
       "      <td>0.889190</td>\n",
       "      <td>0.755330</td>\n",
       "      <td>1.000000</td>\n",
       "      <td>0.034136</td>\n",
       "      <td>0.583733</td>\n",
       "      <td>0.233823</td>\n",
       "      <td>0.149625</td>\n",
       "      <td>0.124893</td>\n",
       "      <td>0.483844</td>\n",
       "      <td>0.124003</td>\n",
       "      <td>0.176674</td>\n",
       "      <td>-0.414310</td>\n",
       "      <td>-0.334934</td>\n",
       "      <td>0.469235</td>\n",
       "      <td>-0.513534</td>\n",
       "      <td>0.054861</td>\n",
       "      <td>0.405245</td>\n",
       "      <td>0.467632</td>\n",
       "      <td>-0.538183</td>\n",
       "      <td>-0.094468</td>\n",
       "      <td>-0.146313</td>\n",
       "    </tr>\n",
       "    <tr>\n",
       "      <th>ISS Score</th>\n",
       "      <td>0.023937</td>\n",
       "      <td>-0.048261</td>\n",
       "      <td>0.063562</td>\n",
       "      <td>-0.193487</td>\n",
       "      <td>0.071990</td>\n",
       "      <td>0.028216</td>\n",
       "      <td>0.025989</td>\n",
       "      <td>0.123755</td>\n",
       "      <td>0.120543</td>\n",
       "      <td>0.034136</td>\n",
       "      <td>1.000000</td>\n",
       "      <td>0.211967</td>\n",
       "      <td>0.069289</td>\n",
       "      <td>0.046071</td>\n",
       "      <td>0.056472</td>\n",
       "      <td>0.051395</td>\n",
       "      <td>0.050637</td>\n",
       "      <td>0.021441</td>\n",
       "      <td>-0.104986</td>\n",
       "      <td>-0.156824</td>\n",
       "      <td>-0.007994</td>\n",
       "      <td>-0.042950</td>\n",
       "      <td>0.071725</td>\n",
       "      <td>0.024980</td>\n",
       "      <td>-0.010853</td>\n",
       "      <td>-0.018317</td>\n",
       "      <td>-0.016847</td>\n",
       "      <td>0.022632</td>\n",
       "    </tr>\n",
       "    <tr>\n",
       "      <th>OSS Score</th>\n",
       "      <td>0.094068</td>\n",
       "      <td>0.164868</td>\n",
       "      <td>0.043937</td>\n",
       "      <td>0.054606</td>\n",
       "      <td>0.617476</td>\n",
       "      <td>0.526810</td>\n",
       "      <td>0.345737</td>\n",
       "      <td>0.685835</td>\n",
       "      <td>0.644979</td>\n",
       "      <td>0.583733</td>\n",
       "      <td>0.211967</td>\n",
       "      <td>1.000000</td>\n",
       "      <td>0.326027</td>\n",
       "      <td>0.319913</td>\n",
       "      <td>0.247719</td>\n",
       "      <td>0.272244</td>\n",
       "      <td>0.345255</td>\n",
       "      <td>0.219889</td>\n",
       "      <td>-0.563533</td>\n",
       "      <td>-0.329921</td>\n",
       "      <td>0.350180</td>\n",
       "      <td>-0.436586</td>\n",
       "      <td>0.109775</td>\n",
       "      <td>0.439746</td>\n",
       "      <td>0.329789</td>\n",
       "      <td>-0.335855</td>\n",
       "      <td>-0.105428</td>\n",
       "      <td>-0.103168</td>\n",
       "    </tr>\n",
       "    <tr>\n",
       "      <th>Student Survey Climate Score</th>\n",
       "      <td>0.014391</td>\n",
       "      <td>-0.067783</td>\n",
       "      <td>-0.002077</td>\n",
       "      <td>-0.357273</td>\n",
       "      <td>0.367333</td>\n",
       "      <td>0.307139</td>\n",
       "      <td>0.235458</td>\n",
       "      <td>0.309986</td>\n",
       "      <td>0.302389</td>\n",
       "      <td>0.233823</td>\n",
       "      <td>0.069289</td>\n",
       "      <td>0.326027</td>\n",
       "      <td>1.000000</td>\n",
       "      <td>0.376239</td>\n",
       "      <td>0.314706</td>\n",
       "      <td>0.247316</td>\n",
       "      <td>0.931848</td>\n",
       "      <td>0.028150</td>\n",
       "      <td>-0.179316</td>\n",
       "      <td>-0.194787</td>\n",
       "      <td>0.109610</td>\n",
       "      <td>-0.126481</td>\n",
       "      <td>-0.009651</td>\n",
       "      <td>0.159347</td>\n",
       "      <td>0.134871</td>\n",
       "      <td>-0.222645</td>\n",
       "      <td>-0.004661</td>\n",
       "      <td>-0.054615</td>\n",
       "    </tr>\n",
       "    <tr>\n",
       "      <th>Parent Survey Climate Score</th>\n",
       "      <td>0.030273</td>\n",
       "      <td>-0.046431</td>\n",
       "      <td>-0.080520</td>\n",
       "      <td>-0.158786</td>\n",
       "      <td>0.313406</td>\n",
       "      <td>0.255978</td>\n",
       "      <td>0.260671</td>\n",
       "      <td>0.248483</td>\n",
       "      <td>0.203678</td>\n",
       "      <td>0.149625</td>\n",
       "      <td>0.046071</td>\n",
       "      <td>0.319913</td>\n",
       "      <td>0.376239</td>\n",
       "      <td>1.000000</td>\n",
       "      <td>0.642356</td>\n",
       "      <td>0.185495</td>\n",
       "      <td>0.405059</td>\n",
       "      <td>0.060892</td>\n",
       "      <td>-0.250052</td>\n",
       "      <td>-0.183121</td>\n",
       "      <td>0.094925</td>\n",
       "      <td>-0.181528</td>\n",
       "      <td>0.081904</td>\n",
       "      <td>0.097150</td>\n",
       "      <td>0.143686</td>\n",
       "      <td>-0.178080</td>\n",
       "      <td>-0.007046</td>\n",
       "      <td>-0.029399</td>\n",
       "    </tr>\n",
       "    <tr>\n",
       "      <th>Parent Survey Participation Score</th>\n",
       "      <td>-0.017216</td>\n",
       "      <td>-0.055446</td>\n",
       "      <td>-0.076155</td>\n",
       "      <td>-0.197453</td>\n",
       "      <td>0.232348</td>\n",
       "      <td>0.124734</td>\n",
       "      <td>0.226941</td>\n",
       "      <td>0.192925</td>\n",
       "      <td>0.119316</td>\n",
       "      <td>0.124893</td>\n",
       "      <td>0.056472</td>\n",
       "      <td>0.247719</td>\n",
       "      <td>0.314706</td>\n",
       "      <td>0.642356</td>\n",
       "      <td>1.000000</td>\n",
       "      <td>0.174428</td>\n",
       "      <td>0.364445</td>\n",
       "      <td>0.054268</td>\n",
       "      <td>-0.157752</td>\n",
       "      <td>-0.158282</td>\n",
       "      <td>-0.000120</td>\n",
       "      <td>-0.147143</td>\n",
       "      <td>0.156658</td>\n",
       "      <td>0.064998</td>\n",
       "      <td>0.057997</td>\n",
       "      <td>-0.081119</td>\n",
       "      <td>0.022961</td>\n",
       "      <td>-0.023279</td>\n",
       "    </tr>\n",
       "    <tr>\n",
       "      <th>Teacher Attendance Score</th>\n",
       "      <td>0.052436</td>\n",
       "      <td>0.005062</td>\n",
       "      <td>-0.082204</td>\n",
       "      <td>0.017680</td>\n",
       "      <td>0.356930</td>\n",
       "      <td>0.408250</td>\n",
       "      <td>0.102906</td>\n",
       "      <td>0.439631</td>\n",
       "      <td>0.367596</td>\n",
       "      <td>0.483844</td>\n",
       "      <td>0.051395</td>\n",
       "      <td>0.272244</td>\n",
       "      <td>0.247316</td>\n",
       "      <td>0.185495</td>\n",
       "      <td>0.174428</td>\n",
       "      <td>1.000000</td>\n",
       "      <td>0.169332</td>\n",
       "      <td>0.042135</td>\n",
       "      <td>-0.154616</td>\n",
       "      <td>-0.141650</td>\n",
       "      <td>0.237088</td>\n",
       "      <td>-0.308222</td>\n",
       "      <td>0.096160</td>\n",
       "      <td>0.120606</td>\n",
       "      <td>0.256306</td>\n",
       "      <td>-0.309513</td>\n",
       "      <td>-0.063753</td>\n",
       "      <td>-0.116987</td>\n",
       "    </tr>\n",
       "    <tr>\n",
       "      <th>Student Survey Teaching Score</th>\n",
       "      <td>-0.007280</td>\n",
       "      <td>-0.031576</td>\n",
       "      <td>0.007417</td>\n",
       "      <td>-0.345283</td>\n",
       "      <td>0.334956</td>\n",
       "      <td>0.235522</td>\n",
       "      <td>0.290543</td>\n",
       "      <td>0.199645</td>\n",
       "      <td>0.213480</td>\n",
       "      <td>0.124003</td>\n",
       "      <td>0.050637</td>\n",
       "      <td>0.345255</td>\n",
       "      <td>0.931848</td>\n",
       "      <td>0.405059</td>\n",
       "      <td>0.364445</td>\n",
       "      <td>0.169332</td>\n",
       "      <td>1.000000</td>\n",
       "      <td>0.087300</td>\n",
       "      <td>-0.219746</td>\n",
       "      <td>-0.118731</td>\n",
       "      <td>0.082593</td>\n",
       "      <td>-0.144634</td>\n",
       "      <td>0.037291</td>\n",
       "      <td>0.254770</td>\n",
       "      <td>0.106404</td>\n",
       "      <td>-0.102062</td>\n",
       "      <td>0.011138</td>\n",
       "      <td>-0.037417</td>\n",
       "    </tr>\n",
       "    <tr>\n",
       "      <th>Percent ELL</th>\n",
       "      <td>0.056485</td>\n",
       "      <td>0.192007</td>\n",
       "      <td>0.048242</td>\n",
       "      <td>0.304387</td>\n",
       "      <td>0.122193</td>\n",
       "      <td>-0.066186</td>\n",
       "      <td>0.122182</td>\n",
       "      <td>0.239348</td>\n",
       "      <td>0.075180</td>\n",
       "      <td>0.176674</td>\n",
       "      <td>0.021441</td>\n",
       "      <td>0.219889</td>\n",
       "      <td>0.028150</td>\n",
       "      <td>0.060892</td>\n",
       "      <td>0.054268</td>\n",
       "      <td>0.042135</td>\n",
       "      <td>0.087300</td>\n",
       "      <td>1.000000</td>\n",
       "      <td>-0.121991</td>\n",
       "      <td>0.085350</td>\n",
       "      <td>0.557938</td>\n",
       "      <td>-0.650867</td>\n",
       "      <td>0.598166</td>\n",
       "      <td>0.170485</td>\n",
       "      <td>0.044641</td>\n",
       "      <td>0.199002</td>\n",
       "      <td>-0.053769</td>\n",
       "      <td>-0.081585</td>\n",
       "    </tr>\n",
       "    <tr>\n",
       "      <th>Percent IEP</th>\n",
       "      <td>-0.049168</td>\n",
       "      <td>-0.134362</td>\n",
       "      <td>-0.004095</td>\n",
       "      <td>-0.258881</td>\n",
       "      <td>-0.571032</td>\n",
       "      <td>-0.484609</td>\n",
       "      <td>-0.449542</td>\n",
       "      <td>-0.469853</td>\n",
       "      <td>-0.519831</td>\n",
       "      <td>-0.414310</td>\n",
       "      <td>-0.104986</td>\n",
       "      <td>-0.563533</td>\n",
       "      <td>-0.179316</td>\n",
       "      <td>-0.250052</td>\n",
       "      <td>-0.157752</td>\n",
       "      <td>-0.154616</td>\n",
       "      <td>-0.219746</td>\n",
       "      <td>-0.121991</td>\n",
       "      <td>1.000000</td>\n",
       "      <td>0.477530</td>\n",
       "      <td>-0.395849</td>\n",
       "      <td>0.251852</td>\n",
       "      <td>0.000727</td>\n",
       "      <td>-0.221223</td>\n",
       "      <td>-0.153828</td>\n",
       "      <td>0.317151</td>\n",
       "      <td>0.064091</td>\n",
       "      <td>0.061511</td>\n",
       "    </tr>\n",
       "    <tr>\n",
       "      <th>Percent Male</th>\n",
       "      <td>-0.028847</td>\n",
       "      <td>0.047961</td>\n",
       "      <td>-0.130155</td>\n",
       "      <td>0.033960</td>\n",
       "      <td>-0.355370</td>\n",
       "      <td>-0.326481</td>\n",
       "      <td>-0.229285</td>\n",
       "      <td>-0.337816</td>\n",
       "      <td>-0.343937</td>\n",
       "      <td>-0.334934</td>\n",
       "      <td>-0.156824</td>\n",
       "      <td>-0.329921</td>\n",
       "      <td>-0.194787</td>\n",
       "      <td>-0.183121</td>\n",
       "      <td>-0.158282</td>\n",
       "      <td>-0.141650</td>\n",
       "      <td>-0.118731</td>\n",
       "      <td>0.085350</td>\n",
       "      <td>0.477530</td>\n",
       "      <td>1.000000</td>\n",
       "      <td>-0.108793</td>\n",
       "      <td>0.076371</td>\n",
       "      <td>-0.003440</td>\n",
       "      <td>-0.056504</td>\n",
       "      <td>-0.053741</td>\n",
       "      <td>0.247421</td>\n",
       "      <td>0.030871</td>\n",
       "      <td>0.024637</td>\n",
       "    </tr>\n",
       "    <tr>\n",
       "      <th>Percent Asian</th>\n",
       "      <td>0.115173</td>\n",
       "      <td>0.022180</td>\n",
       "      <td>0.019649</td>\n",
       "      <td>0.448074</td>\n",
       "      <td>0.562558</td>\n",
       "      <td>0.546492</td>\n",
       "      <td>0.336866</td>\n",
       "      <td>0.565987</td>\n",
       "      <td>0.558159</td>\n",
       "      <td>0.469235</td>\n",
       "      <td>-0.007994</td>\n",
       "      <td>0.350180</td>\n",
       "      <td>0.109610</td>\n",
       "      <td>0.094925</td>\n",
       "      <td>-0.000120</td>\n",
       "      <td>0.237088</td>\n",
       "      <td>0.082593</td>\n",
       "      <td>0.557938</td>\n",
       "      <td>-0.395849</td>\n",
       "      <td>-0.108793</td>\n",
       "      <td>1.000000</td>\n",
       "      <td>-0.511409</td>\n",
       "      <td>-0.037531</td>\n",
       "      <td>0.191805</td>\n",
       "      <td>0.290333</td>\n",
       "      <td>-0.291188</td>\n",
       "      <td>-0.091607</td>\n",
       "      <td>-0.112670</td>\n",
       "    </tr>\n",
       "    <tr>\n",
       "      <th>Percent Black/African American</th>\n",
       "      <td>-0.105985</td>\n",
       "      <td>-0.379480</td>\n",
       "      <td>0.059872</td>\n",
       "      <td>-0.368478</td>\n",
       "      <td>-0.398046</td>\n",
       "      <td>-0.376198</td>\n",
       "      <td>-0.181349</td>\n",
       "      <td>-0.488072</td>\n",
       "      <td>-0.315412</td>\n",
       "      <td>-0.513534</td>\n",
       "      <td>-0.042950</td>\n",
       "      <td>-0.436586</td>\n",
       "      <td>-0.126481</td>\n",
       "      <td>-0.181528</td>\n",
       "      <td>-0.147143</td>\n",
       "      <td>-0.308222</td>\n",
       "      <td>-0.144634</td>\n",
       "      <td>-0.650867</td>\n",
       "      <td>0.251852</td>\n",
       "      <td>0.076371</td>\n",
       "      <td>-0.511409</td>\n",
       "      <td>1.000000</td>\n",
       "      <td>-0.600740</td>\n",
       "      <td>-0.522093</td>\n",
       "      <td>-0.615745</td>\n",
       "      <td>0.259667</td>\n",
       "      <td>0.082128</td>\n",
       "      <td>0.126941</td>\n",
       "    </tr>\n",
       "    <tr>\n",
       "      <th>Percent Hispanic</th>\n",
       "      <td>-0.018540</td>\n",
       "      <td>0.271753</td>\n",
       "      <td>-0.019510</td>\n",
       "      <td>0.129420</td>\n",
       "      <td>-0.158467</td>\n",
       "      <td>-0.278603</td>\n",
       "      <td>-0.078634</td>\n",
       "      <td>-0.046860</td>\n",
       "      <td>-0.216932</td>\n",
       "      <td>0.054861</td>\n",
       "      <td>0.071725</td>\n",
       "      <td>0.109775</td>\n",
       "      <td>-0.009651</td>\n",
       "      <td>0.081904</td>\n",
       "      <td>0.156658</td>\n",
       "      <td>0.096160</td>\n",
       "      <td>0.037291</td>\n",
       "      <td>0.598166</td>\n",
       "      <td>0.000727</td>\n",
       "      <td>-0.003440</td>\n",
       "      <td>-0.037531</td>\n",
       "      <td>-0.600740</td>\n",
       "      <td>1.000000</td>\n",
       "      <td>0.118994</td>\n",
       "      <td>-0.151479</td>\n",
       "      <td>0.267961</td>\n",
       "      <td>0.003022</td>\n",
       "      <td>-0.029604</td>\n",
       "    </tr>\n",
       "    <tr>\n",
       "      <th>Percent Multi-Race</th>\n",
       "      <td>0.072683</td>\n",
       "      <td>0.279922</td>\n",
       "      <td>-0.058822</td>\n",
       "      <td>0.084677</td>\n",
       "      <td>0.389763</td>\n",
       "      <td>0.354665</td>\n",
       "      <td>0.245067</td>\n",
       "      <td>0.360949</td>\n",
       "      <td>0.351204</td>\n",
       "      <td>0.405245</td>\n",
       "      <td>0.024980</td>\n",
       "      <td>0.439746</td>\n",
       "      <td>0.159347</td>\n",
       "      <td>0.097150</td>\n",
       "      <td>0.064998</td>\n",
       "      <td>0.120606</td>\n",
       "      <td>0.254770</td>\n",
       "      <td>0.170485</td>\n",
       "      <td>-0.221223</td>\n",
       "      <td>-0.056504</td>\n",
       "      <td>0.191805</td>\n",
       "      <td>-0.522093</td>\n",
       "      <td>0.118994</td>\n",
       "      <td>1.000000</td>\n",
       "      <td>0.454532</td>\n",
       "      <td>-0.199308</td>\n",
       "      <td>-0.055405</td>\n",
       "      <td>-0.078163</td>\n",
       "    </tr>\n",
       "    <tr>\n",
       "      <th>Percent White</th>\n",
       "      <td>0.124008</td>\n",
       "      <td>0.269318</td>\n",
       "      <td>-0.082395</td>\n",
       "      <td>0.198777</td>\n",
       "      <td>0.465141</td>\n",
       "      <td>0.591105</td>\n",
       "      <td>0.152903</td>\n",
       "      <td>0.495340</td>\n",
       "      <td>0.402087</td>\n",
       "      <td>0.467632</td>\n",
       "      <td>-0.010853</td>\n",
       "      <td>0.329789</td>\n",
       "      <td>0.134871</td>\n",
       "      <td>0.143686</td>\n",
       "      <td>0.057997</td>\n",
       "      <td>0.256306</td>\n",
       "      <td>0.106404</td>\n",
       "      <td>0.044641</td>\n",
       "      <td>-0.153828</td>\n",
       "      <td>-0.053741</td>\n",
       "      <td>0.290333</td>\n",
       "      <td>-0.615745</td>\n",
       "      <td>-0.151479</td>\n",
       "      <td>0.454532</td>\n",
       "      <td>1.000000</td>\n",
       "      <td>-0.564469</td>\n",
       "      <td>-0.080843</td>\n",
       "      <td>-0.102493</td>\n",
       "    </tr>\n",
       "    <tr>\n",
       "      <th>Economically Disadvantaged Rate</th>\n",
       "      <td>-0.088749</td>\n",
       "      <td>0.003295</td>\n",
       "      <td>0.178683</td>\n",
       "      <td>-0.112231</td>\n",
       "      <td>-0.581319</td>\n",
       "      <td>-0.777393</td>\n",
       "      <td>-0.206669</td>\n",
       "      <td>-0.576475</td>\n",
       "      <td>-0.623439</td>\n",
       "      <td>-0.538183</td>\n",
       "      <td>-0.018317</td>\n",
       "      <td>-0.335855</td>\n",
       "      <td>-0.222645</td>\n",
       "      <td>-0.178080</td>\n",
       "      <td>-0.081119</td>\n",
       "      <td>-0.309513</td>\n",
       "      <td>-0.102062</td>\n",
       "      <td>0.199002</td>\n",
       "      <td>0.317151</td>\n",
       "      <td>0.247421</td>\n",
       "      <td>-0.291188</td>\n",
       "      <td>0.259667</td>\n",
       "      <td>0.267961</td>\n",
       "      <td>-0.199308</td>\n",
       "      <td>-0.564469</td>\n",
       "      <td>1.000000</td>\n",
       "      <td>0.074309</td>\n",
       "      <td>0.080252</td>\n",
       "    </tr>\n",
       "    <tr>\n",
       "      <th>NEW_TEACHER</th>\n",
       "      <td>-0.716830</td>\n",
       "      <td>-0.021044</td>\n",
       "      <td>-0.003045</td>\n",
       "      <td>-0.066778</td>\n",
       "      <td>-0.071667</td>\n",
       "      <td>-0.093956</td>\n",
       "      <td>-0.001738</td>\n",
       "      <td>-0.112942</td>\n",
       "      <td>-0.094704</td>\n",
       "      <td>-0.094468</td>\n",
       "      <td>-0.016847</td>\n",
       "      <td>-0.105428</td>\n",
       "      <td>-0.004661</td>\n",
       "      <td>-0.007046</td>\n",
       "      <td>0.022961</td>\n",
       "      <td>-0.063753</td>\n",
       "      <td>0.011138</td>\n",
       "      <td>-0.053769</td>\n",
       "      <td>0.064091</td>\n",
       "      <td>0.030871</td>\n",
       "      <td>-0.091607</td>\n",
       "      <td>0.082128</td>\n",
       "      <td>0.003022</td>\n",
       "      <td>-0.055405</td>\n",
       "      <td>-0.080843</td>\n",
       "      <td>0.074309</td>\n",
       "      <td>1.000000</td>\n",
       "      <td>0.128720</td>\n",
       "    </tr>\n",
       "    <tr>\n",
       "      <th>TURNOVER</th>\n",
       "      <td>-0.128383</td>\n",
       "      <td>-0.040983</td>\n",
       "      <td>0.012072</td>\n",
       "      <td>-0.074059</td>\n",
       "      <td>-0.113308</td>\n",
       "      <td>-0.115066</td>\n",
       "      <td>-0.039779</td>\n",
       "      <td>-0.147260</td>\n",
       "      <td>-0.111212</td>\n",
       "      <td>-0.146313</td>\n",
       "      <td>0.022632</td>\n",
       "      <td>-0.103168</td>\n",
       "      <td>-0.054615</td>\n",
       "      <td>-0.029399</td>\n",
       "      <td>-0.023279</td>\n",
       "      <td>-0.116987</td>\n",
       "      <td>-0.037417</td>\n",
       "      <td>-0.081585</td>\n",
       "      <td>0.061511</td>\n",
       "      <td>0.024637</td>\n",
       "      <td>-0.112670</td>\n",
       "      <td>0.126941</td>\n",
       "      <td>-0.029604</td>\n",
       "      <td>-0.078163</td>\n",
       "      <td>-0.102493</td>\n",
       "      <td>0.080252</td>\n",
       "      <td>0.128720</td>\n",
       "      <td>1.000000</td>\n",
       "    </tr>\n",
       "  </tbody>\n",
       "</table>\n",
       "</div>"
      ],
      "text/plain": [
       "                                   PAY_RATE  HOME_ORGANIZATION  Zip Code  \\\n",
       "PAY_RATE                           1.000000           0.038187 -0.006289   \n",
       "HOME_ORGANIZATION                  0.038187           1.000000 -0.173860   \n",
       "Zip Code                          -0.006289          -0.173860  1.000000   \n",
       "Enrollment                         0.084483           0.420716 -0.170351   \n",
       "Overall Score                      0.081015           0.087136 -0.076863   \n",
       "Ach Score                          0.114272           0.032721 -0.078634   \n",
       "Prog Score                        -0.001125           0.032713 -0.029728   \n",
       "Clim Score                         0.124878           0.161885 -0.123098   \n",
       "Attendance (95%+) Score            0.101647           0.042418 -0.033053   \n",
       "Retention Score                    0.100311           0.180387 -0.118810   \n",
       "ISS Score                          0.023937          -0.048261  0.063562   \n",
       "OSS Score                          0.094068           0.164868  0.043937   \n",
       "Student Survey Climate Score       0.014391          -0.067783 -0.002077   \n",
       "Parent Survey Climate Score        0.030273          -0.046431 -0.080520   \n",
       "Parent Survey Participation Score -0.017216          -0.055446 -0.076155   \n",
       "Teacher Attendance Score           0.052436           0.005062 -0.082204   \n",
       "Student Survey Teaching Score     -0.007280          -0.031576  0.007417   \n",
       "Percent ELL                        0.056485           0.192007  0.048242   \n",
       "Percent IEP                       -0.049168          -0.134362 -0.004095   \n",
       "Percent Male                      -0.028847           0.047961 -0.130155   \n",
       "Percent Asian                      0.115173           0.022180  0.019649   \n",
       "Percent Black/African American    -0.105985          -0.379480  0.059872   \n",
       "Percent Hispanic                  -0.018540           0.271753 -0.019510   \n",
       "Percent Multi-Race                 0.072683           0.279922 -0.058822   \n",
       "Percent White                      0.124008           0.269318 -0.082395   \n",
       "Economically Disadvantaged Rate   -0.088749           0.003295  0.178683   \n",
       "NEW_TEACHER                       -0.716830          -0.021044 -0.003045   \n",
       "TURNOVER                          -0.128383          -0.040983  0.012072   \n",
       "\n",
       "                                   Enrollment  Overall Score  Ach Score  \\\n",
       "PAY_RATE                             0.084483       0.081015   0.114272   \n",
       "HOME_ORGANIZATION                    0.420716       0.087136   0.032721   \n",
       "Zip Code                            -0.170351      -0.076863  -0.078634   \n",
       "Enrollment                           1.000000       0.136520   0.188791   \n",
       "Overall Score                        0.136520       1.000000   0.842815   \n",
       "Ach Score                            0.188791       0.842815   1.000000   \n",
       "Prog Score                           0.055080       0.794141   0.434941   \n",
       "Clim Score                           0.154257       0.770077   0.733895   \n",
       "Attendance (95%+) Score              0.089632       0.810346   0.794655   \n",
       "Retention Score                      0.188510       0.693493   0.657069   \n",
       "ISS Score                           -0.193487       0.071990   0.028216   \n",
       "OSS Score                            0.054606       0.617476   0.526810   \n",
       "Student Survey Climate Score        -0.357273       0.367333   0.307139   \n",
       "Parent Survey Climate Score         -0.158786       0.313406   0.255978   \n",
       "Parent Survey Participation Score   -0.197453       0.232348   0.124734   \n",
       "Teacher Attendance Score             0.017680       0.356930   0.408250   \n",
       "Student Survey Teaching Score       -0.345283       0.334956   0.235522   \n",
       "Percent ELL                          0.304387       0.122193  -0.066186   \n",
       "Percent IEP                         -0.258881      -0.571032  -0.484609   \n",
       "Percent Male                         0.033960      -0.355370  -0.326481   \n",
       "Percent Asian                        0.448074       0.562558   0.546492   \n",
       "Percent Black/African American      -0.368478      -0.398046  -0.376198   \n",
       "Percent Hispanic                     0.129420      -0.158467  -0.278603   \n",
       "Percent Multi-Race                   0.084677       0.389763   0.354665   \n",
       "Percent White                        0.198777       0.465141   0.591105   \n",
       "Economically Disadvantaged Rate     -0.112231      -0.581319  -0.777393   \n",
       "NEW_TEACHER                         -0.066778      -0.071667  -0.093956   \n",
       "TURNOVER                            -0.074059      -0.113308  -0.115066   \n",
       "\n",
       "                                   Prog Score  Clim Score  \\\n",
       "PAY_RATE                            -0.001125    0.124878   \n",
       "HOME_ORGANIZATION                    0.032713    0.161885   \n",
       "Zip Code                            -0.029728   -0.123098   \n",
       "Enrollment                           0.055080    0.154257   \n",
       "Overall Score                        0.794141    0.770077   \n",
       "Ach Score                            0.434941    0.733895   \n",
       "Prog Score                           1.000000    0.299743   \n",
       "Clim Score                           0.299743    1.000000   \n",
       "Attendance (95%+) Score              0.403191    0.884434   \n",
       "Retention Score                      0.279872    0.889190   \n",
       "ISS Score                            0.025989    0.123755   \n",
       "OSS Score                            0.345737    0.685835   \n",
       "Student Survey Climate Score         0.235458    0.309986   \n",
       "Parent Survey Climate Score          0.260671    0.248483   \n",
       "Parent Survey Participation Score    0.226941    0.192925   \n",
       "Teacher Attendance Score             0.102906    0.439631   \n",
       "Student Survey Teaching Score        0.290543    0.199645   \n",
       "Percent ELL                          0.122182    0.239348   \n",
       "Percent IEP                         -0.449542   -0.469853   \n",
       "Percent Male                        -0.229285   -0.337816   \n",
       "Percent Asian                        0.336866    0.565987   \n",
       "Percent Black/African American      -0.181349   -0.488072   \n",
       "Percent Hispanic                    -0.078634   -0.046860   \n",
       "Percent Multi-Race                   0.245067    0.360949   \n",
       "Percent White                        0.152903    0.495340   \n",
       "Economically Disadvantaged Rate     -0.206669   -0.576475   \n",
       "NEW_TEACHER                         -0.001738   -0.112942   \n",
       "TURNOVER                            -0.039779   -0.147260   \n",
       "\n",
       "                                   Attendance (95%+) Score  Retention Score  \\\n",
       "PAY_RATE                                          0.101647         0.100311   \n",
       "HOME_ORGANIZATION                                 0.042418         0.180387   \n",
       "Zip Code                                         -0.033053        -0.118810   \n",
       "Enrollment                                        0.089632         0.188510   \n",
       "Overall Score                                     0.810346         0.693493   \n",
       "Ach Score                                         0.794655         0.657069   \n",
       "Prog Score                                        0.403191         0.279872   \n",
       "Clim Score                                        0.884434         0.889190   \n",
       "Attendance (95%+) Score                           1.000000         0.755330   \n",
       "Retention Score                                   0.755330         1.000000   \n",
       "ISS Score                                         0.120543         0.034136   \n",
       "OSS Score                                         0.644979         0.583733   \n",
       "Student Survey Climate Score                      0.302389         0.233823   \n",
       "Parent Survey Climate Score                       0.203678         0.149625   \n",
       "Parent Survey Participation Score                 0.119316         0.124893   \n",
       "Teacher Attendance Score                          0.367596         0.483844   \n",
       "Student Survey Teaching Score                     0.213480         0.124003   \n",
       "Percent ELL                                       0.075180         0.176674   \n",
       "Percent IEP                                      -0.519831        -0.414310   \n",
       "Percent Male                                     -0.343937        -0.334934   \n",
       "Percent Asian                                     0.558159         0.469235   \n",
       "Percent Black/African American                   -0.315412        -0.513534   \n",
       "Percent Hispanic                                 -0.216932         0.054861   \n",
       "Percent Multi-Race                                0.351204         0.405245   \n",
       "Percent White                                     0.402087         0.467632   \n",
       "Economically Disadvantaged Rate                  -0.623439        -0.538183   \n",
       "NEW_TEACHER                                      -0.094704        -0.094468   \n",
       "TURNOVER                                         -0.111212        -0.146313   \n",
       "\n",
       "                                   ISS Score  OSS Score  \\\n",
       "PAY_RATE                            0.023937   0.094068   \n",
       "HOME_ORGANIZATION                  -0.048261   0.164868   \n",
       "Zip Code                            0.063562   0.043937   \n",
       "Enrollment                         -0.193487   0.054606   \n",
       "Overall Score                       0.071990   0.617476   \n",
       "Ach Score                           0.028216   0.526810   \n",
       "Prog Score                          0.025989   0.345737   \n",
       "Clim Score                          0.123755   0.685835   \n",
       "Attendance (95%+) Score             0.120543   0.644979   \n",
       "Retention Score                     0.034136   0.583733   \n",
       "ISS Score                           1.000000   0.211967   \n",
       "OSS Score                           0.211967   1.000000   \n",
       "Student Survey Climate Score        0.069289   0.326027   \n",
       "Parent Survey Climate Score         0.046071   0.319913   \n",
       "Parent Survey Participation Score   0.056472   0.247719   \n",
       "Teacher Attendance Score            0.051395   0.272244   \n",
       "Student Survey Teaching Score       0.050637   0.345255   \n",
       "Percent ELL                         0.021441   0.219889   \n",
       "Percent IEP                        -0.104986  -0.563533   \n",
       "Percent Male                       -0.156824  -0.329921   \n",
       "Percent Asian                      -0.007994   0.350180   \n",
       "Percent Black/African American     -0.042950  -0.436586   \n",
       "Percent Hispanic                    0.071725   0.109775   \n",
       "Percent Multi-Race                  0.024980   0.439746   \n",
       "Percent White                      -0.010853   0.329789   \n",
       "Economically Disadvantaged Rate    -0.018317  -0.335855   \n",
       "NEW_TEACHER                        -0.016847  -0.105428   \n",
       "TURNOVER                            0.022632  -0.103168   \n",
       "\n",
       "                                   Student Survey Climate Score  \\\n",
       "PAY_RATE                                               0.014391   \n",
       "HOME_ORGANIZATION                                     -0.067783   \n",
       "Zip Code                                              -0.002077   \n",
       "Enrollment                                            -0.357273   \n",
       "Overall Score                                          0.367333   \n",
       "Ach Score                                              0.307139   \n",
       "Prog Score                                             0.235458   \n",
       "Clim Score                                             0.309986   \n",
       "Attendance (95%+) Score                                0.302389   \n",
       "Retention Score                                        0.233823   \n",
       "ISS Score                                              0.069289   \n",
       "OSS Score                                              0.326027   \n",
       "Student Survey Climate Score                           1.000000   \n",
       "Parent Survey Climate Score                            0.376239   \n",
       "Parent Survey Participation Score                      0.314706   \n",
       "Teacher Attendance Score                               0.247316   \n",
       "Student Survey Teaching Score                          0.931848   \n",
       "Percent ELL                                            0.028150   \n",
       "Percent IEP                                           -0.179316   \n",
       "Percent Male                                          -0.194787   \n",
       "Percent Asian                                          0.109610   \n",
       "Percent Black/African American                        -0.126481   \n",
       "Percent Hispanic                                      -0.009651   \n",
       "Percent Multi-Race                                     0.159347   \n",
       "Percent White                                          0.134871   \n",
       "Economically Disadvantaged Rate                       -0.222645   \n",
       "NEW_TEACHER                                           -0.004661   \n",
       "TURNOVER                                              -0.054615   \n",
       "\n",
       "                                   Parent Survey Climate Score  \\\n",
       "PAY_RATE                                              0.030273   \n",
       "HOME_ORGANIZATION                                    -0.046431   \n",
       "Zip Code                                             -0.080520   \n",
       "Enrollment                                           -0.158786   \n",
       "Overall Score                                         0.313406   \n",
       "Ach Score                                             0.255978   \n",
       "Prog Score                                            0.260671   \n",
       "Clim Score                                            0.248483   \n",
       "Attendance (95%+) Score                               0.203678   \n",
       "Retention Score                                       0.149625   \n",
       "ISS Score                                             0.046071   \n",
       "OSS Score                                             0.319913   \n",
       "Student Survey Climate Score                          0.376239   \n",
       "Parent Survey Climate Score                           1.000000   \n",
       "Parent Survey Participation Score                     0.642356   \n",
       "Teacher Attendance Score                              0.185495   \n",
       "Student Survey Teaching Score                         0.405059   \n",
       "Percent ELL                                           0.060892   \n",
       "Percent IEP                                          -0.250052   \n",
       "Percent Male                                         -0.183121   \n",
       "Percent Asian                                         0.094925   \n",
       "Percent Black/African American                       -0.181528   \n",
       "Percent Hispanic                                      0.081904   \n",
       "Percent Multi-Race                                    0.097150   \n",
       "Percent White                                         0.143686   \n",
       "Economically Disadvantaged Rate                      -0.178080   \n",
       "NEW_TEACHER                                          -0.007046   \n",
       "TURNOVER                                             -0.029399   \n",
       "\n",
       "                                   Parent Survey Participation Score  \\\n",
       "PAY_RATE                                                   -0.017216   \n",
       "HOME_ORGANIZATION                                          -0.055446   \n",
       "Zip Code                                                   -0.076155   \n",
       "Enrollment                                                 -0.197453   \n",
       "Overall Score                                               0.232348   \n",
       "Ach Score                                                   0.124734   \n",
       "Prog Score                                                  0.226941   \n",
       "Clim Score                                                  0.192925   \n",
       "Attendance (95%+) Score                                     0.119316   \n",
       "Retention Score                                             0.124893   \n",
       "ISS Score                                                   0.056472   \n",
       "OSS Score                                                   0.247719   \n",
       "Student Survey Climate Score                                0.314706   \n",
       "Parent Survey Climate Score                                 0.642356   \n",
       "Parent Survey Participation Score                           1.000000   \n",
       "Teacher Attendance Score                                    0.174428   \n",
       "Student Survey Teaching Score                               0.364445   \n",
       "Percent ELL                                                 0.054268   \n",
       "Percent IEP                                                -0.157752   \n",
       "Percent Male                                               -0.158282   \n",
       "Percent Asian                                              -0.000120   \n",
       "Percent Black/African American                             -0.147143   \n",
       "Percent Hispanic                                            0.156658   \n",
       "Percent Multi-Race                                          0.064998   \n",
       "Percent White                                               0.057997   \n",
       "Economically Disadvantaged Rate                            -0.081119   \n",
       "NEW_TEACHER                                                 0.022961   \n",
       "TURNOVER                                                   -0.023279   \n",
       "\n",
       "                                   Teacher Attendance Score  \\\n",
       "PAY_RATE                                           0.052436   \n",
       "HOME_ORGANIZATION                                  0.005062   \n",
       "Zip Code                                          -0.082204   \n",
       "Enrollment                                         0.017680   \n",
       "Overall Score                                      0.356930   \n",
       "Ach Score                                          0.408250   \n",
       "Prog Score                                         0.102906   \n",
       "Clim Score                                         0.439631   \n",
       "Attendance (95%+) Score                            0.367596   \n",
       "Retention Score                                    0.483844   \n",
       "ISS Score                                          0.051395   \n",
       "OSS Score                                          0.272244   \n",
       "Student Survey Climate Score                       0.247316   \n",
       "Parent Survey Climate Score                        0.185495   \n",
       "Parent Survey Participation Score                  0.174428   \n",
       "Teacher Attendance Score                           1.000000   \n",
       "Student Survey Teaching Score                      0.169332   \n",
       "Percent ELL                                        0.042135   \n",
       "Percent IEP                                       -0.154616   \n",
       "Percent Male                                      -0.141650   \n",
       "Percent Asian                                      0.237088   \n",
       "Percent Black/African American                    -0.308222   \n",
       "Percent Hispanic                                   0.096160   \n",
       "Percent Multi-Race                                 0.120606   \n",
       "Percent White                                      0.256306   \n",
       "Economically Disadvantaged Rate                   -0.309513   \n",
       "NEW_TEACHER                                       -0.063753   \n",
       "TURNOVER                                          -0.116987   \n",
       "\n",
       "                                   Student Survey Teaching Score  Percent ELL  \\\n",
       "PAY_RATE                                               -0.007280     0.056485   \n",
       "HOME_ORGANIZATION                                      -0.031576     0.192007   \n",
       "Zip Code                                                0.007417     0.048242   \n",
       "Enrollment                                             -0.345283     0.304387   \n",
       "Overall Score                                           0.334956     0.122193   \n",
       "Ach Score                                               0.235522    -0.066186   \n",
       "Prog Score                                              0.290543     0.122182   \n",
       "Clim Score                                              0.199645     0.239348   \n",
       "Attendance (95%+) Score                                 0.213480     0.075180   \n",
       "Retention Score                                         0.124003     0.176674   \n",
       "ISS Score                                               0.050637     0.021441   \n",
       "OSS Score                                               0.345255     0.219889   \n",
       "Student Survey Climate Score                            0.931848     0.028150   \n",
       "Parent Survey Climate Score                             0.405059     0.060892   \n",
       "Parent Survey Participation Score                       0.364445     0.054268   \n",
       "Teacher Attendance Score                                0.169332     0.042135   \n",
       "Student Survey Teaching Score                           1.000000     0.087300   \n",
       "Percent ELL                                             0.087300     1.000000   \n",
       "Percent IEP                                            -0.219746    -0.121991   \n",
       "Percent Male                                           -0.118731     0.085350   \n",
       "Percent Asian                                           0.082593     0.557938   \n",
       "Percent Black/African American                         -0.144634    -0.650867   \n",
       "Percent Hispanic                                        0.037291     0.598166   \n",
       "Percent Multi-Race                                      0.254770     0.170485   \n",
       "Percent White                                           0.106404     0.044641   \n",
       "Economically Disadvantaged Rate                        -0.102062     0.199002   \n",
       "NEW_TEACHER                                             0.011138    -0.053769   \n",
       "TURNOVER                                               -0.037417    -0.081585   \n",
       "\n",
       "                                   Percent IEP  Percent Male  Percent Asian  \\\n",
       "PAY_RATE                             -0.049168     -0.028847       0.115173   \n",
       "HOME_ORGANIZATION                    -0.134362      0.047961       0.022180   \n",
       "Zip Code                             -0.004095     -0.130155       0.019649   \n",
       "Enrollment                           -0.258881      0.033960       0.448074   \n",
       "Overall Score                        -0.571032     -0.355370       0.562558   \n",
       "Ach Score                            -0.484609     -0.326481       0.546492   \n",
       "Prog Score                           -0.449542     -0.229285       0.336866   \n",
       "Clim Score                           -0.469853     -0.337816       0.565987   \n",
       "Attendance (95%+) Score              -0.519831     -0.343937       0.558159   \n",
       "Retention Score                      -0.414310     -0.334934       0.469235   \n",
       "ISS Score                            -0.104986     -0.156824      -0.007994   \n",
       "OSS Score                            -0.563533     -0.329921       0.350180   \n",
       "Student Survey Climate Score         -0.179316     -0.194787       0.109610   \n",
       "Parent Survey Climate Score          -0.250052     -0.183121       0.094925   \n",
       "Parent Survey Participation Score    -0.157752     -0.158282      -0.000120   \n",
       "Teacher Attendance Score             -0.154616     -0.141650       0.237088   \n",
       "Student Survey Teaching Score        -0.219746     -0.118731       0.082593   \n",
       "Percent ELL                          -0.121991      0.085350       0.557938   \n",
       "Percent IEP                           1.000000      0.477530      -0.395849   \n",
       "Percent Male                          0.477530      1.000000      -0.108793   \n",
       "Percent Asian                        -0.395849     -0.108793       1.000000   \n",
       "Percent Black/African American        0.251852      0.076371      -0.511409   \n",
       "Percent Hispanic                      0.000727     -0.003440      -0.037531   \n",
       "Percent Multi-Race                   -0.221223     -0.056504       0.191805   \n",
       "Percent White                        -0.153828     -0.053741       0.290333   \n",
       "Economically Disadvantaged Rate       0.317151      0.247421      -0.291188   \n",
       "NEW_TEACHER                           0.064091      0.030871      -0.091607   \n",
       "TURNOVER                              0.061511      0.024637      -0.112670   \n",
       "\n",
       "                                   Percent Black/African American  \\\n",
       "PAY_RATE                                                -0.105985   \n",
       "HOME_ORGANIZATION                                       -0.379480   \n",
       "Zip Code                                                 0.059872   \n",
       "Enrollment                                              -0.368478   \n",
       "Overall Score                                           -0.398046   \n",
       "Ach Score                                               -0.376198   \n",
       "Prog Score                                              -0.181349   \n",
       "Clim Score                                              -0.488072   \n",
       "Attendance (95%+) Score                                 -0.315412   \n",
       "Retention Score                                         -0.513534   \n",
       "ISS Score                                               -0.042950   \n",
       "OSS Score                                               -0.436586   \n",
       "Student Survey Climate Score                            -0.126481   \n",
       "Parent Survey Climate Score                             -0.181528   \n",
       "Parent Survey Participation Score                       -0.147143   \n",
       "Teacher Attendance Score                                -0.308222   \n",
       "Student Survey Teaching Score                           -0.144634   \n",
       "Percent ELL                                             -0.650867   \n",
       "Percent IEP                                              0.251852   \n",
       "Percent Male                                             0.076371   \n",
       "Percent Asian                                           -0.511409   \n",
       "Percent Black/African American                           1.000000   \n",
       "Percent Hispanic                                        -0.600740   \n",
       "Percent Multi-Race                                      -0.522093   \n",
       "Percent White                                           -0.615745   \n",
       "Economically Disadvantaged Rate                          0.259667   \n",
       "NEW_TEACHER                                              0.082128   \n",
       "TURNOVER                                                 0.126941   \n",
       "\n",
       "                                   Percent Hispanic  Percent Multi-Race  \\\n",
       "PAY_RATE                                  -0.018540            0.072683   \n",
       "HOME_ORGANIZATION                          0.271753            0.279922   \n",
       "Zip Code                                  -0.019510           -0.058822   \n",
       "Enrollment                                 0.129420            0.084677   \n",
       "Overall Score                             -0.158467            0.389763   \n",
       "Ach Score                                 -0.278603            0.354665   \n",
       "Prog Score                                -0.078634            0.245067   \n",
       "Clim Score                                -0.046860            0.360949   \n",
       "Attendance (95%+) Score                   -0.216932            0.351204   \n",
       "Retention Score                            0.054861            0.405245   \n",
       "ISS Score                                  0.071725            0.024980   \n",
       "OSS Score                                  0.109775            0.439746   \n",
       "Student Survey Climate Score              -0.009651            0.159347   \n",
       "Parent Survey Climate Score                0.081904            0.097150   \n",
       "Parent Survey Participation Score          0.156658            0.064998   \n",
       "Teacher Attendance Score                   0.096160            0.120606   \n",
       "Student Survey Teaching Score              0.037291            0.254770   \n",
       "Percent ELL                                0.598166            0.170485   \n",
       "Percent IEP                                0.000727           -0.221223   \n",
       "Percent Male                              -0.003440           -0.056504   \n",
       "Percent Asian                             -0.037531            0.191805   \n",
       "Percent Black/African American            -0.600740           -0.522093   \n",
       "Percent Hispanic                           1.000000            0.118994   \n",
       "Percent Multi-Race                         0.118994            1.000000   \n",
       "Percent White                             -0.151479            0.454532   \n",
       "Economically Disadvantaged Rate            0.267961           -0.199308   \n",
       "NEW_TEACHER                                0.003022           -0.055405   \n",
       "TURNOVER                                  -0.029604           -0.078163   \n",
       "\n",
       "                                   Percent White  \\\n",
       "PAY_RATE                                0.124008   \n",
       "HOME_ORGANIZATION                       0.269318   \n",
       "Zip Code                               -0.082395   \n",
       "Enrollment                              0.198777   \n",
       "Overall Score                           0.465141   \n",
       "Ach Score                               0.591105   \n",
       "Prog Score                              0.152903   \n",
       "Clim Score                              0.495340   \n",
       "Attendance (95%+) Score                 0.402087   \n",
       "Retention Score                         0.467632   \n",
       "ISS Score                              -0.010853   \n",
       "OSS Score                               0.329789   \n",
       "Student Survey Climate Score            0.134871   \n",
       "Parent Survey Climate Score             0.143686   \n",
       "Parent Survey Participation Score       0.057997   \n",
       "Teacher Attendance Score                0.256306   \n",
       "Student Survey Teaching Score           0.106404   \n",
       "Percent ELL                             0.044641   \n",
       "Percent IEP                            -0.153828   \n",
       "Percent Male                           -0.053741   \n",
       "Percent Asian                           0.290333   \n",
       "Percent Black/African American         -0.615745   \n",
       "Percent Hispanic                       -0.151479   \n",
       "Percent Multi-Race                      0.454532   \n",
       "Percent White                           1.000000   \n",
       "Economically Disadvantaged Rate        -0.564469   \n",
       "NEW_TEACHER                            -0.080843   \n",
       "TURNOVER                               -0.102493   \n",
       "\n",
       "                                   Economically Disadvantaged Rate  \\\n",
       "PAY_RATE                                                 -0.088749   \n",
       "HOME_ORGANIZATION                                         0.003295   \n",
       "Zip Code                                                  0.178683   \n",
       "Enrollment                                               -0.112231   \n",
       "Overall Score                                            -0.581319   \n",
       "Ach Score                                                -0.777393   \n",
       "Prog Score                                               -0.206669   \n",
       "Clim Score                                               -0.576475   \n",
       "Attendance (95%+) Score                                  -0.623439   \n",
       "Retention Score                                          -0.538183   \n",
       "ISS Score                                                -0.018317   \n",
       "OSS Score                                                -0.335855   \n",
       "Student Survey Climate Score                             -0.222645   \n",
       "Parent Survey Climate Score                              -0.178080   \n",
       "Parent Survey Participation Score                        -0.081119   \n",
       "Teacher Attendance Score                                 -0.309513   \n",
       "Student Survey Teaching Score                            -0.102062   \n",
       "Percent ELL                                               0.199002   \n",
       "Percent IEP                                               0.317151   \n",
       "Percent Male                                              0.247421   \n",
       "Percent Asian                                            -0.291188   \n",
       "Percent Black/African American                            0.259667   \n",
       "Percent Hispanic                                          0.267961   \n",
       "Percent Multi-Race                                       -0.199308   \n",
       "Percent White                                            -0.564469   \n",
       "Economically Disadvantaged Rate                           1.000000   \n",
       "NEW_TEACHER                                               0.074309   \n",
       "TURNOVER                                                  0.080252   \n",
       "\n",
       "                                   NEW_TEACHER  TURNOVER  \n",
       "PAY_RATE                             -0.716830 -0.128383  \n",
       "HOME_ORGANIZATION                    -0.021044 -0.040983  \n",
       "Zip Code                             -0.003045  0.012072  \n",
       "Enrollment                           -0.066778 -0.074059  \n",
       "Overall Score                        -0.071667 -0.113308  \n",
       "Ach Score                            -0.093956 -0.115066  \n",
       "Prog Score                           -0.001738 -0.039779  \n",
       "Clim Score                           -0.112942 -0.147260  \n",
       "Attendance (95%+) Score              -0.094704 -0.111212  \n",
       "Retention Score                      -0.094468 -0.146313  \n",
       "ISS Score                            -0.016847  0.022632  \n",
       "OSS Score                            -0.105428 -0.103168  \n",
       "Student Survey Climate Score         -0.004661 -0.054615  \n",
       "Parent Survey Climate Score          -0.007046 -0.029399  \n",
       "Parent Survey Participation Score     0.022961 -0.023279  \n",
       "Teacher Attendance Score             -0.063753 -0.116987  \n",
       "Student Survey Teaching Score         0.011138 -0.037417  \n",
       "Percent ELL                          -0.053769 -0.081585  \n",
       "Percent IEP                           0.064091  0.061511  \n",
       "Percent Male                          0.030871  0.024637  \n",
       "Percent Asian                        -0.091607 -0.112670  \n",
       "Percent Black/African American        0.082128  0.126941  \n",
       "Percent Hispanic                      0.003022 -0.029604  \n",
       "Percent Multi-Race                   -0.055405 -0.078163  \n",
       "Percent White                        -0.080843 -0.102493  \n",
       "Economically Disadvantaged Rate       0.074309  0.080252  \n",
       "NEW_TEACHER                           1.000000  0.128720  \n",
       "TURNOVER                              0.128720  1.000000  "
      ]
     },
     "execution_count": 27,
     "metadata": {},
     "output_type": "execute_result"
    }
   ],
   "source": [
    "df_eda.corr()"
   ]
  },
  {
   "cell_type": "code",
   "execution_count": 28,
   "metadata": {
    "scrolled": false
   },
   "outputs": [
    {
     "data": {
      "image/png": "[encoded data removed]",
      "text/plain": [
       "<Figure size 864x576 with 2 Axes>"
      ]
     },
     "metadata": {
      "needs_background": "light"
     },
     "output_type": "display_data"
    }
   ],
   "source": [
    "plt.figure(figsize = (12,8))\n",
    "\n",
    "ax = sns.heatmap(df_eda.corr());"
   ]
  },
  {
   "cell_type": "markdown",
   "metadata": {},
   "source": [
    "Some featues are more negatively correlated with each other, such as the Econmically Disadvantaged Rate, Percent Black, and Percent IEP (students in special education) with many of the ratings from the School Progress Reports."
   ]
  },
  {
   "cell_type": "markdown",
   "metadata": {},
   "source": [
    "### Preprocessing"
   ]
  },
  {
   "cell_type": "markdown",
   "metadata": {},
   "source": [
    "In order to begin the modeling process, there are a few more columns to drop. Teachers' names will not be useful for modeling. Additionally, the 'Tier' levels are binned versions of the scores that will be in the model so they would be redundent and unnecessary."
   ]
  },
  {
   "cell_type": "code",
   "execution_count": 29,
   "metadata": {},
   "outputs": [],
   "source": [
    "drop_modeling = ['LAST_NAME', 'FIRST_NAME', 'HOME_ORGANIZATION', 'School', 'Overall Tier',\n",
    "                 'Ach Tier', 'Prog Tier', 'Clim Tier', 'Attendance (95%+) Tier', \n",
    "                 'Retention Tier', 'ISS Tier', 'OSS Tier', 'Student Survey Climate Tier',\n",
    "                 'Parent Survey Climate Tier', 'Parent Survey Participation Tier', 'TURNOVER']"
   ]
  },
  {
   "cell_type": "code",
   "execution_count": 30,
   "metadata": {},
   "outputs": [],
   "source": [
    "X = df.drop(drop_modeling, axis=1)\n",
    "y = df['TURNOVER']\n",
    "\n",
    "X_train, X_test, y_train, y_test = train_test_split(X, y, random_state=42, stratify=y)"
   ]
  },
  {
   "cell_type": "code",
   "execution_count": 31,
   "metadata": {
    "scrolled": true
   },
   "outputs": [
    {
     "data": {
      "text/plain": [
       "(5945, 31)"
      ]
     },
     "execution_count": 31,
     "metadata": {},
     "output_type": "execute_result"
    }
   ],
   "source": [
    "X_train.shape"
   ]
  },
  {
   "cell_type": "markdown",
   "metadata": {},
   "source": [
    "Once again, there are some columns that are listed as objects when they should be numerical. Let's write functions to take care of null values and floats so that we can build a model."
   ]
  },
  {
   "cell_type": "code",
   "execution_count": 32,
   "metadata": {},
   "outputs": [],
   "source": [
    "obj_to_num = ['Student Survey Climate Score', 'Student Survey Teaching Score', \n",
    "              'Overall Score', 'Ach Score', 'Prog Score']"
   ]
  },
  {
   "cell_type": "markdown",
   "metadata": {},
   "source": [
    "The categorical columns need to be converted to numerical data before modeling. The cleaning pipeline for the features will include the above functions and finish with the categorical columns being One Hot Encoded. This will establish an array of all numerical predictors to be used for modeling."
   ]
  },
  {
   "cell_type": "code",
   "execution_count": 33,
   "metadata": {},
   "outputs": [],
   "source": [
    "cat_columns = ['TITLE_DESCRIPTION', 'ORGANIZATION_LEVEL', 'GENDER', \n",
    "               'Turnaround Model', 'Admissions Type', 'Zip Code']\n",
    "\n",
    "# OneHotEncode the columns as part of cleaning\n",
    "# to avoid needing to separate numerical and categorical\n",
    "# columns later\n",
    "ohe_col_trans = ColumnTransformer(transformers=\n",
    "                                  [('ohe', OneHotEncoder(drop='first', sparse=False), \n",
    "                                    cat_columns)],\n",
    "                                  remainder='passthrough')\n",
    "\n",
    "# Apply all our cleaning functions, then finish with ohe\n",
    "cleaning_pipeline = Pipeline(steps=[\n",
    "    ('na_trans', FunctionTransformer(na_transformer)),\n",
    "    ('float', FunctionTransformer(to_float_transformer)),\n",
    "    ('ohe_trans', ohe_col_trans)\n",
    "])"
   ]
  },
  {
   "cell_type": "code",
   "execution_count": 34,
   "metadata": {},
   "outputs": [
    {
     "name": "stderr",
     "output_type": "stream",
     "text": [
      "/Users/meaghanross/opt/anaconda3/envs/learn-env/lib/python3.8/site-packages/pandas/core/indexing.py:1765: SettingWithCopyWarning: \n",
      "A value is trying to be set on a copy of a slice from a DataFrame.\n",
      "Try using .loc[row_indexer,col_indexer] = value instead\n",
      "\n",
      "See the caveats in the documentation: https://pandas.pydata.org/pandas-docs/stable/user_guide/indexing.html#returning-a-view-versus-a-copy\n",
      "  isetter(loc, value)\n",
      "/Users/meaghanross/Documents/Flatiron/Capstone/Predicting_Teacher_Turnover/src.py:18: SettingWithCopyWarning: \n",
      "A value is trying to be set on a copy of a slice from a DataFrame.\n",
      "Try using .loc[row_indexer,col_indexer] = value instead\n",
      "\n",
      "See the caveats in the documentation: https://pandas.pydata.org/pandas-docs/stable/user_guide/indexing.html#returning-a-view-versus-a-copy\n",
      "  df[col] = df[col].astype('float64')\n",
      "/Users/meaghanross/opt/anaconda3/envs/learn-env/lib/python3.8/site-packages/pandas/core/frame.py:3065: SettingWithCopyWarning: \n",
      "A value is trying to be set on a copy of a slice from a DataFrame.\n",
      "Try using .loc[row_indexer,col_indexer] = value instead\n",
      "\n",
      "See the caveats in the documentation: https://pandas.pydata.org/pandas-docs/stable/user_guide/indexing.html#returning-a-view-versus-a-copy\n",
      "  self[k1] = value[k2]\n"
     ]
    }
   ],
   "source": [
    "X_train_clean = cleaning_pipeline.fit_transform(X_train)"
   ]
  },
  {
   "cell_type": "code",
   "execution_count": 35,
   "metadata": {},
   "outputs": [],
   "source": [
    "ohe_feature_names = cleaning_pipeline.steps[-1][1].get_feature_names()"
   ]
  },
  {
   "cell_type": "code",
   "execution_count": 36,
   "metadata": {},
   "outputs": [
    {
     "data": {
      "text/plain": [
       "31"
      ]
     },
     "execution_count": 36,
     "metadata": {},
     "output_type": "execute_result"
    }
   ],
   "source": [
    "len(X_train.columns)"
   ]
  },
  {
   "cell_type": "code",
   "execution_count": 37,
   "metadata": {},
   "outputs": [
    {
     "data": {
      "text/plain": [
       "77"
      ]
     },
     "execution_count": 37,
     "metadata": {},
     "output_type": "execute_result"
    }
   ],
   "source": [
    "len(ohe_feature_names)"
   ]
  },
  {
   "cell_type": "markdown",
   "metadata": {},
   "source": [
    "After cleaning and One Hot Encoding the categorical columns, the X_train data frame expands from 31 original features to 77 features."
   ]
  },
  {
   "cell_type": "code",
   "execution_count": 38,
   "metadata": {},
   "outputs": [
    {
     "data": {
      "text/plain": [
       "['ohe__x0_TEACHER,SPEC EDUCATION',\n",
       " 'ohe__x1_ELEMENTARY SCHOOL',\n",
       " 'ohe__x1_HIGH SCHOOL',\n",
       " 'ohe__x1_MIDDLE SCHOOL',\n",
       " 'ohe__x2_M',\n",
       " 'ohe__x3_School Redesign Initiative',\n",
       " 'ohe__x3_Turnaround',\n",
       " 'ohe__x4_Neighborhood',\n",
       " 'ohe__x4_Special Admit',\n",
       " 'ohe__x5_19104.0',\n",
       " 'ohe__x5_19106.0',\n",
       " 'ohe__x5_19111.0',\n",
       " 'ohe__x5_19114.0',\n",
       " 'ohe__x5_19115.0',\n",
       " 'ohe__x5_19116.0',\n",
       " 'ohe__x5_19118.0',\n",
       " 'ohe__x5_19119.0',\n",
       " 'ohe__x5_19120.0',\n",
       " 'ohe__x5_19121.0',\n",
       " 'ohe__x5_19122.0',\n",
       " 'ohe__x5_19123.0',\n",
       " 'ohe__x5_19124.0',\n",
       " 'ohe__x5_19125.0',\n",
       " 'ohe__x5_19126.0',\n",
       " 'ohe__x5_19127.0',\n",
       " 'ohe__x5_19128.0',\n",
       " 'ohe__x5_19129.0',\n",
       " 'ohe__x5_19130.0',\n",
       " 'ohe__x5_19131.0',\n",
       " 'ohe__x5_19132.0',\n",
       " 'ohe__x5_19133.0',\n",
       " 'ohe__x5_19134.0',\n",
       " 'ohe__x5_19135.0',\n",
       " 'ohe__x5_19136.0',\n",
       " 'ohe__x5_19137.0',\n",
       " 'ohe__x5_19138.0',\n",
       " 'ohe__x5_19139.0',\n",
       " 'ohe__x5_19140.0',\n",
       " 'ohe__x5_19141.0',\n",
       " 'ohe__x5_19142.0',\n",
       " 'ohe__x5_19143.0',\n",
       " 'ohe__x5_19144.0',\n",
       " 'ohe__x5_19145.0',\n",
       " 'ohe__x5_19146.0',\n",
       " 'ohe__x5_19147.0',\n",
       " 'ohe__x5_19148.0',\n",
       " 'ohe__x5_19149.0',\n",
       " 'ohe__x5_19150.0',\n",
       " 'ohe__x5_19151.0',\n",
       " 'ohe__x5_19152.0',\n",
       " 'ohe__x5_19153.0',\n",
       " 'ohe__x5_19154.0',\n",
       " 'PAY_RATE',\n",
       " 'Enrollment',\n",
       " 'Overall Score',\n",
       " 'Ach Score',\n",
       " 'Prog Score',\n",
       " 'Clim Score',\n",
       " 'Attendance (95%+) Score',\n",
       " 'Retention Score',\n",
       " 'ISS Score',\n",
       " 'OSS Score',\n",
       " 'Student Survey Climate Score',\n",
       " 'Parent Survey Climate Score',\n",
       " 'Parent Survey Participation Score',\n",
       " 'Teacher Attendance Score',\n",
       " 'Student Survey Teaching Score',\n",
       " 'Percent ELL',\n",
       " 'Percent IEP',\n",
       " 'Percent Male',\n",
       " 'Percent Asian',\n",
       " 'Percent Black/African American',\n",
       " 'Percent Hispanic',\n",
       " 'Percent Multi-Race',\n",
       " 'Percent White',\n",
       " 'Economically Disadvantaged Rate',\n",
       " 'NEW_TEACHER']"
      ]
     },
     "execution_count": 38,
     "metadata": {},
     "output_type": "execute_result"
    }
   ],
   "source": [
    "ohe_feature_names"
   ]
  },
  {
   "cell_type": "markdown",
   "metadata": {},
   "source": [
    "### Modeling"
   ]
  },
  {
   "cell_type": "markdown",
   "metadata": {},
   "source": [
    "Many models were created for this project. The `DummyClassifier` was used as baseline model. In order to improve on that baseline, we designed `LinearSVD`, `LogisticRegression`, `DecisionTreeClassifier`, `RandomForestClassifier`, and `XGBoost` models. \n",
    "\n",
    "Two methods were employed to mitigate the class imbalance:\n",
    "* Passing in class weights as balanced\n",
    "* Implementing SMOTE\n",
    "\n",
    "For each model we will build a pipeline using `StandardScaler` and the model of choice. Then we will evaluate the model by running the pipeline through our print_cv_scores function and then gathering metrics for model efficacy.\n",
    "\n",
    "Through the model iteration process we are seeking to maximize the recall score by minimizing the number of false negatives, meaning teachers who were predicted to stay and actually end up leaving. By focusing on recall, we are trying to reduce the chances of the model missing a teacher who actually leaves their school the following year.\n"
   ]
  },
  {
   "cell_type": "code",
   "execution_count": 39,
   "metadata": {},
   "outputs": [],
   "source": [
    "# def print_cv_scores(pipe, X, y):\n",
    "#     '''\n",
    "#     Runs cross_validate on given feature and binary target arrays using given pipeline, \n",
    "#     printing the scoring results for both training and cross_val.\n",
    "#     '''\n",
    "#     scoring = ['accuracy','recall']\n",
    "#     # we pass in pipe to cross validate along with a feature list.\n",
    "#     results = cross_validate(pipe, X, \n",
    "#                                    y, \n",
    "#                                    return_train_score=True, scoring=scoring)\n",
    "    \n",
    "#     print(results['train_accuracy'])\n",
    "#     print('Training Accuracy', results['train_accuracy'].mean())\n",
    "#     print('##############')\n",
    "#     print(results['test_accuracy'])\n",
    "#     print('Cross_Val Accuracy', results['test_accuracy'].mean())\n",
    "#     print('##############')\n",
    "#     print('Training Recall:', results['train_recall'].mean())\n",
    "#     print('Cross_Val Recall:', results['test_recall'].mean())\n"
   ]
  },
  {
   "cell_type": "markdown",
   "metadata": {},
   "source": [
    "#### Dummy Classifier"
   ]
  },
  {
   "cell_type": "code",
   "execution_count": 40,
   "metadata": {},
   "outputs": [],
   "source": [
    "dummy_pipe = Pipeline(steps=[\n",
    "    ('ss', StandardScaler()),\n",
    "    ('dc', DummyClassifier(strategy='most_frequent'))\n",
    "])"
   ]
  },
  {
   "cell_type": "code",
   "execution_count": 41,
   "metadata": {
    "scrolled": true
   },
   "outputs": [
    {
     "name": "stdout",
     "output_type": "stream",
     "text": [
      "[0.81055509 0.81055509 0.81055509 0.81055509 0.81076535]\n",
      "Training Accuracy 0.8105971404541631\n",
      "##############\n",
      "[0.81076535 0.81076535 0.81076535 0.81076535 0.80992431]\n",
      "Cross_Val Accuracy 0.8105971404541631\n",
      "##############\n",
      "Training Recall: 0.0\n",
      "Cross_Val Recall: 0.0\n"
     ]
    }
   ],
   "source": [
    "print_cv_scores(dummy_pipe, X_train_clean, y_train)"
   ]
  },
  {
   "cell_type": "markdown",
   "metadata": {},
   "source": [
    "The Dummy Classifier with strategy set to most frequent scores 0% for the recall and it's accuracy is about the same as the proportion of the target variable."
   ]
  },
  {
   "cell_type": "code",
   "execution_count": 42,
   "metadata": {},
   "outputs": [
    {
     "data": {
      "text/plain": [
       "Pipeline(steps=[('ss', StandardScaler()),\n",
       "                ('dc', DummyClassifier(strategy='stratified'))])"
      ]
     },
     "execution_count": 42,
     "metadata": {},
     "output_type": "execute_result"
    }
   ],
   "source": [
    "dummy_pipe = Pipeline(steps=[\n",
    "    ('ss', StandardScaler()),\n",
    "    ('dc', DummyClassifier(strategy='stratified'))\n",
    "])\n",
    "dummy_pipe.fit(X_train_clean, y_train)"
   ]
  },
  {
   "cell_type": "code",
   "execution_count": 43,
   "metadata": {
    "scrolled": false
   },
   "outputs": [
    {
     "name": "stdout",
     "output_type": "stream",
     "text": [
      "[0.69575273 0.68608074 0.69049622 0.69743482 0.69512195]\n",
      "Training Accuracy 0.692977291841884\n",
      "##############\n",
      "[0.68965517 0.69638352 0.70142977 0.686291   0.70227082]\n",
      "Cross_Val Accuracy 0.6952060555088309\n",
      "##############\n",
      "Training Recall: 0.191606363300037\n",
      "Cross_Val Recall: 0.17937856440511307\n"
     ]
    }
   ],
   "source": [
    "print_cv_scores(dummy_pipe, X_train_clean, y_train)"
   ]
  },
  {
   "cell_type": "code",
   "execution_count": 44,
   "metadata": {},
   "outputs": [],
   "source": [
    "dc_acc = 0.6878048780487804 * 100\n",
    "dc_rec = 0.18296165191740416 * 100"
   ]
  },
  {
   "cell_type": "code",
   "execution_count": 45,
   "metadata": {
    "scrolled": true
   },
   "outputs": [
    {
     "data": {
      "image/png": "[encoded data removed]",
      "text/plain": [
       "<Figure size 432x288 with 2 Axes>"
      ]
     },
     "metadata": {
      "needs_background": "light"
     },
     "output_type": "display_data"
    }
   ],
   "source": [
    "plot_confusion_matrix(dummy_pipe, \n",
    "                      X_train_clean, \n",
    "                      y_train, \n",
    "                      normalize = 'true',\n",
    "                      display_labels= ['Retention', 'Turnover']);"
   ]
  },
  {
   "cell_type": "markdown",
   "metadata": {},
   "source": [
    "The Dummy Classifier is having a difficult time predicting the actual turnover and sets a baseline score of 18% to improve upon for the recall score."
   ]
  },
  {
   "cell_type": "markdown",
   "metadata": {},
   "source": [
    "#### Linear Support Vector Classification"
   ]
  },
  {
   "cell_type": "code",
   "execution_count": 46,
   "metadata": {},
   "outputs": [
    {
     "data": {
      "text/plain": [
       "Pipeline(steps=[('ss', StandardScaler()),\n",
       "                ('svc',\n",
       "                 LinearSVC(class_weight='balanced', max_iter=100000.0,\n",
       "                           random_state=42))])"
      ]
     },
     "execution_count": 46,
     "metadata": {},
     "output_type": "execute_result"
    }
   ],
   "source": [
    "svc_pipe = Pipeline(steps=[('ss', StandardScaler()),\n",
    "                           ('svc', LinearSVC(class_weight='balanced',\n",
    "                                             max_iter =1e5,\n",
    "                                             random_state=42))\n",
    "                          ])\n",
    "\n",
    "svc_pipe.fit(X_train_clean, y_train)"
   ]
  },
  {
   "cell_type": "code",
   "execution_count": null,
   "metadata": {
    "scrolled": true
   },
   "outputs": [],
   "source": [
    "print_cv_scores(svc_pipe, X_train_clean, y_train)"
   ]
  },
  {
   "cell_type": "code",
   "execution_count": null,
   "metadata": {},
   "outputs": [],
   "source": [
    "plot_confusion_matrix(svc_pipe, \n",
    "                      X_train_clean, \n",
    "                      y_train, \n",
    "                      normalize = 'true',\n",
    "                      display_labels= ['Retention', 'Turnover']);"
   ]
  },
  {
   "cell_type": "code",
   "execution_count": null,
   "metadata": {},
   "outputs": [],
   "source": [
    "# svc_grid_pipe = Pipeline(steps=[('ss', StandardScaler()),\n",
    "#                                 ('svc', LinearSVC(class_weight='balanced',\n",
    "#                                                   max_iter =1e5,\n",
    "#                                                   random_state=42))\n",
    "#                                ])\n",
    "\n",
    "# svc_grid = {'svc__tol': [1e-5,1e-4,1e-3],\n",
    "#             'svc__C' : [1e-3,1e-1, 1, 100]}"
   ]
  },
  {
   "cell_type": "code",
   "execution_count": null,
   "metadata": {},
   "outputs": [],
   "source": [
    "# svc_gridsearch = GridSearchCV(svc_grid_pipe, \n",
    "#                               svc_grid, \n",
    "#                               return_train_score=True, \n",
    "#                               scoring='recall')\n",
    "\n",
    "# svc_gridsearch.fit(X_train_clean, y_train)"
   ]
  },
  {
   "cell_type": "code",
   "execution_count": null,
   "metadata": {
    "scrolled": true
   },
   "outputs": [],
   "source": [
    "# svc_gridsearch.best_params_"
   ]
  },
  {
   "cell_type": "markdown",
   "metadata": {},
   "source": [
    "To reduce runtime, the gridsearch for the best parameters for the `LinearSVC` model was commented out, but the results are used in `svc_pipe1`"
   ]
  },
  {
   "cell_type": "code",
   "execution_count": null,
   "metadata": {},
   "outputs": [],
   "source": [
    "svc_pipe1 = Pipeline(steps=[('ss', StandardScaler()),\n",
    "                            ('svc', LinearSVC(class_weight='balanced',\n",
    "                                              C=0.001,\n",
    "                                              tol= 1e-05,\n",
    "                                              max_iter =1e05,\n",
    "                                              random_state=42))\n",
    "                           ])\n",
    "svc_pipe1.fit(X_train_clean, y_train)"
   ]
  },
  {
   "cell_type": "code",
   "execution_count": null,
   "metadata": {},
   "outputs": [],
   "source": [
    "print_cv_scores(svc_pipe1, X_train_clean, y_train)"
   ]
  },
  {
   "cell_type": "code",
   "execution_count": null,
   "metadata": {},
   "outputs": [],
   "source": [
    "svc_acc = 0.6099243061396131 * 100\n",
    "svc_rec = 0.5816991150442478 * 100"
   ]
  },
  {
   "cell_type": "code",
   "execution_count": null,
   "metadata": {
    "scrolled": true
   },
   "outputs": [],
   "source": [
    "plot_confusion_matrix(svc_pipe1, X_train_clean, y_train, normalize = 'true',\n",
    "                      display_labels= ['Retention', 'Turnover']);"
   ]
  },
  {
   "cell_type": "markdown",
   "metadata": {},
   "source": [
    "The Linear Support Vector Classification greatly improves on the recall score of the Dummy Classifier. A con to this model is the computation time for training."
   ]
  },
  {
   "cell_type": "markdown",
   "metadata": {},
   "source": [
    "#### Logistic Regression"
   ]
  },
  {
   "cell_type": "markdown",
   "metadata": {},
   "source": [
    "Let's perform a logistic regression with default hyperparameters."
   ]
  },
  {
   "cell_type": "code",
   "execution_count": null,
   "metadata": {},
   "outputs": [],
   "source": [
    "lr_pipe = Pipeline(steps=[('ss', StandardScaler()),\n",
    "                          ('lr', LogisticRegression(max_iter=1e4,\n",
    "                                                    random_state=42))\n",
    "                         ])\n",
    "\n",
    "lr_pipe.fit(X_train_clean, y_train)"
   ]
  },
  {
   "cell_type": "code",
   "execution_count": null,
   "metadata": {},
   "outputs": [],
   "source": [
    "print_cv_scores(lr_pipe, X_train_clean, y_train)"
   ]
  },
  {
   "cell_type": "code",
   "execution_count": null,
   "metadata": {},
   "outputs": [],
   "source": [
    "plot_confusion_matrix(lr_pipe, \n",
    "                      X_train_clean, \n",
    "                      y_train, \n",
    "                      normalize = 'true',\n",
    "                      display_labels= ['Retention', 'Turnover']);"
   ]
  },
  {
   "cell_type": "markdown",
   "metadata": {},
   "source": [
    "In a Logistic Regression model with default parameters, we can see that it has a really hard time classifying the minority class likely due to the class imbalance, so let's iterate this model to try to improve the recall scores."
   ]
  },
  {
   "cell_type": "code",
   "execution_count": null,
   "metadata": {},
   "outputs": [],
   "source": [
    "lr_pipe1 = Pipeline(steps=[('ss', StandardScaler()),\n",
    "                           ('lr', LogisticRegression(max_iter=1e4, \n",
    "                                                     class_weight='balanced',\n",
    "                                                     random_state=42))\n",
    "                          ])\n",
    "lr_pipe1.fit(X_train_clean, y_train)"
   ]
  },
  {
   "cell_type": "code",
   "execution_count": null,
   "metadata": {},
   "outputs": [],
   "source": [
    "print_cv_scores(lr_pipe1, X_train_clean, y_train)"
   ]
  },
  {
   "cell_type": "code",
   "execution_count": null,
   "metadata": {},
   "outputs": [],
   "source": [
    "plot_confusion_matrix(lr_pipe1, \n",
    "                      X_train_clean, \n",
    "                      y_train, \n",
    "                      normalize = 'true',\n",
    "                      display_labels= ['Retention', 'Turnover']);"
   ]
  },
  {
   "cell_type": "markdown",
   "metadata": {},
   "source": [
    "By setting the `class_weight` hyperparameter to balanced, this helps for the logistic regression model to better classify the minority class and the recall score increases by over 50%.\n",
    "\n",
    "Let's set up a grid search to find the best hyperparameters to maximize the recall score."
   ]
  },
  {
   "cell_type": "code",
   "execution_count": null,
   "metadata": {},
   "outputs": [],
   "source": [
    "lr_grid_pipe = Pipeline(steps=[('ss', StandardScaler()),\n",
    "                               ('lr', LogisticRegression(class_weight='balanced',\n",
    "                                                         random_state=42))\n",
    "                              ])\n",
    "\n",
    "grid = {'lr__tol': [1e-5,1e-4,1e-3],\n",
    "        'lr__C' : [1e-5,1e-3,1e-1, 1, 100],\n",
    "        'lr__max_iter':[1e3, 1e5]}"
   ]
  },
  {
   "cell_type": "code",
   "execution_count": null,
   "metadata": {},
   "outputs": [],
   "source": [
    "gridsearch = GridSearchCV(lr_grid_pipe, \n",
    "                          grid, \n",
    "                          return_train_score=True, \n",
    "                          scoring='recall')\n",
    "\n",
    "gridsearch.fit(X_train_clean, y_train)"
   ]
  },
  {
   "cell_type": "code",
   "execution_count": null,
   "metadata": {},
   "outputs": [],
   "source": [
    "gridsearch.best_params_"
   ]
  },
  {
   "cell_type": "markdown",
   "metadata": {},
   "source": [
    "From these results, it seems that the logistic regression model likes higher regularization with the smallest C performing best, as well as the smallest tolerance. Let's run it again with different penalty types and some smaller C and tolerance levels."
   ]
  },
  {
   "cell_type": "code",
   "execution_count": null,
   "metadata": {},
   "outputs": [],
   "source": [
    "lr_grid_pipe1 = Pipeline(steps=[\n",
    "    ('ss', StandardScaler()),\n",
    "    ('lr', LogisticRegression(class_weight='balanced',\n",
    "                              max_iter = 1000,\n",
    "                              solver = 'liblinear',\n",
    "                              random_state=42))\n",
    "])\n",
    "\n",
    "grid1 = {'lr__tol': [1e-7, 1e-6, 1e-5],\n",
    "        'lr__C' : [1e-7, 1e-6, 1e-5],\n",
    "        'lr__penalty':['l1', 'l2']\n",
    "        }"
   ]
  },
  {
   "cell_type": "code",
   "execution_count": null,
   "metadata": {},
   "outputs": [],
   "source": [
    "gridsearch1 = GridSearchCV(lr_grid_pipe1, \n",
    "                          grid1, \n",
    "                          return_train_score=True, \n",
    "                          scoring='recall')\n",
    "\n",
    "gridsearch1.fit(X_train_clean, y_train)"
   ]
  },
  {
   "cell_type": "code",
   "execution_count": null,
   "metadata": {},
   "outputs": [],
   "source": [
    "gridsearch1.best_params_"
   ]
  },
  {
   "cell_type": "markdown",
   "metadata": {},
   "source": [
    "Higher regularization strength and lower tolerance allows this logistic regression model to perform the best.\n",
    "\n",
    "It looks like the l2 penalty continues to perform the best, let's just check to see the scores using different solvers."
   ]
  },
  {
   "cell_type": "code",
   "execution_count": null,
   "metadata": {},
   "outputs": [],
   "source": [
    "lr_grid_pipe2 = Pipeline(steps=[\n",
    "    ('ss', StandardScaler()),\n",
    "    ('lr', LogisticRegression(class_weight='balanced',\n",
    "                              max_iter = 1000,\n",
    "                              C = 1e-06,\n",
    "                              tol = 1e-07,\n",
    "                              random_state=42))\n",
    "])\n",
    "grid2 = {'lr__solver': ['liblinear', 'lbfgs']}"
   ]
  },
  {
   "cell_type": "code",
   "execution_count": null,
   "metadata": {
    "scrolled": true
   },
   "outputs": [],
   "source": [
    "gridsearch2 = GridSearchCV(lr_grid_pipe2, \n",
    "                          grid2, \n",
    "                          return_train_score=True, \n",
    "                          scoring='recall')\n",
    "\n",
    "gridsearch2.fit(X_train_clean, y_train)"
   ]
  },
  {
   "cell_type": "code",
   "execution_count": null,
   "metadata": {},
   "outputs": [],
   "source": [
    "gridsearch2.best_params_"
   ]
  },
  {
   "cell_type": "code",
   "execution_count": null,
   "metadata": {
    "scrolled": true
   },
   "outputs": [],
   "source": [
    "gridsearch2.best_score_"
   ]
  },
  {
   "cell_type": "code",
   "execution_count": null,
   "metadata": {
    "scrolled": true
   },
   "outputs": [],
   "source": [
    "print_cv_scores(gridsearch2.best_estimator_, X_train_clean, y_train)"
   ]
  },
  {
   "cell_type": "code",
   "execution_count": null,
   "metadata": {
    "scrolled": true
   },
   "outputs": [],
   "source": [
    "plot_confusion_matrix(gridsearch2.best_estimator_, \n",
    "                      X_train_clean, \n",
    "                      y_train, \n",
    "                      normalize='true',\n",
    "                      display_labels= ['Retention', 'Turnover']);"
   ]
  },
  {
   "cell_type": "code",
   "execution_count": null,
   "metadata": {
    "scrolled": false
   },
   "outputs": [],
   "source": [
    "gridsearch2.best_estimator_[-1].coef_"
   ]
  },
  {
   "cell_type": "code",
   "execution_count": null,
   "metadata": {},
   "outputs": [],
   "source": [
    "coef_dict = {}\n",
    "for coef, feat in zip(gridsearch2.best_estimator_[-1].coef_[0,:],ohe_feature_names):\n",
    "    coef_dict[feat] = coef"
   ]
  },
  {
   "cell_type": "code",
   "execution_count": null,
   "metadata": {},
   "outputs": [],
   "source": [
    "coef_dict"
   ]
  },
  {
   "cell_type": "code",
   "execution_count": null,
   "metadata": {},
   "outputs": [],
   "source": [
    "max(coef_dict, key=coef_dict.get)"
   ]
  },
  {
   "cell_type": "code",
   "execution_count": null,
   "metadata": {},
   "outputs": [],
   "source": [
    "min(coef_dict, key=coef_dict.get)"
   ]
  },
  {
   "cell_type": "markdown",
   "metadata": {},
   "source": [
    "The coefficients of the Logistic Regression that have the greatest magnitude are `Percent Black/African American` and `Clim Score` (school climate scores) which both represent school demographic factors."
   ]
  },
  {
   "cell_type": "markdown",
   "metadata": {},
   "source": [
    "__PCA with Logistic Regression__"
   ]
  },
  {
   "cell_type": "markdown",
   "metadata": {},
   "source": [
    "The logistic regression is performing pretty well, but we want to see what happens if we reduce the features using Principal Component Analysis."
   ]
  },
  {
   "cell_type": "code",
   "execution_count": null,
   "metadata": {
    "scrolled": true
   },
   "outputs": [],
   "source": [
    "lr_PCA = Pipeline(steps=[('ss', StandardScaler()),\n",
    "                         ('pca', PCA()),\n",
    "                         ('lr', LogisticRegression(class_weight='balanced',\n",
    "                                                   solver = 'liblinear',\n",
    "                                                   C = 1e-06,\n",
    "                                                   tol = 1e-07,\n",
    "                                                   max_iter=1000,\n",
    "                                                   random_state=42))\n",
    "])\n",
    "\n",
    "pca_grid = {'pca__n_components': [0.1, 0.2, 0.5, 0.7, 0.75, 0.8, 0.85, 0.9, 0.95]}"
   ]
  },
  {
   "cell_type": "code",
   "execution_count": null,
   "metadata": {},
   "outputs": [],
   "source": [
    "pca_gridsearch = GridSearchCV(lr_PCA, \n",
    "                              pca_grid, \n",
    "                              return_train_score=True, \n",
    "                              scoring='recall')\n",
    "\n",
    "pca_gridsearch.fit(X_train_clean, y_train)"
   ]
  },
  {
   "cell_type": "code",
   "execution_count": null,
   "metadata": {},
   "outputs": [],
   "source": [
    "pca_gridsearch.best_params_"
   ]
  },
  {
   "cell_type": "code",
   "execution_count": null,
   "metadata": {},
   "outputs": [],
   "source": [
    "pca_gridsearch.best_score_"
   ]
  },
  {
   "cell_type": "code",
   "execution_count": null,
   "metadata": {},
   "outputs": [],
   "source": [
    "pca_gridsearch.best_estimator_[1].n_components_"
   ]
  },
  {
   "cell_type": "markdown",
   "metadata": {},
   "source": [
    "The PCA that kept 80% of the variance of the model is the one that performs the best. Using Principal Component Analysis, the Logistic Regression model performed about 1% better on recall than without PCA. "
   ]
  },
  {
   "cell_type": "markdown",
   "metadata": {},
   "source": [
    "#### Best Logistic Regression with PCA"
   ]
  },
  {
   "cell_type": "code",
   "execution_count": null,
   "metadata": {},
   "outputs": [],
   "source": [
    "lr_PCA = Pipeline(steps=[('ss', StandardScaler()),\n",
    "                         ('pca', PCA(n_components=0.8)),\n",
    "                         ('lr', LogisticRegression(class_weight='balanced',\n",
    "                                                   solver = 'liblinear',\n",
    "                                                   C = 1e-07,\n",
    "                                                   tol = 1e-07,\n",
    "                                                   max_iter=1000,\n",
    "                                                   random_state=42))\n",
    "])\n",
    "\n",
    "lr_PCA.fit(X_train_clean, y_train)"
   ]
  },
  {
   "cell_type": "code",
   "execution_count": null,
   "metadata": {
    "scrolled": true
   },
   "outputs": [],
   "source": [
    "print_cv_scores(lr_PCA, X_train_clean, y_train)"
   ]
  },
  {
   "cell_type": "code",
   "execution_count": null,
   "metadata": {},
   "outputs": [],
   "source": [
    "lr_acc = 0.5476871320437342 * 100\n",
    "lr_rec = 0.6962871189773845 * 100"
   ]
  },
  {
   "cell_type": "code",
   "execution_count": null,
   "metadata": {
    "scrolled": false
   },
   "outputs": [],
   "source": [
    "plot_confusion_matrix(lr_PCA, \n",
    "                      X_train_clean, \n",
    "                      y_train, \n",
    "                      normalize='true',\n",
    "                      display_labels= ['Retention', 'Turnover']);"
   ]
  },
  {
   "cell_type": "markdown",
   "metadata": {},
   "source": [
    "Let's look at the features playing a role in the Logistic Regression after they have gone through PCA."
   ]
  },
  {
   "cell_type": "code",
   "execution_count": null,
   "metadata": {},
   "outputs": [],
   "source": [
    "lr_PCA[1].explained_variance_ratio_"
   ]
  },
  {
   "cell_type": "code",
   "execution_count": null,
   "metadata": {},
   "outputs": [],
   "source": [
    "sum(lr_PCA[1].explained_variance_ratio_[:2])"
   ]
  },
  {
   "cell_type": "code",
   "execution_count": null,
   "metadata": {
    "scrolled": false
   },
   "outputs": [],
   "source": [
    "importance_df=create_importance_dataframe(lr_PCA[1])\n",
    "display(importance_df.head())"
   ]
  },
  {
   "cell_type": "code",
   "execution_count": null,
   "metadata": {
    "scrolled": true
   },
   "outputs": [],
   "source": [
    "pc1_top_10_features = importance_df['PC1'].sort_values(ascending = False)[:10]\n",
    "print(), print(f'PC1 top 10 features are')\n",
    "display(pc1_top_10_features)"
   ]
  },
  {
   "cell_type": "code",
   "execution_count": null,
   "metadata": {
    "scrolled": false
   },
   "outputs": [],
   "source": [
    "pc2_top_10_features = importance_df['PC2'].sort_values(ascending = False)[:10]\n",
    "print(), print(f'PC2 top 10 features are')\n",
    "display(pc2_top_10_features)"
   ]
  },
  {
   "cell_type": "markdown",
   "metadata": {},
   "source": [
    "The Climate Score and the School Level are the features that contribute the most to PC1 and PC2 which explain 17% of the variance. "
   ]
  },
  {
   "cell_type": "markdown",
   "metadata": {},
   "source": [
    "#### K-Neighbors Classification"
   ]
  },
  {
   "cell_type": "code",
   "execution_count": null,
   "metadata": {},
   "outputs": [],
   "source": [
    "knn_pipe = Pipeline(steps=[\n",
    "    ('ss', StandardScaler()),\n",
    "    ('knn', KNeighborsClassifier())\n",
    "])\n",
    "knn_pipe.fit(X_train_clean, y_train)"
   ]
  },
  {
   "cell_type": "code",
   "execution_count": null,
   "metadata": {
    "scrolled": true
   },
   "outputs": [],
   "source": [
    "print_cv_scores(knn_pipe, X_train_clean, y_train)"
   ]
  },
  {
   "cell_type": "code",
   "execution_count": null,
   "metadata": {
    "scrolled": true
   },
   "outputs": [],
   "source": [
    "plot_confusion_matrix(knn_pipe, \n",
    "                      X_train_clean, \n",
    "                      y_train, \n",
    "                      normalize='true',\n",
    "                      display_labels= ['Retention', 'Turnover']);"
   ]
  },
  {
   "cell_type": "markdown",
   "metadata": {},
   "source": [
    "The k-nearest neighbors classifier is doing well to predict retention, but struggles to identify teachers who are leaving, which is the main focus of this project. Let's see if we can improve the performance of the model by trying out different hyperparameters like the number of neighbors and the distance metric."
   ]
  },
  {
   "cell_type": "code",
   "execution_count": null,
   "metadata": {},
   "outputs": [],
   "source": [
    "# knn_pipe = Pipeline(steps=[\n",
    "#     ('ss', StandardScaler()),\n",
    "#     ('knn', KNeighborsClassifier())\n",
    "# ])\n",
    "\n",
    "# knn_grid = {'knn__n_neighbors': [3, 5, 7],\n",
    "#             'knn__p': [1, 2, 3]}\n",
    "\n",
    "# knn_gridsearch = GridSearchCV(knn_pipe, \n",
    "#                               knn_grid, \n",
    "#                               return_train_score=True, \n",
    "#                               scoring='recall')\n",
    "\n",
    "# knn_gridsearch.fit(X_train_clean, y_train)"
   ]
  },
  {
   "cell_type": "code",
   "execution_count": null,
   "metadata": {
    "scrolled": true
   },
   "outputs": [],
   "source": [
    "# knn_gridsearch.best_params_"
   ]
  },
  {
   "cell_type": "markdown",
   "metadata": {},
   "source": [
    "The grid search performed above has been commented out to save runtime when rerunning this notebook, however, the best parameters are used in the below knn pipeline.\n",
    "\n",
    "Here we implemented SMOTE to try to mitigate the class imbalance."
   ]
  },
  {
   "cell_type": "code",
   "execution_count": null,
   "metadata": {},
   "outputs": [],
   "source": [
    "from imblearn.over_sampling import SMOTE\n",
    "from imblearn.pipeline import Pipeline as imbpipe\n",
    "\n",
    "knn_pipe_best = imbpipe(steps=[('ss', StandardScaler()),\n",
    "                               ('sm', SMOTE()),\n",
    "                               ('knn', KNeighborsClassifier(n_neighbors=3, p=2))\n",
    "])\n",
    "\n",
    "knn_pipe_best.fit(X_train_clean, y_train)"
   ]
  },
  {
   "cell_type": "code",
   "execution_count": null,
   "metadata": {},
   "outputs": [],
   "source": [
    "print_cv_scores(knn_pipe_best, X_train_clean, y_train)"
   ]
  },
  {
   "cell_type": "code",
   "execution_count": null,
   "metadata": {},
   "outputs": [],
   "source": [
    "knn_acc = 0.6839360807401178 * 100\n",
    "knn_rec = 0.3321297935103245 * 100"
   ]
  },
  {
   "cell_type": "code",
   "execution_count": null,
   "metadata": {},
   "outputs": [],
   "source": [
    "plot_confusion_matrix(knn_pipe_best, \n",
    "                      X_train_clean, \n",
    "                      y_train, \n",
    "                      normalize='true',\n",
    "                      display_labels= ['Retention', 'Turnover']);"
   ]
  },
  {
   "cell_type": "markdown",
   "metadata": {},
   "source": [
    "Based on the performance of the K-Nearest Neighbors Classifier, with only 33% recall, I don't think it's wise to explore this classifier any further."
   ]
  },
  {
   "cell_type": "markdown",
   "metadata": {},
   "source": [
    "#### Decision Tree"
   ]
  },
  {
   "cell_type": "code",
   "execution_count": null,
   "metadata": {},
   "outputs": [],
   "source": [
    "dtc_pipe = Pipeline(steps=[\n",
    "    ('ss', StandardScaler()),\n",
    "    ('pca', PCA(n_components=0.8)),\n",
    "    ('dtc', DecisionTreeClassifier(class_weight='balanced'))\n",
    "])\n",
    "dtc_pipe.fit(X_train_clean, y_train)"
   ]
  },
  {
   "cell_type": "code",
   "execution_count": null,
   "metadata": {},
   "outputs": [],
   "source": [
    "dtc_pipe[-1].get_depth()"
   ]
  },
  {
   "cell_type": "code",
   "execution_count": null,
   "metadata": {},
   "outputs": [],
   "source": [
    "print_cv_scores(dtc_pipe, X_train_clean, y_train)"
   ]
  },
  {
   "cell_type": "markdown",
   "metadata": {},
   "source": [
    "With default hyperparameters, it's clear that the decision tree is overfitting. Let's prune the tree using GridSearchCV"
   ]
  },
  {
   "cell_type": "code",
   "execution_count": null,
   "metadata": {},
   "outputs": [],
   "source": [
    "dtc_pipe = Pipeline(steps=[\n",
    "    ('ss', StandardScaler()),\n",
    "    ('pca', PCA()),\n",
    "    ('dtc', DecisionTreeClassifier(class_weight='balanced', \n",
    "                                   random_state=42))\n",
    "])"
   ]
  },
  {
   "cell_type": "code",
   "execution_count": null,
   "metadata": {},
   "outputs": [],
   "source": [
    "dtc_grid = {'pca__n_components': [0.75, 0.8, 0.85, 0.9],\n",
    "            'dtc__max_depth': [5, 6, 7],\n",
    "            'dtc__min_samples_leaf': [1, 2, 3],\n",
    "            'dtc__max_features': ['auto', 'sqrt', 'log2']}"
   ]
  },
  {
   "cell_type": "code",
   "execution_count": null,
   "metadata": {},
   "outputs": [],
   "source": [
    "dtc_gridsearch = GridSearchCV(dtc_pipe, \n",
    "                              dtc_grid, \n",
    "                              scoring='recall')\n",
    "\n",
    "dtc_gridsearch.fit(X_train_clean, y_train)"
   ]
  },
  {
   "cell_type": "code",
   "execution_count": null,
   "metadata": {},
   "outputs": [],
   "source": [
    "dtc_gridsearch.best_params_"
   ]
  },
  {
   "cell_type": "code",
   "execution_count": null,
   "metadata": {
    "scrolled": false
   },
   "outputs": [],
   "source": [
    "print_cv_scores(dtc_gridsearch.best_estimator_, X_train_clean, y_train)"
   ]
  },
  {
   "cell_type": "code",
   "execution_count": null,
   "metadata": {},
   "outputs": [],
   "source": [
    "dtc_acc = 0.5238015138772077 * 100\n",
    "dtc_rec = 0.6508790560471975 * 100"
   ]
  },
  {
   "cell_type": "code",
   "execution_count": null,
   "metadata": {
    "scrolled": true
   },
   "outputs": [],
   "source": [
    "dtc_gridsearch.best_estimator_.fit(X_train_clean, y_train)\n",
    "plot_confusion_matrix(dtc_gridsearch.best_estimator_, \n",
    "                      X_train_clean, \n",
    "                      y_train,\n",
    "                      normalize = 'true',\n",
    "                      display_labels= ['Retention', 'Turnover']);"
   ]
  },
  {
   "cell_type": "code",
   "execution_count": null,
   "metadata": {
    "scrolled": false
   },
   "outputs": [],
   "source": [
    "dtc_gridsearch.best_estimator_[-1].feature_importances_"
   ]
  },
  {
   "cell_type": "code",
   "execution_count": null,
   "metadata": {},
   "outputs": [],
   "source": [
    "dtc_gridsearch.best_estimator_[-1].n_features_in_"
   ]
  },
  {
   "cell_type": "code",
   "execution_count": null,
   "metadata": {},
   "outputs": [],
   "source": [
    "plt.figure(figsize=(18,12)) \n",
    "plot_tree(dtc_gridsearch.best_estimator_[-1], \n",
    "          feature_names=ohe_feature_names, \n",
    "          fontsize=12)\n",
    "plt.show()"
   ]
  },
  {
   "cell_type": "markdown",
   "metadata": {},
   "source": [
    "Pruning has helped to make the decision tree model less overfit and perform better on the recall during cross validation, however it still isn't as high as the recall for Logistic Regression. Let's try a random forest model to see if scores will imporve further."
   ]
  },
  {
   "cell_type": "markdown",
   "metadata": {},
   "source": [
    "#### Random Forest"
   ]
  },
  {
   "cell_type": "code",
   "execution_count": null,
   "metadata": {},
   "outputs": [],
   "source": [
    "rf_pipe = Pipeline(steps=[('ss', StandardScaler()),\n",
    "                          ('pca', PCA()),\n",
    "                          ('rf', RandomForestClassifier())])\n",
    "rf_pipe.fit(X_train_clean, y_train)"
   ]
  },
  {
   "cell_type": "code",
   "execution_count": null,
   "metadata": {},
   "outputs": [],
   "source": [
    "print_cv_scores(rf_pipe, X_train_clean, y_train)"
   ]
  },
  {
   "cell_type": "code",
   "execution_count": null,
   "metadata": {},
   "outputs": [],
   "source": [
    "rf_pipe = Pipeline(steps=[('ss', StandardScaler()),\n",
    "                          ('pca', PCA()),\n",
    "                          ('rf', RandomForestClassifier(class_weight='balanced',\n",
    "                                                        n_jobs = -1,\n",
    "                                                        random_state=42))])\n",
    "\n",
    "rf_grid = {'rf__n_estimators': [50, 100],\n",
    "           'rf__max_depth': [5, 10, 15],\n",
    "           'rf__min_samples_leaf': [1, 2],\n",
    "           'rf__max_features': ['sqrt', 'log2'],\n",
    "           'pca__n_components': [0.75, 0.8, 0.9]}"
   ]
  },
  {
   "cell_type": "code",
   "execution_count": null,
   "metadata": {},
   "outputs": [],
   "source": [
    "rf_gridsearch = GridSearchCV(rf_pipe, \n",
    "                             rf_grid, \n",
    "                             scoring='recall')\n",
    "\n",
    "rf_gridsearch.fit(X_train_clean, y_train)"
   ]
  },
  {
   "cell_type": "code",
   "execution_count": null,
   "metadata": {},
   "outputs": [],
   "source": [
    "rf_gridsearch.best_params_"
   ]
  },
  {
   "cell_type": "code",
   "execution_count": null,
   "metadata": {},
   "outputs": [],
   "source": [
    "rf_gridsearch.best_score_"
   ]
  },
  {
   "cell_type": "code",
   "execution_count": null,
   "metadata": {
    "scrolled": true
   },
   "outputs": [],
   "source": [
    "print_cv_scores(rf_gridsearch.best_estimator_, X_train_clean, y_train)"
   ]
  },
  {
   "cell_type": "code",
   "execution_count": null,
   "metadata": {},
   "outputs": [],
   "source": [
    "rf_acc = 0.6514718250630782 * 100\n",
    "rf_rec = 0.5132940019665683 * 100"
   ]
  },
  {
   "cell_type": "code",
   "execution_count": null,
   "metadata": {
    "scrolled": false
   },
   "outputs": [],
   "source": [
    "rf_gridsearch.best_estimator_.fit(X_train_clean, y_train)\n",
    "plot_confusion_matrix(rf_gridsearch.best_estimator_, \n",
    "                      X_train_clean, \n",
    "                      y_train,\n",
    "                      normalize = 'true');"
   ]
  },
  {
   "cell_type": "markdown",
   "metadata": {},
   "source": [
    "By generating a random forest with many trees, it is resuting in worse performance on the recall. It seems as though the class imbalance may be impacting it still as it is ding a better job predicting retention than it is predicting turnover."
   ]
  },
  {
   "cell_type": "markdown",
   "metadata": {},
   "source": [
    "#### XGBoost"
   ]
  },
  {
   "cell_type": "code",
   "execution_count": null,
   "metadata": {},
   "outputs": [],
   "source": [
    "xgb_pipe = Pipeline(steps=[('ss', StandardScaler()),\n",
    "                           ('pca', PCA(n_components=0.9)),\n",
    "                           ('xgb', XGBClassifier(objective ='binary:logistic', \n",
    "                                                 colsample_bytree = 0.2, \n",
    "                                                 learning_rate = 0.3,\n",
    "                                                 max_depth = 6, \n",
    "                                                 alpha = 10, \n",
    "                                                 n_estimators = 1000))])\n",
    "xgb_pipe.fit(X_train_clean, y_train)"
   ]
  },
  {
   "cell_type": "code",
   "execution_count": null,
   "metadata": {},
   "outputs": [],
   "source": [
    "print_cv_scores(xgb_pipe, X_train_clean, y_train)"
   ]
  },
  {
   "cell_type": "code",
   "execution_count": null,
   "metadata": {},
   "outputs": [],
   "source": [
    "xgb_pipe_smote = imbpipe(steps=[('ss', StandardScaler()),\n",
    "                                ('sm', SMOTE(random_state=42)),\n",
    "                                ('xgb', XGBClassifier(objective ='binary:logistic', \n",
    "                                                      colsample_bytree = 0.3, \n",
    "                                                      learning_rate = 0.1,\n",
    "                                                      max_depth = 6, \n",
    "                                                      alpha = 10, \n",
    "                                                      n_estimators = 50))])\n",
    "xgb_pipe_smote.fit(X_train_clean, y_train)"
   ]
  },
  {
   "cell_type": "code",
   "execution_count": null,
   "metadata": {},
   "outputs": [],
   "source": [
    "print_cv_scores(xgb_pipe_smote, X_train_clean, y_train)"
   ]
  },
  {
   "cell_type": "code",
   "execution_count": null,
   "metadata": {},
   "outputs": [],
   "source": [
    "xgb_acc = 0.7507148864592094 * 100\n",
    "xgb_rec = 0.26287905604719763 * 100"
   ]
  },
  {
   "cell_type": "code",
   "execution_count": null,
   "metadata": {
    "scrolled": true
   },
   "outputs": [],
   "source": [
    "plot_confusion_matrix(xgb_pipe_smote, X_train_clean, y_train, normalize='true',\n",
    "                      display_labels=['Retention', 'Turnover']);"
   ]
  },
  {
   "cell_type": "markdown",
   "metadata": {},
   "source": [
    "The XGBoost is not doing well predicting turnover. Even with SMOTE it is not able to predict the class of interest well at all."
   ]
  },
  {
   "cell_type": "markdown",
   "metadata": {},
   "source": [
    "__Identifying Best Performing Model__"
   ]
  },
  {
   "cell_type": "code",
   "execution_count": null,
   "metadata": {},
   "outputs": [],
   "source": [
    "X_labels = ['Dummy''\\n''Classification',\n",
    "            'XGBoost',\n",
    "            'KNN',\n",
    "            'Random''\\n''Forest',\n",
    "            'Linear''\\n''SVC',\n",
    "            'Decision''\\n''Tree',\n",
    "            'Logistic''\\n''Regression']\n",
    "\n",
    "y1 = [dc_acc, xgb_acc, knn_acc, rf_acc, svc_acc, dtc_acc, lr_acc]\n",
    "y2 = [dc_rec, xgb_rec, knn_rec, rf_rec, svc_rec, dtc_rec, lr_rec]"
   ]
  },
  {
   "cell_type": "code",
   "execution_count": null,
   "metadata": {
    "scrolled": false
   },
   "outputs": [],
   "source": [
    "width = 0.35  # the width of the bars\n",
    "x = np.arange(len(X_labels))\n",
    "fig, ax = plt.subplots(figsize=(12,8))\n",
    "\n",
    "rects1 = ax.bar(x - width/2, y1, width, label='Accuracy', color='lightsteelblue')\n",
    "rects2 = ax.bar(x + width/2, y2, width, label='Recall', color='midnightblue')\n",
    "\n",
    "\n",
    "# Add some text for labels, title and custom x-axis tick labels, etc.\n",
    "ax.set_ylabel('Scores (%)')\n",
    "ax.set_title('Model Accuracy and Recall Scores', fontsize=24)\n",
    "ax.set_xticks(x)\n",
    "ax.set_xticklabels(X_labels)\n",
    "ax.legend(bbox_to_anchor=(1.2, 1))\n",
    "\n",
    "fig.tight_layout()\n",
    "#set background color to white\n",
    "fig.patch.set_facecolor('white')\n",
    "plt.show()\n",
    "#save the figure in the images folder\n",
    "fig.savefig('images/Model_Scores.png')"
   ]
  },
  {
   "cell_type": "markdown",
   "metadata": {},
   "source": [
    "The best model is Logistic Regression. This model had the highest recall score compared to all the other models."
   ]
  },
  {
   "cell_type": "markdown",
   "metadata": {},
   "source": [
    "### Evaluation"
   ]
  },
  {
   "cell_type": "markdown",
   "metadata": {},
   "source": [
    "Let's evaluate the best model using the holdout test set. First we will run the test set through the cleaning pipeline and then predict the outcomes on the test set."
   ]
  },
  {
   "cell_type": "code",
   "execution_count": null,
   "metadata": {},
   "outputs": [],
   "source": [
    "best_model = Pipeline(steps=[('ss', StandardScaler()),\n",
    "                             ('pca', PCA(n_components=0.8)),\n",
    "                             ('lr', LogisticRegression(class_weight='balanced',\n",
    "                                                       solver = 'liblinear',\n",
    "                                                       C = 1e-07,\n",
    "                                                       tol = 1e-07,\n",
    "                                                       max_iter=1000,\n",
    "                                                       random_state=42))])\n",
    "\n",
    "best_model.fit(X_train_clean, y_train)"
   ]
  },
  {
   "cell_type": "code",
   "execution_count": null,
   "metadata": {},
   "outputs": [],
   "source": [
    "X_test_clean = cleaning_pipeline.transform(X_test)"
   ]
  },
  {
   "cell_type": "code",
   "execution_count": null,
   "metadata": {},
   "outputs": [],
   "source": [
    "y_pred = best_model.predict(X_test_clean)\n"
   ]
  },
  {
   "cell_type": "code",
   "execution_count": null,
   "metadata": {},
   "outputs": [],
   "source": [
    "best_model.score(X_test_clean, y_test)"
   ]
  },
  {
   "cell_type": "code",
   "execution_count": null,
   "metadata": {},
   "outputs": [],
   "source": [
    "recall_score(y_test, y_pred)"
   ]
  },
  {
   "cell_type": "code",
   "execution_count": null,
   "metadata": {},
   "outputs": [],
   "source": [
    "plot_confusion_matrix(best_model, \n",
    "                      X_test_clean, \n",
    "                      y_test, \n",
    "                      normalize='true',\n",
    "                      display_labels=['Retention', 'Turnover'])\n",
    "fig.savefig('images/Final_Matrix.png');"
   ]
  },
  {
   "cell_type": "markdown",
   "metadata": {},
   "source": [
    "On the holdout test set, the Logisitic Regression model performs at 63% for the recall score. The model does a good job of reducing those false negative where retention was predicted, but the teacher actually left their school. It's clear that the model is struggling to make correct predictions for teachers that were retained in their school with a lot of false positives, however, false positives in this context are not as negatively impactful to schools and the costs associated with high teacher turnover rates."
   ]
  },
  {
   "cell_type": "markdown",
   "metadata": {},
   "source": [
    "## Conclusion"
   ]
  },
  {
   "cell_type": "markdown",
   "metadata": {},
   "source": [
    "The recall score (63%) of the best model, Logistic Regression with PCA, is lower than ideal. However, being able to predict teacher turnover and plan ahead for intervention to retain teachers within the school district is better than high rates of teacher turnover that are costly with no information as to why.\n",
    "\n",
    "To improve the predictive power of the model, I recommend the following for next steps:\n",
    "\n",
    "* Obtain additional occupational factors including certification pathway, subject taught, and evaluation scores.\n",
    "* Expand model for use in other large urban school districts."
   ]
  },
  {
   "cell_type": "code",
   "execution_count": null,
   "metadata": {},
   "outputs": [],
   "source": []
  }
 ],
 "metadata": {
  "kernelspec": {
   "display_name": "Python (learn-env)",
   "language": "python",
   "name": "learn-env"
  },
  "language_info": {
   "codemirror_mode": {
    "name": "ipython",
    "version": 3
   },
   "file_extension": ".py",
   "mimetype": "text/x-python",
   "name": "python",
   "nbconvert_exporter": "python",
   "pygments_lexer": "ipython3",
   "version": "3.8.5"
  }
 },
 "nbformat": 4,
 "nbformat_minor": 4
}
